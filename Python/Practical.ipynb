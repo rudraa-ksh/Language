{
 "cells": [
  {
   "cell_type": "code",
   "execution_count": 1,
   "metadata": {},
   "outputs": [
    {
     "name": "stdout",
     "output_type": "stream",
     "text": [
      "Enter number of tuple you want in your list=3\n",
      "Enter the elements::(1,2,3)\n",
      "Enter the elements::(4,5,6)\n",
      "Enter the elements::(7,8,9)\n",
      "Enter the number from which you you want to change the given number::7\n",
      "The previous list= [(1, 2, 3), (4, 5, 6), (7, 8, 9)]\n",
      "The new list= [(1, 2, 7), (4, 5, 7), (7, 8, 7)]\n"
     ]
    }
   ],
   "source": [
    "l1=[]\n",
    "a=int(input(\"Enter number of tuple you want in your list=\"))\n",
    "for i in range(a):\n",
    "    l1.append(eval(input(\"Enter the elements::\")))\n",
    "l3=[]\n",
    "x=int(input(\"Enter the number from which you you want to change the last number of tuples::\"))\n",
    "for i in l1:\n",
    "    l2=list(i)\n",
    "    l2[-1]=x\n",
    "    l3.append(tuple(l2))\n",
    "print(\"The previous list=\",l1)\n",
    "print(\"The new list=\",l3)"
   ]
  },
  {
   "cell_type": "code",
   "execution_count": 1,
   "metadata": {},
   "outputs": [
    {
     "name": "stdout",
     "output_type": "stream",
     "text": [
      "The previous list:: [1, 2, 3, 4, 5, 6, 7]\n",
      "The new list [2, 3, 4, 7]\n"
     ]
    }
   ],
   "source": [
    "a=[1,2,3,4,5,6,7]\n",
    "print(\"The previous list::\",a)\n",
    "a.pop(0)\n",
    "a.pop(3)\n",
    "a.pop(3)\n",
    "print(\"The new list\",a)"
   ]
  },
  {
   "cell_type": "code",
   "execution_count": 3,
   "metadata": {},
   "outputs": [
    {
     "name": "stdout",
     "output_type": "stream",
     "text": [
      "Rudra kashyap\n"
     ]
    }
   ],
   "source": [
    "l1=['R','u','d','r','a',' ','k','a','s','h','y','a','p']\n",
    "s1=''.join(l1)\n",
    "print(s1)"
   ]
  },
  {
   "cell_type": "code",
   "execution_count": 5,
   "metadata": {},
   "outputs": [
    {
     "name": "stdout",
     "output_type": "stream",
     "text": [
      "[1, 4, 9, 16, 25, 36, 49, 64, 81, 100, 121, 144, 169, 196, 225, 256, 289, 324, 361, 400, 441, 484, 529, 576, 625, 676, 729, 784, 841, 900]\n",
      "The first five numbers are: [1, 4, 9, 16, 25]\n",
      "The last five numbers are: [676, 729, 784, 841, 900]\n"
     ]
    }
   ],
   "source": [
    "l1=[]\n",
    "for i in range(1,31):\n",
    "    l1.append(i*i)\n",
    "print(l1)\n",
    "print(\"The first five numbers are:\",l1[:5])\n",
    "print(\"The last five numbers are:\",l1[-5:30])  "
   ]
  },
  {
   "cell_type": "code",
   "execution_count": 2,
   "metadata": {},
   "outputs": [
    {
     "name": "stdout",
     "output_type": "stream",
     "text": [
      "The list of tuples:: [('a', 123), ('b', 250), ('c', 234)]\n",
      "Enter the numbers to compare::100\n",
      "The updated list:: []\n"
     ]
    }
   ],
   "source": [
    "l1=[('a',123),('b',250),('c',234)]\n",
    "print(\"The list of tuples::\",l1)\n",
    "l2=[]\n",
    "n=int(input(\"Enter the numbers to compare::\"))\n",
    "for i in l1:\n",
    "      if i[1] < n:\n",
    "            l2.append(i)\n",
    "print(\"The updated list::\",l2)"
   ]
  },
  {
   "cell_type": "code",
   "execution_count": 32,
   "metadata": {},
   "outputs": [
    {
     "name": "stdout",
     "output_type": "stream",
     "text": [
      "Enter the list of numbers::[1,2,3,4,43,5,46,45,45]\n",
      "Enter the number which you want to check for frequency::45\n",
      "The frequency of 45 is 2\n"
     ]
    }
   ],
   "source": [
    "a=eval(input(\"Enter the list of numbers::\"))\n",
    "n=int(input(\"Enter the number which you want to check for frequency::\"))\n",
    "print(\"The frequency of\",n,\"is\",a.count(n))      "
   ]
  },
  {
   "cell_type": "code",
   "execution_count": 3,
   "metadata": {},
   "outputs": [
    {
     "name": "stdout",
     "output_type": "stream",
     "text": [
      "Enter a sentence::My self Rudra kashyap\n",
      "Total number of words are:: 4\n",
      "Total number of Characters are:: 18\n",
      "The percentage of alphanumeric characters is:: 85.71428571428571 %\n"
     ]
    }
   ],
   "source": [
    "A=input(\"Enter a sentence::\")\n",
    "print(\"Total number of words are::\",A.count(\" \")+1)\n",
    "C=A.count(\" \")\n",
    "print(\"Total number of Characters are::\",len(A)-C)\n",
    "B=0\n",
    "for i in A:\n",
    "    if i.isalnum():\n",
    "        B+=1\n",
    "P=B*100/len(A)\n",
    "print(\"The percentage of alphanumeric characters is::\",P,\"%\")"
   ]
  },
  {
   "cell_type": "code",
   "execution_count": 10,
   "metadata": {},
   "outputs": [
    {
     "name": "stdout",
     "output_type": "stream",
     "text": [
      "The first 10 fibonacci numbers are:: (0, 1, 1, 2, 3, 5, 8, 13, 21, 34)\n"
     ]
    }
   ],
   "source": [
    "a=0\n",
    "b=1\n",
    "l1=[a,b]\n",
    "for i in range(1,9):\n",
    "    c=a+b\n",
    "    a,b=b,c\n",
    "    l1.append(c)\n",
    "print(\"The first 10 fibonacci numbers are::\",tuple(l1))\n"
   ]
  },
  {
   "cell_type": "code",
   "execution_count": 3,
   "metadata": {},
   "outputs": [
    {
     "name": "stdout",
     "output_type": "stream",
     "text": [
      "Enter number of tuple you want in your list=2\n",
      "Enter the elements1\n",
      "Enter the elements2\n",
      "t1= (1, 2)\n",
      "Enter number of tuple you want in your list=3\n",
      "Enter the elements3\n",
      "Enter the elements4\n",
      "Enter the elements5\n",
      "t2= (3, 4, 5)\n",
      "False\n"
     ]
    }
   ],
   "source": [
    "a=int(input(\"Enter number of tuple you want in your list=\"))\n",
    "l1=[]\n",
    "for i in range(a):\n",
    "    l1.append(eval(input(\"Enter the elements\")))\n",
    "t1=tuple(l1)\n",
    "print(\"t1=\",t1)\n",
    "l2=[]\n",
    "A=int(input(\"Enter number of tuple you want in your list=\"))\n",
    "for i in range(A):\n",
    "    l2.append(eval(input(\"Enter the elements\")))\n",
    "t2=tuple(l2)\n",
    "print(\"t2=\",t2)\n",
    "for i in t1:\n",
    "    if i in t2:\n",
    "        print(\"True\")\n",
    "        break\n",
    "    else:\n",
    "        print(\"False\")\n",
    "        break"
   ]
  },
  {
   "cell_type": "code",
   "execution_count": 3,
   "metadata": {},
   "outputs": [
    {
     "name": "stdout",
     "output_type": "stream",
     "text": [
      "4  key has same value  1\n",
      "2  key has same value  3\n",
      "1  key has value  4\n"
     ]
    }
   ],
   "source": [
    "d={'a' : 1,'b' : 1, 'c' : 3, 'd' : 3, 'e' : 4,'f' : 1, 'g' : 1}\n",
    "a=list(d.values())\n",
    "d1={}\n",
    "for i in a:\n",
    "    if i not in d1:\n",
    "        cnt=a.count(i)\n",
    "        d1[i]=cnt\n",
    "x=d1.items()\n",
    "for i,j in x:\n",
    "    if j==1:\n",
    "        print(j,\" key has value \",i)\n",
    "    else:\n",
    "        print(j,\" key has same value \",i)\n"
   ]
  },
  {
   "cell_type": "code",
   "execution_count": 1,
   "metadata": {},
   "outputs": [
    {
     "name": "stdout",
     "output_type": "stream",
     "text": [
      "Enter a string::dad\n",
      "dad is a palindrome\n"
     ]
    }
   ],
   "source": [
    "st=input(\"Enter a string::\")\n",
    "n=len(st)\n",
    "a=''\n",
    "for i in range (n-1,-1,-1):\n",
    "    a=a+st[i]\n",
    "if a==st:\n",
    "    print(st,\"is a palindrome\")\n",
    "else:\n",
    "    print(st,\"is not a palindrome\")"
   ]
  },
  {
   "cell_type": "code",
   "execution_count": 2,
   "metadata": {},
   "outputs": [
    {
     "name": "stdout",
     "output_type": "stream",
     "text": [
      "Please Enter any Number: 12345\n",
      "Reverse of entered number is:: 54321\n"
     ]
    }
   ],
   "source": [
    "num=int(input(\"Please Enter any Number: \"))    \n",
    "Rev=0   \n",
    "while num>0:\n",
    "    Rem = num %10    \n",
    "    Rev=(Rev*10)+Rem    \n",
    "    num = num //10    \n",
    "print(\"Reverse of entered number is::\",Rev)   "
   ]
  },
  {
   "cell_type": "code",
   "execution_count": 6,
   "metadata": {},
   "outputs": [
    {
     "name": "stdout",
     "output_type": "stream",
     "text": [
      "Enter the list::[1,2,3,4,5]\n",
      "Enter the number to check::5\n",
      "The number 5 is in the 5 position\n"
     ]
    }
   ],
   "source": [
    "l1=eval(input(\"Enter the list::\"))\n",
    "n=int(input(\"Enter the number to check::\"))\n",
    "if n in l1:\n",
    "    print(\"The number\",n,\"is in the\",l1.index(n)+1,\"position\")\n",
    "else:\n",
    "    print(\"The given number is not present in the list\")"
   ]
  },
  {
   "cell_type": "code",
   "execution_count": 17,
   "metadata": {},
   "outputs": [
    {
     "name": "stdout",
     "output_type": "stream",
     "text": [
      "Enter the temperature::212\n",
      "Enter the unit of temperature in C/F:: F\n",
      "The temperature in Celsius is:: 100.0 C\n"
     ]
    }
   ],
   "source": [
    "T=float(input(\"Enter the temperature::\"))\n",
    "U=input(\"Enter the unit of temperature in C/F:: \")\n",
    "if U=='C':\n",
    "    F=(T*9/5)+32\n",
    "    print(\"The temperature in Fahrenheit is::\",F,\"F\")\n",
    "elif U=='F':\n",
    "    C=(T-32)*5/9\n",
    "    print(\"The temperature in Celsius is::\",C,\"C\")\n",
    "\n"
   ]
  },
  {
   "cell_type": "code",
   "execution_count": 16,
   "metadata": {},
   "outputs": [
    {
     "name": "stdout",
     "output_type": "stream",
     "text": [
      "Enter first number: 12\n",
      "Enter second number: 6\n",
      "HCF =  6\n",
      "LCM =  12.0\n"
     ]
    }
   ],
   "source": [
    "a = int(input('Enter first number: '))\n",
    "b = int(input('Enter second number: '))\n",
    "hcf = 1\n",
    "for i in range(1,a+1):\n",
    "    if a%i==0 and b%i==0:\n",
    "        hcf = i\n",
    "print(\"HCF = \",hcf)\n",
    "lcm = a*b / hcf\n",
    "print(\"LCM = \",lcm)"
   ]
  },
  {
   "cell_type": "code",
   "execution_count": 25,
   "metadata": {},
   "outputs": [
    {
     "name": "stdout",
     "output_type": "stream",
     "text": [
      "  *  \n",
      " * * \n",
      "*   *\n",
      " * * \n",
      "  *  \n"
     ]
    }
   ],
   "source": [
    "for i in range(5):\n",
    "    for j in range(5):\n",
    "        if i+j==2 or j-i==2 or i-j==2 or i+j==6:\n",
    "            print(\"*\",end=\"\")\n",
    "        else:\n",
    "            print(\" \",end=\"\")\n",
    "    print()"
   ]
  },
  {
   "cell_type": "code",
   "execution_count": 14,
   "metadata": {},
   "outputs": [
    {
     "name": "stdout",
     "output_type": "stream",
     "text": [
      "Enter the sides of triangle(in cm):-\n",
      "1st side:1\n",
      "2nd side:1\n",
      "3rd side:1\n",
      "It is a equilateral triangle\n"
     ]
    }
   ],
   "source": [
    "print(\"Enter the sides of triangle(in cm):-\")\n",
    "a=int(input(\"1st side:\"))\n",
    "b=int(input(\"2nd side:\"))\n",
    "c=int(input(\"3rd side:\"))\n",
    "if a==b==c:\n",
    "    print(\"It is a equilateral triangle\")\n",
    "elif a==b or b==c or c==a:\n",
    "    print(\"It is a isoceles triangle\")\n",
    "else:\n",
    "    print(\"It is a scalene triangle\")    "
   ]
  },
  {
   "cell_type": "code",
   "execution_count": 4,
   "metadata": {},
   "outputs": [
    {
     "name": "stdout",
     "output_type": "stream",
     "text": [
      "Enter the number til which you want table::8\n",
      "1 X 1 = 1\t2 X 1 = 2\t3 X 1 = 3\t4 X 1 = 4\t5 X 1 = 5\t6 X 1 = 6\t7 X 1 = 7\t8 X 1 = 8\t\n",
      "1 X 2 = 2\t2 X 2 = 4\t3 X 2 = 6\t4 X 2 = 8\t5 X 2 = 10\t6 X 2 = 12\t7 X 2 = 14\t8 X 2 = 16\t\n",
      "1 X 3 = 3\t2 X 3 = 6\t3 X 3 = 9\t4 X 3 = 12\t5 X 3 = 15\t6 X 3 = 18\t7 X 3 = 21\t8 X 3 = 24\t\n",
      "1 X 4 = 4\t2 X 4 = 8\t3 X 4 = 12\t4 X 4 = 16\t5 X 4 = 20\t6 X 4 = 24\t7 X 4 = 28\t8 X 4 = 32\t\n",
      "1 X 5 = 5\t2 X 5 = 10\t3 X 5 = 15\t4 X 5 = 20\t5 X 5 = 25\t6 X 5 = 30\t7 X 5 = 35\t8 X 5 = 40\t\n",
      "1 X 6 = 6\t2 X 6 = 12\t3 X 6 = 18\t4 X 6 = 24\t5 X 6 = 30\t6 X 6 = 36\t7 X 6 = 42\t8 X 6 = 48\t\n",
      "1 X 7 = 7\t2 X 7 = 14\t3 X 7 = 21\t4 X 7 = 28\t5 X 7 = 35\t6 X 7 = 42\t7 X 7 = 49\t8 X 7 = 56\t\n",
      "1 X 8 = 8\t2 X 8 = 16\t3 X 8 = 24\t4 X 8 = 32\t5 X 8 = 40\t6 X 8 = 48\t7 X 8 = 56\t8 X 8 = 64\t\n",
      "1 X 9 = 9\t2 X 9 = 18\t3 X 9 = 27\t4 X 9 = 36\t5 X 9 = 45\t6 X 9 = 54\t7 X 9 = 63\t8 X 9 = 72\t\n",
      "1 X 10 = 10\t2 X 10 = 20\t3 X 10 = 30\t4 X 10 = 40\t5 X 10 = 50\t6 X 10 = 60\t7 X 10 = 70\t8 X 10 = 80\t\n"
     ]
    }
   ],
   "source": [
    "n=int(input(\"Enter the number til which you want table::\"))\n",
    "for i in range(1,11):\n",
    "    for j in range(1,n+1):\n",
    "        print(j,\"X\",i,\"=\",j*i,end=\"\\t\")\n",
    "    print()"
   ]
  },
  {
   "cell_type": "code",
   "execution_count": 12,
   "metadata": {},
   "outputs": [
    {
     "name": "stdout",
     "output_type": "stream",
     "text": [
      "* \n",
      "* * \n",
      "* * * \n",
      "* * * * \n",
      "* * * * * \n",
      "* * * * \n",
      "* * * \n",
      "* * \n",
      "* \n",
      "\n"
     ]
    }
   ],
   "source": [
    "for i in range (0, 5):\n",
    "    for j in range(0, i + 1):\n",
    "        print(\"*\", end = ' ')\n",
    "    print()\n",
    "\n",
    "for i in range (5, 0, -1):\n",
    "    for j in range(0, i -1):\n",
    "        print(\"*\", end = ' ')\n",
    "    print()"
   ]
  }
 ],
 "metadata": {
  "kernelspec": {
   "display_name": "Python 3",
   "language": "python",
   "name": "python3"
  },
  "language_info": {
   "codemirror_mode": {
    "name": "ipython",
    "version": 3
   },
   "file_extension": ".py",
   "mimetype": "text/x-python",
   "name": "python",
   "nbconvert_exporter": "python",
   "pygments_lexer": "ipython3",
   "version": "3.11.1 (tags/v3.11.1:a7a450f, Dec  6 2022, 19:58:39) [MSC v.1934 64 bit (AMD64)]"
  },
  "vscode": {
   "interpreter": {
    "hash": "7d705625a073828d9d6987a7dff4ead27d7dfee1dd954c9d3a1d6b085c12cf79"
   }
  }
 },
 "nbformat": 4,
 "nbformat_minor": 4
}
