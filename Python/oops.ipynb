{
 "cells": [
  {
   "cell_type": "code",
   "execution_count": 9,
   "metadata": {},
   "outputs": [
    {
     "name": "stdout",
     "output_type": "stream",
     "text": [
      "i5,16gb,1TB\n"
     ]
    }
   ],
   "source": [
    "class Computer:    #CLASS\n",
    "    def config(self):    #method\n",
    "        print(\"i5,16gb,1TB\")\n",
    "\n",
    "coml=Computer() #object \n",
    "Computer.config(coml) #calling config"
   ]
  },
  {
   "cell_type": "code",
   "execution_count": 20,
   "metadata": {},
   "outputs": [
    {
     "name": "stdout",
     "output_type": "stream",
     "text": [
      "i5,16gb,1TB\n",
      "i5,16gb,1TB\n",
      "i5,16gb,1TB\n",
      "i5,16gb,1TB\n"
     ]
    }
   ],
   "source": [
    "class Computer:    #CLASS\n",
    "\n",
    "    def config(self):    #method\n",
    "        print(\"i5,16gb,1TB\")\n",
    "    \n",
    "    def config2(self):\n",
    "        print(\"Rygen5 , 8gb, 512GB\")\n",
    "\n",
    "coml=Computer() #object \n",
    "comp=Computer()\n",
    "Computer.config(coml) #calling config\n",
    "Computer.config(comp)\n",
    "coml.config()\n",
    "comp.config()"
   ]
  },
  {
   "cell_type": "code",
   "execution_count": 17,
   "metadata": {},
   "outputs": [
    {
     "name": "stdout",
     "output_type": "stream",
     "text": [
      "Rygen 8\n",
      "i5 16\n"
     ]
    }
   ],
   "source": [
    "class Computer:    #CLASS\n",
    "\n",
    "    def __init__(self,cpu,ram):    #method\n",
    "        self.cpu=cpu\n",
    "        self.ram=ram\n",
    "    \n",
    "    def config(self):\n",
    "        print(self.cpu,self.ram)\n",
    "\n",
    "coml=Computer(\"i5\",16) #object \n",
    "comp=Computer(\"Rygen\",8)\n",
    "#Computer.config(coml) #calling config\n",
    "#Computer.config(comp)\n",
    "comp.config()\n",
    "coml.config()"
   ]
  },
  {
   "cell_type": "code",
   "execution_count": 14,
   "metadata": {},
   "outputs": [],
   "source": [
    "class Computer:\n",
    "    def __init__(self,cpu,ram): # it will run with out calling\n",
    "        self.cpu=cpu\n",
    "        self.ram=ram\n",
    "\n",
    "    def config(self):\n",
    "        print(self.cpu,self.ram) #using self to fetch data for different objects\n",
    "\n",
    "\n",
    "c2=Computer(\"i5\",16)"
   ]
  },
  {
   "cell_type": "code",
   "execution_count": 47,
   "metadata": {},
   "outputs": [
    {
     "name": "stdout",
     "output_type": "stream",
     "text": [
      "23\n",
      "18\n",
      "43\n",
      "NOT SAME\n"
     ]
    }
   ],
   "source": [
    "class Computer:\n",
    "\n",
    "   def __init__(self):\n",
    "      self.name=\"Shrinu\"\n",
    "      self.age=18\n",
    "    \n",
    "   def update(self):\n",
    "      self.age=43\n",
    "\n",
    "   def compare(self,other):\n",
    "      if self.age==other.age:\n",
    "         print(\"SAME\")\n",
    "      else:\n",
    "         print(\"NOT SAME\")\n",
    "\n",
    "\n",
    "c1=Computer()\n",
    "c2=Computer()\n",
    "c2.age=23\n",
    "c2.name=\"Rudra\"\n",
    "print(c2.age)\n",
    "print(c1.age)\n",
    "c1.update()\n",
    "print(c1.age)\n",
    "c1.compare(c2) #c2 is other in this case"
   ]
  },
  {
   "cell_type": "code",
   "execution_count": 55,
   "metadata": {},
   "outputs": [
    {
     "name": "stdout",
     "output_type": "stream",
     "text": [
      "BMW 90 4\n",
      "BMW 10 4\n"
     ]
    }
   ],
   "source": [
    "class Car:                    #Variable \n",
    "\n",
    "    wheels=4                 #class variable(static)\n",
    "    def __init__(self): \n",
    "        self.mil=10             #instance variable\n",
    "        self.com=\"BMW\"\n",
    "\n",
    "c1=Car()\n",
    "c2=Car()\n",
    "c1.mil=90\n",
    "print(c1.com,c1.mil,c1.wheels)\n",
    "print(c2.com,c2.mil,c2.wheels)"
   ]
  },
  {
   "cell_type": "code",
   "execution_count": 4,
   "metadata": {},
   "outputs": [
    {
     "name": "stdout",
     "output_type": "stream",
     "text": [
      "12\n",
      "34.0\n"
     ]
    }
   ],
   "source": [
    "class Student:                            #instance method\n",
    "    \n",
    "    def __init__(self,m1,m2,m3):\n",
    "        self.m1=m1\n",
    "        self.m2=m2\n",
    "        self.m3=m3\n",
    "\n",
    "    def avg(self):\n",
    "        return(self.m1+self.m2+self.m3)/3\n",
    "\n",
    "    def get_m1(self):                  #getters or accessers\n",
    "         print(s1.m1)\n",
    "\n",
    "    def set_m1(self,value):            #setters or mutators\n",
    "        self.m1=value\n",
    "    \n",
    "s1=Student(12,34,56)\n",
    "s2=Student(98,76,54)\n",
    "s1.get_m1()\n",
    "print(s1.avg())"
   ]
  },
  {
   "cell_type": "code",
   "execution_count": 11,
   "metadata": {},
   "outputs": [
    {
     "name": "stdout",
     "output_type": "stream",
     "text": [
      "MDAVPS\n",
      "34.0\n"
     ]
    }
   ],
   "source": [
    "class Student:                       #class method\n",
    "\n",
    "    school=\"MDAVPS\"\n",
    "\n",
    "    def __init__(self,m1,m2,m3):\n",
    "        self.m1=m1\n",
    "        self.m2=m2\n",
    "        self.m3=m3\n",
    "\n",
    "    def avg(self):\n",
    "        return(self.m1+self.m2+self.m3)/3\n",
    "\n",
    "    @classmethod                #decorators\n",
    "    def info(cls):\n",
    "        return cls.school\n",
    "\n",
    "   \n",
    "s1=Student(12,34,56)\n",
    "s2=Student(98,76,54)\n",
    "print(Student.info())\n",
    "print(s1.avg())"
   ]
  },
  {
   "cell_type": "code",
   "execution_count": 12,
   "metadata": {},
   "outputs": [
    {
     "name": "stdout",
     "output_type": "stream",
     "text": [
      "Last batch scored higher\n",
      "34.0\n"
     ]
    }
   ],
   "source": [
    "class Student:                       #static method\n",
    "\n",
    "    school=\"MDAVPS\"\n",
    "\n",
    "    def __init__(self,m1,m2,m3):\n",
    "        self.m1=m1\n",
    "        self.m2=m2\n",
    "        self.m3=m3\n",
    "\n",
    "    def avg(self):\n",
    "        return(self.m1+self.m2+self.m3)/3\n",
    "\n",
    "    def info():\n",
    "        print(\"Last batch scored higher\")\n",
    "\n",
    "   \n",
    "s1=Student(12,34,56)\n",
    "s2=Student(98,76,54)\n",
    "Student.info()\n",
    "print(s1.avg())"
   ]
  },
  {
   "cell_type": "code",
   "execution_count": 21,
   "metadata": {},
   "outputs": [
    {
     "name": "stdout",
     "output_type": "stream",
     "text": [
      "Rudra 63\n",
      "DELL i5 8\n"
     ]
    }
   ],
   "source": [
    "class Student:                #inner class\n",
    "\n",
    "    def __init__(self,name,rollno):\n",
    "        self.name=name\n",
    "        self.rollno=rollno\n",
    "        self.Lap=self.Laptop()\n",
    "\n",
    "    def show(self):\n",
    "        print(self.name,self.rollno)\n",
    "        self.Lap.show()\n",
    " \n",
    "    class Laptop:                   #class inside class (inner class)\n",
    "\n",
    "        def __init__(self):\n",
    "            self.brand=\"DELL\"\n",
    "            self.cpu=\"i5\"\n",
    "            self.ram=8\n",
    "\n",
    "        def show(self):\n",
    "            print(self.brand,self.cpu,self.ram)\n",
    "\n",
    "\n",
    "s1=Student(\"Rudra\",63)\n",
    "s2=Student(\"Shrinu\",64)\n",
    "s1.show()"
   ]
  },
  {
   "cell_type": "code",
   "execution_count": 29,
   "metadata": {},
   "outputs": [
    {
     "name": "stdout",
     "output_type": "stream",
     "text": [
      "#rd function is working\n",
      "@nd function is working\n",
      "!st function is working\n",
      "$th function is working\n"
     ]
    }
   ],
   "source": [
    "class A:                                           #Single inheritance\n",
    "    def fn1(self):\n",
    "        print(\"!st function is working\")\n",
    "    \n",
    "    def fn2(self):\n",
    "        print(\"@nd function is working\")\n",
    "\n",
    "class B(A):                                   #Inheritance(B is child class and A is parent class)\n",
    "    def fn3(self):\n",
    "        print(\"#rd function is working\")\n",
    "\n",
    "    def fn4(self):\n",
    "        print(\"$th function is working\")\n",
    "\n",
    "a=A()\n",
    "b=B()\n",
    "b.fn3()\n",
    "b.fn2()\n",
    "b.fn1()\n",
    "b.fn4()"
   ]
  },
  {
   "cell_type": "code",
   "execution_count": 1,
   "metadata": {},
   "outputs": [
    {
     "name": "stdout",
     "output_type": "stream",
     "text": [
      "#rd function is working\n",
      "@nd function is working\n",
      "!st function is working\n",
      "$th function is working\n",
      "*rd function is working\n",
      "^th function is working\n"
     ]
    }
   ],
   "source": [
    "class A:                                           #Multilevel inheriance\n",
    "    def fn1(self):\n",
    "        print(\"!st function is working\")\n",
    "    \n",
    "    def fn2(self):\n",
    "        print(\"@nd function is working\")\n",
    "\n",
    "class B(A):                                   \n",
    "    def fn3(self):\n",
    "        print(\"#rd function is working\")\n",
    "\n",
    "    def fn4(self):\n",
    "        print(\"$th function is working\")\n",
    "\n",
    "class C(B):\n",
    "    def fn5(self):\n",
    "        print(\"*rd function is working\")\n",
    "\n",
    "    def fn6(self):\n",
    "        print(\"^th function is working\")\n",
    "    \n",
    "a=A()\n",
    "b=B()\n",
    "c=C()\n",
    "b.fn3()\n",
    "b.fn2()\n",
    "b.fn1()\n",
    "b.fn4()\n",
    "c.fn5()\n",
    "c.fn6()"
   ]
  },
  {
   "cell_type": "code",
   "execution_count": 33,
   "metadata": {},
   "outputs": [
    {
     "name": "stdout",
     "output_type": "stream",
     "text": [
      "*rd function is working\n"
     ]
    }
   ],
   "source": [
    "class A:                                           #Multiple inheriance\n",
    "    def fn1(self):\n",
    "        print(\"!st function is working\")\n",
    "    \n",
    "    def fn2(self):\n",
    "        print(\"@nd function is working\")\n",
    "\n",
    "class B:                                   \n",
    "    def fn3(self):\n",
    "        print(\"#rd function is working\")\n",
    "\n",
    "    def fn4(self):\n",
    "        print(\"$th function is working\")\n",
    "\n",
    "class C(B,A):\n",
    "    def fn5(self):\n",
    "        print(\"*rd function is working\")\n",
    "\n",
    "    def fn6(self):\n",
    "        print(\"^th function is working\")\n",
    "\n",
    "c=C()\n",
    "c.fn5()"
   ]
  },
  {
   "cell_type": "code",
   "execution_count": 16,
   "metadata": {},
   "outputs": [
    {
     "name": "stdout",
     "output_type": "stream",
     "text": [
      "in a init\n",
      "in b init\n"
     ]
    }
   ],
   "source": [
    "class A:                                    #super class\n",
    "\n",
    "    def __init__(self):             \n",
    "        print(\"in a init\")                                      \n",
    "    def fn1(self):\n",
    "        print(\"!st function is working\")\n",
    "    \n",
    "    def fn2(self):\n",
    "        print(\"@nd function is working\")\n",
    "\n",
    "class B(A):                                   #sub class\n",
    "\n",
    "    def __init__(self):\n",
    "        super().__init__()\n",
    "        print(\"in b init\")\n",
    "\n",
    "    def fn3(self):\n",
    "        print(\"#rd function is working\")\n",
    "\n",
    "    def fn4(self):\n",
    "        print(\"$th function is working\")\n",
    "        \n",
    "a=B()\n",
    "        "
   ]
  },
  {
   "cell_type": "code",
   "execution_count": 22,
   "metadata": {},
   "outputs": [
    {
     "name": "stdout",
     "output_type": "stream",
     "text": [
      "in a init\n",
      "in c init\n",
      "!Ast function is working\n"
     ]
    }
   ],
   "source": [
    "class A:                                           #contructor in inheritance\n",
    "\n",
    "    def __init__(self):             \n",
    "        print(\"in a init\")  \n",
    "\n",
    "    def fn1(self):\n",
    "        print(\"!Ast function is working\")\n",
    "    \n",
    "    def fn2(self):\n",
    "        print(\"@nd function is working\")\n",
    "\n",
    "class B:                                   \n",
    "\n",
    "    def __init__(self):\n",
    "        print(\"in b init\")\n",
    "\n",
    "    def fn1(self):\n",
    "        print(\"!Brd function is working\")\n",
    "\n",
    "    def fn4(self):\n",
    "        print(\"$th function is working\")\n",
    "        \n",
    "class C(A,B):\n",
    "    def __init__(self):                #MRO(Method Resolution Order from left to right here first is A)\n",
    "        super().__init__()\n",
    "        print(\"in c init\")\n",
    "a=C()\n",
    "a.fn1()"
   ]
  },
  {
   "cell_type": "code",
   "execution_count": 2,
   "metadata": {},
   "outputs": [
    {
     "data": {
      "text/plain": [
       "25"
      ]
     },
     "execution_count": 2,
     "metadata": {},
     "output_type": "execute_result"
    }
   ],
   "source": [
    "#Exp9 \n",
    "class Area_rectangle:\n",
    "\n",
    "    def __init__(self,length,breath):\n",
    "        self.length=length\n",
    "        self.breath=breath\n",
    "\n",
    "    def area(self):\n",
    "        return self.length*self.breath\n",
    "\n",
    "length=int(input(\"Enter the length of rectangle: \"))\n",
    "breath=int(input(\"ENter the breath of the rectangle: \"))\n",
    "c=Area_rectangle(length,breath)\n",
    "c.area()"
   ]
  },
  {
   "cell_type": "code",
   "execution_count": 4,
   "metadata": {},
   "outputs": [
    {
     "name": "stdout",
     "output_type": "stream",
     "text": [
      "50.26548245743669\n",
      "25.132741228718345\n"
     ]
    }
   ],
   "source": [
    "#1\n",
    "import math\n",
    "class Area_perimeter:\n",
    "\n",
    "    def __init__(self,radius):\n",
    "        self.radius=radius\n",
    "\n",
    "    def area(self):\n",
    "        return math.pi*(self.radius**2)\n",
    "\n",
    "    def perimeter(self):\n",
    "        return 2*math.pi*self.radius\n",
    "\n",
    "radius=int(input(\"Enter the radius of the circle: \"))\n",
    "c=Area_perimeter(radius)\n",
    "print(c.area())\n",
    "print(c.perimeter())"
   ]
  },
  {
   "cell_type": "code",
   "execution_count": 5,
   "metadata": {},
   "outputs": [
    {
     "name": "stdout",
     "output_type": "stream",
     "text": [
      "[2]\n"
     ]
    }
   ],
   "source": [
    "#2\n",
    "class List_update:\n",
    "\n",
    "    def __init__(self):\n",
    "        self.l1=[]\n",
    "\n",
    "    def append(self,value):\n",
    "        self.l1.append(value)\n",
    "\n",
    "    def delete(self,value):\n",
    "        self.l1.remove(value)\n",
    "\n",
    "    def display(self):\n",
    "        print(self.l1)\n",
    "\n",
    "l=List_update()\n",
    "l.append(1)\n",
    "l.append(2)\n",
    "l.delete(1)\n",
    "l.display()"
   ]
  },
  {
   "cell_type": "code",
   "execution_count": 6,
   "metadata": {},
   "outputs": [
    {
     "name": "stdout",
     "output_type": "stream",
     "text": [
      "f1 is running\n"
     ]
    }
   ],
   "source": [
    "#3 Single Inheritance\n",
    "\n",
    "class Parent:\n",
    "\n",
    "    def f1(self):\n",
    "        print(\"f1 is running\")\n",
    "\n",
    "class Child(Parent):\n",
    "\n",
    "    def f2(self):\n",
    "        print(\"f2 is running\")\n",
    "\n",
    "c=Child()\n",
    "c.f1()"
   ]
  },
  {
   "cell_type": "code",
   "execution_count": 7,
   "metadata": {},
   "outputs": [
    {
     "name": "stdout",
     "output_type": "stream",
     "text": [
      "inside C\n"
     ]
    }
   ],
   "source": [
    "#3 Multilevel Inheritance\n",
    "\n",
    "class A:\n",
    "\n",
    "    def a(self):\n",
    "        print(\"Inside A\")\n",
    "    \n",
    "class B(A):\n",
    "\n",
    "    def b(self):\n",
    "        print(\"Inside B\")\n",
    "\n",
    "class C(B):\n",
    "\n",
    "    def c(self):\n",
    "        print(\"inside C\")\n",
    "\n",
    "obj=C()\n",
    "obj.c()"
   ]
  },
  {
   "cell_type": "code",
   "execution_count": 10,
   "metadata": {},
   "outputs": [
    {
     "name": "stdout",
     "output_type": "stream",
     "text": [
      "Inside A\n"
     ]
    }
   ],
   "source": [
    "#3 Multiple Inheritance\n",
    "\n",
    "class A:\n",
    "\n",
    "    def a(self):\n",
    "        print(\"Inside A\")\n",
    "    \n",
    "class B:\n",
    "\n",
    "    def b(self):\n",
    "        print(\"Inside B\")\n",
    "\n",
    "class C(A,B):\n",
    "\n",
    "    def c(self):\n",
    "        super().a()\n",
    "\n",
    "obj=C()\n",
    "obj.c()"
   ]
  },
  {
   "cell_type": "code",
   "execution_count": 11,
   "metadata": {},
   "outputs": [
    {
     "name": "stdout",
     "output_type": "stream",
     "text": [
      "Inside B\n"
     ]
    }
   ],
   "source": [
    "#3 Hierarchical Inheritance\n",
    "\n",
    "class A:\n",
    "    def a(self):\n",
    "        print(\"Inside A\")\n",
    "\n",
    "class B(A):\n",
    "    def b(self):\n",
    "        print(\"Inside B\")\n",
    "\n",
    "class C(A):\n",
    "    def c(self):\n",
    "        print(\"Inside C\")\n",
    "\n",
    "obj=C()\n",
    "obj1=B()\n",
    "obj1.b()"
   ]
  },
  {
   "cell_type": "code",
   "execution_count": 14,
   "metadata": {},
   "outputs": [
    {
     "name": "stdout",
     "output_type": "stream",
     "text": [
      "Student ID:  63\n",
      "Student Name:  Rudra Kashyap\n",
      "Student Class:  CSE\n"
     ]
    }
   ],
   "source": [
    "#4\n",
    "def student_data(student_id,student_name=None,student_class=None):\n",
    "    print(\"Student ID: \",student_id)\n",
    "    if student_name and student_class is not None:\n",
    "        print(\"Student Name: \",student_name)\n",
    "        print(\"Student Class: \",student_class)\n",
    "\n",
    "student_data(63,\"Rudra Kashyap\",\"CSE\")"
   ]
  },
  {
   "cell_type": "code",
   "execution_count": 16,
   "metadata": {},
   "outputs": [
    {
     "name": "stdout",
     "output_type": "stream",
     "text": [
      "Contructor called\n",
      "Destructor called\n"
     ]
    }
   ],
   "source": [
    "#5\n",
    "class Myclass:\n",
    "\n",
    "    def __init__(self):\n",
    "        print(\"Contructor called\")\n",
    "    \n",
    "    def __del__(self):\n",
    "        print(\"Destructor called\")\n",
    "\n",
    "obj=Myclass()"
   ]
  },
  {
   "cell_type": "code",
   "execution_count": 2,
   "metadata": {},
   "outputs": [
    {
     "ename": "AttributeError",
     "evalue": "'Student' object has no attribute 'name'",
     "output_type": "error",
     "traceback": [
      "\u001b[1;31m---------------------------------------------------------------------------\u001b[0m",
      "\u001b[1;31mAttributeError\u001b[0m                            Traceback (most recent call last)",
      "Cell \u001b[1;32mIn[2], line 24\u001b[0m\n\u001b[0;32m     21\u001b[0m         \u001b[39mprint\u001b[39m(\u001b[39mself\u001b[39m\u001b[39m.\u001b[39msection)\n\u001b[0;32m     23\u001b[0m student1\u001b[39m=\u001b[39mStudent(\u001b[39m\"\u001b[39m\u001b[39mRudra\u001b[39m\u001b[39m\"\u001b[39m,\u001b[39m18\u001b[39m,\u001b[39m\"\u001b[39m\u001b[39mB\u001b[39m\u001b[39m\"\u001b[39m)\n\u001b[1;32m---> 24\u001b[0m student1\u001b[39m.\u001b[39;49mdisplaystudent()\n",
      "Cell \u001b[1;32mIn[2], line 19\u001b[0m, in \u001b[0;36mStudent.displaystudent\u001b[1;34m(self)\u001b[0m\n\u001b[0;32m     18\u001b[0m \u001b[39mdef\u001b[39;00m \u001b[39mdisplaystudent\u001b[39m(\u001b[39mself\u001b[39m):\n\u001b[1;32m---> 19\u001b[0m     \u001b[39mprint\u001b[39m(\u001b[39mself\u001b[39;49m\u001b[39m.\u001b[39;49mname)\n\u001b[0;32m     20\u001b[0m     \u001b[39mprint\u001b[39m(\u001b[39mself\u001b[39m\u001b[39m.\u001b[39mage)\n\u001b[0;32m     21\u001b[0m     \u001b[39mprint\u001b[39m(\u001b[39mself\u001b[39m\u001b[39m.\u001b[39msection)\n",
      "\u001b[1;31mAttributeError\u001b[0m: 'Student' object has no attribute 'name'"
     ]
    }
   ],
   "source": [
    "#6\n",
    "\n",
    "class Person:\n",
    "\n",
    "    def __init__(self,name,age):\n",
    "        self.name=name\n",
    "        self.age=age\n",
    "    \n",
    "    def display(self):\n",
    "        print(self.name)\n",
    "        print(self.age)\n",
    "\n",
    "class Student(Person):\n",
    "\n",
    "    def __init__(self,name,age,section):\n",
    "        self.section=section\n",
    "        \n",
    "    def displaystudent(self):\n",
    "        print(self.name)\n",
    "        print(self.age)\n",
    "        print(self.section)\n",
    "\n",
    "student1=Student(\"Rudra\",18,\"B\")\n",
    "student1.displaystudent()\n"
   ]
  },
  {
   "cell_type": "code",
   "execution_count": 39,
   "metadata": {},
   "outputs": [
    {
     "name": "stdout",
     "output_type": "stream",
     "text": [
      "0\n",
      "Laptop\n",
      "62000\n",
      "1\n",
      "0\n",
      "62000.0\n"
     ]
    }
   ],
   "source": [
    "#7\n",
    "\n",
    "class ITEMINFO:\n",
    "\n",
    "    def __init__(self):\n",
    "        self.ICode=0\n",
    "        self.Item=\"\"\n",
    "        self.Price=0\n",
    "        self.Qty=0\n",
    "        self.Discount=0\n",
    "        self.Netprice=0\n",
    "\n",
    "    def FindDisc(self):\n",
    "        if self.Qty<=10:\n",
    "            self.Discount=0\n",
    "        elif self.Qty<20 and self.Qty>=11:\n",
    "            self.Discount=15\n",
    "        elif self.Qty>=20:\n",
    "            self.Discount=20\n",
    "\n",
    "    def Buy(self):\n",
    "        self.Icode=int(input(\"EMter the Item code: \"))\n",
    "        self.Item=input(\"Enter the Item:  \")\n",
    "        self.Price=int(input(\"ENter the price: \"))\n",
    "        self.Qty=int(input(\"ENter the quantity: \"))\n",
    "        self.FindDisc()\n",
    "        self.Netprice=self.Price*self.Qty-(self.Discount/100*self.Price*self.Qty)\n",
    "    def ShowAll(self):\n",
    "        print(self.ICode)\n",
    "        print(self.Item)\n",
    "        print(self.Price)\n",
    "        print(self.Qty)\n",
    "        print(self.Discount)\n",
    "        print(self.Netprice)\n",
    "\n",
    "item=ITEMINFO()\n",
    "item.Buy()\n",
    "item.ShowAll()"
   ]
  },
  {
   "attachments": {},
   "cell_type": "markdown",
   "metadata": {},
   "source": [
    "Experiment 10"
   ]
  },
  {
   "cell_type": "code",
   "execution_count": 4,
   "metadata": {},
   "outputs": [
    {
     "name": "stdout",
     "output_type": "stream",
     "text": [
      "Error Occured\n"
     ]
    }
   ],
   "source": [
    "def oops():\n",
    "    raise IndexError\n",
    "\n",
    "def er_c():\n",
    "    try:\n",
    "        oops()\n",
    "    except IndexError:\n",
    "        print(\"Error Occured\")\n",
    "\n",
    "er_c()\n"
   ]
  },
  {
   "cell_type": "code",
   "execution_count": 12,
   "metadata": {},
   "outputs": [
    {
     "ename": "ValueError",
     "evalue": "not enough values to unpack (expected 2, got 0)",
     "output_type": "error",
     "traceback": [
      "\u001b[1;31m---------------------------------------------------------------------------\u001b[0m",
      "\u001b[1;31mValueError\u001b[0m                                Traceback (most recent call last)",
      "Cell \u001b[1;32mIn[12], line 14\u001b[0m\n\u001b[0;32m     11\u001b[0m         \u001b[39mexcept\u001b[39;00m \u001b[39mException\u001b[39;00m:\n\u001b[0;32m     12\u001b[0m             \u001b[39mprint\u001b[39m(\u001b[39m\"\u001b[39m\u001b[39mError occured!\u001b[39m\u001b[39m\"\u001b[39m)\n\u001b[1;32m---> 14\u001b[0m obj\u001b[39m=\u001b[39mPerson(\u001b[39m\"\u001b[39;49m\u001b[39m\"\u001b[39;49m,\u001b[39m0\u001b[39;49m)\n\u001b[0;32m     15\u001b[0m obj\u001b[39m.\u001b[39mInput_data()\n",
      "Cell \u001b[1;32mIn[12], line 4\u001b[0m, in \u001b[0;36mPerson.__init__\u001b[1;34m(self, name, age)\u001b[0m\n\u001b[0;32m      3\u001b[0m \u001b[39mdef\u001b[39;00m \u001b[39m__init__\u001b[39m(\u001b[39mself\u001b[39m,name,age):\n\u001b[1;32m----> 4\u001b[0m     \u001b[39mself\u001b[39m,name\u001b[39m=\u001b[39mname\n\u001b[0;32m      5\u001b[0m     \u001b[39mself\u001b[39m\u001b[39m.\u001b[39mage\u001b[39m=\u001b[39mage\n",
      "\u001b[1;31mValueError\u001b[0m: not enough values to unpack (expected 2, got 0)"
     ]
    }
   ],
   "source": [
    "class Person:\n",
    "\n",
    "    def __init__(self,name,age):\n",
    "        self,name=name\n",
    "        self.age=age\n",
    "    \n",
    "    def Input_data(self):\n",
    "        try: \n",
    "            self.name=input(\"Enter your name: \")\n",
    "            self.age=int(input(\"Enter your age: \"))\n",
    "        except Exception:\n",
    "            print(\"Error occured!\")\n",
    "    \n",
    "obj=Person(\"\",0)\n",
    "obj.Input_data()"
   ]
  },
  {
   "cell_type": "code",
   "execution_count": 16,
   "metadata": {},
   "outputs": [
    {
     "name": "stdout",
     "output_type": "stream",
     "text": [
      "Incorrect entry for age, it should be an integer.\n"
     ]
    }
   ],
   "source": [
    "class Person:\n",
    "    def __init__(self, name, age, address):\n",
    "        self.name = name\n",
    "        try:\n",
    "            self.age = int(age)\n",
    "        except ValueError:\n",
    "            print(\"Incorrect entry for age, it should be an integer.\")\n",
    "        self.address = address\n",
    "\n",
    "    def display_person_info(self):\n",
    "        if ValueError:\n",
    "            pass\n",
    "        else:\n",
    "            print(\"Name:\", self.name)\n",
    "            print(\"Age:\", self.age)\n",
    "            print(\"Address:\", self.address)\n",
    "\n",
    "obj=Person(\"Rudra\",\"eighteen\",\"raigarh\")\n",
    "obj.display_person_info()"
   ]
  },
  {
   "cell_type": "code",
   "execution_count": 7,
   "metadata": {},
   "outputs": [
    {
     "data": {
      "text/plain": [
       "'No argument given'"
      ]
     },
     "execution_count": 7,
     "metadata": {},
     "output_type": "execute_result"
    }
   ],
   "source": [
    "def myfunc(x=None):\n",
    "    result = \"\"\n",
    "    if x is None:\n",
    "        result = \"No argument given\"\n",
    "    elif x == 0:\n",
    "        result = \"Zero\"\n",
    "    elif 0 < x <= 3:\n",
    "        result = \"x is between 0 and 3\"\n",
    "    else:\n",
    "        result = \"x is more than 3\"\n",
    "    return result\n",
    "\n",
    "myfunc()"
   ]
  },
  {
   "cell_type": "code",
   "execution_count": 5,
   "metadata": {},
   "outputs": [
    {
     "name": "stdout",
     "output_type": "stream",
     "text": [
      "Division by zero error\n"
     ]
    }
   ],
   "source": [
    "try:\n",
    "   # some code\n",
    "   a = 5 / 0\n",
    "except ZeroDivisionError:\n",
    "   print(\"Division by zero error\")\n",
    "except IndexError:\n",
    "   print(\"Index error\")\n",
    "except Exception:\n",
    "   print(\"Some other error\")"
   ]
  },
  {
   "cell_type": "code",
   "execution_count": 10,
   "metadata": {},
   "outputs": [
    {
     "name": "stdout",
     "output_type": "stream",
     "text": [
      "error occured\n"
     ]
    }
   ],
   "source": [
    "def fn(x):\n",
    "    try:\n",
    "        print(5/x)\n",
    "    except:\n",
    "        print(\"error occured\")\n",
    "\n",
    "fn(0)"
   ]
  }
 ],
 "metadata": {
  "kernelspec": {
   "display_name": "Python 3",
   "language": "python",
   "name": "python3"
  },
  "language_info": {
   "codemirror_mode": {
    "name": "ipython",
    "version": 3
   },
   "file_extension": ".py",
   "mimetype": "text/x-python",
   "name": "python",
   "nbconvert_exporter": "python",
   "pygments_lexer": "ipython3",
   "version": "3.11.1 (tags/v3.11.1:a7a450f, Dec  6 2022, 19:58:39) [MSC v.1934 64 bit (AMD64)]"
  },
  "orig_nbformat": 4,
  "vscode": {
   "interpreter": {
    "hash": "8a5edab282632443219e051e4ade2d1d5bbc671c781051bf1437897cbdfea0f1"
   }
  }
 },
 "nbformat": 4,
 "nbformat_minor": 2
}
