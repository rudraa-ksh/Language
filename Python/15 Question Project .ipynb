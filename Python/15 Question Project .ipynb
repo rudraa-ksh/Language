{
 "cells": [
  {
   "cell_type": "code",
   "execution_count": 1,
   "id": "630e8bab",
   "metadata": {},
   "outputs": [
    {
     "name": "stdout",
     "output_type": "stream",
     "text": [
      "Enter how many lines you want in your file: 2 \n",
      "Enter the sentence: Keywords is a word having special meaning reserved in programming language.\n",
      "Enter the sentence: The smallest indiviadual unit is calles token.\n"
     ]
    }
   ],
   "source": [
    "f=open(\"D:\\\\HOME FILE\\\\RUDRA\\\\12th\\\\File15\\\\Q1-1.txt\",\"w\")\n",
    "n=int(input(\"Enter how many lines you want in your file: \"))\n",
    "for i in range(n):\n",
    "    N=input(\"Enter the sentence: \")\n",
    "    f.write(N)\n",
    "    f.write(\"\\n\")\n",
    "f.close()"
   ]
  },
  {
   "cell_type": "code",
   "execution_count": 3,
   "id": "687a6239",
   "metadata": {},
   "outputs": [
    {
     "name": "stdout",
     "output_type": "stream",
     "text": [
      "Enter how many lines you want in your file: 2\n",
      "Enter the sentence: Keywords are predefined words.\n",
      "Enter the sentence: It is also called lexical unit.\n"
     ]
    }
   ],
   "source": [
    "q=open(\"D:\\\\HOME FILE\\\\RUDRA\\\\12th\\\\File15\\\\Q1-2.txt\",\"w\")\n",
    "n=int(input(\"Enter how many lines you want in your file: \"))\n",
    "for i in range(n):\n",
    "    N=input(\"Enter the sentence: \")\n",
    "    q.write(N)\n",
    "    q.write(\"\\n\")\n",
    "q.close()"
   ]
  },
  {
   "cell_type": "code",
   "execution_count": 2,
   "id": "0ecb4019",
   "metadata": {},
   "outputs": [
    {
     "name": "stdout",
     "output_type": "stream",
     "text": [
      "The combined lines are: \n",
      "Keywords is a word having special meaning reserved in programming language.Keywords are predefined words.\n",
      "The smallest indiviadual unit is calles token.It is also called lexical unit.\n",
      "\n"
     ]
    }
   ],
   "source": [
    "#Q1\n",
    "def combine_line():\n",
    "    q=open(\"D:\\\\HOME FILE\\\\RUDRA\\\\12th\\\\File15\\\\Q1-1.txt\",'r')\n",
    "    w=open(\"D:\\\\HOME FILE\\\\RUDRA\\\\12th\\\\File15\\\\Q1-2.txt\",'r')\n",
    "    a=q.read()\n",
    "    b=w.read()\n",
    "    l1=a.split('\\n') \n",
    "    l2=b.split('\\n') \n",
    "    n=min(len(l1),len(l2))\n",
    "    print(\"The combined lines are: \")\n",
    "    for i in range(n):\n",
    "        print(l1[i]+l2[i])\n",
    "combine_line()"
   ]
  },
  {
   "cell_type": "code",
   "execution_count": 4,
   "id": "310967ce",
   "metadata": {},
   "outputs": [
    {
     "name": "stdout",
     "output_type": "stream",
     "text": [
      "Enter the number of times you want to enter the details: 2\n",
      "Enter the name of the student: Rudra Kashyap\n",
      "Enter the rollno. of the student: 12126\n",
      "Enter the name of the student: Yash Deep Singh\n",
      "Enter the rollno. of the student: 12136\n"
     ]
    }
   ],
   "source": [
    "import pickle\n",
    "q=open(\"D:\\\\HOME FILE\\\\RUDRA\\\\12th\\\\File15\\\\STUDENT.dat\",\"wb\")\n",
    "n=int(input(\"Enter the number of times you want to enter the details: \"))\n",
    "for i in range(n):\n",
    "    Name=input(\"Enter the name of the student: \")\n",
    "    Rollno=int(input(\"Enter the rollno. of the student: \"))\n",
    "    Data=[Rollno,Name]\n",
    "    pickle.dump(Data,q)\n",
    "q.close()"
   ]
  },
  {
   "cell_type": "code",
   "execution_count": 17,
   "id": "6f7ce16b",
   "metadata": {},
   "outputs": [
    {
     "name": "stdout",
     "output_type": "stream",
     "text": [
      "[12126, 'Rudra Kashyap']\n",
      "[12136, 'Yash Deep Singh']\n",
      "[12101, 'Abdur Raquib Khan']\n"
     ]
    }
   ],
   "source": [
    "import pickle\n",
    "f=open(\"D:\\\\HOME FILE\\\\RUDRA\\\\12th\\\\File15\\\\STUDENT.dat\",\"rb\")\n",
    "try:\n",
    "    while True:\n",
    "        a=pickle.load(f)\n",
    "        print(a)\n",
    "except:\n",
    "    f.close()"
   ]
  },
  {
   "cell_type": "code",
   "execution_count": 5,
   "id": "033e7692",
   "metadata": {},
   "outputs": [
    {
     "name": "stdout",
     "output_type": "stream",
     "text": [
      "Enter the number of Students: 1\n",
      "Enter the name: Abdur Raquib Khan\n",
      "Enter the rollno.: 12101\n"
     ]
    }
   ],
   "source": [
    "#Q2\n",
    "def addrec():\n",
    "    import pickle\n",
    "    q=open(\"D:\\\\HOME FILE\\\\RUDRA\\\\12th\\\\File15\\\\STUDENT.dat\",\"ab\")\n",
    "    n=int(input(\"Enter the number of Students: \"))\n",
    "    for i in range(n):\n",
    "        Member=[]\n",
    "        Name=input(\"Enter the name: \")\n",
    "        Rollno=int(input(\"Enter the rollno.: \"))\n",
    "        Member=[Rollno,Name]     \n",
    "        pickle.dump(Member,q)\n",
    "    q.close()\n",
    "addrec()"
   ]
  },
  {
   "cell_type": "code",
   "execution_count": 3,
   "id": "2008ca92",
   "metadata": {},
   "outputs": [
    {
     "name": "stdout",
     "output_type": "stream",
     "text": [
      "Enter the sentence:: My first book was Me and My Family.\n",
      "Enter the sentence:: It gave me chance to be Known to the  world.\n"
     ]
    }
   ],
   "source": [
    "q=open(\"D:\\\\HOME FILE\\\\RUDRA\\\\12th\\\\File15\\\\Story.txt\",\"w\")\n",
    "for i in range(2):\n",
    "    S=input(\"Enter the sentence:: \")\n",
    "     q.write(S)\n",
    "q.close()"
   ]
  },
  {
   "cell_type": "code",
   "execution_count": 1,
   "id": "6a11256c",
   "metadata": {},
   "outputs": [
    {
     "name": "stdout",
     "output_type": "stream",
     "text": [
      "My first book was Me and My Family.It gave me chance to be Known to the  world.\n",
      "The number of 'me' and 'Me'::  2\n",
      "The number of 'my' and 'My'::  2\n"
     ]
    }
   ],
   "source": [
    "#Q3\n",
    "def comy():\n",
    "    h=open(\"D:\\\\HOME FILE\\\\RUDRA\\\\12th\\\\File15\\\\Story.txt\",\"r\")\n",
    "    n=h.read()\n",
    "    print(n)\n",
    "    m=n.split()\n",
    "    c=0\n",
    "    c1=0\n",
    "    for i in m:\n",
    "        if i==\"me\" or i==\"Me\":          \n",
    "            c+=1\n",
    "        if i==\"my\" or i==\"My\":         \n",
    "            c1+=1\n",
    "    print(\"The number of 'me' and 'Me':: \",c)\n",
    "    print(\"The number of 'my' and 'My':: \",c1)\n",
    "    h.close()\n",
    "comy()"
   ]
  },
  {
   "cell_type": "code",
   "execution_count": 16,
   "id": "1e4482f4",
   "metadata": {},
   "outputs": [
    {
     "name": "stdout",
     "output_type": "stream",
     "text": [
      "Enter the number of times you want to enter the details:: 4\n",
      "Enter the staffcode: S0105\n",
      "Enter the name: Rudra Kashyap\n",
      "Enter the staffcode: S0102\n",
      "Enter the name: Murle Manohar\n",
      "Enter the staffcode: S0105\n",
      "Enter the name: Abdur Khan\n",
      "Enter the staffcode: S0101\n",
      "Enter the name: Aryan Singh\n",
      "{}\n"
     ]
    }
   ],
   "source": [
    "#Q4\n",
    "def stafc():\n",
    "    import pickle\n",
    "    a=open(\"D:\\\\HOME FILE\\\\RUDRA\\\\12th\\\\File15\\\\staff.dat\",\"wb\")\n",
    "    h=int(input(\"Enter the number of times you want to enter the details:: \"))\n",
    "    for i in range(h):\n",
    "        Staff={}\n",
    "        n=input(\"Enter the staffcode: \")\n",
    "        N=input(\"Enter the name: \")\n",
    "        if n==\"S0105\":\n",
    "            Staff[\"Staffcode\"]=n\n",
    "            Staff[\"Name\"]=N\n",
    "            print(Staff)\n",
    "            pickle.dump(Staff,a)\n",
    "            print(Staff)\n",
    "    a.close()\n",
    "stafc()"
   ]
  },
  {
   "cell_type": "code",
   "execution_count": 18,
   "id": "b1e4dfdb",
   "metadata": {},
   "outputs": [
    {
     "name": "stdout",
     "output_type": "stream",
     "text": [
      "{'Staffcode': 'S0105', 'Name': 'Rudra Kashyap'}\n",
      "{'Staffcode': 'S0105', 'Name': 'Abdur Khan'}\n"
     ]
    }
   ],
   "source": [
    "import pickle\n",
    "f=open(\"D:\\\\HOME FILE\\\\RUDRA\\\\12th\\\\File15\\\\staff.dat\",\"rb\")\n",
    "try:\n",
    "    while True:\n",
    "        a=pickle.load(f)\n",
    "        print(a)\n",
    "except:\n",
    "    f.close()"
   ]
  },
  {
   "cell_type": "code",
   "execution_count": 9,
   "id": "58db012c",
   "metadata": {},
   "outputs": [],
   "source": [
    "#Q5\n",
    "def csvt():\n",
    "    import csv\n",
    "    f1=open(\"D:\\\\HOME FILE\\\\RUDRA\\\\12th\\\\File\\\\f1.csv\",\"r\" )\n",
    "    d=csv.reader(f1)\n",
    "    f2=open(\"D:\\\\HOME FILE\\\\RUDRA\\\\12th\\\\File15\\\\f2.csv\",\"w\",newline=\"\" )\n",
    "    p=csv.writer(f2,delimiter=\"/\")  \n",
    "    p.writerows(d)\n",
    "    f1.close()\n",
    "    f2.close()\n",
    "csvt()"
   ]
  },
  {
   "cell_type": "code",
   "execution_count": 11,
   "id": "f040e83e",
   "metadata": {},
   "outputs": [
    {
     "name": "stdout",
     "output_type": "stream",
     "text": [
      "Enter how mant times you want to enter the data :: 3\n",
      "Enter the name of the event: Athletics\n",
      "Enter the name of the participant: Neeraj Chopra\n",
      "Enter the name of the event: Cycling\n",
      "Enter the name of the participant: Yash\n",
      "Enter the name of the event: Athletics\n",
      "Enter the name of the participant: P.V. Sindhu\n"
     ]
    }
   ],
   "source": [
    "import pickle\n",
    "u=open(\"D:\\\\HOME FILE\\\\RUDRA\\\\12th\\\\File15\\\\sports.dat\",\"wb\")\n",
    "n=int(input(\"Enter how mant times you want to enter the data :: \"))\n",
    "for j in range(n):\n",
    "    l=[]\n",
    "    e=input(\"Enter the name of the event: \")\n",
    "    N=input(\"Enter the name of the participant: \")\n",
    "    l=[e,N]\n",
    "    pickle.dump(l,u)\n",
    "u.close()"
   ]
  },
  {
   "cell_type": "code",
   "execution_count": 13,
   "id": "847fa555",
   "metadata": {},
   "outputs": [
    {
     "name": "stdout",
     "output_type": "stream",
     "text": [
      "completed\n"
     ]
    }
   ],
   "source": [
    "#Q6\n",
    "def ath():\n",
    "    import pickle\n",
    "    f1=open(\"D:\\\\HOME FILE\\\\RUDRA\\\\12th\\\\File15\\\\sports.dat\",\"rb\")\n",
    "    f2=open(\"D:\\\\HOME FILE\\\\RUDRA\\\\12th\\\\File15\\\\Atheletic.dat\",\"wb\")\n",
    "    l1=[]\n",
    "    try:\n",
    "        while True:\n",
    "            x=pickle.load(f1)\n",
    "            if x[0]==\"Athletics\":  \n",
    "                l1.append(x)        \n",
    "    except:\n",
    "        print(\"completed\")\n",
    "    pickle.dump(l1,f2)\n",
    "    f1.close()\n",
    "    f2.close()\n",
    "ath()"
   ]
  },
  {
   "cell_type": "code",
   "execution_count": 19,
   "id": "0facf0e7",
   "metadata": {
    "scrolled": true
   },
   "outputs": [
    {
     "name": "stdout",
     "output_type": "stream",
     "text": [
      "['Athletics', 'Neeraj Chopra']\n",
      "['Cycling', 'Yash']\n",
      "['Athletics', 'P.V. Sindhu']\n"
     ]
    }
   ],
   "source": [
    "import pickle\n",
    "f=open(\"D:\\\\HOME FILE\\\\RUDRA\\\\12th\\\\File15\\\\sports.dat\",\"rb\")\n",
    "try:\n",
    "    while True:\n",
    "        a=pickle.load(f)\n",
    "        print(a)\n",
    "except:\n",
    "    f.close()"
   ]
  },
  {
   "cell_type": "code",
   "execution_count": 20,
   "id": "c68d9ef1",
   "metadata": {},
   "outputs": [
    {
     "name": "stdout",
     "output_type": "stream",
     "text": [
      "[['Athletics', 'Neeraj Chopra'], ['Athletics', 'P.V. Sindhu']]\n"
     ]
    }
   ],
   "source": [
    "import pickle\n",
    "f=open(\"D:\\\\HOME FILE\\\\RUDRA\\\\12th\\\\File15\\\\Atheletic.dat\",\"rb\")\n",
    "try:\n",
    "    while True:\n",
    "        a=pickle.load(f)\n",
    "        print(a)\n",
    "except:\n",
    "    f.close()"
   ]
  },
  {
   "cell_type": "code",
   "execution_count": 2,
   "id": "fc647f35",
   "metadata": {},
   "outputs": [
    {
     "name": "stdout",
     "output_type": "stream",
     "text": [
      "Keys of dictionary:  dict_keys([3.0, 5.0, 7.0, 9.0, 11.0, 13.0, 15.0, 17.0, 19.0])\n",
      "Values of dictionary:  dict_values(['Three', 'Five', 'Seven', 'Nine', 'Eleven', 'Thirteen', 'Fifteen', 'Seventeen', 'Nineteen'])\n",
      "Items of dictionary:  dict_items([(3.0, 'Three'), (5.0, 'Five'), (7.0, 'Seven'), (9.0, 'Nine'), (11.0, 'Eleven'), (13.0, 'Thirteen'), (15.0, 'Fifteen'), (17.0, 'Seventeen'), (19.0, 'Nineteen')])\n",
      "Length of dictionary:  9\n",
      "7 is present in the dictionary and its value is:  Seven\n",
      "2 is not present in the dictionary\n",
      "Value of 9:  Nine\n",
      "Dictionary with deleted value and key of 9:  {3.0: 'Three', 5.0: 'Five', 7.0: 'Seven', 11.0: 'Eleven', 13.0: 'Thirteen', 15.0: 'Fifteen', 17.0: 'Seventeen', 19.0: 'Nineteen'}\n"
     ]
    }
   ],
   "source": [
    "#Q7\n",
    "def oddic():\n",
    "    ODD={3.0:\"Three\",5.0:\"Five\",7.0:\"Seven\",9.0:\"Nine\",11.0:\"Eleven\",13.0:\"Thirteen\",15.0:\"Fifteen\",17.0:\"Seventeen\",\n",
    "         19.0:\"Nineteen\"}\n",
    "    print(\"Keys of dictionary: \",ODD.keys())\n",
    "    print(\"Values of dictionary: \",ODD.values())\n",
    "    print(\"Items of dictionary: \",ODD.items())\n",
    "    print(\"Length of dictionary: \",len(ODD))\n",
    "    if 7 in ODD:\n",
    "        print(\"7 is present in the dictionary and its value is: \",ODD[7])\n",
    "    else:\n",
    "         print(\"7 is not present in the dictionary\")\n",
    "    if 2 in ODD:\n",
    "        print(\"2 is present in the dictionary and its value is: \",ODD[2])\n",
    "    else:\n",
    "         print(\"2 is not present in the dictionary\")\n",
    "    print(\"Value of 9: \",ODD[9])\n",
    "    del(ODD[9])\n",
    "    print(\"Dictionary with deleted value and key of 9: \",ODD)\n",
    "oddic()"
   ]
  },
  {
   "cell_type": "code",
   "execution_count": 14,
   "id": "0365dd92",
   "metadata": {},
   "outputs": [
    {
     "name": "stdout",
     "output_type": "stream",
     "text": [
      "Enter the number of data: 3\n",
      "Enter the data: 121\n",
      "Enter the data: dad\n",
      "Enter the data: 5241\n",
      "Your list is:  ['121', 'dad', '5241']\n",
      "Result: 2\n"
     ]
    }
   ],
   "source": [
    "#Q8\n",
    "def lisam():\n",
    "    c=0\n",
    "    n=int(input(\"Enter the number of data: \"))\n",
    "    l1=[]\n",
    "    for i in range(n):\n",
    "        x=input(\"Enter the data: \")\n",
    "        l1.append(x)\n",
    "    print(\"Your list is: \",l1)\n",
    "    for i in l1:\n",
    "        if i[0]==i[-1]:\n",
    "            c+=1\n",
    "    print(\"Result:\",c)\n",
    "lisam()"
   ]
  },
  {
   "cell_type": "code",
   "execution_count": 1,
   "id": "f7987c1a",
   "metadata": {},
   "outputs": [
    {
     "name": "stdout",
     "output_type": "stream",
     "text": [
      "Enter a list of tuples :[('a',255),('b',321),('c',241)]\n",
      "Enter the number :250\n",
      "The desired list is : [('c', 241)]\n"
     ]
    }
   ],
   "source": [
    "#Q9\n",
    "def deltup():\n",
    "    l1=eval(input(\"Enter a list of tuples :\"))\n",
    "    n=int(input(\"Enter the number :\"))\n",
    "    l2=list(l1)\n",
    "    for i in l1:\n",
    "        for j in i:\n",
    "            if type(j)==int:\n",
    "                if j>n:\n",
    "                    l2.remove(i)\n",
    "            else:\n",
    "                pass    \n",
    "    print(\"The desired list is :\",l2)\n",
    "deltup()"
   ]
  },
  {
   "cell_type": "code",
   "execution_count": 33,
   "id": "f0c82e15",
   "metadata": {},
   "outputs": [
    {
     "name": "stdout",
     "output_type": "stream",
     "text": [
      "Enter how many lines you want in your poem: 5\n",
      "Enter the sentence:: There once was an alien from space\n",
      "Enter the sentence:: Who knew he was going to race\n",
      "Enter the sentence:: The kids in the school\n",
      "Enter the sentence:: Whom he thought very cool.\n",
      "Enter the sentence:: He won, but left not a trace.\n",
      "Number of lines starting with 'The' is::  1\n"
     ]
    }
   ],
   "source": [
    "#Q10\n",
    "def word_count():\n",
    "    t=open(\"D:\\\\HOME FILE\\\\RUDRA\\\\12th\\\\File15\\\\Poem.txt\",\"w\")\n",
    "    n=int(input(\"Enter how many lines you want in your poem: \"))\n",
    "    for i in range(n):\n",
    "        S=input(\"Enter the sentence:: \")\n",
    "        t.write(S)\n",
    "        t.write(\"\\n\")\n",
    "    t.close()\n",
    "    s=open(\"D:\\\\HOME FILE\\\\RUDRA\\\\12th\\\\File15\\\\Poem.txt\",\"r\")\n",
    "    c=0\n",
    "    l=s.readlines()\n",
    "    for i in l:\n",
    "        l1=i.split()\n",
    "        if l1[0]==\"The\":\n",
    "            c+=1\n",
    "    print(\"Number of lines starting with 'The' is:: \",c)\n",
    "    s.close()\n",
    "word_count()"
   ]
  },
  {
   "cell_type": "code",
   "execution_count": 1,
   "id": "6104afe5",
   "metadata": {},
   "outputs": [
    {
     "name": "stdout",
     "output_type": "stream",
     "text": [
      "Most commonly occuring words in your file is/are : \n",
      "My\n",
      "to\n"
     ]
    }
   ],
   "source": [
    "#Q11\n",
    "def word():\n",
    "    f=open(\"D:\\\\HOME FILE\\\\RUDRA\\\\12th\\\\File15\\\\Story.txt\",\"r\")\n",
    "    l=f.readlines()\n",
    "    d={}\n",
    "    l1=[]\n",
    "    print(\"Most commonly occuring words in your file is/are : \")\n",
    "    for i in l:\n",
    "        l2=i.split(\" \")\n",
    "        l1+=l2\n",
    "    for j in l1:\n",
    "        d[j]=l1.count(j)\n",
    "    for a in d.keys():\n",
    "        if d[a]==max(d.values()):\n",
    "            print(a)\n",
    "word()"
   ]
  },
  {
   "cell_type": "code",
   "execution_count": 37,
   "id": "90808d89",
   "metadata": {},
   "outputs": [
    {
     "name": "stdout",
     "output_type": "stream",
     "text": [
      "Enter the no. of students you want to add :2\n",
      "Enter the roll no. :12101\n",
      "Enter the name of student :Abdur Raquib Khan\n",
      "Enter the marks :85\n",
      "Enter the roll no. :12114\n",
      "Enter the name of student :Pavan Kumar\n",
      "Enter the marks :95\n"
     ]
    }
   ],
   "source": [
    "import pickle\n",
    "f=open('D:\\\\HOME FILE\\\\RUDRA\\\\12th\\\\File15\\\\Student.dat','wb')\n",
    "n=int(input(\"Enter the no. of students you want to add :\"))\n",
    "for i in range(n):\n",
    "    rollno=int(input(\"Enter the roll no. :\"))\n",
    "    name=input(\"Enter the name of student :\")\n",
    "    marks=int(input(\"Enter the marks :\"))\n",
    "    lst=[rollno,name,marks]\n",
    "    pickle.dump(lst,f)\n",
    "f.close()"
   ]
  },
  {
   "cell_type": "code",
   "execution_count": 23,
   "id": "6127cdbb",
   "metadata": {},
   "outputs": [
    {
     "name": "stdout",
     "output_type": "stream",
     "text": [
      "Enter the no. of students you want to add :2\n",
      "Enter the roll no. :12126\n",
      "Enter the name of student :Rudra Kashyap\n",
      "Enter the marks :95\n",
      "Enter the roll no. :12136\n",
      "Enter the name of student :Yash Deep Singh\n",
      "Enter the marks :85\n"
     ]
    }
   ],
   "source": [
    "#Q12\n",
    "def add_rec():\n",
    "    import pickle\n",
    "    f=open('D:\\\\HOME FILE\\\\RUDRA\\\\12th\\\\File15\\\\Student.dat','ab')\n",
    "    n=int(input(\"Enter the no. of students you want to add :\"))\n",
    "    for i in range(n):\n",
    "        rollno=int(input(\"Enter the roll no. :\"))\n",
    "        name=input(\"Enter the name of student :\")\n",
    "        marks=int(input(\"Enter the marks :\"))\n",
    "        lst=[rollno,name,marks]\n",
    "        pickle.dump(lst,f)\n",
    "    f.close()\n",
    "add_rec()"
   ]
  },
  {
   "cell_type": "code",
   "execution_count": 24,
   "id": "1bb5bab2",
   "metadata": {},
   "outputs": [
    {
     "name": "stdout",
     "output_type": "stream",
     "text": [
      "[12126, 'Rudra Kashyap']\n",
      "[12136, 'Yash Deep Singh']\n",
      "[12101, 'Abdur Raquib Khan']\n",
      "[12126, 'Rudra Kashyap', 95]\n",
      "[12136, 'Yash Deep Singh', 85]\n"
     ]
    }
   ],
   "source": [
    "import pickle\n",
    "f=open(\"D:\\\\HOME FILE\\\\RUDRA\\\\12th\\\\File15\\\\Student.dat\",\"rb\")\n",
    "try:\n",
    "    while True:\n",
    "        a=pickle.load(f)\n",
    "        print(a)\n",
    "except:\n",
    "    f.close()"
   ]
  },
  {
   "cell_type": "code",
   "execution_count": 55,
   "id": "bcd4309d",
   "metadata": {},
   "outputs": [
    {
     "name": "stdout",
     "output_type": "stream",
     "text": [
      "Enter the roll no of the student you want to search :12126\n",
      "[12126, 'Rudra kashyap', 95]\n"
     ]
    }
   ],
   "source": [
    "#Q12\n",
    "def search_roll():\n",
    "    import pickle\n",
    "    f=open('D:\\\\HOME FILE\\\\RUDRA\\\\12th\\\\File15\\\\Student.dat','rb')\n",
    "    l=[]\n",
    "    try:\n",
    "        while True:\n",
    "            a=pickle.load(f)\n",
    "            l.append(a)\n",
    "    except:\n",
    "        n=int(input(\"Enter the roll no of the student you want to search :\"))\n",
    "        for i in l:\n",
    "            if i[0]==n:\n",
    "                print(i)\n",
    "    f.close()\n",
    "search_roll()"
   ]
  },
  {
   "cell_type": "code",
   "execution_count": 41,
   "id": "712a18a9",
   "metadata": {},
   "outputs": [
    {
     "name": "stdout",
     "output_type": "stream",
     "text": [
      "Enter the length of your list :5\n",
      "Enter a number to make your list :1\n",
      "Enter a number to make your list :2\n",
      "Enter a number to make your list :3\n",
      "Enter a number to make your list :4\n",
      "Enter a number to make your list :5\n",
      "Your List : [1, 2, 3, 4, 5]\n",
      "Required List : [2, 1, 6, 2, 10]\n"
     ]
    }
   ],
   "source": [
    "#Q13\n",
    "x=int(input(\"Enter the length of your list :\"))\n",
    "def REP(y):\n",
    "    l1=[]\n",
    "    l2=[]\n",
    "    for i in range(y):\n",
    "        b=int(input(\"Enter a number to make your list :\"))\n",
    "        l1.append(b)\n",
    "        if b%2==0:\n",
    "            b=int(b/2)\n",
    "        elif b%2==1:\n",
    "            b=2*b\n",
    "        l2.append(b)\n",
    "    print(\"Your List :\",l1)\n",
    "    print(\"Required List :\",l2)\n",
    "REP(x)"
   ]
  },
  {
   "cell_type": "code",
   "execution_count": 44,
   "id": "e4f77da9",
   "metadata": {},
   "outputs": [],
   "source": [
    "#Q14\n",
    "def Delline():\n",
    "    f1=open(\"D:\\\\HOME FILE\\\\RUDRA\\\\12th\\\\File15\\\\LINES.txt\",\"r\")\n",
    "    f2=open(\"D:\\\\HOME FILE\\\\RUDRA\\\\12th\\\\File15\\\\New.txt\",\"w\")\n",
    "    l1=f1.readlines()\n",
    "    l2=list(l1)\n",
    "    for i in l1:\n",
    "        if \" a \" in i:\n",
    "            l2.remove(i)\n",
    "    f2.writelines(l2)\n",
    "    f1.close()\n",
    "    f2.close()\n",
    "Delline()"
   ]
  },
  {
   "cell_type": "code",
   "execution_count": 7,
   "id": "43b178f9",
   "metadata": {},
   "outputs": [
    {
     "name": "stdout",
     "output_type": "stream",
     "text": [
      "Enter the number of times you want to enter the data:: 2\n",
      "Enter the roll no.: 12126\n",
      "Enter the name: Rudra\n",
      "Enter the marks: 95\n",
      "Enter the roll no.: 12136\n",
      "Enter the name: Yash\n",
      "Enter the marks: 75\n"
     ]
    }
   ],
   "source": [
    "import csv \n",
    "f=open(\"D:\\\\HOME FILE\\\\RUDRA\\\\12th\\\\File15\\\\Student.csv\",\"w\",newline=\"\")\n",
    "x=csv.writer(f)\n",
    "n=int(input(\"Enter the number of times you want to enter the data:: \"))\n",
    "for i in range(n):\n",
    "    rollno=int(input(\"Enter the roll no.: \"))\n",
    "    name=input(\"Enter the name: \")\n",
    "    marks=int(input(\"Enter the marks: \"))\n",
    "    l1=[rollno,name,marks]\n",
    "    x.writerow(l1)\n",
    "f.close()"
   ]
  },
  {
   "cell_type": "code",
   "execution_count": 45,
   "id": "ee599333",
   "metadata": {},
   "outputs": [
    {
     "name": "stdout",
     "output_type": "stream",
     "text": [
      "List of those students who scored more then 80 marks: \n",
      "['12126', 'Rudra', '95']\n"
     ]
    }
   ],
   "source": [
    "#Q15\n",
    "def studlist():\n",
    "    import csv\n",
    "    f1=open(\"D:\\\\HOME FILE\\\\RUDRA\\\\12th\\\\File15\\\\Student.csv\", \"r\", newline=\"\")\n",
    "    r=csv.reader(f1)\n",
    "    print(\"List of those students who scored more then 80 marks: \")\n",
    "    for i in r:\n",
    "        if int(i[2])>80:\n",
    "            print(i)\n",
    "studlist()"
   ]
  }
 ],
 "metadata": {
  "kernelspec": {
   "display_name": "Python 3",
   "language": "python",
   "name": "python3"
  },
  "language_info": {
   "codemirror_mode": {
    "name": "ipython",
    "version": 3
   },
   "file_extension": ".py",
   "mimetype": "text/x-python",
   "name": "python",
   "nbconvert_exporter": "python",
   "pygments_lexer": "ipython3",
   "version": "3.11.1 (tags/v3.11.1:a7a450f, Dec  6 2022, 19:58:39) [MSC v.1934 64 bit (AMD64)]"
  },
  "vscode": {
   "interpreter": {
    "hash": "7d705625a073828d9d6987a7dff4ead27d7dfee1dd954c9d3a1d6b085c12cf79"
   }
  }
 },
 "nbformat": 4,
 "nbformat_minor": 5
}
