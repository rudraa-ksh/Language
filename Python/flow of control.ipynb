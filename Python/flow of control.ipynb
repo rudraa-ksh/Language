{
 "cells": [
  {
   "cell_type": "code",
   "execution_count": null,
   "metadata": {},
   "outputs": [],
   "source": [
    "#SELF PRACTICE"
   ]
  },
  {
   "cell_type": "code",
   "execution_count": 2,
   "metadata": {},
   "outputs": [
    {
     "name": "stdout",
     "output_type": "stream",
     "text": [
      "RUDRA\n"
     ]
    }
   ],
   "source": [
    "#if\n",
    "a='A'\n",
    "if a == 'A':\n",
    "    print(\"RUDRA\")"
   ]
  },
  {
   "cell_type": "code",
   "execution_count": 3,
   "metadata": {},
   "outputs": [
    {
     "name": "stdout",
     "output_type": "stream",
     "text": [
      "Present\n"
     ]
    }
   ],
   "source": [
    "#if-else\n",
    "a='A'\n",
    "if a == 'A':\n",
    "    print(\"Present\")\n",
    "else:\n",
    "    print(\"Absent\")"
   ]
  },
  {
   "cell_type": "code",
   "execution_count": 9,
   "metadata": {},
   "outputs": [
    {
     "name": "stdout",
     "output_type": "stream",
     "text": [
      "Enter the runs which batsman scored18\n",
      "Batsman has neither scored century ora half century\n"
     ]
    }
   ],
   "source": [
    "#if-elif\n",
    "r=int(input(\"Enter the runs which batsman scored\"))\n",
    "if r >= 100:\n",
    "    print(\"Batsman scored a century!!\")\n",
    "elif r >= 50:\n",
    "    print(\"Batsman scored a half century!\")\n",
    "else:\n",
    "    print(\"Batsman has neither scored century ora half century\")"
   ]
  },
  {
   "cell_type": "code",
   "execution_count": 5,
   "metadata": {},
   "outputs": [
    {
     "data": {
      "text/plain": [
       "True"
      ]
     },
     "execution_count": 5,
     "metadata": {},
     "output_type": "execute_result"
    }
   ],
   "source": [
    "l1=[1,2,3,4,5]\n",
    "3 in l1"
   ]
  },
  {
   "cell_type": "code",
   "execution_count": 6,
   "metadata": {},
   "outputs": [
    {
     "data": {
      "text/plain": [
       "False"
      ]
     },
     "execution_count": 6,
     "metadata": {},
     "output_type": "execute_result"
    }
   ],
   "source": [
    "l1=[1,2,3,4,5]\n",
    "3 not in l1"
   ]
  },
  {
   "cell_type": "code",
   "execution_count": 7,
   "metadata": {},
   "outputs": [
    {
     "name": "stdout",
     "output_type": "stream",
     "text": [
      "1\n",
      "4\n",
      "7\n"
     ]
    }
   ],
   "source": [
    "for a in [1,4,7]:\n",
    "    print(a)"
   ]
  },
  {
   "cell_type": "code",
   "execution_count": 55,
   "metadata": {},
   "outputs": [
    {
     "name": "stdout",
     "output_type": "stream",
     "text": [
      "**********\n"
     ]
    }
   ],
   "source": [
    "for i in range(1,6):\n",
    "    for j in range(1,i):\n",
    "        print(\"*\",end='')\n",
    "print()"
   ]
  },
  {
   "cell_type": "code",
   "execution_count": null,
   "metadata": {},
   "outputs": [],
   "source": [
    "#Solved questions"
   ]
  },
  {
   "cell_type": "code",
   "execution_count": 2,
   "metadata": {},
   "outputs": [
    {
     "name": "stdout",
     "output_type": "stream",
     "text": [
      "Enter the percentage?79\n",
      "A-!!\n"
     ]
    }
   ],
   "source": [
    "#6\n",
    "for i in range(0,1):\n",
    "    grade=float(input(\"Enter the percentage?\"))\n",
    "if grade>=90:\n",
    "    print(\"A+!!\")\n",
    "elif 80<=grade and grade<90:\n",
    "    print(\"A!!\")\n",
    "elif 60<=grade and grade<80:\n",
    "    print(\"A-!!\")\n",
    "elif grade<60:\n",
    "    print(\"FAIL!!\")         "
   ]
  },
  {
   "cell_type": "code",
   "execution_count": 2,
   "metadata": {},
   "outputs": [
    {
     "name": "stdout",
     "output_type": "stream",
     "text": [
      "FALSE\n",
      "TRUE\n"
     ]
    }
   ],
   "source": [
    "#7\n",
    "if (4+5==10):\n",
    "    print(\"TRUE\")\n",
    "else:\n",
    "    print(\"FALSE\")\n",
    "print(\"TRUE\")"
   ]
  },
  {
   "cell_type": "code",
   "execution_count": 4,
   "metadata": {},
   "outputs": [
    {
     "name": "stdout",
     "output_type": "stream",
     "text": [
      "Enter a number::12\n",
      "36\n"
     ]
    }
   ],
   "source": [
    "#10\n",
    "n=int(input(\"Enter a number::\")) \n",
    "sum=0\n",
    "for i in range(0,n+1):\n",
    "    if i%2!=0:\n",
    "        sum=sum+i\n",
    "print(sum)"
   ]
  },
  {
   "cell_type": "code",
   "execution_count": 8,
   "metadata": {},
   "outputs": [
    {
     "name": "stdout",
     "output_type": "stream",
     "text": [
      "Enter the first  number 1\n",
      "Enter the second number2\n",
      "Enter the third number3\n",
      "3 is the largest number\n"
     ]
    }
   ],
   "source": [
    "#13\n",
    "no1=int(input(\"Enter the first  number \"))\n",
    "no2=int(input(\"Enter the second number\"))\n",
    "no3=int(input(\"Enter the third number\"))\n",
    "if(no1>no2)and(no1>no3):\n",
    "    print(no1,\"is the largest number\")\n",
    "elif(no2>no1)and(no2>no3):\n",
    "    print(no2,\"is the largest number\")\n",
    "else:\n",
    "    print(no3,\"is the largest number\")"
   ]
  },
  {
   "cell_type": "code",
   "execution_count": 4,
   "metadata": {},
   "outputs": [
    {
     "name": "stdout",
     "output_type": "stream",
     "text": [
      "Enter a six digit number::123456\n",
      "The 2 digit number are:: 56 34 12\n"
     ]
    }
   ],
   "source": [
    "#14\n",
    "n=int(input(\"Enter a six digit number::\"))\n",
    "if n<100000 or n>999999:\n",
    "    print(\"Please enter a six digit number:\")\n",
    "else:\n",
    "    n1=n%100\n",
    "    in1=n//100\n",
    "    n2=in1%100\n",
    "    in2=in1//100\n",
    "    n3=in2%100\n",
    "print(\"The 2 digit number are::\",n1,n2,n3)"
   ]
  },
  {
   "cell_type": "code",
   "execution_count": null,
   "metadata": {},
   "outputs": [],
   "source": [
    "#15\n",
    "import math\n",
    "n=int(input(\"Enter the number::\"))\n",
    "a=len(n)\n",
    "l=n%10\n",
    "l2=n//"
   ]
  },
  {
   "cell_type": "code",
   "execution_count": 3,
   "metadata": {},
   "outputs": [
    {
     "name": "stdout",
     "output_type": "stream",
     "text": [
      "Enter 10 number here:-\n",
      "Enter the number::12\n",
      "Enter the number::13\n",
      "Enter the number::14\n",
      "Enter the number::15\n",
      "Enter the number::56\n",
      "Enter the number::67\n",
      "Enter the number::78\n",
      "Enter the number::89\n",
      "Enter the number::90\n",
      "Enter the number::34\n",
      "The lowest number is : 12\n",
      "The second lowest number is: 13\n"
     ]
    }
   ],
   "source": [
    "#16\n",
    "l1=[]\n",
    "print(\"Enter 10 number here:-\")\n",
    "for i in range(10):\n",
    "    x=int(input(\"Enter the number::\"))\n",
    "    l1.append(x)\n",
    "l1.sort()\n",
    "print(\"The lowest number is :\",l1[0])\n",
    "print(\"The second lowest number is:\",l1[1])"
   ]
  },
  {
   "cell_type": "code",
   "execution_count": 8,
   "metadata": {},
   "outputs": [
    {
     "name": "stdout",
     "output_type": "stream",
     "text": [
      "0\n",
      "1\n",
      "1\n",
      "2\n",
      "3\n",
      "5\n",
      "8\n",
      "13\n",
      "21\n",
      "34\n",
      "55\n",
      "89\n",
      "144\n",
      "233\n",
      "377\n",
      "610\n",
      "987\n",
      "1597\n",
      "2584\n",
      "4181\n"
     ]
    }
   ],
   "source": [
    "#18\n",
    "b=()\n",
    "a=0\n",
    "b=1\n",
    "print(a)\n",
    "print(b)\n",
    "for i in range(1,19):\n",
    "    c=a+b\n",
    "    print(c)\n",
    "    a,b=b,c"
   ]
  },
  {
   "cell_type": "code",
   "execution_count": 2,
   "metadata": {},
   "outputs": [
    {
     "name": "stdout",
     "output_type": "stream",
     "text": [
      "Enter the number less then 1000::678\n",
      "The reverse number is: 876\n"
     ]
    }
   ],
   "source": [
    "#19\n",
    "n=int(input(\"Enter the number less then 1000::\"))\n",
    "rev=0\n",
    "while n:\n",
    "    rem=n%10\n",
    "    rev=(rev*10)+rem\n",
    "    n=n//10\n",
    "print(\"The reverse number is:\",rev)"
   ]
  },
  {
   "cell_type": "code",
   "execution_count": 70,
   "metadata": {},
   "outputs": [
    {
     "name": "stdout",
     "output_type": "stream",
     "text": [
      "2\n"
     ]
    }
   ],
   "source": [
    "rem=23//10\n",
    "print(rem)"
   ]
  },
  {
   "cell_type": "code",
   "execution_count": 3,
   "metadata": {},
   "outputs": [
    {
     "name": "stdout",
     "output_type": "stream",
     "text": [
      "Enter the angles below:-\n",
      "Enter the first angle::90\n",
      "Enter the second angle::45\n",
      "Enter the third angle::45\n",
      "Yes!!,it is a triangle\n"
     ]
    }
   ],
   "source": [
    "#21\n",
    "print(\"Enter the angles below:-\")\n",
    "a=int(input(\"Enter the first angle::\"))\n",
    "b=int(input(\"Enter the second angle::\"))\n",
    "c=int(input(\"Enter the third angle::\"))\n",
    "d=a+b+c\n",
    "if d==180:\n",
    "    print(\"Yes!!,it is a triangle\")\n",
    "else:\n",
    "    print(\"No!!,it is not a triangle\")"
   ]
  },
  {
   "cell_type": "code",
   "execution_count": null,
   "metadata": {},
   "outputs": [],
   "source": [
    "#22\n"
   ]
  },
  {
   "cell_type": "code",
   "execution_count": 37,
   "metadata": {},
   "outputs": [
    {
     "name": "stdout",
     "output_type": "stream",
     "text": [
      "3\n"
     ]
    }
   ],
   "source": [
    "import random\n",
    "print(random.randint(1,6))"
   ]
  },
  {
   "cell_type": "code",
   "execution_count": null,
   "metadata": {},
   "outputs": [],
   "source": [
    "#solved question"
   ]
  },
  {
   "cell_type": "code",
   "execution_count": 2,
   "metadata": {},
   "outputs": [
    {
     "name": "stdout",
     "output_type": "stream",
     "text": [
      "Take every chance.\n",
      "Drop every fear.\n"
     ]
    }
   ],
   "source": [
    "#this is a sample program\n",
    "#to output simple statements\n",
    "#print(\"Such as\")\n",
    "print(\"Take every chance.\")\n",
    "print(\"Drop every fear.\")\n"
   ]
  },
  {
   "cell_type": "code",
   "execution_count": 3,
   "metadata": {},
   "outputs": [
    {
     "name": "stdout",
     "output_type": "stream",
     "text": [
      "Enter temperature in degree celsius:-21\n",
      "5.108108108108108\n"
     ]
    }
   ],
   "source": [
    "#temperature \n",
    "TEMP=int(input(\"Enter temperature in degree celsius:-\"))\n",
    "temp=TEMP*9/37\n",
    "print(temp)"
   ]
  },
  {
   "cell_type": "code",
   "execution_count": 4,
   "metadata": {},
   "outputs": [
    {
     "name": "stdout",
     "output_type": "stream",
     "text": [
      "Simar ,you are 17 now butyou will be 18 next year\n"
     ]
    }
   ],
   "source": [
    "#18\n",
    "name='Simar'\n",
    "age=17\n",
    "print(name,\",you are\",17,\"now but\",end=\"\")\n",
    "print(\"you will be\",age+1,\"next year\")"
   ]
  },
  {
   "cell_type": "code",
   "execution_count": 5,
   "metadata": {},
   "outputs": [
    {
     "name": "stdout",
     "output_type": "stream",
     "text": [
      "6 4\n"
     ]
    }
   ],
   "source": [
    "#19\n",
    "x,y=2,6\n",
    "x,y=y,x+2\n",
    "print(x,y)"
   ]
  },
  {
   "cell_type": "code",
   "execution_count": 6,
   "metadata": {},
   "outputs": [
    {
     "name": "stdout",
     "output_type": "stream",
     "text": [
      "17 5\n"
     ]
    }
   ],
   "source": [
    "#20\n",
    "x,y=7,2\n",
    "x,y,x=x+1,y+3,x+10\n",
    "print(x,y)"
   ]
  },
  {
   "cell_type": "code",
   "execution_count": 7,
   "metadata": {},
   "outputs": [
    {
     "name": "stdout",
     "output_type": "stream",
     "text": [
      "Enter the distance in miles::60\n",
      "miles: 60\n",
      "kilometers: 96.5606698735538\n"
     ]
    }
   ],
   "source": [
    "#21\n",
    "miles=int(input(\"Enter the distance in miles::\"))\n",
    "km=miles/0.621371\n",
    "print(\"miles:\",miles)\n",
    "print(\"kilometers:\",km)"
   ]
  },
  {
   "cell_type": "code",
   "execution_count": 8,
   "metadata": {},
   "outputs": [
    {
     "name": "stdout",
     "output_type": "stream",
     "text": [
      "Enter first number::1\n",
      "Enter second number::2\n",
      "Enter thrid number::3\n",
      "Oringal numbers:: 1 2 3\n",
      "After swaping:: 1 3 5\n"
     ]
    }
   ],
   "source": [
    "#22\n",
    "a=int(input(\"Enter first number::\"))\n",
    "b=int(input(\"Enter second number::\"))\n",
    "c=int(input(\"Enter thrid number::\"))\n",
    "print(\"Oringal numbers::\",a,b,c)\n",
    "a,b,c=a,a+b,b+c\n",
    "print(\"After swaping::\",a,b,c)"
   ]
  },
  {
   "cell_type": "code",
   "execution_count": 9,
   "metadata": {},
   "outputs": [
    {
     "name": "stdout",
     "output_type": "stream",
     "text": [
      "2 5\n"
     ]
    }
   ],
   "source": [
    "num1=4\n",
    "num2=num1+1\n",
    "num1=2\n",
    "print(num1,num2)"
   ]
  },
  {
   "cell_type": "code",
   "execution_count": 10,
   "metadata": {},
   "outputs": [
    {
     "name": "stdout",
     "output_type": "stream",
     "text": [
      "6 4\n"
     ]
    }
   ],
   "source": [
    "#5\n",
    "num1,num2=2,6\n",
    "num1,num2=num2,num1+2\n",
    "print(num1,num2)"
   ]
  },
  {
   "cell_type": "code",
   "execution_count": 11,
   "metadata": {},
   "outputs": [
    {
     "name": "stdout",
     "output_type": "stream",
     "text": [
      "Enter value for x::1\n",
      "Enter value for y::2\n",
      "Enter valur for z::3\n",
      "Individually,A,B and C take days respectivelyas: 1 2 3\n",
      "Together A,B and C take days as : 0.5454545454545454 Days\n"
     ]
    }
   ],
   "source": [
    "#12\n",
    "x=int(input(\"Enter value for x::\"))\n",
    "y=int(input(\"Enter value for y::\"))\n",
    "z=int(input(\"Enter valur for z::\"))\n",
    "print(\"Individually,A,B and C take days respectivelyas:\",x,y,z)\n",
    "days=(x*y*z)/(x*y+y*z+z*x)\n",
    "print(\"Together A,B and C take days as :\",days,\"Days\")"
   ]
  },
  {
   "cell_type": "code",
   "execution_count": 12,
   "metadata": {},
   "outputs": [
    {
     "name": "stdout",
     "output_type": "stream",
     "text": [
      "Enter the first number:1\n",
      "Enter the second number:2\n",
      "The given numbers are: 1 2\n",
      "Sum= 3\n",
      "Difference= -1\n",
      "Multiplcatiom= 2\n",
      "Division= 0.5\n",
      "Modulus= 1\n"
     ]
    }
   ],
   "source": [
    "#13\n",
    "a=int(input(\"Enter the first number:\"))\n",
    "b=int(input(\"Enter the second number:\"))\n",
    "addition=a+b \n",
    "difference=a-b\n",
    "multiplication=a*b\n",
    "division=a/b\n",
    "modulus=a%b\n",
    "print(\"The given numbers are:\",a,b)\n",
    "print(\"Sum=\",addition)\n",
    "print(\"Difference=\",difference)\n",
    "print(\"Multiplcatiom=\",multiplication)\n",
    "print(\"Division=\",division)\n",
    "print(\"Modulus=\",modulus)"
   ]
  },
  {
   "cell_type": "code",
   "execution_count": 13,
   "metadata": {},
   "outputs": [
    {
     "name": "stdout",
     "output_type": "stream",
     "text": [
      "Enter a value:1\n",
      "Enter a valur:2\n",
      "Before swaping the numbers we get: 1 2\n",
      "After swaping the numbers we get: 2 1\n"
     ]
    }
   ],
   "source": [
    "#14\n",
    "a=int(input(\"Enter a value:\"))\n",
    "b=int(input(\"Enter a valur:\"))\n",
    "print(\"Before swaping the numbers we get:\",a,b)\n",
    "x=a\n",
    "y=b\n",
    "print(\"After swaping the numbers we get:\",y,x )"
   ]
  },
  {
   "cell_type": "code",
   "execution_count": 14,
   "metadata": {},
   "outputs": [
    {
     "name": "stdout",
     "output_type": "stream",
     "text": [
      "Enter the first number :1\n",
      "Enter the second number :2\n",
      "Enter the third number :3\n",
      "Average : 2.0\n"
     ]
    }
   ],
   "source": [
    "#17\n",
    "a=int(input(\"Enter the first number :\"))\n",
    "b=int(input(\"Enter the second number :\"))\n",
    "c=int(input(\"Enter the third number :\"))\n",
    "Avg=(a+b+c)/3\n",
    "print(\"Average :\",Avg)"
   ]
  }
 ],
 "metadata": {
  "kernelspec": {
   "display_name": "Python 3",
   "language": "python",
   "name": "python3"
  },
  "language_info": {
   "codemirror_mode": {
    "name": "ipython",
    "version": 3
   },
   "file_extension": ".py",
   "mimetype": "text/x-python",
   "name": "python",
   "nbconvert_exporter": "python",
   "pygments_lexer": "ipython3",
   "version": "3.11.1 (tags/v3.11.1:a7a450f, Dec  6 2022, 19:58:39) [MSC v.1934 64 bit (AMD64)]"
  },
  "vscode": {
   "interpreter": {
    "hash": "7d705625a073828d9d6987a7dff4ead27d7dfee1dd954c9d3a1d6b085c12cf79"
   }
  }
 },
 "nbformat": 4,
 "nbformat_minor": 4
}
