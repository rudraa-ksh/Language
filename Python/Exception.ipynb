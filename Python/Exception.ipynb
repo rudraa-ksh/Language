{
 "cells": [
  {
   "cell_type": "code",
   "execution_count": 4,
   "metadata": {},
   "outputs": [
    {
     "name": "stdout",
     "output_type": "stream",
     "text": [
      "Incorrect data format!\n",
      "Data Entered\n"
     ]
    }
   ],
   "source": [
    "try:\n",
    "    n=input(\"Enter your name: \")\n",
    "    a=int(input(\"Enter your age: \"))\n",
    "    if len(n)>10:\n",
    "        raise ValueError\n",
    "\n",
    "except ValueError:\n",
    "    print(\"Incorrect data format!\")\n",
    "\n",
    "except Exception:\n",
    "    print(\"Error Occured!\")\n",
    "\n",
    "finally:\n",
    "    print(\"Data Entered\")"
   ]
  }
 ],
 "metadata": {
  "kernelspec": {
   "display_name": "Python 3",
   "language": "python",
   "name": "python3"
  },
  "language_info": {
   "codemirror_mode": {
    "name": "ipython",
    "version": 3
   },
   "file_extension": ".py",
   "mimetype": "text/x-python",
   "name": "python",
   "nbconvert_exporter": "python",
   "pygments_lexer": "ipython3",
   "version": "3.11.1 (tags/v3.11.1:a7a450f, Dec  6 2022, 19:58:39) [MSC v.1934 64 bit (AMD64)]"
  },
  "orig_nbformat": 4,
  "vscode": {
   "interpreter": {
    "hash": "7d705625a073828d9d6987a7dff4ead27d7dfee1dd954c9d3a1d6b085c12cf79"
   }
  }
 },
 "nbformat": 4,
 "nbformat_minor": 2
}
