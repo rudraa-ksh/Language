{
 "cells": [
  {
   "cell_type": "code",
   "execution_count": 2,
   "metadata": {},
   "outputs": [],
   "source": [
    "import numpy as np"
   ]
  },
  {
   "cell_type": "code",
   "execution_count": 3,
   "metadata": {},
   "outputs": [
    {
     "data": {
      "text/plain": [
       "array([1, 2, 3, 4])"
      ]
     },
     "execution_count": 3,
     "metadata": {},
     "output_type": "execute_result"
    }
   ],
   "source": [
    "arr=np.array([1,2,3,4])\n",
    "arr"
   ]
  },
  {
   "cell_type": "code",
   "execution_count": 4,
   "metadata": {},
   "outputs": [
    {
     "data": {
      "text/plain": [
       "1"
      ]
     },
     "execution_count": 4,
     "metadata": {},
     "output_type": "execute_result"
    }
   ],
   "source": [
    "arr.ndim"
   ]
  },
  {
   "cell_type": "code",
   "execution_count": 5,
   "metadata": {},
   "outputs": [
    {
     "data": {
      "text/plain": [
       "array([[1, 2],\n",
       "       [3, 4]])"
      ]
     },
     "execution_count": 5,
     "metadata": {},
     "output_type": "execute_result"
    }
   ],
   "source": [
    "arr2=np.array([[1,2],[3,4]])\n",
    "arr2"
   ]
  },
  {
   "cell_type": "code",
   "execution_count": 6,
   "metadata": {},
   "outputs": [
    {
     "data": {
      "text/plain": [
       "2"
      ]
     },
     "execution_count": 6,
     "metadata": {},
     "output_type": "execute_result"
    }
   ],
   "source": [
    "arr2.ndim"
   ]
  },
  {
   "cell_type": "code",
   "execution_count": 7,
   "metadata": {},
   "outputs": [
    {
     "data": {
      "text/plain": [
       "array([[1., 2., 3., 4.]])"
      ]
     },
     "execution_count": 7,
     "metadata": {},
     "output_type": "execute_result"
    }
   ],
   "source": [
    "arr=np.array([1,2,3,4], ndmin=2,dtype=float)\n",
    "arr"
   ]
  },
  {
   "cell_type": "code",
   "execution_count": 7,
   "metadata": {},
   "outputs": [
    {
     "data": {
      "text/plain": [
       "array([10, 12, 14, 16, 18, 20])"
      ]
     },
     "execution_count": 7,
     "metadata": {},
     "output_type": "execute_result"
    }
   ],
   "source": [
    "np.arange(10,22,2)"
   ]
  },
  {
   "cell_type": "code",
   "execution_count": 5,
   "metadata": {},
   "outputs": [
    {
     "data": {
      "text/plain": [
       "array([ 1.  ,  3.25,  5.5 ,  7.75, 10.  ])"
      ]
     },
     "execution_count": 5,
     "metadata": {},
     "output_type": "execute_result"
    }
   ],
   "source": [
    "np.linspace(1,10,5)"
   ]
  },
  {
   "cell_type": "code",
   "execution_count": 28,
   "metadata": {},
   "outputs": [
    {
     "data": {
      "text/plain": [
       "array([[6.23042070e-307, 4.67296746e-307],\n",
       "       [1.69121096e-306, 1.04433753e-311]])"
      ]
     },
     "execution_count": 28,
     "metadata": {},
     "output_type": "execute_result"
    }
   ],
   "source": [
    "np.empty((2,2))"
   ]
  },
  {
   "cell_type": "code",
   "execution_count": 19,
   "metadata": {},
   "outputs": [
    {
     "data": {
      "text/plain": [
       "array([[[6.23042070e-307, 4.67296746e-307, 1.69121096e-306],\n",
       "        [8.90108992e-307, 1.89146896e-307, 7.56571288e-307],\n",
       "        [3.11525958e-307, 1.24610723e-306, 1.37962320e-306]],\n",
       "\n",
       "       [[1.29060871e-306, 2.22518251e-306, 1.33511969e-306],\n",
       "        [1.78022342e-306, 1.05700345e-307, 3.11525958e-307],\n",
       "        [1.69118108e-306, 8.06632139e-308, 1.20160711e-306]],\n",
       "\n",
       "       [[1.69119330e-306, 1.29062229e-306, 1.60217812e-306],\n",
       "        [1.37961370e-306, 1.42417629e-306, 1.24611402e-306],\n",
       "        [2.22522596e-306, 8.34445562e-308, 1.92038816e+243]]])"
      ]
     },
     "execution_count": 19,
     "metadata": {},
     "output_type": "execute_result"
    }
   ],
   "source": [
    "np.empty((3,3,3))"
   ]
  },
  {
   "cell_type": "code",
   "execution_count": 12,
   "metadata": {},
   "outputs": [
    {
     "data": {
      "text/plain": [
       "array([[1., 2.],\n",
       "       [3., 4.]])"
      ]
     },
     "execution_count": 12,
     "metadata": {},
     "output_type": "execute_result"
    }
   ],
   "source": [
    "np.empty((2,2))"
   ]
  },
  {
   "cell_type": "code",
   "execution_count": 13,
   "metadata": {},
   "outputs": [
    {
     "data": {
      "text/plain": [
       "array([[6.23042070e-307, 4.67296746e-307],\n",
       "       [1.69121096e-306, 8.90108992e-307],\n",
       "       [1.89146896e-307, 7.56571288e-307],\n",
       "       [3.11525958e-307, 1.24610723e-306],\n",
       "       [1.29061142e-306, 5.53353523e-322]])"
      ]
     },
     "execution_count": 13,
     "metadata": {},
     "output_type": "execute_result"
    }
   ],
   "source": [
    "np.empty((5,2))"
   ]
  },
  {
   "cell_type": "code",
   "execution_count": 14,
   "metadata": {},
   "outputs": [],
   "source": [
    "import random"
   ]
  },
  {
   "cell_type": "code",
   "execution_count": 30,
   "metadata": {},
   "outputs": [
    {
     "data": {
      "text/plain": [
       "array([[53, 55],\n",
       "       [70, 57]])"
      ]
     },
     "execution_count": 30,
     "metadata": {},
     "output_type": "execute_result"
    }
   ],
   "source": [
    "np.random.randint(50,75,(2,2))"
   ]
  },
  {
   "cell_type": "code",
   "execution_count": 16,
   "metadata": {},
   "outputs": [
    {
     "data": {
      "text/plain": [
       "array([[-0.36364873,  1.09244932],\n",
       "       [ 0.69857548,  0.39141849]])"
      ]
     },
     "execution_count": 16,
     "metadata": {},
     "output_type": "execute_result"
    }
   ],
   "source": [
    "np.random.randn(2,2)"
   ]
  },
  {
   "cell_type": "code",
   "execution_count": 36,
   "metadata": {},
   "outputs": [
    {
     "data": {
      "text/plain": [
       "array([[1, 0, 0, 0],\n",
       "       [0, 1, 0, 0]])"
      ]
     },
     "execution_count": 36,
     "metadata": {},
     "output_type": "execute_result"
    }
   ],
   "source": [
    "np.eye(2,4,dtype=int)"
   ]
  },
  {
   "cell_type": "code",
   "execution_count": 38,
   "metadata": {},
   "outputs": [
    {
     "data": {
      "text/plain": [
       "array([[[0, 0, 0],\n",
       "        [0, 0, 0],\n",
       "        [0, 0, 0],\n",
       "        [0, 0, 0]],\n",
       "\n",
       "       [[0, 0, 0],\n",
       "        [0, 0, 0],\n",
       "        [0, 0, 0],\n",
       "        [0, 0, 0]],\n",
       "\n",
       "       [[0, 0, 0],\n",
       "        [0, 0, 0],\n",
       "        [0, 0, 0],\n",
       "        [0, 0, 0]],\n",
       "\n",
       "       [[0, 0, 0],\n",
       "        [0, 0, 0],\n",
       "        [0, 0, 0],\n",
       "        [0, 0, 0]]])"
      ]
     },
     "execution_count": 38,
     "metadata": {},
     "output_type": "execute_result"
    }
   ],
   "source": [
    "np.zeros((4,4,3),dtype=int)"
   ]
  },
  {
   "attachments": {},
   "cell_type": "markdown",
   "metadata": {},
   "source": [
    "Experiment 2"
   ]
  },
  {
   "cell_type": "code",
   "execution_count": 19,
   "metadata": {},
   "outputs": [
    {
     "data": {
      "text/plain": [
       "array([ 12,  15,  20, 155])"
      ]
     },
     "execution_count": 19,
     "metadata": {},
     "output_type": "execute_result"
    }
   ],
   "source": [
    "d1_array=np.array([12,15,20,155])\n",
    "d1_array"
   ]
  },
  {
   "cell_type": "code",
   "execution_count": 20,
   "metadata": {},
   "outputs": [
    {
     "data": {
      "text/plain": [
       "1"
      ]
     },
     "execution_count": 20,
     "metadata": {},
     "output_type": "execute_result"
    }
   ],
   "source": [
    "d1_array.ndim"
   ]
  },
  {
   "cell_type": "code",
   "execution_count": 21,
   "metadata": {},
   "outputs": [
    {
     "data": {
      "text/plain": [
       "array([ 12,  15,  20, 155])"
      ]
     },
     "execution_count": 21,
     "metadata": {},
     "output_type": "execute_result"
    }
   ],
   "source": [
    "d1_array.T"
   ]
  },
  {
   "cell_type": "code",
   "execution_count": 22,
   "metadata": {},
   "outputs": [
    {
     "data": {
      "text/plain": [
       "(4,)"
      ]
     },
     "execution_count": 22,
     "metadata": {},
     "output_type": "execute_result"
    }
   ],
   "source": [
    "d1_array.shape"
   ]
  },
  {
   "cell_type": "code",
   "execution_count": 23,
   "metadata": {},
   "outputs": [
    {
     "data": {
      "text/plain": [
       "4"
      ]
     },
     "execution_count": 23,
     "metadata": {},
     "output_type": "execute_result"
    }
   ],
   "source": [
    "d1_array.itemsize"
   ]
  },
  {
   "cell_type": "code",
   "execution_count": 24,
   "metadata": {},
   "outputs": [
    {
     "data": {
      "text/plain": [
       "4"
      ]
     },
     "execution_count": 24,
     "metadata": {},
     "output_type": "execute_result"
    }
   ],
   "source": [
    "d1_array.size"
   ]
  },
  {
   "cell_type": "code",
   "execution_count": 25,
   "metadata": {},
   "outputs": [
    {
     "data": {
      "text/plain": [
       "dtype('int32')"
      ]
     },
     "execution_count": 25,
     "metadata": {},
     "output_type": "execute_result"
    }
   ],
   "source": [
    "d1_array.dtype"
   ]
  },
  {
   "cell_type": "code",
   "execution_count": 26,
   "metadata": {},
   "outputs": [
    {
     "data": {
      "text/plain": [
       "array([ 12,  15,  20, 155])"
      ]
     },
     "execution_count": 26,
     "metadata": {},
     "output_type": "execute_result"
    }
   ],
   "source": [
    "d1_array.real"
   ]
  },
  {
   "cell_type": "code",
   "execution_count": 27,
   "metadata": {},
   "outputs": [
    {
     "data": {
      "text/plain": [
       "array([0, 0, 0, 0])"
      ]
     },
     "execution_count": 27,
     "metadata": {},
     "output_type": "execute_result"
    }
   ],
   "source": [
    "d1_array.imag"
   ]
  },
  {
   "cell_type": "code",
   "execution_count": 28,
   "metadata": {},
   "outputs": [
    {
     "data": {
      "text/plain": [
       "array([[15.2  , 20.3  , 16.2  ],\n",
       "       [18.2  , 17.03 , 11.033],\n",
       "       [16.03 ,  9.08 ,  7.033]])"
      ]
     },
     "execution_count": 28,
     "metadata": {},
     "output_type": "execute_result"
    }
   ],
   "source": [
    "d2_array=np.array([[15.2,20.3,16.2],[18.2,17.03,11.033],[16.03,9.08,7.033]])\n",
    "d2_array"
   ]
  },
  {
   "cell_type": "code",
   "execution_count": 29,
   "metadata": {},
   "outputs": [
    {
     "data": {
      "text/plain": [
       "9"
      ]
     },
     "execution_count": 29,
     "metadata": {},
     "output_type": "execute_result"
    }
   ],
   "source": [
    "d2_array.size"
   ]
  },
  {
   "cell_type": "code",
   "execution_count": 30,
   "metadata": {},
   "outputs": [
    {
     "data": {
      "text/plain": [
       "8"
      ]
     },
     "execution_count": 30,
     "metadata": {},
     "output_type": "execute_result"
    }
   ],
   "source": [
    "d2_array.itemsize"
   ]
  },
  {
   "cell_type": "code",
   "execution_count": 31,
   "metadata": {},
   "outputs": [
    {
     "data": {
      "text/plain": [
       "2"
      ]
     },
     "execution_count": 31,
     "metadata": {},
     "output_type": "execute_result"
    }
   ],
   "source": [
    "d2_array.ndim"
   ]
  },
  {
   "cell_type": "code",
   "execution_count": 32,
   "metadata": {},
   "outputs": [
    {
     "data": {
      "text/plain": [
       "array([[15.2  , 18.2  , 16.03 ],\n",
       "       [20.3  , 17.03 ,  9.08 ],\n",
       "       [16.2  , 11.033,  7.033]])"
      ]
     },
     "execution_count": 32,
     "metadata": {},
     "output_type": "execute_result"
    }
   ],
   "source": [
    "d2_array.T"
   ]
  },
  {
   "cell_type": "code",
   "execution_count": 33,
   "metadata": {},
   "outputs": [
    {
     "data": {
      "text/plain": [
       "dtype('float64')"
      ]
     },
     "execution_count": 33,
     "metadata": {},
     "output_type": "execute_result"
    }
   ],
   "source": [
    "d2_array.dtype"
   ]
  },
  {
   "cell_type": "code",
   "execution_count": 34,
   "metadata": {},
   "outputs": [
    {
     "data": {
      "text/plain": [
       "(3, 3)"
      ]
     },
     "execution_count": 34,
     "metadata": {},
     "output_type": "execute_result"
    }
   ],
   "source": [
    "d2_array.shape"
   ]
  },
  {
   "cell_type": "code",
   "execution_count": 35,
   "metadata": {},
   "outputs": [
    {
     "data": {
      "text/plain": [
       "array([[15.2  , 20.3  , 16.2  ],\n",
       "       [18.2  , 17.03 , 11.033],\n",
       "       [16.03 ,  9.08 ,  7.033]])"
      ]
     },
     "execution_count": 35,
     "metadata": {},
     "output_type": "execute_result"
    }
   ],
   "source": [
    "d2_array.real"
   ]
  },
  {
   "cell_type": "code",
   "execution_count": 36,
   "metadata": {},
   "outputs": [
    {
     "data": {
      "text/plain": [
       "array([[0., 0., 0.],\n",
       "       [0., 0., 0.],\n",
       "       [0., 0., 0.]])"
      ]
     },
     "execution_count": 36,
     "metadata": {},
     "output_type": "execute_result"
    }
   ],
   "source": [
    "d2_array.imag"
   ]
  },
  {
   "cell_type": "code",
   "execution_count": 37,
   "metadata": {},
   "outputs": [
    {
     "data": {
      "text/plain": [
       "array([[[ 2,  3,  4],\n",
       "        [ 5,  6,  7],\n",
       "        [ 8,  9, 10]],\n",
       "\n",
       "       [[11, 12, 13],\n",
       "        [14, 15, 16],\n",
       "        [17, 18, 19]],\n",
       "\n",
       "       [[20, 21, 22],\n",
       "        [23, 24, 25],\n",
       "        [26, 27, 28]]])"
      ]
     },
     "execution_count": 37,
     "metadata": {},
     "output_type": "execute_result"
    }
   ],
   "source": [
    "d3_array=np.array([[[2,3,4],[5,6,7],[8,9,10]],[[11,12,13],[14,15,16],[17,18,19]],[[20,21,22],[23,24,25],[26,27,28]]])\n",
    "d3_array"
   ]
  },
  {
   "cell_type": "code",
   "execution_count": 38,
   "metadata": {},
   "outputs": [
    {
     "data": {
      "text/plain": [
       "3"
      ]
     },
     "execution_count": 38,
     "metadata": {},
     "output_type": "execute_result"
    }
   ],
   "source": [
    "d3_array.ndim"
   ]
  },
  {
   "cell_type": "code",
   "execution_count": 39,
   "metadata": {},
   "outputs": [
    {
     "data": {
      "text/plain": [
       "array([[[ 2, 11, 20],\n",
       "        [ 5, 14, 23],\n",
       "        [ 8, 17, 26]],\n",
       "\n",
       "       [[ 3, 12, 21],\n",
       "        [ 6, 15, 24],\n",
       "        [ 9, 18, 27]],\n",
       "\n",
       "       [[ 4, 13, 22],\n",
       "        [ 7, 16, 25],\n",
       "        [10, 19, 28]]])"
      ]
     },
     "execution_count": 39,
     "metadata": {},
     "output_type": "execute_result"
    }
   ],
   "source": [
    "d3_array.T"
   ]
  },
  {
   "cell_type": "code",
   "execution_count": 40,
   "metadata": {},
   "outputs": [
    {
     "data": {
      "text/plain": [
       "27"
      ]
     },
     "execution_count": 40,
     "metadata": {},
     "output_type": "execute_result"
    }
   ],
   "source": [
    "d3_array.size"
   ]
  },
  {
   "cell_type": "code",
   "execution_count": 41,
   "metadata": {},
   "outputs": [
    {
     "data": {
      "text/plain": [
       "4"
      ]
     },
     "execution_count": 41,
     "metadata": {},
     "output_type": "execute_result"
    }
   ],
   "source": [
    "d3_array.itemsize"
   ]
  },
  {
   "cell_type": "code",
   "execution_count": 42,
   "metadata": {},
   "outputs": [
    {
     "data": {
      "text/plain": [
       "(3, 3, 3)"
      ]
     },
     "execution_count": 42,
     "metadata": {},
     "output_type": "execute_result"
    }
   ],
   "source": [
    "d3_array.shape"
   ]
  },
  {
   "cell_type": "code",
   "execution_count": 43,
   "metadata": {},
   "outputs": [
    {
     "data": {
      "text/plain": [
       "dtype('int32')"
      ]
     },
     "execution_count": 43,
     "metadata": {},
     "output_type": "execute_result"
    }
   ],
   "source": [
    "d3_array.dtype"
   ]
  },
  {
   "cell_type": "code",
   "execution_count": 44,
   "metadata": {},
   "outputs": [
    {
     "data": {
      "text/plain": [
       "array([[[0, 0, 0],\n",
       "        [0, 0, 0],\n",
       "        [0, 0, 0]],\n",
       "\n",
       "       [[0, 0, 0],\n",
       "        [0, 0, 0],\n",
       "        [0, 0, 0]],\n",
       "\n",
       "       [[0, 0, 0],\n",
       "        [0, 0, 0],\n",
       "        [0, 0, 0]]])"
      ]
     },
     "execution_count": 44,
     "metadata": {},
     "output_type": "execute_result"
    }
   ],
   "source": [
    "d3_array.imag"
   ]
  },
  {
   "cell_type": "code",
   "execution_count": 45,
   "metadata": {},
   "outputs": [
    {
     "data": {
      "text/plain": [
       "array([[15.2  , 20.3  , 16.2  ],\n",
       "       [18.2  , 17.03 , 11.033],\n",
       "       [16.03 ,  9.08 ,  7.033]])"
      ]
     },
     "execution_count": 45,
     "metadata": {},
     "output_type": "execute_result"
    }
   ],
   "source": [
    "d2_array.real"
   ]
  },
  {
   "attachments": {},
   "cell_type": "markdown",
   "metadata": {},
   "source": [
    "Experiment 3"
   ]
  },
  {
   "cell_type": "code",
   "execution_count": 46,
   "metadata": {},
   "outputs": [
    {
     "data": {
      "text/plain": [
       "array([10, 12, 14, 16, 18])"
      ]
     },
     "execution_count": 46,
     "metadata": {},
     "output_type": "execute_result"
    }
   ],
   "source": [
    "np.arange(10,20,2,dtype=int)\n"
   ]
  },
  {
   "cell_type": "code",
   "execution_count": 47,
   "metadata": {},
   "outputs": [
    {
     "data": {
      "text/plain": [
       "array([[4128860, 6029375, 3801155],\n",
       "       [5570652, 6619251, 7536754],\n",
       "       [5374044, 6553717, 6357106]])"
      ]
     },
     "execution_count": 47,
     "metadata": {},
     "output_type": "execute_result"
    }
   ],
   "source": [
    "np.empty((3,3),dtype=int)"
   ]
  },
  {
   "cell_type": "code",
   "execution_count": 48,
   "metadata": {},
   "outputs": [
    {
     "data": {
      "text/plain": [
       "array([ 1.  ,  3.25,  5.5 ,  7.75, 10.  ])"
      ]
     },
     "execution_count": 48,
     "metadata": {},
     "output_type": "execute_result"
    }
   ],
   "source": [
    "np.linspace(1,10,5,dtype=float)"
   ]
  },
  {
   "cell_type": "code",
   "execution_count": 49,
   "metadata": {},
   "outputs": [
    {
     "data": {
      "text/plain": [
       "8"
      ]
     },
     "execution_count": 49,
     "metadata": {},
     "output_type": "execute_result"
    }
   ],
   "source": [
    "np.random.randint(2,10)"
   ]
  },
  {
   "cell_type": "code",
   "execution_count": 50,
   "metadata": {},
   "outputs": [
    {
     "data": {
      "text/plain": [
       "array([[3, 7, 8],\n",
       "       [0, 1, 9],\n",
       "       [3, 7, 4]])"
      ]
     },
     "execution_count": 50,
     "metadata": {},
     "output_type": "execute_result"
    }
   ],
   "source": [
    "np.random.randint(0,10,(3,3))"
   ]
  },
  {
   "cell_type": "code",
   "execution_count": 51,
   "metadata": {},
   "outputs": [
    {
     "data": {
      "text/plain": [
       "array([[ 0.31978161, -0.93719144, -1.0603114 ],\n",
       "       [-0.18615888,  0.66680132,  0.57710226],\n",
       "       [ 0.23852777,  0.46268596,  0.41110233]])"
      ]
     },
     "execution_count": 51,
     "metadata": {},
     "output_type": "execute_result"
    }
   ],
   "source": [
    "np.random.randn(3,3)"
   ]
  },
  {
   "cell_type": "code",
   "execution_count": 7,
   "metadata": {},
   "outputs": [
    {
     "data": {
      "text/plain": [
       "array([[0, 0, 0],\n",
       "       [0, 0, 0],\n",
       "       [0, 0, 0]])"
      ]
     },
     "execution_count": 7,
     "metadata": {},
     "output_type": "execute_result"
    }
   ],
   "source": [
    "np.zeros((3,3),dtype=\"int\")"
   ]
  },
  {
   "attachments": {},
   "cell_type": "markdown",
   "metadata": {},
   "source": [
    "Experiment 4"
   ]
  },
  {
   "cell_type": "code",
   "execution_count": 53,
   "metadata": {},
   "outputs": [
    {
     "data": {
      "text/plain": [
       "array([  0,   1,   2,   3,   4,   5,   6,   7,   8,   9,  10,  11,  12,\n",
       "        13,  14,  15,  16,  17,  18,  19,  20,  21,  22,  23,  24,  25,\n",
       "        26,  27,  28,  29,  30,  31,  32,  33,  34,  35,  36,  37,  38,\n",
       "        39,  40,  41,  42,  43,  44,  45,  46,  47,  48,  49,  50,  51,\n",
       "        52,  53,  54,  55,  56,  57,  58,  59,  60,  61,  62,  63,  64,\n",
       "        65,  66,  67,  68,  69,  70,  71,  72,  73,  74,  75,  76,  77,\n",
       "        78,  79,  80,  81,  82,  83,  84,  85,  86,  87,  88,  89,  90,\n",
       "        91,  92,  93,  94,  95,  96,  97,  98,  99, 100, 101, 102, 103,\n",
       "       104, 105, 106, 107, 108, 109, 110, 111, 112, 113, 114, 115, 116,\n",
       "       117, 118, 119])"
      ]
     },
     "execution_count": 53,
     "metadata": {},
     "output_type": "execute_result"
    }
   ],
   "source": [
    "q1_arr= np.arange(0,120,1,dtype=\"int\")\n",
    "q1_arr"
   ]
  },
  {
   "cell_type": "code",
   "execution_count": 54,
   "metadata": {},
   "outputs": [
    {
     "data": {
      "text/plain": [
       "array([[[  0,   1,   2,   3,   4,   5,   6,   7,   8,   9],\n",
       "        [ 10,  11,  12,  13,  14,  15,  16,  17,  18,  19],\n",
       "        [ 20,  21,  22,  23,  24,  25,  26,  27,  28,  29],\n",
       "        [ 30,  31,  32,  33,  34,  35,  36,  37,  38,  39]],\n",
       "\n",
       "       [[ 40,  41,  42,  43,  44,  45,  46,  47,  48,  49],\n",
       "        [ 50,  51,  52,  53,  54,  55,  56,  57,  58,  59],\n",
       "        [ 60,  61,  62,  63,  64,  65,  66,  67,  68,  69],\n",
       "        [ 70,  71,  72,  73,  74,  75,  76,  77,  78,  79]],\n",
       "\n",
       "       [[ 80,  81,  82,  83,  84,  85,  86,  87,  88,  89],\n",
       "        [ 90,  91,  92,  93,  94,  95,  96,  97,  98,  99],\n",
       "        [100, 101, 102, 103, 104, 105, 106, 107, 108, 109],\n",
       "        [110, 111, 112, 113, 114, 115, 116, 117, 118, 119]]])"
      ]
     },
     "execution_count": 54,
     "metadata": {},
     "output_type": "execute_result"
    }
   ],
   "source": [
    "q1_arr2=q1_arr.reshape(3,4,10)\n",
    "q1_arr2"
   ]
  },
  {
   "cell_type": "code",
   "execution_count": 55,
   "metadata": {},
   "outputs": [
    {
     "data": {
      "text/plain": [
       "(3, 4, 10)"
      ]
     },
     "execution_count": 55,
     "metadata": {},
     "output_type": "execute_result"
    }
   ],
   "source": [
    "q1_arr2.shape"
   ]
  },
  {
   "cell_type": "code",
   "execution_count": 56,
   "metadata": {},
   "outputs": [
    {
     "data": {
      "text/plain": [
       "120"
      ]
     },
     "execution_count": 56,
     "metadata": {},
     "output_type": "execute_result"
    }
   ],
   "source": [
    "q1_arr2.size"
   ]
  },
  {
   "cell_type": "code",
   "execution_count": 41,
   "metadata": {},
   "outputs": [
    {
     "data": {
      "text/plain": [
       "array([ 0,  1,  2,  3,  4,  5,  6,  7,  8,  9, 10, 11, 12, 13, 14, 15, 16,\n",
       "       17, 18, 19, 20, 21, 22, 23, 24, 25, 26, 27, 28, 29, 30, 31, 32, 33,\n",
       "       34, 35, 36, 37, 38, 39, 40, 41, 42, 43, 44, 45, 46, 47, 48, 49, 50,\n",
       "       51, 52, 53, 54, 55, 56, 57, 58, 59, 60, 61, 62, 63, 64, 65, 66, 67,\n",
       "       68, 69, 70, 71, 72, 73, 74, 75, 76, 77, 78, 79, 80, 81, 82, 83, 84,\n",
       "       85, 86, 87, 88, 89, 90, 91, 92, 93, 94, 95, 96, 97, 98, 99])"
      ]
     },
     "execution_count": 41,
     "metadata": {},
     "output_type": "execute_result"
    }
   ],
   "source": [
    "q2_arr= np.arange(0,100,1,dtype=\"int\")\n",
    "q2_arr"
   ]
  },
  {
   "cell_type": "code",
   "execution_count": 45,
   "metadata": {},
   "outputs": [
    {
     "data": {
      "text/plain": [
       "array([[[ 0,  1,  2,  3,  4,  5],\n",
       "        [ 6,  7,  8,  9, 10, 11],\n",
       "        [12, 13, 14, 15, 16, 17],\n",
       "        [18, 19, 20, 21, 22, 23],\n",
       "        [24, 25, 26, 27, 28, 29]],\n",
       "\n",
       "       [[ 0,  0,  0,  0,  0,  0],\n",
       "        [ 0,  0,  0,  0,  0,  0],\n",
       "        [ 0,  0,  0,  0,  0,  0],\n",
       "        [ 0,  0,  0,  0,  0,  0],\n",
       "        [ 0,  0,  0,  0,  0,  0]]])"
      ]
     },
     "execution_count": 45,
     "metadata": {},
     "output_type": "execute_result"
    }
   ],
   "source": [
    "q2_arr.resize(2,5,6)\n",
    "q2_arr"
   ]
  },
  {
   "attachments": {},
   "cell_type": "markdown",
   "metadata": {},
   "source": [
    "Experiment 5"
   ]
  },
  {
   "cell_type": "code",
   "execution_count": 59,
   "metadata": {},
   "outputs": [
    {
     "data": {
      "text/plain": [
       "array([  1,   7,  13, 105,  10, 100])"
      ]
     },
     "execution_count": 59,
     "metadata": {},
     "output_type": "execute_result"
    }
   ],
   "source": [
    "capacity=np.array([1,7,13,105,10,100])\n",
    "capacity"
   ]
  },
  {
   "cell_type": "code",
   "execution_count": 60,
   "metadata": {},
   "outputs": [
    {
     "data": {
      "text/plain": [
       "6"
      ]
     },
     "execution_count": 60,
     "metadata": {},
     "output_type": "execute_result"
    }
   ],
   "source": [
    "capacity.size"
   ]
  },
  {
   "cell_type": "code",
   "execution_count": 61,
   "metadata": {},
   "outputs": [
    {
     "data": {
      "text/plain": [
       "24"
      ]
     },
     "execution_count": 61,
     "metadata": {},
     "output_type": "execute_result"
    }
   ],
   "source": [
    "capacity.itemsize*capacity.size"
   ]
  },
  {
   "cell_type": "code",
   "execution_count": 62,
   "metadata": {},
   "outputs": [
    {
     "data": {
      "text/plain": [
       "array([1, 2, 3, 4, 5])"
      ]
     },
     "execution_count": 62,
     "metadata": {},
     "output_type": "execute_result"
    }
   ],
   "source": [
    "l1=[1,2,3,4,5]\n",
    "speed=np.array(l1)\n",
    "speed"
   ]
  },
  {
   "cell_type": "code",
   "execution_count": 63,
   "metadata": {},
   "outputs": [],
   "source": [
    "l2=speed.tolist()"
   ]
  },
  {
   "cell_type": "code",
   "execution_count": 64,
   "metadata": {},
   "outputs": [
    {
     "data": {
      "text/plain": [
       "True"
      ]
     },
     "execution_count": 64,
     "metadata": {},
     "output_type": "execute_result"
    }
   ],
   "source": [
    "l1==l2"
   ]
  },
  {
   "cell_type": "code",
   "execution_count": 52,
   "metadata": {},
   "outputs": [
    {
     "data": {
      "text/plain": [
       "array([1. , 1.1, 1.2, 1.3, 1.4, 1.5, 1.6, 1.7, 1.8, 1.9])"
      ]
     },
     "execution_count": 52,
     "metadata": {},
     "output_type": "execute_result"
    }
   ],
   "source": [
    "orignal=np.arange(1,2,0.1,dtype=float)\n",
    "orignal"
   ]
  },
  {
   "cell_type": "code",
   "execution_count": 53,
   "metadata": {},
   "outputs": [
    {
     "data": {
      "text/plain": [
       "array([0., 0., 0., 0., 0., 0., 0., 0., 0., 0.])"
      ]
     },
     "execution_count": 53,
     "metadata": {},
     "output_type": "execute_result"
    }
   ],
   "source": [
    "np.zeros_like(orignal)"
   ]
  },
  {
   "attachments": {},
   "cell_type": "markdown",
   "metadata": {},
   "source": [
    "Experiment 6"
   ]
  },
  {
   "attachments": {},
   "cell_type": "markdown",
   "metadata": {},
   "source": [
    "Performing indexing on nd array."
   ]
  },
  {
   "attachments": {},
   "cell_type": "markdown",
   "metadata": {},
   "source": [
    "consider the following numpy array and return following array elements\n",
    "[10.5,13.5,17.5,199.5,85.5]\n",
    "199.5 positive and negative "
   ]
  },
  {
   "cell_type": "code",
   "execution_count": 67,
   "metadata": {},
   "outputs": [
    {
     "name": "stdout",
     "output_type": "stream",
     "text": [
      "199.5\n",
      "199.5\n"
     ]
    }
   ],
   "source": [
    "arr=np.array([10.5,13.5,17.5,199.5,85.5])\n",
    "print(arr[3])\n",
    "print(arr[-2])"
   ]
  },
  {
   "attachments": {},
   "cell_type": "markdown",
   "metadata": {},
   "source": [
    "11 22 33\n",
    "44 55 66\n",
    "71 88 99\n",
    "return second row"
   ]
  },
  {
   "cell_type": "code",
   "execution_count": 4,
   "metadata": {},
   "outputs": [
    {
     "name": "stdout",
     "output_type": "stream",
     "text": [
      "[44 55 66]\n"
     ]
    }
   ],
   "source": [
    "arr=np.array([[11, 22, 33],[44, 55, 66],[77,88,99]])\n",
    "print(arr[1])"
   ]
  },
  {
   "attachments": {},
   "cell_type": "markdown",
   "metadata": {},
   "source": [
    "create \n",
    "11 22\n",
    "33 44 \n",
    "\n",
    "55 66\n",
    "77 88\n",
    "\n",
    "return 11,66,second plane\n",
    "11,44,55,88 using advance"
   ]
  },
  {
   "cell_type": "code",
   "execution_count": 5,
   "metadata": {},
   "outputs": [
    {
     "name": "stdout",
     "output_type": "stream",
     "text": [
      "11\n",
      "66\n",
      "[[55 66]\n",
      " [77 88]]\n",
      "[11 44 55 88]\n"
     ]
    }
   ],
   "source": [
    "arr=np.array([[[11,22],[33,44]],[[55,66],[77,88]]])\n",
    "print(arr[0,0,0])\n",
    "print(arr[1,0,1])\n",
    "print(arr[1])\n",
    "print(arr[[0,0,1,1],[0,1,0,1],[0,1,0,1]])"
   ]
  },
  {
   "attachments": {},
   "cell_type": "markdown",
   "metadata": {},
   "source": [
    "100 201 301 401\n",
    "501 601 701 801\n",
    "901 1001 2001 3001\n",
    "\n",
    "return 201,701,401,3001 using advance"
   ]
  },
  {
   "cell_type": "code",
   "execution_count": 8,
   "metadata": {},
   "outputs": [
    {
     "name": "stdout",
     "output_type": "stream",
     "text": [
      "[ 201  701  401 3001]\n"
     ]
    }
   ],
   "source": [
    "arr=np.array([[100,201,301,401],[501,601,701,801],[901,1001,2001,3001]])\n",
    "arr\n",
    "print(arr[[0,1,0,2],[1,2,3,3]])"
   ]
  },
  {
   "attachments": {},
   "cell_type": "markdown",
   "metadata": {},
   "source": [
    "Experiment 7"
   ]
  },
  {
   "attachments": {},
   "cell_type": "markdown",
   "metadata": {},
   "source": [
    "1) create a numpy arrayb of 15 element using arange function and resahpe it into 5x3\n",
    "--> return all rows but only 1st and 2nd coloumn elements\n",
    "--> return 7,8,10,11"
   ]
  },
  {
   "cell_type": "code",
   "execution_count": 18,
   "metadata": {},
   "outputs": [
    {
     "name": "stdout",
     "output_type": "stream",
     "text": [
      "Array:  \n",
      " [ 0  1  2  3  4  5  6  7  8  9 10 11 12 13 14] \n",
      "\n",
      "Updated Array:  \n",
      " [[ 0  1  2]\n",
      " [ 3  4  5]\n",
      " [ 6  7  8]\n",
      " [ 9 10 11]\n",
      " [12 13 14]] \n",
      "\n",
      "All roes with 1st and 2nd column:  \n",
      " [[ 1  2]\n",
      " [ 4  5]\n",
      " [ 7  8]\n",
      " [10 11]\n",
      " [13 14]] \n",
      "\n",
      "[[ 7  8]\n",
      " [10 11]]\n"
     ]
    }
   ],
   "source": [
    "arr=np.arange(15)\n",
    "print(\"Array: \",\"\\n\",arr,\"\\n\")\n",
    "arr=arr.reshape(5,3)\n",
    "print(\"Updated Array: \",\"\\n\",arr,\"\\n\")\n",
    "print(\"All roes with 1st and 2nd column: \",\"\\n\",arr[:,1:3],\"\\n\")\n",
    "print(arr[2:4,1:3])"
   ]
  },
  {
   "attachments": {},
   "cell_type": "markdown",
   "metadata": {},
   "source": [
    "2)  consider following numpy array\n",
    "    [[3,6,9,12],\n",
    "    [15,18,21,24],\n",
    "    [27,30,33,36],\n",
    "    [39,42,45,48],\n",
    "    [52,54,57,60]]\n",
    "\n",
    "return a sub array consisting of odd rows and even coloumns of array"
   ]
  },
  {
   "cell_type": "code",
   "execution_count": 72,
   "metadata": {},
   "outputs": [
    {
     "name": "stdout",
     "output_type": "stream",
     "text": [
      "Array:  \n",
      " [[ 3  6  9 12]\n",
      " [15 18 21 24]\n",
      " [27 30 33 36]\n",
      " [39 42 45 48]\n",
      " [52 54 57 60]] \n",
      "\n",
      "Odd Rows and Even Columns:  \n",
      " [[15 21]\n",
      " [39 45]]\n"
     ]
    }
   ],
   "source": [
    "arr=np.array([[3,6,9,12],[15,18,21,24],[27,30,33,36],[39,42,45,48],[52,54,57,60]])\n",
    "print(\"Array: \",\"\\n\",arr,\"\\n\")\n",
    "print(\"Odd Rows and Even Columns: \",\"\\n\",arr[1:4:2,0:3:2])"
   ]
  },
  {
   "attachments": {},
   "cell_type": "markdown",
   "metadata": {},
   "source": [
    "3) Consider the 3D array [[[67,49],[35,32],[31,29]],[[18,9],[12,24],[61,63]]]\n",
    "return 67,49,35,32,18,9,12,24 using positive an d negative indexing"
   ]
  },
  {
   "cell_type": "code",
   "execution_count": 73,
   "metadata": {},
   "outputs": [
    {
     "name": "stdout",
     "output_type": "stream",
     "text": [
      "Array:  \n",
      " [[[67 49]\n",
      "  [35 32]\n",
      "  [31 29]]\n",
      "\n",
      " [[18  9]\n",
      "  [12 24]\n",
      "  [61 63]]] \n",
      "\n",
      "Using Positive Indexing:  \n",
      " [[[67 49]\n",
      "  [35 32]]\n",
      "\n",
      " [[18  9]\n",
      "  [12 24]]] \n",
      "\n",
      "Using Negative Indexing \n",
      " [[[67 49]\n",
      "  [35 32]]\n",
      "\n",
      " [[18  9]\n",
      "  [12 24]]]\n"
     ]
    }
   ],
   "source": [
    "arr=np.array([[[67,49],[35,32],[31,29]],[[18,9],[12,24],[61,63]]])\n",
    "print(\"Array: \",\"\\n\",arr,\"\\n\")\n",
    "print(\"Using Positive Indexing: \",\"\\n\",arr[:,0:2,:],\"\\n\")\n",
    "print(\"Using Negative Indexing\",\"\\n\",arr[:,-3:-1,:])"
   ]
  },
  {
   "cell_type": "code",
   "execution_count": 74,
   "metadata": {},
   "outputs": [
    {
     "name": "stdout",
     "output_type": "stream",
     "text": [
      "[7]\n"
     ]
    }
   ],
   "source": [
    "l1=[0,5,3,7]\n",
    "print(l1[3:4])"
   ]
  },
  {
   "cell_type": "code",
   "execution_count": 75,
   "metadata": {},
   "outputs": [
    {
     "name": "stdout",
     "output_type": "stream",
     "text": [
      "7\n"
     ]
    }
   ],
   "source": [
    "l1=[0,5,3,7]\n",
    "print(l1[-1])"
   ]
  },
  {
   "attachments": {},
   "cell_type": "markdown",
   "metadata": {},
   "source": [
    "Experiment 8\n",
    " Converting nd array in one dimenseion using ravel() and fatten() method"
   ]
  },
  {
   "cell_type": "code",
   "execution_count": 76,
   "metadata": {},
   "outputs": [],
   "source": [
    "#Converting anarray in one dimension using Ravel and flatten().\n",
    "#create an ndarray of shape 3x5 and flatten that array using ravel and flatten method.\n",
    "#Write a programe to clarify the difference between ravel and flatten method.\n",
    "#Proof that ravel takes less that time as compare to flatten method."
   ]
  },
  {
   "cell_type": "code",
   "execution_count": 77,
   "metadata": {},
   "outputs": [
    {
     "name": "stdout",
     "output_type": "stream",
     "text": [
      "Original Array:  [[11 22 33 44]\n",
      " [55 66 77 88]]\n",
      "Flatten array usinf flatten methode:  [11 22 33 44 55 66 77 88]\n",
      "Flatten array usinng ravel methode:  [11 22 33 44 55 66 77 88]\n"
     ]
    }
   ],
   "source": [
    "a=np.array([(11,22,33,44),(55,66,77,88)])\n",
    "print(\"Original Array: \",a)\n",
    "b=a.flatten()\n",
    "c=np.ravel(a)\n",
    "print(\"Flatten array usinf flatten methode: \",b)\n",
    "print(\"Flatten array usinng ravel methode: \",c)"
   ]
  },
  {
   "cell_type": "code",
   "execution_count": 78,
   "metadata": {},
   "outputs": [
    {
     "name": "stdout",
     "output_type": "stream",
     "text": [
      "Original Array:  [[73 56 58 59 66]\n",
      " [68 51 51 66 63]\n",
      " [72 71 66 61 64]]\n",
      "Flatten array using flatten methode: [73 56 58 59 66 68 51 51 66 63 72 71 66 61 64]\n",
      "Flatten array using ravel methode:  [73 56 58 59 66 68 51 51 66 63 72 71 66 61 64]\n"
     ]
    }
   ],
   "source": [
    "a=np.random.randint(50,75,(3,5))\n",
    "print(\"Original Array: \",a)\n",
    "b=a.flatten()\n",
    "c=np.ravel(a)\n",
    "print(\"Flatten array using flatten methode:\",b)\n",
    "print(\"Flatten array using ravel methode: \",c)"
   ]
  },
  {
   "cell_type": "code",
   "execution_count": 19,
   "metadata": {},
   "outputs": [
    {
     "name": "stdout",
     "output_type": "stream",
     "text": [
      "Orignal Array:\n",
      " [[55 34 47]\n",
      " [26 21 49]\n",
      " [14 55 46]]\n",
      "Flatten array using flatten methode:  [55 34 47 26 21 49 14 55 46]\n",
      "updated flatten array:  [55 34 47 26  0 49 14 55 46]\n",
      "Orignal array after update:\n",
      " [[55 34 47]\n",
      " [26 21 49]\n",
      " [14 55 46]]\n",
      "Flatten array using flatten methode:  [55 34 47 26 21 49 14 55 46]\n",
      "updated flatten array:  [55 34 47 26  0 49 14 55 46]\n",
      "Orignal array after update:\n",
      " [[55 34 47]\n",
      " [26  0 49]\n",
      " [14 55 46]]\n"
     ]
    }
   ],
   "source": [
    "arr1=np.random.randint(12,56,(3,3))\n",
    "print(\"Orignal Array:\\n\",arr1)\n",
    "#flatten\n",
    "arr2=arr1.flatten()\n",
    "print(\"Flatten array using flatten methode: \",arr2)\n",
    "arr2[4]=0\n",
    "print(\"updated flatten array: \",arr2)\n",
    "print(\"Orignal array after update:\\n\",arr1)\n",
    "#ravel\n",
    "arr2=arr1.ravel()\n",
    "print(\"Flatten array using flatten methode: \",arr2)\n",
    "arr2[4]=0\n",
    "print(\"updated flatten array: \",arr2)\n",
    "print(\"Orignal array after update:\\n\",arr1)\n"
   ]
  },
  {
   "cell_type": "code",
   "execution_count": 80,
   "metadata": {},
   "outputs": [],
   "source": [
    "arr=np.arange(9).reshape(3,3)\n"
   ]
  },
  {
   "cell_type": "code",
   "execution_count": 81,
   "metadata": {},
   "outputs": [
    {
     "name": "stdout",
     "output_type": "stream",
     "text": [
      "134 ns ± 16.7 ns per loop (mean ± std. dev. of 7 runs, 10,000,000 loops each)\n"
     ]
    }
   ],
   "source": [
    "%%timeit\n",
    "arr.ravel()"
   ]
  },
  {
   "cell_type": "code",
   "execution_count": 82,
   "metadata": {},
   "outputs": [
    {
     "name": "stdout",
     "output_type": "stream",
     "text": [
      "845 ns ± 55.1 ns per loop (mean ± std. dev. of 7 runs, 1,000,000 loops each)\n"
     ]
    }
   ],
   "source": [
    "%%timeit\n",
    "arr.flatten()\n"
   ]
  },
  {
   "attachments": {},
   "cell_type": "markdown",
   "metadata": {},
   "source": [
    "Experiment 9 Joining two array using concatenate()"
   ]
  },
  {
   "cell_type": "code",
   "execution_count": 83,
   "metadata": {},
   "outputs": [],
   "source": [
    "#write a numpy program to concatenate 2 2d array\n",
    "#Write a numpy program to concatenate 2 2d array by axix 0 and 1.\n",
    "#create a list of 10 2d array of shape 3*4 and join the using the stack function use axix 0,1,2\n",
    "#create any 2d array of same shape amd perform hstack vstack and dstack.\n",
    "#create any 3d array of same shape amd perform hstack vstack and dstack."
   ]
  },
  {
   "cell_type": "code",
   "execution_count": 84,
   "metadata": {},
   "outputs": [
    {
     "data": {
      "text/plain": [
       "array([[ 0,  1,  3],\n",
       "       [ 5,  7,  9],\n",
       "       [ 0,  2,  4],\n",
       "       [ 6,  8, 10]])"
      ]
     },
     "execution_count": 84,
     "metadata": {},
     "output_type": "execute_result"
    }
   ],
   "source": [
    "arr1=np.array([[0,1,3],[5,7,9]])\n",
    "arr2=np.array([[0,2,4],[6,8,10]])\n",
    "np.concatenate((arr1,arr2))"
   ]
  },
  {
   "cell_type": "code",
   "execution_count": 66,
   "metadata": {},
   "outputs": [
    {
     "name": "stdout",
     "output_type": "stream",
     "text": [
      "Axix=0\n",
      "[[ 5  4]\n",
      " [ 6  8]\n",
      " [13  5]\n",
      " [72  9]]\n",
      "Axix=1\n",
      "[[ 5  4 13  5]\n",
      " [ 6  8 72  9]]\n",
      "Using vstack: \n",
      "[[ 5  4]\n",
      " [ 6  8]\n",
      " [13  5]\n",
      " [72  9]]\n"
     ]
    }
   ],
   "source": [
    "arr1=np.array([[5,4],[6,8]])\n",
    "arr2=np.array([[13,5],[72,9]])\n",
    "print(\"Axix=0\")\n",
    "a=np.concatenate((arr1,arr2),axis=0)\n",
    "print(a)\n",
    "print(\"Axix=1\")\n",
    "b=np.concatenate((arr1,arr2),axis=1)\n",
    "print(b)\n",
    "a7=np.vstack((arr1,arr2))\n",
    "print(\"Using vstack: \")\n",
    "print(a7)"
   ]
  },
  {
   "cell_type": "code",
   "execution_count": 64,
   "metadata": {},
   "outputs": [
    {
     "name": "stdout",
     "output_type": "stream",
     "text": [
      "[array([[76, 60, 78, 98],\n",
      "       [23, 14, 84, 44],\n",
      "       [46, 54, 44, 37]]), array([[56, 99, 15, 64],\n",
      "       [35, 22, 37, 81],\n",
      "       [25, 97, 69, 18]]), array([[55, 16, 11, 67],\n",
      "       [84, 44, 79, 37],\n",
      "       [67, 62, 33, 31]]), array([[72, 18, 56, 95],\n",
      "       [65, 98, 51, 69],\n",
      "       [47, 83, 86, 76]]), array([[49, 34, 23, 67],\n",
      "       [33, 39, 10, 71],\n",
      "       [41, 73, 90, 46]]), array([[20, 93, 44, 71],\n",
      "       [34, 30, 75, 52],\n",
      "       [83, 64, 41, 70]]), array([[68, 63, 59, 77],\n",
      "       [21, 36, 58, 76],\n",
      "       [30, 80, 82, 84]]), array([[94, 87, 41, 23],\n",
      "       [95, 17, 50, 86],\n",
      "       [28, 32, 73, 48]]), array([[68, 67, 58, 63],\n",
      "       [33, 44, 57, 62],\n",
      "       [19, 72, 58, 15]]), array([[39, 72, 86, 17],\n",
      "       [15, 10, 74, 89],\n",
      "       [97, 95, 22, 54]])]\n",
      "[[[76 60 78 98]\n",
      "  [23 14 84 44]\n",
      "  [46 54 44 37]]\n",
      "\n",
      " [[56 99 15 64]\n",
      "  [35 22 37 81]\n",
      "  [25 97 69 18]]\n",
      "\n",
      " [[55 16 11 67]\n",
      "  [84 44 79 37]\n",
      "  [67 62 33 31]]\n",
      "\n",
      " [[72 18 56 95]\n",
      "  [65 98 51 69]\n",
      "  [47 83 86 76]]\n",
      "\n",
      " [[49 34 23 67]\n",
      "  [33 39 10 71]\n",
      "  [41 73 90 46]]\n",
      "\n",
      " [[20 93 44 71]\n",
      "  [34 30 75 52]\n",
      "  [83 64 41 70]]\n",
      "\n",
      " [[68 63 59 77]\n",
      "  [21 36 58 76]\n",
      "  [30 80 82 84]]\n",
      "\n",
      " [[94 87 41 23]\n",
      "  [95 17 50 86]\n",
      "  [28 32 73 48]]\n",
      "\n",
      " [[68 67 58 63]\n",
      "  [33 44 57 62]\n",
      "  [19 72 58 15]]\n",
      "\n",
      " [[39 72 86 17]\n",
      "  [15 10 74 89]\n",
      "  [97 95 22 54]]]\n",
      "[[[76 60 78 98]\n",
      "  [56 99 15 64]\n",
      "  [55 16 11 67]\n",
      "  [72 18 56 95]\n",
      "  [49 34 23 67]\n",
      "  [20 93 44 71]\n",
      "  [68 63 59 77]\n",
      "  [94 87 41 23]\n",
      "  [68 67 58 63]\n",
      "  [39 72 86 17]]\n",
      "\n",
      " [[23 14 84 44]\n",
      "  [35 22 37 81]\n",
      "  [84 44 79 37]\n",
      "  [65 98 51 69]\n",
      "  [33 39 10 71]\n",
      "  [34 30 75 52]\n",
      "  [21 36 58 76]\n",
      "  [95 17 50 86]\n",
      "  [33 44 57 62]\n",
      "  [15 10 74 89]]\n",
      "\n",
      " [[46 54 44 37]\n",
      "  [25 97 69 18]\n",
      "  [67 62 33 31]\n",
      "  [47 83 86 76]\n",
      "  [41 73 90 46]\n",
      "  [83 64 41 70]\n",
      "  [30 80 82 84]\n",
      "  [28 32 73 48]\n",
      "  [19 72 58 15]\n",
      "  [97 95 22 54]]]\n",
      "[[[76 56 55 72 49 20 68 94 68 39]\n",
      "  [60 99 16 18 34 93 63 87 67 72]\n",
      "  [78 15 11 56 23 44 59 41 58 86]\n",
      "  [98 64 67 95 67 71 77 23 63 17]]\n",
      "\n",
      " [[23 35 84 65 33 34 21 95 33 15]\n",
      "  [14 22 44 98 39 30 36 17 44 10]\n",
      "  [84 37 79 51 10 75 58 50 57 74]\n",
      "  [44 81 37 69 71 52 76 86 62 89]]\n",
      "\n",
      " [[46 25 67 47 41 83 30 28 19 97]\n",
      "  [54 97 62 83 73 64 80 32 72 95]\n",
      "  [44 69 33 86 90 41 82 73 58 22]\n",
      "  [37 18 31 76 46 70 84 48 15 54]]]\n"
     ]
    }
   ],
   "source": [
    "l1=[]\n",
    "for i in range(10):\n",
    "    a=np.random.randint(10,100,(3,4))\n",
    "    l1.append(a)\n",
    "print(l1)\n",
    "stk=np.stack((l1),axis=0)\n",
    "print(stk)\n",
    "\n",
    "stk1=np.stack((l1),axis=1)\n",
    "print(stk1)\n",
    "\n",
    "stk2=np.stack((l1),axis=2)\n",
    "print(stk2)"
   ]
  },
  {
   "cell_type": "code",
   "execution_count": 60,
   "metadata": {},
   "outputs": [
    {
     "name": "stdout",
     "output_type": "stream",
     "text": [
      "[[1 3 4]\n",
      " [5 7 9]]\n",
      "[[5 8 0]\n",
      " [2 5 8]]\n",
      "Using vstack: \n",
      "[[1 3 4]\n",
      " [5 7 9]\n",
      " [5 8 0]\n",
      " [2 5 8]]\n",
      "Using hstack: \n",
      "[[1 3 4 5 8 0]\n",
      " [5 7 9 2 5 8]]\n",
      "Using dstack: \n",
      "[[[1 5]\n",
      "  [3 8]\n",
      "  [4 0]]\n",
      "\n",
      " [[5 2]\n",
      "  [7 5]\n",
      "  [9 8]]]\n"
     ]
    }
   ],
   "source": [
    "arr5=np.array([[1,3,4],[5,7,9]])\n",
    "print(arr5)\n",
    "arr6=np.array([[5,8,0],[2,5,8]])\n",
    "print(arr6)\n",
    "a1=np.vstack((arr5,arr6))\n",
    "print(\"Using vstack: \")\n",
    "print(a1)\n",
    "a2=np.hstack((arr5,arr6))\n",
    "print(\"Using hstack: \")\n",
    "print(a2)\n",
    "a3=np.dstack((arr5,arr6))\n",
    "print(\"Using dstack: \")\n",
    "print(a3)\n"
   ]
  },
  {
   "cell_type": "code",
   "execution_count": 67,
   "metadata": {},
   "outputs": [
    {
     "name": "stdout",
     "output_type": "stream",
     "text": [
      "[[[1 3 4]\n",
      "  [5 7 9]\n",
      "  [6 3 8]]]\n",
      "[[[5 8 0]\n",
      "  [2 5 8]\n",
      "  [8 5 2]]]\n",
      "Using vstack: \n",
      "[[[1 3 4]\n",
      "  [5 7 9]\n",
      "  [6 3 8]]\n",
      "\n",
      " [[5 8 0]\n",
      "  [2 5 8]\n",
      "  [8 5 2]]]\n",
      "Using hstack: \n",
      "[[[1 3 4]\n",
      "  [5 7 9]\n",
      "  [6 3 8]\n",
      "  [5 8 0]\n",
      "  [2 5 8]\n",
      "  [8 5 2]]]\n",
      "Using dstack: \n",
      "[[[1 3 4 5 8 0]\n",
      "  [5 7 9 2 5 8]\n",
      "  [6 3 8 8 5 2]]]\n"
     ]
    }
   ],
   "source": [
    "arr8=np.array([[[1,3,4],[5,7,9],[6,3,8]]])\n",
    "print(arr8)\n",
    "arr9=np.array([[[5,8,0],[2,5,8],[8,5,2]]])\n",
    "print(arr9)\n",
    "a7=np.vstack((arr8,arr9))\n",
    "print(\"Using vstack: \")\n",
    "print(a7)\n",
    "a8=np.hstack((arr8,arr9))\n",
    "print(\"Using hstack: \")\n",
    "print(a8)\n",
    "a9=np.dstack((arr8,arr9))\n",
    "\n"
   ]
  },
  {
   "attachments": {},
   "cell_type": "markdown",
   "metadata": {},
   "source": [
    "Experiment 10 Spliting of nd arrays. "
   ]
  },
  {
   "cell_type": "code",
   "execution_count": null,
   "metadata": {},
   "outputs": [],
   "source": [
    "#To split an array of 15 elements into 3 sub arrays.\n",
    "#Write a numoy program to create an nd array of size 8x3 from the range between 10 to 34 then 10 to 34 then split the array into 4 equal size sub array. \n",
    "#Write a numpy program to split an array of shape 4x4 into 2 along the 2 axis(hsplit methode)\n",
    "#Create a array of 27 elements and reshape it into 3x3x3 and split that array depth wise(dsplit)\n",
    "#Write a python progarm to create an array of 10 elements and split the array using split methode as well as array_split methode and write down the difference between both the methode."
   ]
  },
  {
   "cell_type": "code",
   "execution_count": 2,
   "metadata": {},
   "outputs": [],
   "source": [
    "import numpy as np"
   ]
  },
  {
   "cell_type": "code",
   "execution_count": 7,
   "metadata": {},
   "outputs": [
    {
     "data": {
      "text/plain": [
       "[array([1, 2, 3, 4, 5]), array([6, 7, 8, 9, 0]), array([12, 23, 45, 67, 89])]"
      ]
     },
     "execution_count": 7,
     "metadata": {},
     "output_type": "execute_result"
    }
   ],
   "source": [
    "arr=np.array([1,2,3,4,5,6,7,8,9,0,12,23,45,67,89])\n",
    "np.split(arr,3)"
   ]
  },
  {
   "cell_type": "code",
   "execution_count": 68,
   "metadata": {},
   "outputs": [
    {
     "name": "stdout",
     "output_type": "stream",
     "text": [
      "[[20 17 26]\n",
      " [11 27 10]\n",
      " [27 18 22]\n",
      " [17 18 12]\n",
      " [21 11 22]\n",
      " [22 31 22]\n",
      " [19 20 12]\n",
      " [29 17 24]]\n"
     ]
    },
    {
     "data": {
      "text/plain": [
       "[array([[20, 17, 26],\n",
       "        [11, 27, 10]]),\n",
       " array([[27, 18, 22],\n",
       "        [17, 18, 12]]),\n",
       " array([[21, 11, 22],\n",
       "        [22, 31, 22]]),\n",
       " array([[19, 20, 12],\n",
       "        [29, 17, 24]])]"
      ]
     },
     "execution_count": 68,
     "metadata": {},
     "output_type": "execute_result"
    }
   ],
   "source": [
    "arr=np.random.randint(10,34,(8,3))\n",
    "print(arr)\n",
    "np.split(arr,4)"
   ]
  },
  {
   "cell_type": "code",
   "execution_count": 70,
   "metadata": {},
   "outputs": [
    {
     "name": "stdout",
     "output_type": "stream",
     "text": [
      "[[24 30 19 22]\n",
      " [20 12 21 19]\n",
      " [11 33 22 33]\n",
      " [25 19 23 14]]\n"
     ]
    },
    {
     "data": {
      "text/plain": [
       "[array([[24, 30],\n",
       "        [20, 12],\n",
       "        [11, 33],\n",
       "        [25, 19]]),\n",
       " array([[19, 22],\n",
       "        [21, 19],\n",
       "        [22, 33],\n",
       "        [23, 14]])]"
      ]
     },
     "execution_count": 70,
     "metadata": {},
     "output_type": "execute_result"
    }
   ],
   "source": [
    "arr=np.random.randint(10,34,(4,4))\n",
    "print(arr)\n",
    "np.hsplit(arr,2)"
   ]
  },
  {
   "cell_type": "code",
   "execution_count": 69,
   "metadata": {},
   "outputs": [
    {
     "name": "stdout",
     "output_type": "stream",
     "text": [
      "[[[ 0  1  2]\n",
      "  [ 3  4  5]\n",
      "  [ 6  7  8]]\n",
      "\n",
      " [[ 9 10 11]\n",
      "  [12 13 14]\n",
      "  [15 16 17]]\n",
      "\n",
      " [[18 19 20]\n",
      "  [21 22 23]\n",
      "  [24 25 26]]]\n"
     ]
    },
    {
     "data": {
      "text/plain": [
       "[array([[[ 0],\n",
       "         [ 3],\n",
       "         [ 6]],\n",
       " \n",
       "        [[ 9],\n",
       "         [12],\n",
       "         [15]],\n",
       " \n",
       "        [[18],\n",
       "         [21],\n",
       "         [24]]]),\n",
       " array([[[ 1],\n",
       "         [ 4],\n",
       "         [ 7]],\n",
       " \n",
       "        [[10],\n",
       "         [13],\n",
       "         [16]],\n",
       " \n",
       "        [[19],\n",
       "         [22],\n",
       "         [25]]]),\n",
       " array([[[ 2],\n",
       "         [ 5],\n",
       "         [ 8]],\n",
       " \n",
       "        [[11],\n",
       "         [14],\n",
       "         [17]],\n",
       " \n",
       "        [[20],\n",
       "         [23],\n",
       "         [26]]])]"
      ]
     },
     "execution_count": 69,
     "metadata": {},
     "output_type": "execute_result"
    }
   ],
   "source": [
    "arr=np.arange(27)\n",
    "a=arr.reshape(3,3,3)\n",
    "print(a)\n",
    "np.dsplit(a,3)"
   ]
  },
  {
   "cell_type": "code",
   "execution_count": 72,
   "metadata": {},
   "outputs": [
    {
     "data": {
      "text/plain": [
       "[array([0, 1, 2, 3, 4]), array([5, 6, 7, 8, 9])]"
      ]
     },
     "execution_count": 72,
     "metadata": {},
     "output_type": "execute_result"
    }
   ],
   "source": [
    "ar=np.arange(10)\n",
    "np.split(ar,2)"
   ]
  },
  {
   "cell_type": "code",
   "execution_count": 3,
   "metadata": {},
   "outputs": [
    {
     "data": {
      "text/plain": [
       "[array([0, 1, 2, 3]), array([4, 5, 6]), array([7, 8, 9])]"
      ]
     },
     "execution_count": 3,
     "metadata": {},
     "output_type": "execute_result"
    }
   ],
   "source": [
    "ar=np.arange(10)\n",
    "np.array_split(ar,3)"
   ]
  },
  {
   "attachments": {},
   "cell_type": "markdown",
   "metadata": {},
   "source": [
    "Practicals"
   ]
  },
  {
   "cell_type": "code",
   "execution_count": 30,
   "metadata": {},
   "outputs": [
    {
     "name": "stdout",
     "output_type": "stream",
     "text": [
      "2D array with random elements:\n",
      " [[11  7 19 18 18]\n",
      " [15  6 11 10  6]\n",
      " [16  3 19  1 19]\n",
      " [ 2  2  4  7  6]]\n",
      "Required elements using basic indexing: \n",
      "11 19 15 6 10 3\n",
      "Required elements using advance indexing: \n"
     ]
    }
   ],
   "source": [
    "rand_arr=np.random.randint(1,20,(4,5))\n",
    "print(\"2D array with random elements:\\n\",rand_arr)\n",
    "print(\"Required elements using basic indexing: \")\n",
    "print(rand_arr[0,0],rand_arr[0,2],rand_arr[1,0],rand_arr[1,1],rand_arr[1,3],rand_arr[2,1])\n",
    "print(\"Required elements using advance indexing: \")\n",
    "print(rand_arr[0][0])"
   ]
  },
  {
   "cell_type": "code",
   "execution_count": 35,
   "metadata": {},
   "outputs": [
    {
     "name": "stdout",
     "output_type": "stream",
     "text": [
      "Required array of shape 3x5:\n",
      " [[11  3 12  0 17]\n",
      " [ 1  5  0  8 10]\n",
      " [ 3 11  4  2 19]]\n",
      "Flattened array using flatten() [11  3 12  0 17  1  5  0  8 10  3 11  4  2 19]\n",
      "Flattened array using ravel() [11  3 12  0 17  1  5  0  8 10  3 11  4  2 19]\n"
     ]
    }
   ],
   "source": [
    "new_arr=np.random.randint(0,20,(3,5))\n",
    "print(\"Required array of shape 3x5:\\n\",new_arr)\n",
    "flatten_array=new_arr.flatten()\n",
    "print(\"Flattened array using flatten()\",flatten_array)\n",
    "ravel_array=np.ravel(new_arr)\n",
    "print(\"Flattened array using ravel()\",ravel_array)"
   ]
  },
  {
   "cell_type": "code",
   "execution_count": 51,
   "metadata": {},
   "outputs": [
    {
     "name": "stdout",
     "output_type": "stream",
     "text": [
      "Array:  [  1  17 113 105]\n",
      "Size of array:  16\n"
     ]
    }
   ],
   "source": [
    "num_arr=np.array([1,17,113,105])\n",
    "print(\"Array: \",num_arr)\n",
    "size=(num_arr.size*num_arr.itemsize)\n",
    "print(\"Size of array: \",size)"
   ]
  }
 ],
 "metadata": {
  "kernelspec": {
   "display_name": "Python 3",
   "language": "python",
   "name": "python3"
  },
  "language_info": {
   "codemirror_mode": {
    "name": "ipython",
    "version": 3
   },
   "file_extension": ".py",
   "mimetype": "text/x-python",
   "name": "python",
   "nbconvert_exporter": "python",
   "pygments_lexer": "ipython3",
   "version": "3.11.3"
  },
  "orig_nbformat": 4
 },
 "nbformat": 4,
 "nbformat_minor": 2
}
