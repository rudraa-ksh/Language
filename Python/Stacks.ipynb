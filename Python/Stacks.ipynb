{
 "cells": [
  {
   "cell_type": "code",
   "execution_count": 13,
   "id": "f8ab59b1",
   "metadata": {},
   "outputs": [
    {
     "name": "stdout",
     "output_type": "stream",
     "text": [
      "Enter the number of elements you want in the stack::2\n",
      "Enter the value::1\n",
      "Enter the value::2\n",
      "Your stack is:-  [1, 2]\n",
      "1. To insert a value in stack\n",
      "2. To remove a value from stack\n",
      "3. To check the position of last value\n",
      "4. Quit\n",
      "Enter the task number which you want to perform:-\n",
      "Enter the option number to perform the task:: 1\n",
      "Enter the number to be inserted in the stack:: 3\n",
      "The required stack is:-  [1, 2, 3]\n",
      "Enter the task number which you want to perform:-\n",
      "Enter the option number to perform the task:: 2\n",
      "The required stack is:-  [1, 2]\n",
      "Enter the task number which you want to perform:-\n",
      "Enter the option number to perform the task:: 3\n",
      "The last value is:-  2\n",
      "Enter the task number which you want to perform:-\n",
      "Enter the option number to perform the task:: 6\n",
      "Invalid Input!!\n",
      "Enter the task number which you want to perform:-\n",
      "Enter the option number to perform the task:: 4\n",
      "Thankyou\n"
     ]
    }
   ],
   "source": [
    "def push(stk):\n",
    "    v=int(input(\"Enter the number to be inserted in the stack:: \"))\n",
    "    stk.append(v)\n",
    "    print(\"The required stack is:- \",stk)\n",
    "def peek(stk):\n",
    "    t=len(stk)-1\n",
    "    print(\"The last value is:- \",stk[t])\n",
    "def pop(stk):\n",
    "    stk.pop()\n",
    "    print(\"The required stack is:- \",stk)\n",
    "def fn():\n",
    "    l=[]\n",
    "    a=int(input(\"Enter the number of elements you want in the stack::\"))\n",
    "    for i in range(a):\n",
    "        x=int(input(\"Enter the value::\"))\n",
    "        l.append(x)\n",
    "    print(\"Your stack is:- \",l)\n",
    "    print(\"1. To insert a value in stack\")\n",
    "    print(\"2. To remove a value from stack\")\n",
    "    print(\"3. To check the position of last value\") \n",
    "    print(\"4. Quit\")\n",
    "    while True:\n",
    "        print(\"Enter the task number which you want to perform:-\")\n",
    "        n=int(input(\"Enter the option number to perform the task:: \"))\n",
    "        if n==1:\n",
    "            push(l)\n",
    "        elif n==2:\n",
    "            pop(l)\n",
    "        elif n==3:\n",
    "            peek(l)\n",
    "        elif n==4:\n",
    "            print(\"Thankyou\")\n",
    "            break\n",
    "        else:\n",
    "            print(\"Invalid Input!!\")\n",
    "fn()"
   ]
  }
 ],
 "metadata": {
  "kernelspec": {
   "display_name": "Python 3",
   "language": "python",
   "name": "python3"
  },
  "language_info": {
   "codemirror_mode": {
    "name": "ipython",
    "version": 3
   },
   "file_extension": ".py",
   "mimetype": "text/x-python",
   "name": "python",
   "nbconvert_exporter": "python",
   "pygments_lexer": "ipython3",
   "version": "3.11.1 (tags/v3.11.1:a7a450f, Dec  6 2022, 19:58:39) [MSC v.1934 64 bit (AMD64)]"
  },
  "vscode": {
   "interpreter": {
    "hash": "7d705625a073828d9d6987a7dff4ead27d7dfee1dd954c9d3a1d6b085c12cf79"
   }
  }
 },
 "nbformat": 4,
 "nbformat_minor": 5
}
