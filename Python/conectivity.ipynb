{
 "cells": [
  {
   "cell_type": "code",
   "execution_count": 8,
   "id": "25da434d",
   "metadata": {},
   "outputs": [
    {
     "name": "stdout",
     "output_type": "stream",
     "text": [
      "(101, 'Deposit', 101)\n",
      "(501, 'Deposit', 602)\n"
     ]
    }
   ],
   "source": [
    "import mysql.connector as c \n",
    "con= c.connect(host=\"localhost\",user=\"root\",passwd=\"rudraxcode\",database=\"bank\")\n",
    "if con.is_connected():\n",
    "    cur=con.cursor()\n",
    "    cur.execute(\"select * from login_details where LoginID='{}'\".format('Rudra18'))\n",
    "    j=cur.fetchmany()\n",
    "    for i in j:\n",
    "        cur.execute(\"Select Amount,Ttype,Balance from transaction_details where Account_no = '{}'\".format(i[0]))\n",
    "    s=cur.fetchall()\n",
    "    for i1 in s:\n",
    "        print(i1)"
   ]
  },
  {
   "cell_type": "code",
   "execution_count": 1,
   "id": "64daf35a",
   "metadata": {},
   "outputs": [
    {
     "ename": "ModuleNotFoundError",
     "evalue": "No module named 'mysql'",
     "output_type": "error",
     "traceback": [
      "\u001b[1;31m---------------------------------------------------------------------------\u001b[0m",
      "\u001b[1;31mModuleNotFoundError\u001b[0m                       Traceback (most recent call last)",
      "Cell \u001b[1;32mIn [1], line 1\u001b[0m\n\u001b[1;32m----> 1\u001b[0m \u001b[39mimport\u001b[39;00m \u001b[39mmysql\u001b[39;00m\u001b[39m.\u001b[39;00m\u001b[39mconnector\u001b[39;00m\n\u001b[0;32m      2\u001b[0m con\u001b[39m=\u001b[39mmysql\u001b[39m.\u001b[39mconnector\u001b[39m.\u001b[39mconnect(host\u001b[39m=\u001b[39m\u001b[39m\"\u001b[39m\u001b[39mlocalhost\u001b[39m\u001b[39m\"\u001b[39m,user\u001b[39m=\u001b[39m\u001b[39m\"\u001b[39m\u001b[39mroot\u001b[39m\u001b[39m\"\u001b[39m,passwd\u001b[39m=\u001b[39m\u001b[39m\"\u001b[39m\u001b[39mrudraxcode\u001b[39m\u001b[39m\"\u001b[39m)\n\u001b[0;32m      3\u001b[0m \u001b[39mprint\u001b[39m(con\u001b[39m.\u001b[39mis_connected())\n",
      "\u001b[1;31mModuleNotFoundError\u001b[0m: No module named 'mysql'"
     ]
    }
   ],
   "source": [
    "import mysql.connector\n",
    "con=mysql.connector.connect(host=\"localhost\",user=\"root\",passwd=\"rudraxcode\")\n",
    "print(con.is_connected())\n",
    "cur=con.cursor()\n",
    "cur.execute(\"Show Databases\")\n",
    "for i in cur:\n",
    "    print(i)\n",
    "con.close()"
   ]
  },
  {
   "cell_type": "code",
   "execution_count": 4,
   "id": "dcb3cb7c",
   "metadata": {},
   "outputs": [
    {
     "name": "stdout",
     "output_type": "stream",
     "text": [
      "True\n",
      "5010.00\n",
      "2460.00\n",
      "1310.00\n"
     ]
    }
   ],
   "source": [
    "import mysql.connector\n",
    "con=mysql.connector.connect(host=\"localhost\",user=\"root\",passwd=\"rudraxcode\",database=\"Rudra\")\n",
    "print(con.is_connected())\n",
    "cur=con.cursor()\n",
    "cur.execute(\"select Sal from empl where Deptno=10;\")\n",
    "v=cur.fetchall()\n",
    "for i in v:\n",
    "    print(i[0])\n",
    "con.close()"
   ]
  },
  {
   "cell_type": "code",
   "execution_count": 3,
   "id": "4b88d7a7",
   "metadata": {},
   "outputs": [
    {
     "data": {
      "text/plain": [
       "True"
      ]
     },
     "execution_count": 3,
     "metadata": {},
     "output_type": "execute_result"
    }
   ],
   "source": [
    "'1992-01-23'=='1992-01-23'"
   ]
  },
  {
   "cell_type": "code",
   "execution_count": 8,
   "id": "73df83b9",
   "metadata": {},
   "outputs": [
    {
     "name": "stdout",
     "output_type": "stream",
     "text": [
      "True\n",
      "123\n"
     ]
    }
   ],
   "source": [
    "import mysql.connector\n",
    "con=mysql.connector.connect(host=\"localhost\",user=\"root\",passwd=\"rudraxcode\",database=\"Rudra\")\n",
    "print(con.is_connected())\n",
    "cur=con.cursor()\n",
    "cur.execute(\"select * from job1\")\n",
    "v=cur.fetchone()\n",
    "print(v[0])\n",
    "con.close()"
   ]
  },
  {
   "cell_type": "code",
   "execution_count": 3,
   "id": "261a5bcb",
   "metadata": {},
   "outputs": [
    {
     "name": "stdout",
     "output_type": "stream",
     "text": [
      "True\n",
      "(123, 'Agra', datetime.date(2006, 1, 25), 5000, datetime.date(2026, 1, 25), 'Marketing')\n",
      "(127, 'Mathura', datetime.date(2006, 12, 22), 6000, datetime.date(2026, 12, 22), 'Finance')\n"
     ]
    }
   ],
   "source": [
    "import mysql.connector\n",
    "con=mysql.connector.connect(host=\"localhost\",user=\"root\",passwd=\"rudraxcode\",database=\"Rudra\")\n",
    "print(con.is_connected())\n",
    "cur=con.cursor()\n",
    "cur.execute(\"select * from job1\")\n",
    "a=cur.fetchmany(2)\n",
    "for i in a:\n",
    "    print(i)\n",
    "con.close()"
   ]
  },
  {
   "cell_type": "code",
   "execution_count": 4,
   "id": "0bb602ca",
   "metadata": {},
   "outputs": [
    {
     "name": "stdout",
     "output_type": "stream",
     "text": [
      "True\n",
      "(123, 'Agra', datetime.date(2006, 1, 25), 5000, datetime.date(2026, 1, 25), 'Marketing')\n",
      "(127, 'Mathura', datetime.date(2006, 12, 22), 6000, datetime.date(2026, 12, 22), 'Finance')\n",
      "(124, 'Agra', datetime.date(2007, 8, 19), 5500, datetime.date(2027, 8, 19), 'Marketing')\n",
      "(125, 'Delhi', datetime.date(2004, 4, 14), 8500, datetime.date(2018, 4, 14), 'Sales')\n",
      "(128, 'Pune', datetime.date(2008, 3, 14), 7500, datetime.date(2028, 3, 13), 'Sales')\n"
     ]
    }
   ],
   "source": [
    "import mysql.connector\n",
    "con=mysql.connector.connect(host=\"localhost\",user=\"root\",passwd=\"rudraxcode\",database=\"Rudra\")\n",
    "print(con.is_connected())\n",
    "cur=con.cursor()\n",
    "cur.execute(\"select * from job1\")\n",
    "s=cur.fetchall()\n",
    "for i in s:\n",
    "    print(i)\n",
    "con.close()"
   ]
  },
  {
   "cell_type": "code",
   "execution_count": 2,
   "id": "320a4125",
   "metadata": {},
   "outputs": [
    {
     "name": "stdout",
     "output_type": "stream",
     "text": [
      "Connection Establised\n",
      "Enter the sno:: 2\n",
      "Enter the car name:: G-Wagon\n",
      "Enter the engine number:: 41258\n",
      "Values inserted properly\n"
     ]
    }
   ],
   "source": [
    "import mysql.connector as ms\n",
    "con=ms.connect(host=\"localhost\",user=\"root\",passwd=\"rudraxcode\",database=\"Rudra\")\n",
    "if con.is_connected():\n",
    "    print(\"Connection Establised\")\n",
    "    cur=con.cursor()\n",
    "    sno=int(input(\"Enter the sno:: \"))\n",
    "    cn=input(\"Enter the car name:: \")\n",
    "    en=input(\"Enter the engine number:: \")\n",
    "    query=\"insert into automobile values({},'{}','{}')\".format(sno,cn,en)\n",
    "    cur.execute(query)\n",
    "    con.commit()\n",
    "    print(\"Values inserted properly\")\n",
    "con.close()"
   ]
  },
  {
   "cell_type": "code",
   "execution_count": 3,
   "id": "b711a254",
   "metadata": {},
   "outputs": [
    {
     "name": "stdout",
     "output_type": "stream",
     "text": [
      "Connection Establised\n",
      "Enter how many times you want to enter the details of car:: 2\n",
      "Enter the sno:: 3\n",
      "Enter the car name:: Harrier\n",
      "Enter the engine number:: 84512\n",
      "Values inserted properly\n",
      "Enter the sno:: 4\n",
      "Enter the car name:: Compass\n",
      "Enter the engine number:: 12458\n",
      "Values inserted properly\n"
     ]
    }
   ],
   "source": [
    "import mysql.connector as ms\n",
    "con=ms.connect(host=\"localhost\",user=\"root\",passwd=\"rudraxcode\",database=\"Rudra\")\n",
    "if con.is_connected():\n",
    "    print(\"Connection Establised\")\n",
    "    cur=con.cursor()\n",
    "    n=int(input(\"Enter how many times you want to enter the details of car:: \"))\n",
    "    for i in range(n):\n",
    "        sno=int(input(\"Enter the sno:: \"))\n",
    "        cn=input(\"Enter the car name:: \")\n",
    "        en=input(\"Enter the engine number:: \")\n",
    "        query=\"insert into automobile values({},'{}','{}')\".format(sno,cn,en)\n",
    "        cur.execute(query)\n",
    "        con.commit()\n",
    "        print(\"Values inserted properly\")\n",
    "con.close()"
   ]
  },
  {
   "cell_type": "code",
   "execution_count": 1,
   "id": "ddcd704e",
   "metadata": {},
   "outputs": [
    {
     "name": "stdout",
     "output_type": "stream",
     "text": [
      "Connection Establised\n",
      "Which details you want from below options:- \n",
      "1. Name of the employee.\n",
      "2. Salary of the employee.\n",
      "3. Employee Number.\n",
      "Enter the option number:: 1\n",
      "Enter the Salary:: 1000\n",
      "Name of the employees are:-\n",
      "(8499, 'Anya', 'Salesman', 8698, datetime.date(1991, 2, 20), Decimal('1600.00'), Decimal('300.00'), 30)\n",
      "(8521, 'Seth', 'Salesman', 8698, datetime.date(1991, 2, 22), Decimal('1250.00'), Decimal('500.00'), 30)\n",
      "(8566, 'Mahadevan', 'Manager', 8839, datetime.date(1991, 4, 2), Decimal('2985.00'), None, 20)\n",
      "(8654, 'Momin', 'Salesman', 8698, datetime.date(1991, 9, 28), Decimal('1250.00'), Decimal('1400.00'), 30)\n",
      "(8698, 'Bina', 'Manager', 8839, datetime.date(1991, 5, 1), Decimal('2850.00'), None, 30)\n",
      "(8839, 'Amir', 'President', None, datetime.date(1991, 11, 18), Decimal('5000.00'), None, 10)\n",
      "(8844, 'Kuldeep', 'Salesman', 8698, datetime.date(1991, 9, 8), Decimal('1500.00'), Decimal('0.00'), 30)\n",
      "(8882, 'Shiavnsh', 'Manager', 8839, datetime.date(1991, 6, 9), Decimal('2450.00'), None, 10)\n",
      "(8886, 'Anoop', 'Clerk', 8888, datetime.date(1993, 1, 12), Decimal('1100.00'), None, 20)\n",
      "(8888, 'Scott', 'Analyst', 8566, datetime.date(1992, 12, 9), Decimal('3000.00'), None, 20)\n",
      "(8902, 'Fakir', 'Analyst', 8566, datetime.date(1991, 12, 3), Decimal('3000.00'), None, 20)\n",
      "(8934, 'Mita', 'Clerk', 8882, datetime.date(1992, 1, 23), Decimal('1300.00'), None, 10)\n"
     ]
    }
   ],
   "source": [
    "import mysql.connector\n",
    "con=mysql.connector.connect(host=\"localhost\",user=\"root\",passwd=\"rudraxcode\",database=\"Rudra\")\n",
    "if con.is_connected():\n",
    "    print(\"Connection Establised\")\n",
    "    cur=con.cursor()\n",
    "    print(\"Which details you want from below options:- \")\n",
    "    print(\"1. Name of the employee.\")\n",
    "    print(\"2. Salary of the employee.\")\n",
    "    print(\"3. Employee Number.\")\n",
    "    n=int(input(\"Enter the option number:: \"))\n",
    "    if n==1:\n",
    "        cur.execute(\"select * from empl)\n",
    "        print(\"Name of the employees are:-\")\n",
    "        v=cur.fetchone()\n",
    "        while (v):\n",
    "            print(v)\n",
    "            v=cur.fetchone()\n",
    "    elif n==2:\n",
    "        cur.execute(\"select Ename,Sal from empl\")\n",
    "        print(\"Salary of the employees are:-\")\n",
    "        c=cur.fetchone()\n",
    "        while (c):\n",
    "            print(c)\n",
    "            c=cur.fetchone()\n",
    "    elif n==3:\n",
    "        cur.execute(\"select Ename,Empno from empl\")\n",
    "        print(\"Employee number are:-\")\n",
    "        d=cur.fetchone()\n",
    "        while (d):\n",
    "            print(d)\n",
    "            d=cur.fetchone()    \n",
    "con.close()"
   ]
  }
 ],
 "metadata": {
  "kernelspec": {
   "display_name": "Python 3",
   "language": "python",
   "name": "python3"
  },
  "language_info": {
   "codemirror_mode": {
    "name": "ipython",
    "version": 3
   },
   "file_extension": ".py",
   "mimetype": "text/x-python",
   "name": "python",
   "nbconvert_exporter": "python",
   "pygments_lexer": "ipython3",
   "version": "3.11.1 (tags/v3.11.1:a7a450f, Dec  6 2022, 19:58:39) [MSC v.1934 64 bit (AMD64)]"
  },
  "vscode": {
   "interpreter": {
    "hash": "7d705625a073828d9d6987a7dff4ead27d7dfee1dd954c9d3a1d6b085c12cf79"
   }
  }
 },
 "nbformat": 4,
 "nbformat_minor": 5
}
