{
 "cells": [
  {
   "cell_type": "code",
   "execution_count": 1,
   "metadata": {},
   "outputs": [],
   "source": [
    "import cmath\n",
    "a =int(input(\"Enter values for a\"))\n",
    "b = int(input(\"Enter values for b\"))\n",
    "c = int(input(\"Enter values for c\"))\n",
    "d = (b**2) - (4*a*c)\n",
    "sol1 = (-b-cmath.sqrt(d))/(2*a)\n",
    "sol2 = (-b+cmath.sqrt(d))/(2*a)\n",
    "print('The solution are {0} and {1}'.format(sol1,sol2))"
   ]
  },
  {
   "cell_type": "markdown",
   "metadata": {},
   "source": [
    "Experiment 1"
   ]
  },
  {
   "cell_type": "code",
   "execution_count": null,
   "metadata": {},
   "outputs": [
    {
     "name": "stdout",
     "output_type": "stream",
     "text": [
      "a= 3\n",
      "b= 5\n"
     ]
    }
   ],
   "source": [
    "a=int(input())\n",
    "b=int(input())\n",
    "b,a=a,b\n",
    "print(\"a=\",a)\n",
    "print(\"b=\",b)"
   ]
  },
  {
   "cell_type": "code",
   "execution_count": null,
   "metadata": {},
   "outputs": [
    {
     "name": "stdout",
     "output_type": "stream",
     "text": [
      "155\n"
     ]
    }
   ],
   "source": [
    "n=int(input(\"Enter a number: \"))\n",
    "print(n+n*n+n*n*n)\n"
   ]
  },
  {
   "cell_type": "code",
   "execution_count": null,
   "metadata": {},
   "outputs": [
    {
     "ename": "SyntaxError",
     "evalue": "unmatched ')' (1105589320.py, line 1)",
     "output_type": "error",
     "traceback": [
      "\u001b[1;36m  Cell \u001b[1;32mIn [8], line 1\u001b[1;36m\u001b[0m\n\u001b[1;33m    print(type[1,2]))\u001b[0m\n\u001b[1;37m                    ^\u001b[0m\n\u001b[1;31mSyntaxError\u001b[0m\u001b[1;31m:\u001b[0m unmatched ')'\n"
     ]
    }
   ],
   "source": [
    "print(type[1,2]))"
   ]
  },
  {
   "cell_type": "code",
   "execution_count": null,
   "metadata": {},
   "outputs": [
    {
     "name": "stdout",
     "output_type": "stream",
     "text": [
      "<class 'list'>\n"
     ]
    }
   ],
   "source": [
    "print(type([1/2]))"
   ]
  },
  {
   "cell_type": "code",
   "execution_count": null,
   "metadata": {},
   "outputs": [
    {
     "ename": "TypeError",
     "evalue": "type() takes 1 or 3 arguments",
     "output_type": "error",
     "traceback": [
      "\u001b[1;31m---------------------------------------------------------------------------\u001b[0m",
      "\u001b[1;31mTypeError\u001b[0m                                 Traceback (most recent call last)",
      "Cell \u001b[1;32mIn [10], line 1\u001b[0m\n\u001b[1;32m----> 1\u001b[0m \u001b[39mprint\u001b[39m(\u001b[39mtype\u001b[39;49m(\u001b[39m1\u001b[39;49m,\u001b[39m2\u001b[39;49m))\n",
      "\u001b[1;31mTypeError\u001b[0m: type() takes 1 or 3 arguments"
     ]
    }
   ],
   "source": [
    "print(type(1,2))"
   ]
  },
  {
   "cell_type": "code",
   "execution_count": null,
   "metadata": {},
   "outputs": [
    {
     "name": "stdout",
     "output_type": "stream",
     "text": [
      "<class 'float'>\n"
     ]
    }
   ],
   "source": [
    "print(type((1/2)))"
   ]
  },
  {
   "cell_type": "code",
   "execution_count": null,
   "metadata": {},
   "outputs": [
    {
     "name": "stdout",
     "output_type": "stream",
     "text": [
      "<class 'float'>\n"
     ]
    }
   ],
   "source": [
    "print(type(1/2))"
   ]
  },
  {
   "cell_type": "code",
   "execution_count": null,
   "metadata": {},
   "outputs": [
    {
     "name": "stdout",
     "output_type": "stream",
     "text": [
      "<class 'tuple'>\n"
     ]
    }
   ],
   "source": [
    "print(type((1/2,)))"
   ]
  },
  {
   "cell_type": "code",
   "execution_count": null,
   "metadata": {},
   "outputs": [
    {
     "name": "stdout",
     "output_type": "stream",
     "text": [
      "Simple Interest is:  11100.0\n"
     ]
    }
   ],
   "source": [
    "P=int(input(\"Enter the principal amount: \"))\n",
    "R=float(input(\"Enter the interest rate: \"))\n",
    "T=int(input(\"Enter the time period in years: \"))\n",
    "SI=P*R*T/100\n",
    "print(\"Simple Interest is: \",SI)"
   ]
  },
  {
   "cell_type": "code",
   "execution_count": null,
   "metadata": {},
   "outputs": [
    {
     "name": "stdout",
     "output_type": "stream",
     "text": [
      "26\n",
      "5.5\n",
      "False\n",
      "True\n",
      "HondaAudi\n",
      "9\n",
      "Honda\n",
      "o\n"
     ]
    }
   ],
   "source": [
    "print((10+3)*2)\n",
    "print(11/2)\n",
    "x=25\n",
    "print(x/2>=50)\n",
    "print(x*2==50)\n",
    "a='Honda'\n",
    "b='Audi'\n",
    "print(a+b) \n",
    "c=len(a)+len(b)\n",
    "print(c)\n",
    "print(a)\n",
    "print(a[1])"
   ]
  },
  {
   "cell_type": "code",
   "execution_count": null,
   "metadata": {},
   "outputs": [
    {
     "name": "stdout",
     "output_type": "stream",
     "text": [
      "True\n"
     ]
    }
   ],
   "source": [
    "x=True\n",
    "y=False\n",
    "z=False\n",
    "print(x or y and z) "
   ]
  },
  {
   "cell_type": "code",
   "execution_count": null,
   "metadata": {},
   "outputs": [
    {
     "name": "stdout",
     "output_type": "stream",
     "text": [
      "False\n",
      "False\n",
      "True\n",
      "False\n"
     ]
    }
   ],
   "source": [
    "x=True\n",
    "y=False\n",
    "z=False\n",
    "print(not x or y)\n",
    "print(not x or not y and z)\n",
    "print(not x or y or not y and x)\n",
    "print('ant' < 'amoeba')\n"
   ]
  },
  {
   "cell_type": "code",
   "execution_count": null,
   "metadata": {},
   "outputs": [
    {
     "name": "stdout",
     "output_type": "stream",
     "text": [
      "17 5\n"
     ]
    }
   ],
   "source": [
    "x,y=7,2 \n",
    "x,y,x=x+1,y+3,x+10 \n",
    "print(x,y)"
   ]
  },
  {
   "cell_type": "code",
   "execution_count": null,
   "metadata": {},
   "outputs": [
    {
     "name": "stdout",
     "output_type": "stream",
     "text": [
      "6 6 12\n"
     ]
    }
   ],
   "source": [
    "a,b,c=5,10,7\n",
    "b,c,a=a+1,b+2,c-1 \n",
    "print(a,b,c)"
   ]
  },
  {
   "cell_type": "code",
   "execution_count": null,
   "metadata": {},
   "outputs": [],
   "source": [
    "age=int(input(\"Enter your age: \"))\n",
    "name=input(\"Enter your name: \")\n"
   ]
  },
  {
   "cell_type": "code",
   "execution_count": null,
   "metadata": {},
   "outputs": [
    {
     "name": "stdout",
     "output_type": "stream",
     "text": [
      "Area of the circle is:  78.5\n"
     ]
    }
   ],
   "source": [
    "r=int(input(\"Enter the radius of the circle: \"))\n",
    "area=3.14*r**2\n",
    "print(\"Area of the circle is: \",area)"
   ]
  },
  {
   "cell_type": "code",
   "execution_count": null,
   "metadata": {},
   "outputs": [
    {
     "name": "stdout",
     "output_type": "stream",
     "text": [
      "Area of reactangle is:  25\n"
     ]
    }
   ],
   "source": [
    "l=int(input(\"Enter the length of the rectangle: \"))\n",
    "b=int(input(\"Enter the breath of the rectangle: \"))\n",
    "area=l*b\n",
    "print(\"Area of reactangle is: \",area)"
   ]
  },
  {
   "cell_type": "markdown",
   "metadata": {},
   "source": [
    "Experiment 2"
   ]
  },
  {
   "cell_type": "code",
   "execution_count": null,
   "metadata": {},
   "outputs": [
    {
     "name": "stdout",
     "output_type": "stream",
     "text": [
      "The largest numbers are: 21\n"
     ]
    }
   ],
   "source": [
    "num1=int(input(\"Enter first number: \"))\n",
    "num2=int(input(\"Enter second number: \"))\n",
    "num3=int(input(\"Enter third number: \"))\n",
    "if (num1 >= num2) and (num1 >= num3):\n",
    " largest = num1\n",
    "elif (num2 >= num1) and (num2 >= num3):\n",
    " largest = num2\n",
    "else:\n",
    " largest = num3\n",
    "print(\"The largest numbers are:\",largest)"
   ]
  },
  {
   "cell_type": "code",
   "execution_count": null,
   "metadata": {},
   "outputs": [
    {
     "name": "stdout",
     "output_type": "stream",
     "text": [
      "Not eligible for vote\n"
     ]
    }
   ],
   "source": [
    "age=int(input(\"Enter your age: \"))\n",
    "if age>18:\n",
    "    print(\"Eligible for vote\")\n",
    "else:\n",
    "    print(\"Not eligible for vote\")"
   ]
  },
  {
   "cell_type": "code",
   "execution_count": null,
   "metadata": {},
   "outputs": [
    {
     "name": "stdout",
     "output_type": "stream",
     "text": [
      "Friday\n"
     ]
    }
   ],
   "source": [
    "n=int(input(\"Enter the name from (1-7): \"))\n",
    "if n==1:\n",
    "    print(\"Monday\")\n",
    "elif n==2:\n",
    "    print(\"Tuesday\")\n",
    "elif n==3:\n",
    "    print(\"Wednesday\")\n",
    "elif n==4:\n",
    "    print(\"Thursday\")\n",
    "elif n==5:\n",
    "    print(\"Friday\")\n",
    "elif n==6:\n",
    "    print(\"Saturday\")\n",
    "elif n==7:\n",
    "    print(\"Sunday\")\n",
    "else:\n",
    "    print(\"invalid Input\")\n"
   ]
  },
  {
   "cell_type": "code",
   "execution_count": null,
   "metadata": {},
   "outputs": [
    {
     "name": "stdout",
     "output_type": "stream",
     "text": [
      "60.0\n",
      "Grade= B\n"
     ]
    }
   ],
   "source": [
    "sub1=float(input(\"Enter marks: \"))\n",
    "sub2=float(input(\"Enter marks: \"))\n",
    "sub3=float(input(\"Enter marks: \"))\n",
    "sub4=float(input(\"Enter marks: \"))\n",
    "sub5=float(input(\"Enter marks: \"))\n",
    "#avg=(sub1+sub2+sub3+sub4+sub5)/5\n",
    "avg=60.0\n",
    "print(avg)\n",
    "if avg>=90.0:\n",
    "    print(\"Grade= A+\")\n",
    "elif avg>=80.0 and avg<90.0:\n",
    "    print(\"Grade= A\")\n",
    "elif avg>=70.0 and avg<80.0:\n",
    "    print(\"Grade= B+\")\n",
    "elif avg>=60.0 and avg<70.0:\n",
    "    print(\"Grade= B\")\n",
    "elif avg>=50.0 and avg<60.0:\n",
    "    print(\"Grade= C1\")\n",
    "elif avg>=40.0 and avg<50.0:\n",
    "    print(\"Grade= C2\")\n",
    "elif avg>=33.0 and avg<40.0:\n",
    "    print(\"Grade= D\")\n",
    "elif avg<33.0:\n",
    "    print(\"Failed\")"
   ]
  },
  {
   "cell_type": "code",
   "execution_count": 3,
   "metadata": {},
   "outputs": [
    {
     "ename": "SyntaxError",
     "evalue": "expected ':' (3920730597.py, line 5)",
     "output_type": "error",
     "traceback": [
      "\u001b[1;36m  Cell \u001b[1;32mIn[3], line 5\u001b[1;36m\u001b[0m\n\u001b[1;33m    elif x!=6\u001b[0m\n\u001b[1;37m             ^\u001b[0m\n\u001b[1;31mSyntaxError\u001b[0m\u001b[1;31m:\u001b[0m expected ':'\n"
     ]
    }
   ],
   "source": [
    "x=7\n",
    "if x>3:\n",
    "    if x<=5:\n",
    "        y=1\n",
    "    elif x!=6\n",
    "        y=2\n",
    "    else:\n",
    "        y=3\n",
    "else:\n",
    "    y=4"
   ]
  },
  {
   "cell_type": "code",
   "execution_count": null,
   "metadata": {},
   "outputs": [
    {
     "name": "stdout",
     "output_type": "stream",
     "text": [
      "Temperature in F is 86.0\n"
     ]
    }
   ],
   "source": [
    "tem=float(input(\"Enter temperature\"))\n",
    "type=input(\"Enter the type F or C\")\n",
    "if type==\"F\":\n",
    "    C=5/9*tem+32\n",
    "    print(\"Temperature in C is\",C)\n",
    "elif type==\"C\":\n",
    "    F=9/5*tem+32\n",
    "    print(\"Temperature in F is\",F)\n",
    "else:\n",
    "    print(\"Invalid Input\")"
   ]
  },
  {
   "cell_type": "code",
   "execution_count": null,
   "metadata": {},
   "outputs": [
    {
     "name": "stdout",
     "output_type": "stream",
     "text": [
      "1 is a odd number\n"
     ]
    }
   ],
   "source": [
    "n=int(input(\"Enter a number: \"))\n",
    "if n%2==0:\n",
    "    print(n,\"is a even number\")\n",
    "elif n%2!=0:\n",
    "    print(n,\"is a odd number\")\n",
    "else:\n",
    "    print(\"Invalid input\")"
   ]
  },
  {
   "cell_type": "code",
   "execution_count": null,
   "metadata": {},
   "outputs": [
    {
     "name": "stdout",
     "output_type": "stream",
     "text": [
      "35 is divisible by 7\n"
     ]
    }
   ],
   "source": [
    "n=int(input(\"Enter the number to check whether it divisible by 7 or not: \"))\n",
    "if n%7==0:\n",
    "    print(n,\"is divisible by 7\")\n",
    "else:\n",
    "    print(n,\"is not divisible by 7\")"
   ]
  },
  {
   "cell_type": "code",
   "execution_count": null,
   "metadata": {},
   "outputs": [
    {
     "name": "stdout",
     "output_type": "stream",
     "text": [
      "2024 is a leap year\n"
     ]
    }
   ],
   "source": [
    "year=int(input(\"Enter a year: \"))\n",
    "if year%4==0:\n",
    "    print(year,\"is a leap year\")\n",
    "else:\n",
    "    print(year,\"is not a leap year\")"
   ]
  },
  {
   "cell_type": "code",
   "execution_count": null,
   "metadata": {},
   "outputs": [
    {
     "name": "stdout",
     "output_type": "stream",
     "text": [
      "Red Fort\n"
     ]
    }
   ],
   "source": [
    "city=input(\"Enter the name of city: \")\n",
    "if city==\"Delhi\":\n",
    "    print(\"Red Fort\")\n",
    "elif city==\"Agra\":\n",
    "    print(\"Taj Mahal\")\n",
    "elif city==\"Jaipur\":\n",
    "    print(\"Jal Mahal\")\n",
    "else:\n",
    "    print(\"Data not Found!\")"
   ]
  },
  {
   "cell_type": "markdown",
   "metadata": {},
   "source": [
    "Experiment 3"
   ]
  },
  {
   "cell_type": "code",
   "execution_count": null,
   "metadata": {},
   "outputs": [
    {
     "name": "stdout",
     "output_type": "stream",
     "text": [
      "The factorial of 5 is 120\n"
     ]
    }
   ],
   "source": [
    "num = int(input(\"Enter a number: \"))\n",
    "factorial = 1\n",
    "if num < 0:\n",
    " print(\"Sorry, factorial does not exist for negative numbers\")\n",
    "elif num == 0:\n",
    " print(\"The factorial of 0 is 1\")\n",
    "else:\n",
    " for i in range(1,num + 1):\n",
    "    factorial = factorial*i\n",
    " print(\"The factorial of\",num,\"is\",factorial)"
   ]
  },
  {
   "cell_type": "code",
   "execution_count": null,
   "metadata": {},
   "outputs": [
    {
     "name": "stdout",
     "output_type": "stream",
     "text": [
      "50 49 48 47 46 45 44 43 42 41 40 39 38 37 36 35 34 33 32 31 30 29 28 27 26 25 24 23 22 21 20 19 18 17 16 15 14 13 12 11 10 9 8 7 6 5 4 3 2 1 "
     ]
    }
   ],
   "source": [
    "for i in range(50,0,-1):\n",
    "    print(i,end=\" \")"
   ]
  },
  {
   "cell_type": "code",
   "execution_count": null,
   "metadata": {},
   "outputs": [
    {
     "name": "stdout",
     "output_type": "stream",
     "text": [
      "Entered Number:  1452\n",
      "Reversed Number: \n",
      "2541"
     ]
    }
   ],
   "source": [
    "n=int(input(\"Enter a number: \"))\n",
    "print(\"Entered Number: \",n)\n",
    "print(\"Reversed Number: \")\n",
    "N=str(n)\n",
    "for i in range(len(N)):\n",
    "    a=n%10\n",
    "    n=n//10\n",
    "    print(a,end=\"\")"
   ]
  },
  {
   "cell_type": "code",
   "execution_count": 8,
   "metadata": {},
   "outputs": [
    {
     "name": "stdout",
     "output_type": "stream",
     "text": [
      "28 is a perfect number\n"
     ]
    }
   ],
   "source": [
    "n=int(input(\"Enter a number: \"))\n",
    "sum=0\n",
    "for i in range(1,n):\n",
    "    if n%i==0:\n",
    "        sum=sum+i\n",
    "if n==sum:\n",
    "    print(n,\"is a perfect number\")\n",
    "else:\n",
    "    print(n,\"is not a perfect number\")"
   ]
  },
  {
   "cell_type": "code",
   "execution_count": null,
   "metadata": {},
   "outputs": [
    {
     "name": "stdout",
     "output_type": "stream",
     "text": [
      "Sum of digit is:  3\n"
     ]
    }
   ],
   "source": [
    "n=int(input(\"Enter a number: \"))\n",
    "sum=0\n",
    "while n>0:\n",
    "    r=n%10\n",
    "    sum=sum+r\n",
    "    n=n//10\n",
    "print(\"Sum of digit is: \",sum)"
   ]
  },
  {
   "cell_type": "code",
   "execution_count": null,
   "metadata": {},
   "outputs": [
    {
     "name": "stdout",
     "output_type": "stream",
     "text": [
      "55  is not prime\n"
     ]
    }
   ],
   "source": [
    "n=int(input(\"Enter a number: \"))\n",
    "if n > 1:\n",
    "    for i in range(2,n-1):\n",
    "        if n%i== 0:\n",
    "            print(n,\" is not prime\")\n",
    "            break\n",
    "    else:\n",
    "        print(n,\"is a prime\")"
   ]
  },
  {
   "cell_type": "code",
   "execution_count": null,
   "metadata": {},
   "outputs": [
    {
     "name": "stdout",
     "output_type": "stream",
     "text": [
      "The factorial of 5 is 120\n"
     ]
    }
   ],
   "source": [
    "num = int(input(\"Enter a number: \"))\n",
    "factorial = 1\n",
    "if num < 0:\n",
    "    print(\"Sorry, factorial does not exist for negative numbers\")\n",
    "elif num == 0:\n",
    "    print(\"The factorial of 0 is 1\")\n",
    "else:\n",
    "    for i in range(1,num + 1):\n",
    "        factorial = factorial*i\n",
    "    print(\"The factorial of\",num,\"is\",factorial)"
   ]
  },
  {
   "cell_type": "code",
   "execution_count": null,
   "metadata": {},
   "outputs": [
    {
     "name": "stdout",
     "output_type": "stream",
     "text": [
      "0, 1, 1, 2, 3, 5, 8, 13, 21, 34, 55"
     ]
    }
   ],
   "source": [
    "a,b=0,1\n",
    "print(a,end=\"\")\n",
    "n=int(input(\"Enter a number\"))\n",
    "for i in range(0,n-1):\n",
    "    c=a+b\n",
    "    a=b\n",
    "    b=c\n",
    "    print(\",\",a,end=\"\")"
   ]
  },
  {
   "cell_type": "code",
   "execution_count": 9,
   "metadata": {},
   "outputs": [
    {
     "name": "stdout",
     "output_type": "stream",
     "text": [
      "1 \n",
      "2 2 \n",
      "3 3 3 \n",
      "4 4 4 4 \n",
      "5 5 5 5 5 \n"
     ]
    }
   ],
   "source": [
    "for r in range(1,6):\n",
    "    for c in range(1,r+1):\n",
    "        print(r,end=\" \")\n",
    "    print()"
   ]
  },
  {
   "cell_type": "code",
   "execution_count": null,
   "metadata": {},
   "outputs": [
    {
     "name": "stdout",
     "output_type": "stream",
     "text": [
      "1 \n",
      "2 4 \n",
      "3 6 9 \n",
      "4 8 12 16 \n"
     ]
    }
   ],
   "source": [
    "for r in range(1,5):\n",
    "    for c in range(1,r+1):\n",
    "        print(r*c,end=\" \")\n",
    "    print()"
   ]
  },
  {
   "cell_type": "code",
   "execution_count": null,
   "metadata": {},
   "outputs": [
    {
     "name": "stdout",
     "output_type": "stream",
     "text": [
      " *\n",
      " * *\n",
      " * * *\n",
      " * * * *\n"
     ]
    }
   ],
   "source": [
    "for i in range(1,5):\n",
    "    print(i*\" *\")"
   ]
  },
  {
   "cell_type": "code",
   "execution_count": null,
   "metadata": {},
   "outputs": [
    {
     "name": "stdout",
     "output_type": "stream",
     "text": [
      "5 \n",
      "5 4 \n",
      "5 4 3 \n",
      "5 4 3 2 \n",
      "5 4 3 2 1 \n"
     ]
    }
   ],
   "source": [
    "n=6\n",
    "for r in range(1,6):\n",
    "    for c in range(1,r+1):\n",
    "        print(n-c,end=\" \")\n",
    "    print()"
   ]
  },
  {
   "cell_type": "code",
   "execution_count": null,
   "metadata": {},
   "outputs": [
    {
     "name": "stdout",
     "output_type": "stream",
     "text": [
      "1 2 \n",
      "1 2 3 \n",
      "1 2 3 4 \n",
      "1 2 3 \n",
      "1 2 \n",
      "1 \n"
     ]
    }
   ],
   "source": [
    "for r in range(1,7):\n",
    "    for c in range(1,5):\n",
    "        if r>=1 and c==1:\n",
    "            print(1,end=\" \")\n",
    "        elif r<=5 and c==2:\n",
    "            print(2,end=\" \")\n",
    "        elif (r>1 and r<5) and c==3:\n",
    "            print(3,end=\" \")\n",
    "        elif r==3 and c==4:\n",
    "            print(4,end=\" \")\n",
    "    print()\n",
    "       \n",
    "       "
   ]
  },
  {
   "cell_type": "code",
   "execution_count": null,
   "metadata": {},
   "outputs": [
    {
     "name": "stdout",
     "output_type": "stream",
     "text": [
      "\n",
      "1 \n",
      "1 2 \n",
      "1 2 3 \n",
      "1 2 3 4 \n",
      "1 2 3 4 5 \n"
     ]
    }
   ],
   "source": [
    "n=int(input())\n",
    "for r in range(n+1):\n",
    "    for c in range(1,r+1):\n",
    "        print(c,end=\" \")\n",
    "    print()\n"
   ]
  },
  {
   "cell_type": "code",
   "execution_count": null,
   "metadata": {},
   "outputs": [
    {
     "name": "stdout",
     "output_type": "stream",
     "text": [
      "1 \n",
      "2 3 2 \n",
      "3 4 5 4 3 \n",
      "4 5 6 7 6 5 4 \n",
      "5 6 7 8 9 8 7 6 5 \n"
     ]
    }
   ],
   "source": [
    "n=5\n",
    "num=1\n",
    "gap=n-1\n",
    "for j in range(1,n+1):\n",
    "    num=j\n",
    "    for i in range(1,gap+1):\n",
    "        print(end=\"\")\n",
    "        gap=gap-1\n",
    "    for i in range(1,j+1):\n",
    "        print(num,end=\" \")\n",
    "        num=num+1\n",
    "    num=num-2\n",
    "    for i in range(1,j):\n",
    "        print(num,end=\" \")\n",
    "        num=num-1\n",
    "    print()\n",
    "    "
   ]
  },
  {
   "cell_type": "code",
   "execution_count": null,
   "metadata": {},
   "outputs": [
    {
     "name": "stdout",
     "output_type": "stream",
     "text": [
      "     \n",
      "    1 \n",
      "   2 1 \n",
      "  3 2 1 \n",
      " 4 3 2 1 \n",
      "5 4 3 2 1 \n"
     ]
    }
   ],
   "source": [
    "n=int(input())\n",
    "for r in range(n+1):\n",
    "    for space in range(1,n-r+1):\n",
    "        print(end=\" \")\n",
    "    for c in range(r,0,-1):\n",
    "        print(c,end=\" \")\n",
    "    print()"
   ]
  },
  {
   "cell_type": "code",
   "execution_count": null,
   "metadata": {},
   "outputs": [
    {
     "name": "stdout",
     "output_type": "stream",
     "text": [
      " * * * * *\n",
      " * * * *\n",
      " * * *\n",
      " * *\n",
      " *\n"
     ]
    }
   ],
   "source": [
    "for i in range(5,0,-1):\n",
    "    print(i*\" *\")"
   ]
  },
  {
   "cell_type": "code",
   "execution_count": null,
   "metadata": {},
   "outputs": [
    {
     "name": "stdout",
     "output_type": "stream",
     "text": [
      "1 \n",
      "2 1 \n",
      "3 2 1 \n",
      "4 3 2 1 \n"
     ]
    }
   ],
   "source": [
    "for i in range(1,5):\n",
    "    for j in range(i,0,-1):\n",
    "        print(j,end=\" \")\n",
    "    print()"
   ]
  },
  {
   "cell_type": "code",
   "execution_count": null,
   "metadata": {},
   "outputs": [
    {
     "name": "stdout",
     "output_type": "stream",
     "text": [
      "1 \n",
      "2 3 \n",
      "4 5 6 \n",
      "7 8 9 10 \n"
     ]
    }
   ],
   "source": [
    "n=1\n",
    "for r in range(1,5):\n",
    "    for c in range(1,r+1):\n",
    "        print(n,end=\" \")\n",
    "        n=n+1\n",
    "    print()"
   ]
  },
  {
   "cell_type": "code",
   "execution_count": null,
   "metadata": {},
   "outputs": [
    {
     "name": "stdout",
     "output_type": "stream",
     "text": [
      "153 is armstrong\n"
     ]
    }
   ],
   "source": [
    "n=int(input(\"Enter a number\"))\n",
    "r,sum=0,0\n",
    "a=len(str(n))\n",
    "t=n\n",
    "while n>0:\n",
    "    r=n%10\n",
    "    sum=sum+r**a\n",
    "    n=n//10\n",
    "if t==sum:\n",
    "    print(t,\"is armstrong\")\n",
    "else:\n",
    "    print(t,\"is not armstrong\")"
   ]
  },
  {
   "cell_type": "code",
   "execution_count": null,
   "metadata": {},
   "outputs": [
    {
     "name": "stdout",
     "output_type": "stream",
     "text": [
      "121\n",
      "it is a palindrome number\n"
     ]
    }
   ],
   "source": [
    "n=int(input(\"Enter the 3-4 digit number: \"))\n",
    "n1=n\n",
    "r,an=0,0\n",
    "while n>0:\n",
    "    r=n%10\n",
    "    an=an*10+r\n",
    "    n=n//10\n",
    "print(an)\n",
    "if n1==an:\n",
    "    print(\"it is a palindrome number\")\n",
    "else:\n",
    "    print(\"It is not a palindrome number\")"
   ]
  },
  {
   "cell_type": "code",
   "execution_count": null,
   "metadata": {},
   "outputs": [
    {
     "name": "stdout",
     "output_type": "stream",
     "text": [
      "mom is a palindrome string.\n"
     ]
    }
   ],
   "source": [
    "st=input(\"Enter a word: \")\n",
    "st1=st[::-1]\n",
    "if st==st1:\n",
    "    print(st,\"is a palindrome string.\")\n",
    "else:\n",
    "    print(st,\"is not a palindrome string\")"
   ]
  },
  {
   "cell_type": "code",
   "execution_count": null,
   "metadata": {},
   "outputs": [
    {
     "name": "stdout",
     "output_type": "stream",
     "text": [
      "Prime number from 2 to 21 are: \n",
      "2 3 5 7 11 13 17 19 "
     ]
    }
   ],
   "source": [
    "N=int(input())\n",
    "print(\"Prime number from 2 to\",N,\"are: \")\n",
    "for num in range(2,N+1):\n",
    "        for i in range(2,num):\n",
    "            if (num%i)==0:\n",
    "                break\n",
    "        else:\n",
    "            print(num,end=\" \")"
   ]
  },
  {
   "cell_type": "markdown",
   "metadata": {},
   "source": [
    "Experiment 4"
   ]
  },
  {
   "cell_type": "code",
   "execution_count": null,
   "metadata": {},
   "outputs": [
    {
     "name": "stdout",
     "output_type": "stream",
     "text": [
      "This word is palindrome\n"
     ]
    }
   ],
   "source": [
    "n = input(\"Enter the word and see if it is palindrome: \")\n",
    "if n == n[::-1]:\n",
    " print(\"This word is palindrome\")\n",
    "else:\n",
    " print(\"This word is not palindrome\")"
   ]
  },
  {
   "cell_type": "code",
   "execution_count": 4,
   "metadata": {},
   "outputs": [
    {
     "name": "stdout",
     "output_type": "stream",
     "text": [
      "Word is reverse:  arduR\n"
     ]
    }
   ],
   "source": [
    "st=input(\"Enter a word: \")\n",
    "rev=st[::-1]\n",
    "print(\"Word is reverse: \",rev)"
   ]
  },
  {
   "cell_type": "code",
   "execution_count": 5,
   "metadata": {},
   "outputs": [
    {
     "name": "stdout",
     "output_type": "stream",
     "text": [
      "olleh dlrow \n"
     ]
    }
   ],
   "source": [
    "w=input(\"Enter a string: \")\n",
    "w2=w.split()\n",
    "a=\"\"\n",
    "for i in w2:\n",
    "    a+=i[::-1]\n",
    "    a+=\" \"\n",
    "print(a)"
   ]
  },
  {
   "cell_type": "code",
   "execution_count": 1,
   "metadata": {},
   "outputs": [
    {
     "name": "stdout",
     "output_type": "stream",
     "text": [
      "l = 1\n",
      "A = 1\n",
      "e = 1\n",
      "p = 2\n"
     ]
    }
   ],
   "source": [
    "w=input(\"Enter a word:  \")\n",
    "w1=set(w)\n",
    "for i in w1:\n",
    "    count=0\n",
    "    for j in w:\n",
    "        if i==j:\n",
    "            count+=1\n",
    "    print(i,\"=\",count)\n",
    "    "
   ]
  },
  {
   "cell_type": "code",
   "execution_count": 6,
   "metadata": {},
   "outputs": [
    {
     "name": "stdout",
     "output_type": "stream",
     "text": [
      "present  is the largest word\n"
     ]
    }
   ],
   "source": [
    "st=input(\"ENter a string\")\n",
    "s=st.split()\n",
    "l1=[]\n",
    "c=0\n",
    "for i in s:\n",
    "    l1.append(len(i))\n",
    "    c+=1\n",
    "m=max(l1)\n",
    "for k in range(c):\n",
    "    if m==len(s[k]):\n",
    "        print(s[k],\" is the largest word\")\n"
   ]
  },
  {
   "cell_type": "code",
   "execution_count": 7,
   "metadata": {},
   "outputs": [
    {
     "name": "stdout",
     "output_type": "stream",
     "text": [
      "RUDRA KASHYAP\n"
     ]
    }
   ],
   "source": [
    "st=input(\"Enter a word: \")\n",
    "print(st.upper())\n"
   ]
  },
  {
   "cell_type": "code",
   "execution_count": null,
   "metadata": {},
   "outputs": [
    {
     "name": "stdout",
     "output_type": "stream",
     "text": [
      "Rudr$ K$shy$p\n"
     ]
    }
   ],
   "source": [
    "w=input(\"Enter a word: \")\n",
    "r=w.replace(\"a\",\"$\")\n",
    "print(r)\n"
   ]
  },
  {
   "cell_type": "code",
   "execution_count": 11,
   "metadata": {},
   "outputs": [
    {
     "name": "stdout",
     "output_type": "stream",
     "text": [
      "Rdra"
     ]
    }
   ],
   "source": [
    "s=input(\"Enter a word:  \")\n",
    "n=int(input(\"Enter intex number: \"))\n",
    "for i in range(len(s)):\n",
    "    if (i+1)!=n:\n",
    "        print(s[i],end=\"\")\n",
    "    else:\n",
    "        continue"
   ]
  },
  {
   "cell_type": "code",
   "execution_count": 5,
   "metadata": {},
   "outputs": [
    {
     "name": "stdout",
     "output_type": "stream",
     "text": [
      "audrR\n",
      "<class 'str'>\n"
     ]
    }
   ],
   "source": [
    "st=input(\"Enter a word: \")\n",
    "l1=list(st)\n",
    "l1[0],l1[-1]=l1[-1],l1[0]\n",
    "a=str(\"\".join(l1))\n",
    "print(a)\n",
    "print(type(a))"
   ]
  },
  {
   "cell_type": "code",
   "execution_count": 1,
   "metadata": {},
   "outputs": [
    {
     "name": "stdout",
     "output_type": "stream",
     "text": [
      "Rudra-Kashyap\n"
     ]
    }
   ],
   "source": [
    "s=input(\"Enter a string1: \")\n",
    "S=s.replace(\" \",\"-\")\n",
    "print(S)"
   ]
  },
  {
   "cell_type": "code",
   "execution_count": 6,
   "metadata": {},
   "outputs": [
    {
     "name": "stdout",
     "output_type": "stream",
     "text": [
      "Total numbers of vowels are:  3\n"
     ]
    }
   ],
   "source": [
    "s=input(\"Enter a string: \")\n",
    "count=0\n",
    "l1=[\"a\",\"e\",\"i\",\"o\",\"u\"]\n",
    "for i in s:\n",
    "    if i in l1:\n",
    "        count+=1\n",
    "print(\"Total numbers of vowels are: \",count)"
   ]
  },
  {
   "cell_type": "code",
   "execution_count": null,
   "metadata": {},
   "outputs": [
    {
     "name": "stdout",
     "output_type": "stream",
     "text": [
      "length of string is:  5\n"
     ]
    }
   ],
   "source": [
    "s=input(\"Enter a string: \")\n",
    "count=0\n",
    "for i in s:\n",
    "    count+=1\n",
    "print(\"length of string is: \",count)"
   ]
  },
  {
   "cell_type": "code",
   "execution_count": 7,
   "metadata": {},
   "outputs": [
    {
     "name": "stdout",
     "output_type": "stream",
     "text": [
      "lgtc"
     ]
    }
   ],
   "source": [
    "e=input(\"Enter a string: \")\n",
    "for i in range(len(e)):\n",
    "    if i%2==0:\n",
    "        print(e[i],end=\"\") #Rudra\n"
   ]
  },
  {
   "cell_type": "markdown",
   "metadata": {},
   "source": [
    "Experiment 5"
   ]
  },
  {
   "cell_type": "code",
   "execution_count": null,
   "metadata": {},
   "outputs": [
    {
     "name": "stdout",
     "output_type": "stream",
     "text": [
      "Given list is:  [67, 4, 5, 8, 0, 1, 6]\n",
      "The minimum element of a list is: 0\n"
     ]
    }
   ],
   "source": [
    "lst=eval(input(\"Enter list:\"))\n",
    "length=len(lst)\n",
    "min_ele=lst[0]\n",
    "min_index=0\n",
    "for i in range(1,length-1):\n",
    "    if lst[i]<min_ele:\n",
    "        min_ele=lst[i]\n",
    "print(\"Given list is: \",lst)\n",
    "print(\"The minimum element of a list is:\",min_ele)"
   ]
  },
  {
   "cell_type": "code",
   "execution_count": 15,
   "metadata": {},
   "outputs": [
    {
     "name": "stdout",
     "output_type": "stream",
     "text": [
      "[1, 2, 3, 4, 5, 6, 77]\n"
     ]
    }
   ],
   "source": [
    "#1\n",
    "l1=[1,2,3,4,5,6,77,6,1,2,3,4,5,6]\n",
    "l2=[]\n",
    "for i in l1:\n",
    "    if i not in l2:\n",
    "        l2.append(i)\n",
    "print(l2)"
   ]
  },
  {
   "cell_type": "code",
   "execution_count": 3,
   "metadata": {},
   "outputs": [
    {
     "name": "stdout",
     "output_type": "stream",
     "text": [
      "4\n",
      "10\n",
      "23\n",
      "23\n"
     ]
    }
   ],
   "source": [
    "#2\n",
    "def find_largest(numbers):\n",
    "    largest = numbers[0]\n",
    "    for num in numbers:\n",
    "        if num > largest:\n",
    "            largest = num\n",
    "    return largest\n",
    "\n",
    "numbers = [1, 4, 2, 10, 23, 3, 7]\n",
    "print(find_largest(numbers))"
   ]
  },
  {
   "cell_type": "code",
   "execution_count": 1,
   "metadata": {},
   "outputs": [
    {
     "name": "stdout",
     "output_type": "stream",
     "text": [
      "10\n"
     ]
    }
   ],
   "source": [
    "#3\n",
    "def find_second_largest(l):\n",
    "    n=len(l)\n",
    "    for i in range(n):\n",
    "        for j in range(0,n-i-1):\n",
    "            if l[j]>l[j+1]:\n",
    "                l[j],l[j+1]=l[j+1],l[j]\n",
    "    return l[-2]\n",
    "numbers = [1, 4, 2, 10, 23, 3, 7]\n",
    "print(find_second_largest(numbers))"
   ]
  },
  {
   "cell_type": "code",
   "execution_count": 16,
   "metadata": {},
   "outputs": [
    {
     "name": "stdout",
     "output_type": "stream",
     "text": [
      "[7, 25, 17, 25, 35]\n"
     ]
    }
   ],
   "source": [
    "#4\n",
    "l1=[2,15,7,20,30]\n",
    "l2=[]\n",
    "for i in l1:\n",
    "    if i%2==0:\n",
    "        i+=5\n",
    "        l2.append(i)\n",
    "    elif i%2!=0:\n",
    "        i+=10\n",
    "        l2.append(i)\n",
    "    else:\n",
    "        continue\n",
    "print(l2)"
   ]
  },
  {
   "cell_type": "code",
   "execution_count": 20,
   "metadata": {},
   "outputs": [
    {
     "name": "stdout",
     "output_type": "stream",
     "text": [
      "Swaped list:  [7, 2, 3, 4, 5, 6, 1]\n"
     ]
    }
   ],
   "source": [
    "#5\n",
    "l1=[1,2,3,4,5,6,7]\n",
    "temp=l1[0]\n",
    "l1[0]=l1[-1]\n",
    "l1[-1]=temp\n",
    "print(\"Swaped list: \",l1)"
   ]
  },
  {
   "cell_type": "code",
   "execution_count": 22,
   "metadata": {},
   "outputs": [
    {
     "name": "stdout",
     "output_type": "stream",
     "text": [
      "Sum of all the elements in the list is:  28\n"
     ]
    }
   ],
   "source": [
    "#6\n",
    "l1=[1,2,3,4,5,6,7]\n",
    "sum=0\n",
    "for i in l1:\n",
    "    sum+=i\n",
    "print(\"Sum of all the elements in the list is: \",sum)"
   ]
  },
  {
   "cell_type": "code",
   "execution_count": 18,
   "metadata": {},
   "outputs": [
    {
     "name": "stdout",
     "output_type": "stream",
     "text": [
      "sum of even values:  58\n",
      "Sum of odd values:  65\n"
     ]
    }
   ],
   "source": [
    "#7\n",
    "l1=[15,26,37,10,22,13]\n",
    "sum1=0\n",
    "sum2=0\n",
    "for i in l1:\n",
    "    if i%2==0:\n",
    "        sum1+=i\n",
    "    elif i%2!=0:\n",
    "        sum2+=i\n",
    "    else:\n",
    "        continue\n",
    "print(\"sum of even values: \",sum1)\n",
    "print(\"Sum of odd values: \",sum2)"
   ]
  },
  {
   "cell_type": "code",
   "execution_count": 20,
   "metadata": {},
   "outputs": [
    {
     "name": "stdout",
     "output_type": "stream",
     "text": [
      "numbers divisible by 3:  3\n",
      "Numbers divisible by 7:  1\n"
     ]
    }
   ],
   "source": [
    "#8\n",
    "def count_divisible(l):\n",
    "    c_3div=0\n",
    "    c_7div=0\n",
    "    for i in l:\n",
    "        if i>=1:\n",
    "            if i%3==0:\n",
    "                c_3div+=1\n",
    "            elif i%7==0:\n",
    "                c_7div+=1\n",
    "        else:\n",
    "            print(\"Invalid Input\")\n",
    "    print(\"numbers divisible by 3: \",c_3div)\n",
    "    print(\"Numbers divisible by 7: \",c_7div)\n",
    "l1=[1,2,3,4,5,6,7,8,9]\n",
    "count_divisible(l1)"
   ]
  },
  {
   "cell_type": "code",
   "execution_count": 18,
   "metadata": {},
   "outputs": [
    {
     "name": "stdout",
     "output_type": "stream",
     "text": [
      "[6, 7, 8, 9, 5, 1, 2, 3, 4]\n"
     ]
    }
   ],
   "source": [
    "#9\n",
    "lst=[1,2,3,4,5,6,7,8,9]\n",
    "h=len(lst)//2\n",
    "if len(lst)%2==0:\n",
    "    s=0\n",
    "else:\n",
    "    s=1\n",
    "for i in range(h):\n",
    "    temp=lst[i]\n",
    "    lst[i]=lst[i+h+s]\n",
    "    lst[i+h+s]=temp\n",
    "print(lst)\n"
   ]
  },
  {
   "cell_type": "code",
   "execution_count": 21,
   "metadata": {},
   "outputs": [
    {
     "name": "stdout",
     "output_type": "stream",
     "text": [
      "Enter elements for tuple.\n",
      "(1, 2, 3, 4, 5)\n"
     ]
    }
   ],
   "source": [
    "#10\n",
    "\n",
    "n=int(input(\"How many elements you want in your tuple: \"))\n",
    "t=()\n",
    "print(\"Enter elements for tuple.\")\n",
    "for i in  range(n):\n",
    "    n1=int(input(\"Enter element: \"))\n",
    "    t+=(n1,)\n",
    "print(t)"
   ]
  },
  {
   "cell_type": "code",
   "execution_count": 20,
   "metadata": {},
   "outputs": [
    {
     "ename": "NameError",
     "evalue": "name 'Luggage' is not defined",
     "output_type": "error",
     "traceback": [
      "\u001b[1;31m---------------------------------------------------------------------------\u001b[0m",
      "\u001b[1;31mNameError\u001b[0m                                 Traceback (most recent call last)",
      "Cell \u001b[1;32mIn[20], line 2\u001b[0m\n\u001b[0;32m      1\u001b[0m \u001b[39m#11\u001b[39;00m\n\u001b[1;32m----> 2\u001b[0m Plane\u001b[39m=\u001b[39m(\u001b[39m\"\u001b[39m\u001b[39mPassengers\u001b[39m\u001b[39m\"\u001b[39m, Luggage)\n\u001b[0;32m      3\u001b[0m Plane[\u001b[39m1\u001b[39m]\u001b[39m=\u001b[39m\u001b[39m\"\u001b[39m\u001b[39msnakes\u001b[39m\u001b[39m\"\u001b[39m\n",
      "\u001b[1;31mNameError\u001b[0m: name 'Luggage' is not defined"
     ]
    }
   ],
   "source": [
    "#11\n",
    "Plane=(\"Passengers\", Luggage)\n",
    "Plane[1]=\"snakes\""
   ]
  },
  {
   "cell_type": "code",
   "execution_count": 22,
   "metadata": {},
   "outputs": [
    {
     "ename": "TypeError",
     "evalue": "'tuple' object does not support item assignment",
     "output_type": "error",
     "traceback": [
      "\u001b[1;31m---------------------------------------------------------------------------\u001b[0m",
      "\u001b[1;31mTypeError\u001b[0m                                 Traceback (most recent call last)",
      "Cell \u001b[1;32mIn[22], line 3\u001b[0m\n\u001b[0;32m      1\u001b[0m \u001b[39m#11\u001b[39;00m\n\u001b[0;32m      2\u001b[0m Tup\u001b[39m=\u001b[39m(\u001b[39m1\u001b[39m,)\u001b[39m*\u001b[39m\u001b[39m3\u001b[39m\n\u001b[1;32m----> 3\u001b[0m Tup[\u001b[39m0\u001b[39;49m]\u001b[39m=\u001b[39m\u001b[39m2\u001b[39m\n\u001b[0;32m      4\u001b[0m \u001b[39mprint\u001b[39m(Tup)\n",
      "\u001b[1;31mTypeError\u001b[0m: 'tuple' object does not support item assignment"
     ]
    }
   ],
   "source": [
    "#11\n",
    "Tup=(1,)*3\n",
    "Tup[0]=2\n",
    "print(Tup)\n"
   ]
  },
  {
   "cell_type": "code",
   "execution_count": 26,
   "metadata": {},
   "outputs": [
    {
     "name": "stdout",
     "output_type": "stream",
     "text": [
      "Enter elements for tuple.\n",
      "{1, 4}\n"
     ]
    }
   ],
   "source": [
    "#12\n",
    "n=int(input(\"How many elements you want in your tuple: \"))\n",
    "st=set()\n",
    "print(\"Enter elements for tuple.\")\n",
    "for i in  range(n):\n",
    "    n1=int(input(\"Enter element: \"))\n",
    "    st.add(n1)\n",
    "print(st)"
   ]
  },
  {
   "cell_type": "code",
   "execution_count": 27,
   "metadata": {},
   "outputs": [
    {
     "name": "stdout",
     "output_type": "stream",
     "text": [
      "{1, 2, 3, 4, 5}\n"
     ]
    }
   ],
   "source": [
    "#13\n",
    "s1={1,2,3,4}\n",
    "s2={5,4,3,2,1}\n",
    "s=s1.union(s2)\n",
    "print(s)"
   ]
  },
  {
   "attachments": {},
   "cell_type": "markdown",
   "metadata": {},
   "source": [
    "Experiment 6"
   ]
  },
  {
   "cell_type": "code",
   "execution_count": 1,
   "metadata": {},
   "outputs": [
    {
     "name": "stdout",
     "output_type": "stream",
     "text": [
      "{'R': 1, 'u': 1, 'd': 1, 'r': 1, 'a': 1}\n",
      "R occured.... 1 times\n",
      "u occured.... 1 times\n",
      "d occured.... 1 times\n",
      "r occured.... 1 times\n",
      "a occured.... 1 times\n"
     ]
    }
   ],
   "source": [
    "Word=input(\"Enter some word:\")\n",
    "d={}\n",
    "for x in Word:\n",
    " d[x]=d.get(x,0)+1\n",
    "print(d)\n",
    "for k,v in d.items():\n",
    " print(k,\"occured....\",v,\"times\") "
   ]
  },
  {
   "cell_type": "code",
   "execution_count": 1,
   "metadata": {},
   "outputs": [
    {
     "name": "stdout",
     "output_type": "stream",
     "text": [
      "{63: 'Rudra'}\n"
     ]
    }
   ],
   "source": [
    "#1\n",
    "d={}\n",
    "rollno=int(input(\"Enter roll number:\" ))\n",
    "name=input(\"Enter your name: \")\n",
    "d[rollno]=name\n",
    "print(d)\n"
   ]
  },
  {
   "cell_type": "code",
   "execution_count": 10,
   "metadata": {},
   "outputs": [
    {
     "name": "stdout",
     "output_type": "stream",
     "text": [
      "Sum of values is:  172\n"
     ]
    }
   ],
   "source": [
    "#2\n",
    "d={63: 50, 48: 20, 71: 30, 64: 22, 78: 50}\n",
    "a=d.values()\n",
    "sum=0\n",
    "for i in a:\n",
    "    sum+=i\n",
    "print(\"Sum of values is: \",sum)\n"
   ]
  },
  {
   "cell_type": "code",
   "execution_count": 6,
   "metadata": {},
   "outputs": [
    {
     "name": "stdout",
     "output_type": "stream",
     "text": [
      "{'Om': 22, 'Gaurav': 37, 'Rudra': 48, 'Rudrani': 64, 'Sagar': 65}\n"
     ]
    }
   ],
   "source": [
    "#3\n",
    "d={\"Rudra\":48,\"Om\":22,\"Gaurav\":37,\"Rudrani\":64,\"Sagar\":65}\n",
    "new={}\n",
    "l=list(d.values())\n",
    "l.sort()\n",
    "for i in l:\n",
    "    for j in d:\n",
    "        if i==d[j]:\n",
    "            new[j]=i\n",
    "print(new)"
   ]
  },
  {
   "cell_type": "code",
   "execution_count": 26,
   "metadata": {},
   "outputs": [
    {
     "name": "stdout",
     "output_type": "stream",
     "text": [
      "{1: 'Monday', 2: 'Tuesday', 3: 'Wednesday'}\n"
     ]
    }
   ],
   "source": [
    "#4\n",
    "Day=dict(zip({1,2,3},{\"Monday\",\"Tuesday\",\"Wednesday\"}))\n",
    "print(Day)"
   ]
  },
  {
   "cell_type": "code",
   "execution_count": 14,
   "metadata": {},
   "outputs": [
    {
     "name": "stdout",
     "output_type": "stream",
     "text": [
      "{'Monday': 1, 'Tuesday': 2, 'Wednesday': 3}\n"
     ]
    }
   ],
   "source": [
    "#5\n",
    "d={1: 'Monday', 2: 'Tuesday', 3: 'Wednesday'}\n",
    "new={}\n",
    "for i in d:\n",
    "    new[d[i]]=i\n",
    "print(new)"
   ]
  },
  {
   "cell_type": "code",
   "execution_count": 23,
   "metadata": {},
   "outputs": [
    {
     "name": "stdout",
     "output_type": "stream",
     "text": [
      "Keys with duplicates values in dictionary is:  2\n",
      "Keys with duplicates values in dictionary is:  4\n"
     ]
    }
   ],
   "source": [
    "#6\n",
    "d={1: 'Monday', 2: 'Tuesday', 3: 'Wednesday',4:\"Tuesday\"}\n",
    "new={}\n",
    "for key, value in d.items():\n",
    "    if value not in new:\n",
    "        new[value]=[key]\n",
    "    else:\n",
    "        new[value].append(key)\n",
    "for i, j in new.items():\n",
    "    if len(j)>1:\n",
    "        for x in j:\n",
    "            print(\"Keys with duplicates values in dictionary is: \",x)"
   ]
  },
  {
   "cell_type": "code",
   "execution_count": 4,
   "metadata": {},
   "outputs": [
    {
     "name": "stdout",
     "output_type": "stream",
     "text": [
      "Updated Dictionary:  {'Om': 22, 'Gaurav': 37}\n"
     ]
    }
   ],
   "source": [
    "#7\n",
    "d={\"Rudra\":48,\"Om\":22,\"Gaurav\":37,\"Sagar\":\"S\"}\n",
    "K=40\n",
    "new={}\n",
    "for i in d.items():\n",
    "    if type(i[1])==int:\n",
    "        if i[1]>K:\n",
    "            continue    \n",
    "        else:\n",
    "            new[i[0]]=i[1]\n",
    "    else:\n",
    "        continue\n",
    "print(\"Updated Dictionary: \",new)\n"
   ]
  },
  {
   "cell_type": "code",
   "execution_count": 6,
   "metadata": {},
   "outputs": [
    {
     "name": "stdout",
     "output_type": "stream",
     "text": [
      "[]\n"
     ]
    }
   ],
   "source": [
    "#8\n",
    "D={1:\"one\",2:\"two\",3:\"three\"}\n",
    "L=[]\n",
    "for K,V in D.items():\n",
    "    if V[0]==\"T\":\n",
    "        L.append(K)\n",
    "print(L)"
   ]
  },
  {
   "cell_type": "code",
   "execution_count": 7,
   "metadata": {},
   "outputs": [
    {
     "name": "stdout",
     "output_type": "stream",
     "text": [
      "{1: 'ZEESHAN', 2: 'NISHANT', 3: 'GURMEET', 4: 'LISA'}\n"
     ]
    }
   ],
   "source": [
    "#9\n",
    "D={}\n",
    "T=(\"ZEESHAN\",\"NISHANT\",\"GURMEET\",\"LISA\") \n",
    "for i in range(1,5):\n",
    "    D[i]=T[i-1]\n",
    "print(D) "
   ]
  },
  {
   "cell_type": "code",
   "execution_count": 7,
   "metadata": {},
   "outputs": [
    {
     "name": "stdout",
     "output_type": "stream",
     "text": [
      "{1: 'ZEESHAN', 2: 'RUDRA', 3: 'LISA'}\n"
     ]
    }
   ],
   "source": [
    "#10\n",
    "d1={1: 'ZEESHAN', 2: 'NISHANT', 3: 'LISA'}\n",
    "d2={2:\"RUDRA\"}\n",
    "d1.update(d2)\n",
    "print(d1)"
   ]
  },
  {
   "attachments": {},
   "cell_type": "markdown",
   "metadata": {},
   "source": [
    "Experiment 7"
   ]
  },
  {
   "cell_type": "code",
   "execution_count": 3,
   "metadata": {},
   "outputs": [
    {
     "name": "stdout",
     "output_type": "stream",
     "text": [
      "Element is not present in array\n"
     ]
    }
   ],
   "source": [
    "def binary_search(arr, x):\n",
    " low=0\n",
    " high=len(arr)-1\n",
    " mid=0\n",
    " while low<=high:\n",
    "    mid=(high+low)//2\n",
    "    if arr[mid]<x:\n",
    "        low=mid+1\n",
    "    elif arr[mid]>x:\n",
    "        high=mid - 1\n",
    "    else:\n",
    "        return mid\n",
    "    return -1\n",
    "arr=[2, 3, 4, 10, 40]\n",
    "x=10\n",
    "# Function call\n",
    "result=binary_search(arr, x)\n",
    "if result!=-1:\n",
    "    print(\"Element is present at index\", str(result))\n",
    "else:\n",
    "    print(\"Element is not present in array\")"
   ]
  },
  {
   "cell_type": "code",
   "execution_count": 3,
   "metadata": {},
   "outputs": [
    {
     "name": "stdout",
     "output_type": "stream",
     "text": [
      "1010\n",
      "10\n"
     ]
    }
   ],
   "source": [
    "#1\n",
    "def binary_to_decimal(binary):\n",
    "    decimal = 0\n",
    "    binary = str(binary)\n",
    "    for digit in binary:\n",
    "        decimal = decimal*2 + int(digit)\n",
    "    return decimal\n",
    "\n",
    "def decimal_to_binary(decimal):\n",
    "    binary = \"\"\n",
    "    while decimal > 0:\n",
    "        binary = str(decimal % 2) + binary\n",
    "        decimal = decimal // 2\n",
    "    return binary\n",
    "\n",
    "print(decimal_to_binary(10))\n",
    "print(binary_to_decimal(1010))"
   ]
  },
  {
   "cell_type": "code",
   "execution_count": 5,
   "metadata": {},
   "outputs": [
    {
     "name": "stdout",
     "output_type": "stream",
     "text": [
      "Original List:  [15, 6, 13, 22, 3, 52, 2]\n",
      "Sorted List:  [2, 3, 6, 13, 15, 22, 52]\n"
     ]
    }
   ],
   "source": [
    "#2a\n",
    "#Bubble Sort\n",
    "l=[15,6,13,22,3,52,2]\n",
    "print(\"Original List: \",l)\n",
    "n=len(l)\n",
    "for i in range(n):\n",
    "    for j in range(0,n-i-1):\n",
    "        if l[j]>l[j+1]:\n",
    "            l[j],l[j+1]=l[j+1],l[j]\n",
    "print(\"Sorted List: \",l)"
   ]
  },
  {
   "cell_type": "code",
   "execution_count": 30,
   "metadata": {},
   "outputs": [
    {
     "name": "stdout",
     "output_type": "stream",
     "text": [
      "Original List:  [15, 6, 13, 22, 3, 52, 2]\n",
      "Sorted List:  [2, 3, 6, 13, 15, 22, 52]\n"
     ]
    }
   ],
   "source": [
    "#2b\n",
    "#insertion sort\n",
    "l1=[15,6,13,22,3,52,2]\n",
    "print(\"Original List: \",l1)\n",
    "n=len(l1)\n",
    "for i in range(1,n):\n",
    "    current=l1[i]\n",
    "    pos=i\n",
    "    while  current<l1[pos-1] and pos>0:\n",
    "        l1[pos]=l1[pos-1]\n",
    "        pos=pos-1\n",
    "    l1[pos]=current\n",
    "print(\"Sorted List: \",l1)"
   ]
  },
  {
   "cell_type": "code",
   "execution_count": 2,
   "metadata": {},
   "outputs": [
    {
     "name": "stdout",
     "output_type": "stream",
     "text": [
      "Original List:  [15, 6, 13, 22, 3, 52, 2]\n",
      "Sortred List:  [2, 3, 6, 13, 15, 22, 52]\n"
     ]
    }
   ],
   "source": [
    "#2c\n",
    "#selection sort\n",
    "l1=[15,6,13,22,3,52,2]\n",
    "print(\"Original List: \",l1)\n",
    "for i in range(len(l1)):\n",
    "    min_val=min(l1[i:])\n",
    "    min_index=l1.index(min_val)\n",
    "    l1[i],l1[min_index]=l1[min_index],l1[i]\n",
    "print(\"Sortred List: \",l1)"
   ]
  },
  {
   "cell_type": "code",
   "execution_count": 5,
   "metadata": {},
   "outputs": [
    {
     "name": "stdout",
     "output_type": "stream",
     "text": [
      "3\n",
      "4\n"
     ]
    }
   ],
   "source": [
    "#3a\n",
    "def myfunc(x,y=3):\n",
    "    a=1\n",
    "    for i in range(x): \n",
    "        a=a*y\n",
    "        return a\n",
    "print(myfunc(4))\n",
    "print(myfunc(4,4))\n"
   ]
  },
  {
   "cell_type": "code",
   "execution_count": 12,
   "metadata": {},
   "outputs": [
    {
     "name": "stdout",
     "output_type": "stream",
     "text": [
      "5#5\n"
     ]
    }
   ],
   "source": [
    "#3b\n",
    "value=50\n",
    "def display(N):\n",
    "    global value \n",
    "    value=25 \n",
    "    if N%7==0:\n",
    "        value=value+N\n",
    "    else:\n",
    "        value=value-N\n",
    "        print(value,end=\"#\")\n",
    "display(20)\n",
    "print(value)"
   ]
  },
  {
   "cell_type": "code",
   "execution_count": 8,
   "metadata": {},
   "outputs": [
    {
     "name": "stdout",
     "output_type": "stream",
     "text": [
      "250 # 150\n",
      "250 # 100\n",
      "130 # 100\n",
      "250 % 130\n"
     ]
    }
   ],
   "source": [
    "#3c\n",
    "def Change(P,Q=30): \n",
    "    P=P+Q\n",
    "    Q=P-Q\n",
    "    print(P,\"#\",Q)\n",
    "    return (P)\n",
    "R=150\n",
    "S=100\n",
    "R=Change(R,S)\n",
    "print(R,\"#\",S)\n",
    "S=Change(S)\n",
    "print(R,\"%\",S)"
   ]
  },
  {
   "cell_type": "code",
   "execution_count": 11,
   "metadata": {},
   "outputs": [
    {
     "data": {
      "text/plain": [
       "1"
      ]
     },
     "execution_count": 11,
     "metadata": {},
     "output_type": "execute_result"
    }
   ],
   "source": [
    "#3d\n",
    "def test():\n",
    "    global add\n",
    "    add=add+1\n",
    "    return add\n",
    "add=0  \n",
    "test()"
   ]
  },
  {
   "cell_type": "code",
   "execution_count": 16,
   "metadata": {},
   "outputs": [
    {
     "name": "stdout",
     "output_type": "stream",
     "text": [
      "AHMEDABAD\n",
      "AMRITSAR\n",
      "AGRA\n"
     ]
    }
   ],
   "source": [
    "#4\n",
    "def AFIND(CITIES):\n",
    "    for i in CITIES:\n",
    "        if i[0]==\"A\":\n",
    "            print(i)\n",
    "l1=[\"AHMEDABAD\",\"CHENNAI\",\"NEW DELHI\",\"AMRITSAR\",\"AGRA\"]\n",
    "AFIND(l1)"
   ]
  },
  {
   "cell_type": "code",
   "execution_count": 11,
   "metadata": {},
   "outputs": [
    {
     "data": {
      "text/plain": [
       "-1"
      ]
     },
     "execution_count": 11,
     "metadata": {},
     "output_type": "execute_result"
    }
   ],
   "source": [
    "#5\n",
    "def binary_search_descending(arr, val):\n",
    "    left = 0\n",
    "    right = len(arr) - 1\n",
    "    while left <= right:\n",
    "        mid = (left + right) // 2\n",
    "        if arr[mid] == val:\n",
    "            return mid\n",
    "        elif arr[mid] < val:\n",
    "            right = mid - 1\n",
    "        else:\n",
    "            left = mid + 1\n",
    "    return -1\n",
    "arr=[15,11,9,8,6,3,1]\n",
    "binary_search_descending(arr,10)"
   ]
  },
  {
   "cell_type": "code",
   "execution_count": null,
   "metadata": {},
   "outputs": [],
   "source": [
    "#6\n",
    "def display_primes(n):\n",
    "    for num in range(2, n+1):\n",
    "        prime = True\n",
    "        for i in range(2, num):\n",
    "            if (num % i) == 0:\n",
    "                prime = False\n",
    "                break\n",
    "        if prime:\n",
    "            print(num)"
   ]
  },
  {
   "cell_type": "code",
   "execution_count": 5,
   "metadata": {},
   "outputs": [
    {
     "name": "stdout",
     "output_type": "stream",
     "text": [
      "20 4 12 10 14 16 8 "
     ]
    }
   ],
   "source": [
    "#7\n",
    "def Reverse(X):\n",
    "    l2=[]\n",
    "    l2=l1[::-1]\n",
    "    for i in l2:\n",
    "        print(i*2,end=\" \")\n",
    "l1=[4,8,7,5,6,2,10]\n",
    "Reverse(l1)"
   ]
  },
  {
   "cell_type": "code",
   "execution_count": 6,
   "metadata": {},
   "outputs": [
    {
     "name": "stdout",
     "output_type": "stream",
     "text": [
      "Hello, John. How are you?\n"
     ]
    }
   ],
   "source": [
    "#8\n",
    "def greet(name, message):\n",
    "    print(\"Hello, \" + name + \". \" + message)\n",
    "\n",
    "greet(name=\"John\", message=\"How are you?\")"
   ]
  },
  {
   "cell_type": "code",
   "execution_count": 3,
   "metadata": {},
   "outputs": [
    {
     "name": "stdout",
     "output_type": "stream",
     "text": [
      "20#36#27#100#"
     ]
    }
   ],
   "source": [
    "#9\n",
    "def listChange():\n",
    "    for i in range(len(L)):\n",
    "        if L[i]%2==0:\n",
    "            L[i]=L[i]*2\n",
    "        if L[i]%3==0:\n",
    "            L[i]=L[i]*3\n",
    "        else:\n",
    "            L[i]=L[i]*5\n",
    "L=[2,6,9,10]\n",
    "listChange()\n",
    "for i in L:\n",
    "    print(i,end=\"#\")\n"
   ]
  },
  {
   "cell_type": "code",
   "execution_count": 4,
   "metadata": {},
   "outputs": [
    {
     "name": "stdout",
     "output_type": "stream",
     "text": [
      "50!100*25\n"
     ]
    }
   ],
   "source": [
    "#10\n",
    "V=25\n",
    "def Fun(ch):\n",
    "    V=50\n",
    "    print(V,end=ch)\n",
    "    V*=2\n",
    "    print(V,end=\"*\")\n",
    "Fun(\"!\")\n",
    "print(V)"
   ]
  },
  {
   "cell_type": "code",
   "execution_count": 5,
   "metadata": {},
   "outputs": [
    {
     "name": "stdout",
     "output_type": "stream",
     "text": [
      "20#50@20\n"
     ]
    }
   ],
   "source": [
    "#11\n",
    "V=50\n",
    "def Change(N):\n",
    "    global V \n",
    "    V,N=N,V\n",
    "    print(V,N,sep=\"#\",end=\"@\")\n",
    "Change(20)\n",
    "print(V)"
   ]
  },
  {
   "cell_type": "code",
   "execution_count": 17,
   "metadata": {},
   "outputs": [
    {
     "name": "stdout",
     "output_type": "stream",
     "text": [
      "Inside the function, x =  11\n",
      "Outside the function, x =  10\n"
     ]
    }
   ],
   "source": [
    "#12\n",
    "def change_value(x):\n",
    "    x = x + 1\n",
    "    print(\"Inside the function, x = \", x)\n",
    "\n",
    "x = 10\n",
    "change_value(x)\n",
    "print(\"Outside the function, x = \", x)"
   ]
  },
  {
   "cell_type": "code",
   "execution_count": 4,
   "metadata": {},
   "outputs": [
    {
     "name": "stdout",
     "output_type": "stream",
     "text": [
      "Inside the function, lst =  [1, 2, 3, 4, 5]\n",
      "Outside the function, lst =  [1, 2, 3, 4]\n"
     ]
    }
   ],
   "source": [
    "#13\n",
    "def change_list(lst):\n",
    "    # assign the list to a new variable\n",
    "    new_lst = lst.copy()\n",
    "    new_lst.append(5)\n",
    "    print(\"Inside the function, lst = \", new_lst)\n",
    "\n",
    "lst = [1, 2, 3, 4]\n",
    "change_list(lst)\n",
    "print(\"Outside the function, lst = \", lst)"
   ]
  },
  {
   "cell_type": "code",
   "execution_count": 5,
   "metadata": {},
   "outputs": [
    {
     "name": "stdout",
     "output_type": "stream",
     "text": [
      "Element is present at index 3\n"
     ]
    }
   ],
   "source": [
    "def binary_search(arr, low, high, x):\n",
    "    if low <= high:\n",
    "        mid = (high + low) // 2\n",
    "        if arr[mid] == x:\n",
    "            return mid\n",
    "        elif arr[mid] > x:\n",
    "            return binary_search(arr, low, mid-1, x)\n",
    "        else:\n",
    "            return binary_search(arr, mid+1, high, x)\n",
    "    else:\n",
    "        return -1\n",
    "arr = [2, 3, 4, 10, 40]\n",
    "x = 10\n",
    "result = binary_search(arr, 0, len(arr)-1, x)\n",
    "if result != -1:\n",
    "    print(\"Element is present at index\", str(result))\n",
    "else:\n",
    "    print(\"Element is not present in array\")"
   ]
  }
 ],
 "metadata": {
  "kernelspec": {
   "display_name": "Python 3",
   "language": "python",
   "name": "python3"
  },
  "language_info": {
   "codemirror_mode": {
    "name": "ipython",
    "version": 3
   },
   "file_extension": ".py",
   "mimetype": "text/x-python",
   "name": "python",
   "nbconvert_exporter": "python",
   "pygments_lexer": "ipython3",
   "version": "3.11.1"
  },
  "orig_nbformat": 4,
  "vscode": {
   "interpreter": {
    "hash": "7d705625a073828d9d6987a7dff4ead27d7dfee1dd954c9d3a1d6b085c12cf79"
   }
  }
 },
 "nbformat": 4,
 "nbformat_minor": 2
}
