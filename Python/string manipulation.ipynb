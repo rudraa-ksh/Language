{
 "cells": [
  {
   "cell_type": "code",
   "execution_count": 1,
   "metadata": {},
   "outputs": [],
   "source": [
    "#self practise"
   ]
  },
  {
   "cell_type": "code",
   "execution_count": 5,
   "metadata": {},
   "outputs": [
    {
     "name": "stdout",
     "output_type": "stream",
     "text": [
      "11\n"
     ]
    }
   ],
   "source": [
    "print(\"1\"+\"1\")"
   ]
  },
  {
   "cell_type": "code",
   "execution_count": 7,
   "metadata": {},
   "outputs": [
    {
     "name": "stdout",
     "output_type": "stream",
     "text": [
      "Rudra Great\n"
     ]
    }
   ],
   "source": [
    "print(\"Rudra\"+\" Great\")"
   ]
  },
  {
   "cell_type": "code",
   "execution_count": 14,
   "metadata": {},
   "outputs": [
    {
     "name": "stdout",
     "output_type": "stream",
     "text": [
      " [Rudra kashyap] [Rudra kashyap]\n"
     ]
    }
   ],
   "source": [
    "print(\" [Rudra kashyap]\"*2)"
   ]
  },
  {
   "cell_type": "code",
   "execution_count": 37,
   "metadata": {},
   "outputs": [
    {
     "name": "stdout",
     "output_type": "stream",
     "text": [
      "RUDRA RUDRA RUDRA RUDRA RUDRA RUDRA RUDRA RUDRA RUDRA RUDRA \n"
     ]
    }
   ],
   "source": [
    "print(\"RUDRA \"*10)"
   ]
  },
  {
   "cell_type": "code",
   "execution_count": 22,
   "metadata": {},
   "outputs": [
    {
     "data": {
      "text/plain": [
       "True"
      ]
     },
     "execution_count": 22,
     "metadata": {},
     "output_type": "execute_result"
    }
   ],
   "source": [
    "\"a\"in\"Rudra\""
   ]
  },
  {
   "cell_type": "code",
   "execution_count": 23,
   "metadata": {},
   "outputs": [
    {
     "data": {
      "text/plain": [
       "True"
      ]
     },
     "execution_count": 23,
     "metadata": {},
     "output_type": "execute_result"
    }
   ],
   "source": [
    "\"sh\"in\"Rudra kashyap\""
   ]
  },
  {
   "cell_type": "code",
   "execution_count": 24,
   "metadata": {},
   "outputs": [
    {
     "data": {
      "text/plain": [
       "True"
      ]
     },
     "execution_count": 24,
     "metadata": {},
     "output_type": "execute_result"
    }
   ],
   "source": [
    "\"98\"in\"9827186154\""
   ]
  },
  {
   "cell_type": "code",
   "execution_count": 29,
   "metadata": {},
   "outputs": [
    {
     "name": "stdout",
     "output_type": "stream",
     "text": [
      "Enter a number::120\n",
      "yes it contains 0\n"
     ]
    }
   ],
   "source": [
    "integer=int(input(\"Enter a number::\"))\n",
    "a=str(integer)\n",
    "if\"0\"in a:\n",
    "    print(\"yes it contains 0\")\n",
    "else:\n",
    "    print(\"NO it not contains 0\")\n",
    "    "
   ]
  },
  {
   "cell_type": "code",
   "execution_count": 33,
   "metadata": {},
   "outputs": [
    {
     "data": {
      "text/plain": [
       "False"
      ]
     },
     "execution_count": 33,
     "metadata": {},
     "output_type": "execute_result"
    }
   ],
   "source": [
    "\"Rudra \"==\"Rudra\""
   ]
  },
  {
   "cell_type": "code",
   "execution_count": 34,
   "metadata": {},
   "outputs": [
    {
     "data": {
      "text/plain": [
       "True"
      ]
     },
     "execution_count": 34,
     "metadata": {},
     "output_type": "execute_result"
    }
   ],
   "source": [
    "\"Rudra\"==\"Rudra\""
   ]
  },
  {
   "cell_type": "code",
   "execution_count": 35,
   "metadata": {},
   "outputs": [
    {
     "data": {
      "text/plain": [
       "True"
      ]
     },
     "execution_count": 35,
     "metadata": {},
     "output_type": "execute_result"
    }
   ],
   "source": [
    "\"RUDRA KASHYAP\"!=\"rudra kashyap\""
   ]
  },
  {
   "cell_type": "code",
   "execution_count": 43,
   "metadata": {},
   "outputs": [
    {
     "data": {
      "text/plain": [
       "13"
      ]
     },
     "execution_count": 43,
     "metadata": {},
     "output_type": "execute_result"
    }
   ],
   "source": [
    "R=\"Rudra kashyap\"\n",
    "len(R)"
   ]
  },
  {
   "cell_type": "code",
   "execution_count": 1,
   "metadata": {},
   "outputs": [
    {
     "data": {
      "text/plain": [
       "'R udra kashyap'"
      ]
     },
     "execution_count": 1,
     "metadata": {},
     "output_type": "execute_result"
    }
   ],
   "source": [
    "print=\"r udra kashyap\"\n",
    "print.capitalize()"
   ]
  },
  {
   "cell_type": "code",
   "execution_count": 53,
   "metadata": {},
   "outputs": [
    {
     "data": {
      "text/plain": [
       "3"
      ]
     },
     "execution_count": 53,
     "metadata": {},
     "output_type": "execute_result"
    }
   ],
   "source": [
    "'Rudra kashyap'.count('a',0,13)"
   ]
  },
  {
   "cell_type": "code",
   "execution_count": 1,
   "metadata": {},
   "outputs": [
    {
     "data": {
      "text/plain": [
       "4"
      ]
     },
     "execution_count": 1,
     "metadata": {},
     "output_type": "execute_result"
    }
   ],
   "source": [
    "'Rudra kashyap'.find('a',0,12)"
   ]
  },
  {
   "cell_type": "code",
   "execution_count": 2,
   "metadata": {},
   "outputs": [
    {
     "data": {
      "text/plain": [
       "4"
      ]
     },
     "execution_count": 2,
     "metadata": {},
     "output_type": "execute_result"
    }
   ],
   "source": [
    "'Rudra kashyap'.index('a',2,13)"
   ]
  },
  {
   "cell_type": "code",
   "execution_count": 26,
   "metadata": {},
   "outputs": [
    {
     "data": {
      "text/plain": [
       "True"
      ]
     },
     "execution_count": 26,
     "metadata": {},
     "output_type": "execute_result"
    }
   ],
   "source": [
    "'rrrrrr'.isalnum()"
   ]
  },
  {
   "cell_type": "code",
   "execution_count": 45,
   "metadata": {},
   "outputs": [
    {
     "data": {
      "text/plain": [
       "False"
      ]
     },
     "execution_count": 45,
     "metadata": {},
     "output_type": "execute_result"
    }
   ],
   "source": [
    "'12'.isalpha()"
   ]
  },
  {
   "cell_type": "code",
   "execution_count": 73,
   "metadata": {},
   "outputs": [
    {
     "data": {
      "text/plain": [
       "False"
      ]
     },
     "execution_count": 73,
     "metadata": {},
     "output_type": "execute_result"
    }
   ],
   "source": [
    "\"232235v3\".isdigit()"
   ]
  },
  {
   "cell_type": "code",
   "execution_count": 1,
   "metadata": {},
   "outputs": [
    {
     "data": {
      "text/plain": [
       "True"
      ]
     },
     "execution_count": 1,
     "metadata": {},
     "output_type": "execute_result"
    }
   ],
   "source": [
    "'rudfra5'.islower()"
   ]
  },
  {
   "cell_type": "code",
   "execution_count": 46,
   "metadata": {},
   "outputs": [
    {
     "data": {
      "text/plain": [
       "True"
      ]
     },
     "execution_count": 46,
     "metadata": {},
     "output_type": "execute_result"
    }
   ],
   "source": [
    "'RUDRA'.isupper()"
   ]
  },
  {
   "cell_type": "code",
   "execution_count": 83,
   "metadata": {},
   "outputs": [
    {
     "data": {
      "text/plain": [
       "'Rudra kashyap'"
      ]
     },
     "execution_count": 83,
     "metadata": {},
     "output_type": "execute_result"
    }
   ],
   "source": [
    " ' Rudra kashyap'.lstrip()"
   ]
  },
  {
   "cell_type": "code",
   "execution_count": 49,
   "metadata": {},
   "outputs": [
    {
     "data": {
      "text/plain": [
       "'Rudra kashyap'"
      ]
     },
     "execution_count": 49,
     "metadata": {},
     "output_type": "execute_result"
    }
   ],
   "source": [
    "'Rudra kashyap '.rstrip()"
   ]
  },
  {
   "cell_type": "code",
   "execution_count": 87,
   "metadata": {},
   "outputs": [
    {
     "data": {
      "text/plain": [
       "'Rudra kashyap'"
      ]
     },
     "execution_count": 87,
     "metadata": {},
     "output_type": "execute_result"
    }
   ],
   "source": [
    "'  Rudra kashyap    '.strip()"
   ]
  },
  {
   "cell_type": "code",
   "execution_count": 91,
   "metadata": {},
   "outputs": [
    {
     "data": {
      "text/plain": [
       "True"
      ]
     },
     "execution_count": 91,
     "metadata": {},
     "output_type": "execute_result"
    }
   ],
   "source": [
    "\"Rudra kashyap\".startswith(\"R\")"
   ]
  },
  {
   "cell_type": "code",
   "execution_count": 92,
   "metadata": {},
   "outputs": [
    {
     "data": {
      "text/plain": [
       "True"
      ]
     },
     "execution_count": 92,
     "metadata": {},
     "output_type": "execute_result"
    }
   ],
   "source": [
    "'Rudra kashyap'.endswith(\"p\")"
   ]
  },
  {
   "cell_type": "code",
   "execution_count": 93,
   "metadata": {},
   "outputs": [
    {
     "data": {
      "text/plain": [
       "'Rudra Kashyap'"
      ]
     },
     "execution_count": 93,
     "metadata": {},
     "output_type": "execute_result"
    }
   ],
   "source": [
    "'rudra kashyap'.title()"
   ]
  },
  {
   "cell_type": "code",
   "execution_count": 95,
   "metadata": {},
   "outputs": [
    {
     "data": {
      "text/plain": [
       "True"
      ]
     },
     "execution_count": 95,
     "metadata": {},
     "output_type": "execute_result"
    }
   ],
   "source": [
    "\"Rudra Kashyap\".istitle()"
   ]
  },
  {
   "cell_type": "code",
   "execution_count": 98,
   "metadata": {},
   "outputs": [
    {
     "data": {
      "text/plain": [
       "'Rudra kashyap'"
      ]
     },
     "execution_count": 98,
     "metadata": {},
     "output_type": "execute_result"
    }
   ],
   "source": [
    "\"Shrinu kashyap\".replace(\"Shrinu\",\"Rudra\")"
   ]
  },
  {
   "cell_type": "code",
   "execution_count": 102,
   "metadata": {},
   "outputs": [
    {
     "data": {
      "text/plain": [
       "'R # u # d # r # a #   # k # a # s # h # y # a # p'"
      ]
     },
     "execution_count": 102,
     "metadata": {},
     "output_type": "execute_result"
    }
   ],
   "source": [
    "\" # \".join(\"Rudra kashyap\")"
   ]
  },
  {
   "cell_type": "code",
   "execution_count": 1,
   "metadata": {},
   "outputs": [
    {
     "data": {
      "text/plain": [
       "['Rudra']"
      ]
     },
     "execution_count": 1,
     "metadata": {},
     "output_type": "execute_result"
    }
   ],
   "source": [
    "\"Rudra\".split()"
   ]
  },
  {
   "cell_type": "code",
   "execution_count": 1,
   "metadata": {},
   "outputs": [
    {
     "name": "stdout",
     "output_type": "stream",
     "text": [
      "2\n"
     ]
    }
   ],
   "source": [
    "print(1+1)"
   ]
  },
  {
   "cell_type": "code",
   "execution_count": 4,
   "metadata": {},
   "outputs": [
    {
     "data": {
      "text/plain": [
       "'r'"
      ]
     },
     "execution_count": 4,
     "metadata": {},
     "output_type": "execute_result"
    }
   ],
   "source": [
    "\"R\".lower()"
   ]
  },
  {
   "cell_type": "code",
   "execution_count": 110,
   "metadata": {},
   "outputs": [
    {
     "data": {
      "text/plain": [
       "('Rudra ', 'ka', 'shyap')"
      ]
     },
     "execution_count": 110,
     "metadata": {},
     "output_type": "execute_result"
    }
   ],
   "source": [
    "\"Rudra kashyap\".partition(\"ka\")"
   ]
  },
  {
   "cell_type": "code",
   "execution_count": null,
   "metadata": {},
   "outputs": [],
   "source": [
    "# solved questions"
   ]
  },
  {
   "cell_type": "code",
   "execution_count": 8,
   "metadata": {},
   "outputs": [
    {
     "name": "stdout",
     "output_type": "stream",
     "text": [
      "Enter a string sentence::my self rudra kashyap\n"
     ]
    },
    {
     "data": {
      "text/plain": [
       "['My', 'Self', 'Rudra', 'Kashyap']"
      ]
     },
     "execution_count": 8,
     "metadata": {},
     "output_type": "execute_result"
    }
   ],
   "source": [
    "#9\n",
    "s=input(\"Enter a string sentence::\")\n",
    "D=s.title()\n",
    "D.split()\n"
   ]
  },
  {
   "cell_type": "code",
   "execution_count": 9,
   "metadata": {},
   "outputs": [
    {
     "name": "stdout",
     "output_type": "stream",
     "text": [
      "Enter a string::RuduR\n",
      "RuduR is a palindrome\n"
     ]
    }
   ],
   "source": [
    "#10\n",
    "string=input(\"Enter a string::\")\n",
    "n=len(string)\n",
    "a=''\n",
    "for i in range (n-1,-1,-1):\n",
    "    a=a+string[i]\n",
    "if a==string:\n",
    "    print(string,\"is a palindrome\")\n",
    "else:\n",
    "    print(string,\"is not a palindrome\")"
   ]
  },
  {
   "cell_type": "code",
   "execution_count": null,
   "metadata": {},
   "outputs": [],
   "source": [
    "#11\n"
   ]
  },
  {
   "cell_type": "code",
   "execution_count": 6,
   "metadata": {},
   "outputs": [
    {
     "name": "stdout",
     "output_type": "stream",
     "text": [
      "Enter a string::Rudra\n",
      "RUdRa\n"
     ]
    }
   ],
   "source": [
    "#12\n",
    "String=input(\"Enter a string::\")\n",
    "String1=''\n",
    "l=len(String)\n",
    "for i in range(0,l,2):\n",
    "    String1+=String[i]\n",
    "    if i<(l-1):\n",
    "        String1+=String[i+1].upper()\n",
    "print(String1)\n",
    "    "
   ]
  },
  {
   "cell_type": "code",
   "execution_count": 7,
   "metadata": {},
   "outputs": [
    {
     "name": "stdout",
     "output_type": "stream",
     "text": [
      "Input your email address:pitamberk74@gmail.com\n",
      "Valid\n"
     ]
    }
   ],
   "source": [
    "#13\n",
    "email = input('Input your email address:')\n",
    "if '@gmail.com' in email:\n",
    "    print('Valid')\n",
    "else:\n",
    "    print('Not valid')"
   ]
  },
  {
   "cell_type": "code",
   "execution_count": 13,
   "metadata": {},
   "outputs": [
    {
     "name": "stdout",
     "output_type": "stream",
     "text": [
      "Enter a string::Rudra kashyap\n",
      "Enter a letter from above string::a\n",
      "In Rudra kashyap letter a is found in this locations:4,7,11,"
     ]
    }
   ],
   "source": [
    "#14\n",
    "s=input(\"Enter a string::\")\n",
    "a=input(\"Enter a letter from above string::\")\n",
    "print(\"In\",s,\"letter\",a,\"is found in this locations:\",end=\"\")\n",
    "for i in range(len(s)):\n",
    "    if s[i]==a:\n",
    "        print(i,end=\",\")\n",
    "\n",
    "\n"
   ]
  },
  {
   "cell_type": "code",
   "execution_count": 14,
   "metadata": {},
   "outputs": [
    {
     "name": "stdout",
     "output_type": "stream",
     "text": [
      "Enter a string::Rudra\n"
     ]
    },
    {
     "data": {
      "text/plain": [
       "'RRudrauRudradRudrarRudraa'"
      ]
     },
     "execution_count": 14,
     "metadata": {},
     "output_type": "execute_result"
    }
   ],
   "source": [
    "#15\n",
    "s=input(\"Enter a string::\")\n",
    "s.join(s)"
   ]
  },
  {
   "cell_type": "code",
   "execution_count": null,
   "metadata": {},
   "outputs": [],
   "source": [
    "#16\n",
    "\n"
   ]
  },
  {
   "cell_type": "code",
   "execution_count": 7,
   "metadata": {},
   "outputs": [
    {
     "name": "stdout",
     "output_type": "stream",
     "text": [
      "Enter a string::Rudrakashyap\n",
      "RUDRAKASHYAP\n",
      "codon 1 RUD\n",
      "codon 2 RAK\n",
      "codon 3 ASH\n"
     ]
    }
   ],
   "source": [
    "#17\n",
    "string=input(\"Enter a string::\")\n",
    "st=string.upper()\n",
    "print(st)\n",
    "print(\"codon 1\",st[0:3])\n",
    "print(\"codon 2\",st[3:6])\n",
    "print(\"codon 3\",st[6:9])"
   ]
  },
  {
   "cell_type": "code",
   "execution_count": 15,
   "metadata": {},
   "outputs": [
    {
     "name": "stdout",
     "output_type": "stream",
     "text": [
      "Enter a sentence::Rudra kashyap\n",
      "Rudra\n",
      "kashyap\n",
      "Total numbers of words:- 2\n"
     ]
    }
   ],
   "source": [
    "#18\n",
    "s=input(\"Enter a sentence::\")\n",
    "count=0\n",
    "for word in s.split():\n",
    "    print(word)\n",
    "    count+=1\n",
    "print(\"Total numbers of words:-\",count)"
   ]
  },
  {
   "cell_type": "code",
   "execution_count": 4,
   "metadata": {},
   "outputs": [
    {
     "name": "stdout",
     "output_type": "stream",
     "text": [
      "Enter a sentence::My self Rudra kashyap\n",
      "Number of lower case: 16\n",
      "number of uooer case: 2\n"
     ]
    }
   ],
   "source": [
    "#19\n",
    "s=input(\"Enter a sentence::\")\n",
    "count1=0\n",
    "count2=0\n",
    "for i in s:\n",
    "    if(i.islower()):\n",
    "        count1+=1\n",
    "    elif(i.isupper()):\n",
    "        count2+=1\n",
    "print(\"Number of lower case:\",count1)\n",
    "print(\"number of upper case:\",count2)\n"
   ]
  },
  {
   "cell_type": "code",
   "execution_count": 4,
   "metadata": {},
   "outputs": [
    {
     "name": "stdout",
     "output_type": "stream",
     "text": [
      "Enter a sentence::My name is Rudra kashyap \n",
      "Total numbers of words in  My are [ 2 ]\n",
      "Total numbers of words in  name are [ 4 ]\n",
      "Total numbers of words in  is are [ 2 ]\n",
      "Total numbers of words in  Rudra are [ 5 ]\n",
      "Total numbers of words in  kashyap are [ 7 ]\n"
     ]
    }
   ],
   "source": [
    "#20\n",
    "s=input(\"Enter a sentence::\")\n",
    "for word in s.split():\n",
    "    print(\"Total numbers of words in \",word,\"are\",\"[\",len(word),\"]\")\n"
   ]
  },
  {
   "cell_type": "code",
   "execution_count": 2,
   "metadata": {},
   "outputs": [
    {
     "name": "stdout",
     "output_type": "stream",
     "text": [
      "Enter a string::Rudra18\n",
      "True\n"
     ]
    }
   ],
   "source": [
    "#21\n",
    "s=input(\"Enter a string::\")\n",
    "digit=\"0123456789\"\n",
    "for i in digit:\n",
    "    if i in digit:\n",
    "        print(True)\n",
    "        break\n",
    "    else:\n",
    "        print(False)\n"
   ]
  },
  {
   "cell_type": "code",
   "execution_count": 13,
   "metadata": {},
   "outputs": [
    {
     "name": "stdout",
     "output_type": "stream",
     "text": [
      "Enter your address::Raipur,492001\n",
      "Pincode is 49200\n"
     ]
    }
   ],
   "source": [
    "#22\n",
    "s=(input(\"Enter your address::\"))\n",
    "a=s[-6:-1]\n",
    "print(\"Pincode is\",a)"
   ]
  },
  {
   "cell_type": "code",
   "execution_count": null,
   "metadata": {},
   "outputs": [],
   "source": [
    "# unsolved question"
   ]
  },
  {
   "cell_type": "code",
   "execution_count": 2,
   "metadata": {},
   "outputs": [
    {
     "name": "stdout",
     "output_type": "stream",
     "text": [
      "The first five character of Rudra Kashyap  is:: Rudra\n",
      "The Ninth character of Rudra Kashyap  is:: s\n",
      "The Reverse of Rudra Kashyap  is::  payhsaK arduR\n",
      "Any alternate character of Rudra Kashyap  is::  yaau\n"
     ]
    }
   ],
   "source": [
    "#11\n",
    "S=input(\"Enter a string::\")\n",
    "print(\"The first five character of\",S,\"is::\",S[0:5])\n",
    "print(\"The Ninth character of\",S,\"is::\",S[8])\n",
    "print(\"The Reverse of\",S,\"is::\",S[::-1])\n",
    "print(\"Any alternate character of\",S,\"is::\",S[::-3])\n"
   ]
  },
  {
   "cell_type": "code",
   "execution_count": 6,
   "metadata": {},
   "outputs": [
    {
     "name": "stdout",
     "output_type": "stream",
     "text": [
      "Enter a sentence:-My name is Rudra kashyap\n",
      "The original sentence is:- My name is Rudra kashyap\n",
      "Number of words present in My name is Rudra kashyap is:- 5\n",
      "Number of characters are:- 24\n",
      "Percentage of character that are alphanumeric is:- 83.33333333333333 %\n"
     ]
    }
   ],
   "source": [
    "#6\n",
    "s=input(\"Enter a sentence:-\")\n",
    "print(\"The original sentence is:-\",s)\n",
    "print(\"Number of words present in\",s,\"is:-\",s.count(\" \")+1)\n",
    "print(\"Number of characters are:-\",len(s))\n",
    "count=0\n",
    "for i in s:\n",
    "    if i.isalnum():\n",
    "        count+=1\n",
    "percentage=(count*100/len(s))\n",
    "print(\"Percentage of character that are alphanumeric is:-\",percentage,\"%\")\n"
   ]
  },
  {
   "cell_type": "code",
   "execution_count": null,
   "metadata": {},
   "outputs": [
    {
     "name": "stdout",
     "output_type": "stream",
     "text": [
      "Enter a sentence or 'q' to Quit!:- This is the Bomb!\n",
      "tHIS IS THE bOMB!\n"
     ]
    }
   ],
   "source": [
    "#7\n",
    "while True:\n",
    "    S=input(\"Enter a sentence or 'q' to Quit!:- \")\n",
    "    if S==\"q\" or s==\"Q\":\n",
    "        break\n",
    "    else:\n",
    "        count=''\n",
    "        for i in S:\n",
    "            if i.isupper():\n",
    "                a=i.lower()\n",
    "                count+=a\n",
    "            if i.islower():\n",
    "                a=i.upper()\n",
    "                count+=a\n",
    "            if i.isalnum()==False:\n",
    "                count+=i\n",
    "    print(count)\n",
    "            "
   ]
  },
  {
   "cell_type": "code",
   "execution_count": null,
   "metadata": {},
   "outputs": [],
   "source": [
    "# Extra question"
   ]
  },
  {
   "cell_type": "code",
   "execution_count": 2,
   "metadata": {},
   "outputs": [
    {
     "name": "stdout",
     "output_type": "stream",
     "text": [
      "Enter a sentence::My self Rudra kashyap. My Rollnumber is 11126.\n",
      "Number of lower case: 28\n",
      "number of upper case: 4\n",
      "Total number of digit: 5\n",
      "Total number of alphabets: 32\n",
      "Total number of symbols: 1\n",
      "Total numbers of words: 8\n",
      "Total number of 'a' and 'A' vowels is: 3\n",
      "Total number of 'e' and 'E' vowels is: 2\n",
      "Total number of 'i' and 'I' vowels is: 1\n",
      "Total number of 'o' and 'O' vowels is: 1\n",
      "Total number of 'u' and 'U' vowels is: 2\n"
     ]
    }
   ],
   "source": [
    "s=input(\"Enter a sentence::\")\n",
    "count1=0\n",
    "count2=0\n",
    "count3=0\n",
    "count4=0\n",
    "count5=0\n",
    "count6=0\n",
    "count7=0\n",
    "count8=0\n",
    "count9=0\n",
    "count10=0\n",
    "count11=0\n",
    "for i in s:\n",
    "    if(i.islower()):\n",
    "        count1+=1\n",
    "    elif(i.isupper()):\n",
    "        count2+=1\n",
    "print(\"Number of lower case:\",count1)\n",
    "print(\"number of upper case:\",count2)\n",
    "for i in s:\n",
    "    if(i.isdigit()):\n",
    "        count3+=1\n",
    "    elif(i.isalpha()):\n",
    "        count4+=1\n",
    "print(\"Total number of digit:\",count3)\n",
    "print(\"Total number of alphabets:\",count4)\n",
    "if i.isalnum()!=True and i!='':\n",
    "    count5+=1\n",
    "print(\"Total number of symbols:\",count5)\n",
    "for word in s.split():\n",
    "    count6+=1\n",
    "print(\"Total numbers of words:\",count6)\n",
    "for i in s:\n",
    "    if i=='a' or i=='A':\n",
    "        count7+=1\n",
    "    if i=='e' or i=='E':\n",
    "        count8+=1\n",
    "    if i=='i' or i=='I':\n",
    "        count9+=1\n",
    "    if i=='o' or i=='O':\n",
    "        count10+=1\n",
    "    if i=='u' or i=='U':\n",
    "        count11+=1\n",
    "print(\"Total number of 'a' and 'A' vowels is:\",count7)\n",
    "print(\"Total number of 'e' and 'E' vowels is:\",count8)\n",
    "print(\"Total number of 'i' and 'I' vowels is:\",count9)\n",
    "print(\"Total number of 'o' and 'O' vowels is:\",count10)\n",
    "print(\"Total number of 'u' and 'U' vowels is:\",count11)"
   ]
  },
  {
   "cell_type": "code",
   "execution_count": 1,
   "metadata": {},
   "outputs": [
    {
     "name": "stdout",
     "output_type": "stream",
     "text": [
      "Number of lower case: 8\n",
      "number of upper case: 1\n",
      "Total number of digit: 0\n",
      "Total number of alphabets: 9\n",
      "Total number of symbols: 0\n",
      "Total numbers of words: 2\n"
     ]
    }
   ],
   "source": [
    "s=input(\"Enter a sentence::\")\n",
    "count1=0\n",
    "count2=0\n",
    "count3=0\n",
    "count4=0\n",
    "count5=0\n",
    "count6=0\n",
    "for i in s:\n",
    "    if(i.islower()):\n",
    "        count1+=1\n",
    "    elif(i.isupper()):\n",
    "        count2+=1\n",
    "print(\"Number of lower case:\",count1)\n",
    "print(\"number of upper case:\",count2)\n",
    "for i in s:\n",
    "    if(i.isdigit()):\n",
    "        count3+=1\n",
    "    elif(i.isalpha()):\n",
    "        count4+=1\n",
    "print(\"Total number of digit:\",count3)\n",
    "print(\"Total number of alphabets:\",count4)\n",
    "if i.isalnum()!=True and i!='':\n",
    "    count5+=1\n",
    "print(\"Total number of symbols:\",count5)\n",
    "for word in s.split():\n",
    "    count6+=1\n",
    "print(\"Total numbers of words:\",count6)"
   ]
  },
  {
   "cell_type": "code",
   "execution_count": 1,
   "metadata": {},
   "outputs": [
    {
     "name": "stdout",
     "output_type": "stream",
     "text": [
      "Enter a sentence::The RUdra kashyap the rudra kashyap\n"
     ]
    },
    {
     "data": {
      "text/plain": [
       "'A RUdra kashyap a rudra kashyap'"
      ]
     },
     "execution_count": 1,
     "metadata": {},
     "output_type": "execute_result"
    }
   ],
   "source": [
    "s=input(\"Enter a sentence::\")\n",
    "a=s.replace(\"The\",\"A\")\n",
    "a.replace(\"the\",\"a\")"
   ]
  },
  {
   "cell_type": "code",
   "execution_count": 15,
   "metadata": {},
   "outputs": [
    {
     "name": "stdout",
     "output_type": "stream",
     "text": [
      "Enter a string sentence::Rudra kashyap\n",
      "['Rudra', 'kashyap']\n",
      "R\n",
      "u\n",
      "d\n",
      "r\n",
      "a\n",
      " \n",
      "k\n",
      "a\n",
      "s\n",
      "h\n",
      "y\n",
      "a\n",
      "p\n"
     ]
    }
   ],
   "source": [
    "s=input(\"Enter a string sentence::\")\n",
    "print(s.split())\n",
    "for d in s:\n",
    "    print(d)\n",
    "    \n"
   ]
  },
  {
   "cell_type": "code",
   "execution_count": 3,
   "metadata": {},
   "outputs": [
    {
     "name": "stdout",
     "output_type": "stream",
     "text": [
      "Enter a string::Rudra\n",
      "old string Rudra\n",
      "new string RRuuddrraa\n"
     ]
    }
   ],
   "source": [
    "a=input(\"Enter a string::\")\n",
    "c=''\n",
    "for i in a:\n",
    "    c=c+i*2\n",
    "print(\"old string\",a)\n",
    "print(\"new string\",c)"
   ]
  },
  {
   "cell_type": "code",
   "execution_count": 1,
   "metadata": {},
   "outputs": [
    {
     "name": "stdout",
     "output_type": "stream",
     "text": [
      "Enter a number:-12521\n",
      "12521\n",
      "The  given number is palindrome!!\n"
     ]
    }
   ],
   "source": [
    "#Enter a three digit number to check whether it is pelendrome or not\n",
    "a=int(input(\"Enter a number:-\"))\n",
    "Temp=a\n",
    "Reverse=0\n",
    "while a>0:\n",
    "    b=a%10\n",
    "    a=a//10\n",
    "    Reverse=Reverse*10+b\n",
    "print(Reverse)\n",
    "if Reverse==Temp:\n",
    "    print(\"The  given number is palindrome!!\")\n",
    "else:\n",
    "    print(\"The given number is not a palindrome!!\")"
   ]
  },
  {
   "cell_type": "code",
   "execution_count": 2,
   "metadata": {},
   "outputs": [
    {
     "name": "stdout",
     "output_type": "stream",
     "text": [
      "hello hello hello hello hello \n"
     ]
    }
   ],
   "source": [
    "print(\"hello \"*5)"
   ]
  },
  {
   "cell_type": "code",
   "execution_count": 4,
   "metadata": {},
   "outputs": [
    {
     "name": "stdout",
     "output_type": "stream",
     "text": [
      "hello hello hello hello hello \n"
     ]
    }
   ],
   "source": [
    "str=\"hello\"\n",
    "print((str+\" \")*5)"
   ]
  },
  {
   "cell_type": "code",
   "execution_count": 6,
   "metadata": {},
   "outputs": [
    {
     "name": "stdout",
     "output_type": "stream",
     "text": [
      "hello hii\n"
     ]
    }
   ],
   "source": [
    "print(str+\" hii\")"
   ]
  },
  {
   "cell_type": "code",
   "execution_count": 7,
   "metadata": {},
   "outputs": [
    {
     "name": "stdout",
     "output_type": "stream",
     "text": [
      "he\n"
     ]
    }
   ],
   "source": [
    "print(str[:2])"
   ]
  },
  {
   "cell_type": "code",
   "execution_count": 23,
   "metadata": {},
   "outputs": [
    {
     "name": "stdout",
     "output_type": "stream",
     "text": [
      "Lgg\n"
     ]
    }
   ],
   "source": [
    "st=\"Language\"\n",
    "print(st[::3])"
   ]
  },
  {
   "cell_type": "code",
   "execution_count": null,
   "metadata": {},
   "outputs": [],
   "source": []
  }
 ],
 "metadata": {
  "kernelspec": {
   "display_name": "Python 3",
   "language": "python",
   "name": "python3"
  },
  "language_info": {
   "codemirror_mode": {
    "name": "ipython",
    "version": 3
   },
   "file_extension": ".py",
   "mimetype": "text/x-python",
   "name": "python",
   "nbconvert_exporter": "python",
   "pygments_lexer": "ipython3",
   "version": "3.11.3"
  },
  "vscode": {
   "interpreter": {
    "hash": "7d705625a073828d9d6987a7dff4ead27d7dfee1dd954c9d3a1d6b085c12cf79"
   }
  }
 },
 "nbformat": 4,
 "nbformat_minor": 4
}
