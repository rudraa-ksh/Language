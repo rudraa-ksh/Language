{
 "cells": [
  {
   "cell_type": "code",
   "execution_count": 2,
   "id": "ef185c58",
   "metadata": {},
   "outputs": [
    {
     "name": "stdout",
     "output_type": "stream",
     "text": [
      "['Good Morning to al of you present here. This is my first time to learn file handling and this is my first file.\\n', 'Thankyou!!']\n"
     ]
    }
   ],
   "source": [
    "f=open(\"D:\\\\HOME FILE\\\\RUDRA\\\\12th\\\\File\\\\First.txt\",\"r\")\n",
    "a=f.readlines()\n",
    "print(a)            #read ,readlines readline\n",
    "f.close()"
   ]
  },
  {
   "cell_type": "code",
   "execution_count": 1,
   "id": "a66dc64d",
   "metadata": {},
   "outputs": [
    {
     "name": "stdout",
     "output_type": "stream",
     "text": [
      "God made the Earth;\n",
      "Man Made confining countries\n",
      "And their fancy-frozen boundaries.\n",
      "But with unfound\n"
     ]
    }
   ],
   "source": [
    "q=open(\"D:\\\\HOME FILE\\\\RUDRA\\\\12th\\\\File\\\\poemBTH.txt\",\"r\")\n",
    "a=q.read(100)\n",
    "print(a)\n",
    "\n",
    "q.close()"
   ]
  },
  {
   "cell_type": "code",
   "execution_count": 4,
   "id": "137801dc",
   "metadata": {},
   "outputs": [
    {
     "name": "stdout",
     "output_type": "stream",
     "text": [
      "A.Output1\n",
      "God made the Earth;\n",
      "Man Made confining countries\n",
      "And their fancy-frozen boundaries.\n",
      "But with unfound boundless love \n",
      "I behold the borderLand of my India\n",
      "Expanding into the world.\n",
      "Hail, mother of religion, lotus, scenic beauty, and sages!\n",
      "\n"
     ]
    }
   ],
   "source": [
    "file1=open(\"D:\\\\HOME FILE\\\\RUDRA\\\\12th\\\\File\\\\poemBTH.txt\",\"r+\")\n",
    "print(\"A.Output1\")\n",
    "print(file1.read())\n",
    "print()"
   ]
  },
  {
   "cell_type": "code",
   "execution_count": 3,
   "id": "c57b1919",
   "metadata": {},
   "outputs": [
    {
     "name": "stdout",
     "output_type": "stream",
     "text": [
      "Good Morning to al of you present here. This is my first time to learn file handling and this is my first file.\n",
      "\n"
     ]
    }
   ],
   "source": [
    "f=open(\"D:\\\\HOME FILE\\\\RUDRA\\\\12th\\\\File\\\\First.txt\",\"r\")\n",
    "a=f.readline(150)\n",
    "print(a)\n",
    "f.close()"
   ]
  },
  {
   "cell_type": "code",
   "execution_count": 2,
   "id": "12865517",
   "metadata": {},
   "outputs": [
    {
     "name": "stdout",
     "output_type": "stream",
     "text": [
      "Good Morning to al of you present here. This is my first time to learn file handling and this is my first file.\n",
      "Thankyou!!\n"
     ]
    }
   ],
   "source": [
    "f=open(\"D:\\\\HOME FILE\\\\RUDRA\\\\12th\\\\File\\\\First.txt\",\"r\")\n",
    "a=f.read()\n",
    "print(a)\n",
    "f.close()"
   ]
  },
  {
   "cell_type": "code",
   "execution_count": 17,
   "id": "68bd4f29",
   "metadata": {},
   "outputs": [
    {
     "name": "stdout",
     "output_type": "stream",
     "text": [
      "Enter the name of student: Rudra\n",
      "Enter the age of the student: 16\n",
      "Enter the name of student: Abdur\n",
      "Enter the age of the student: 17\n",
      "Enter the name of student: Yash\n",
      "Enter the age of the student: 17\n",
      "Enter the name of student: Tanishq\n",
      "Enter the age of the student: 16\n",
      "Enter the name of student: Pawan\n",
      "Enter the age of the student: 16\n"
     ]
    }
   ],
   "source": [
    "f=open(\"D:\\\\HOME FILE\\\\RUDRA\\\\12th\\\\File\\\\Sample.txt\",\"w\")\n",
    "for i in range(5):\n",
    "    n=input(\"Enter the name of student: \")\n",
    "    a=input(\"Enter the age of the student: \")\n",
    "    f.write(n)\n",
    "    f.write(a)\n",
    "    f.write(\"\\n\")\n",
    "f.close()    "
   ]
  },
  {
   "cell_type": "code",
   "execution_count": 1,
   "id": "e259533f",
   "metadata": {},
   "outputs": [
    {
     "name": "stdout",
     "output_type": "stream",
     "text": [
      "Name:  R \t Phone:  u\n",
      "Name:  R \t Phone:  u\n",
      "Name:  R \t Phone:  u\n",
      "Name:  R \t Phone:  u\n",
      "Name:  R \t Phone:  u\n",
      "Name:  R \t Phone:  u\n",
      "Name:  R \t Phone:  u\n",
      "Name:  R \t Phone:  u\n",
      "Name:  R \t Phone:  u\n",
      "Name:  R \t Phone:  u\n",
      "Name:  R \t Phone:  u\n",
      "Name:  R \t Phone:  u\n",
      "Name:  R \t Phone:  u\n",
      "Name:  R \t Phone:  u\n",
      "Name:  R \t Phone:  u\n",
      "Name:  R \t Phone:  u\n",
      "Name:  R \t Phone:  u\n",
      "Name:  R \t Phone:  u\n",
      "Name:  R \t Phone:  u\n",
      "Name:  R \t Phone:  u\n",
      "Name:  R \t Phone:  u\n",
      "Name:  R \t Phone:  u\n",
      "Name:  R \t Phone:  u\n",
      "Name:  R \t Phone:  u\n",
      "Name:  R \t Phone:  u\n",
      "Name:  R \t Phone:  u\n",
      "Name:  R \t Phone:  u\n",
      "Name:  R \t Phone:  u\n",
      "Name:  R \t Phone:  u\n",
      "Name:  R \t Phone:  u\n",
      "Name:  R \t Phone:  u\n",
      "Name:  R \t Phone:  u\n",
      "Name:  R \t Phone:  u\n",
      "Name:  R \t Phone:  u\n",
      "Name:  R \t Phone:  u\n",
      "Name:  R \t Phone:  u\n",
      "Name:  R \t Phone:  u\n",
      "Name:  R \t Phone:  u\n",
      "Name:  R \t Phone:  u\n",
      "Name:  R \t Phone:  u\n",
      "Name:  R \t Phone:  u\n",
      "Name:  R \t Phone:  u\n",
      "Name:  R \t Phone:  u\n",
      "Name:  R \t Phone:  u\n",
      "Name:  R \t Phone:  u\n",
      "Name:  R \t Phone:  u\n",
      "Name:  R \t Phone:  u\n",
      "Name:  R \t Phone:  u\n",
      "Name:  R \t Phone:  u\n",
      "Name:  R \t Phone:  u\n",
      "Name:  R \t Phone:  u\n",
      "Name:  R \t Phone:  u\n",
      "Name:  R \t Phone:  u\n",
      "Name:  R \t Phone:  u\n",
      "Name:  R \t Phone:  u\n",
      "Name:  R \t Phone:  u\n",
      "Name:  R \t Phone:  u\n",
      "Name:  R \t Phone:  u\n",
      "Name:  R \t Phone:  u\n",
      "Name:  R \t Phone:  u\n",
      "Name:  R \t Phone:  u\n",
      "Name:  R \t Phone:  u\n",
      "Name:  R \t Phone:  u\n",
      "Name:  R \t Phone:  u\n",
      "Name:  R \t Phone:  u\n",
      "Name:  R \t Phone:  u\n",
      "Name:  R \t Phone:  u\n",
      "Name:  R \t Phone:  u\n",
      "Name:  R \t Phone:  u\n",
      "Name:  R \t Phone:  u\n",
      "Name:  R \t Phone:  u\n",
      "Name:  R \t Phone:  u\n",
      "Name:  R \t Phone:  u\n",
      "Name:  R \t Phone:  u\n",
      "Name:  R \t Phone:  u\n",
      "Name:  R \t Phone:  u\n",
      "Name:  R \t Phone:  u\n",
      "Name:  R \t Phone:  u\n",
      "Name:  R \t Phone:  u\n",
      "Name:  R \t Phone:  u\n",
      "Name:  R \t Phone:  u\n",
      "Name:  R \t Phone:  u\n",
      "Name:  R \t Phone:  u\n",
      "Name:  R \t Phone:  u\n",
      "Name:  R \t Phone:  u\n",
      "Name:  R \t Phone:  u\n"
     ]
    }
   ],
   "source": [
    "f=open(\"D:\\\\HOME FILE\\\\RUDRA\\\\12th\\\\File\\\\Sample.txt\",\"r\")\n",
    "d=f.read()\n",
    "for i in d:\n",
    "    print(\"Name: \",d[0],\"\\t\",\"Phone: \",d[1])\n"
   ]
  },
  {
   "cell_type": "code",
   "execution_count": 4,
   "id": "eff603d1",
   "metadata": {
    "scrolled": true
   },
   "outputs": [
    {
     "name": "stdout",
     "output_type": "stream",
     "text": [
      "Enter the mobile number:: 9329854728\n",
      "Enter the mobile number:: 9827186154\n",
      "Enter the mobile number:: 7024981817\n",
      "Enter the mobile number:: 2587413690\n",
      "Enter the mobile number:: 7894561230\n"
     ]
    }
   ],
   "source": [
    "f=open(\"D:\\\\HOME FILE\\\\RUDRA\\\\12th\\\\File\\\\Sample1.txt\",\"w\")\n",
    "l1=[]\n",
    "for i in range(5):\n",
    "    N=input(\"Enter the mobile number:: \")\n",
    "    l1.append(N+\"\\n\")\n",
    "f.writelines(l1)\n",
    "f.close()"
   ]
  },
  {
   "cell_type": "code",
   "execution_count": 3,
   "id": "84cefc40",
   "metadata": {},
   "outputs": [
    {
     "name": "stdout",
     "output_type": "stream",
     "text": [
      "Enter the name of student: Murle\n",
      "Enter the age of the student: 17\n"
     ]
    }
   ],
   "source": [
    "f=open(\"D:\\\\HOME FILE\\\\RUDRA\\\\12th\\\\File\\\\Sample.txt\",\"w\")\n",
    "for i in range(1):\n",
    "    n=input(\"Enter the name of student: \")\n",
    "    a=input(\"Enter the age of the student: \")\n",
    "    f.write(n)\n",
    "    f.write(a)\n",
    "    f.write(\"\\n\")\n",
    "f.close()  "
   ]
  },
  {
   "cell_type": "code",
   "execution_count": 8,
   "id": "3ed0663d",
   "metadata": {},
   "outputs": [
    {
     "name": "stdout",
     "output_type": "stream",
     "text": [
      "Enter the number of lines you want in your paragraph:: 2\n",
      "Enter the sentence:: the there he \n",
      "Enter the sentence:: my self rudra\n"
     ]
    }
   ],
   "source": [
    "z=open(\"D:\\\\HOME FILE\\\\RUDRA\\\\12th\\\\File\\\\PP.txt\",\"w\")\n",
    "n=int(input(\"Enter the number of lines you want in your paragraph:: \"))\n",
    "for i in range(n):\n",
    "    s=input(\"Enter the sentence:: \")\n",
    "    z.write(s)\n",
    "z.close()    "
   ]
  },
  {
   "cell_type": "code",
   "execution_count": 4,
   "id": "a7835d7e",
   "metadata": {},
   "outputs": [
    {
     "name": "stdout",
     "output_type": "stream",
     "text": [
      "Enter how many paragraph you want in you file:: 2\n",
      "ENter how many lines you want in your paragraph:: 2\n",
      "Enter the sentence:: Once upon a time there was a man who went around selling small rattraps of wire.\n",
      "Enter the sentence:: He made them himself at odd moments, from the material he got by begging in the stores or at the big farms.\n",
      "ENter how many lines you want in your paragraph:: 2\n",
      "Enter the sentence:: But even so, the business was not especially profitable, so he had to resort to both begging and petty thievery to keep body and soul together.\n",
      "Enter the sentence:: Even so, his clothes were in rags, his cheeks were sunken, and hunger gleamed in his eyes.\n"
     ]
    }
   ],
   "source": [
    "w=open(\"D:\\\\HOME FILE\\\\RUDRA\\\\12th\\\\File\\\\PP1.txt\",\"w\")\n",
    "p=int(input(\"Enter how many paragraph you want in you file:: \"))\n",
    "for i in range(p):\n",
    "    n=int(input(\"ENter how many lines you want in your paragraph:: \"))\n",
    "    for j in range(n):\n",
    "        S=input(\"Enter the sentence:: \")\n",
    "        w.write(S)\n",
    "    w.write(\"\\n\")    \n",
    "w.close()  "
   ]
  },
  {
   "cell_type": "code",
   "execution_count": 7,
   "id": "9caecc44",
   "metadata": {},
   "outputs": [
    {
     "name": "stdout",
     "output_type": "stream",
     "text": [
      "the there he my self rudra\n",
      "Total number 'a' is::  1\n",
      "Total number 'e' is::  5\n",
      "Total number 'i' is::  0\n",
      "Total number 'o' is::  0\n",
      "Total number 'u' is::  1\n"
     ]
    }
   ],
   "source": [
    "z=open(\"D:\\\\HOME FILE\\\\RUDRA\\\\12th\\\\File\\\\PP.txt\",\"r\")\n",
    "a=z.read()\n",
    "print(a)\n",
    "c=0\n",
    "c1=0\n",
    "c2=0\n",
    "c3=0\n",
    "c4=0\n",
    "for i in a:\n",
    "    if i==\"a\" or i==\"A\":\n",
    "        c+=1\n",
    "    if i==\"e\" or i==\"E\":\n",
    "        c1+=1\n",
    "    if i==\"i\" or i==\"I\":\n",
    "        c2+=1\n",
    "    if i==\"o\" or i==\"O\":\n",
    "        c3+=1\n",
    "    if i==\"u\" or i==\"U\":\n",
    "        c4+=1\n",
    "print(\"Total number 'a' is:: \",c)\n",
    "print(\"Total number 'e' is:: \",c1)\n",
    "print(\"Total number 'i' is:: \",c2)\n",
    "print(\"Total number 'o' is:: \",c3)\n",
    "print(\"Total number 'u' is:: \",c4)\n",
    "z.close()"
   ]
  },
  {
   "cell_type": "code",
   "execution_count": 6,
   "id": "89c15af3",
   "metadata": {},
   "outputs": [
    {
     "name": "stdout",
     "output_type": "stream",
     "text": [
      "Once upon a time there was a man who went around selling small rattraps of wire.He made them himself at odd moments, from the material he got by begging in the stores or at the big farms.\n",
      "But even so, the business was not especially profitable, so he had to resort to both begging and petty thievery to keep body and soul together.Even so, his clothes were in rags, his cheeks were sunken, and hunger gleamed in his eyes.\n",
      "\n",
      "Total number 'a' is::  23\n",
      "Total number 'e' is::  51\n",
      "Total number 'i' is::  18\n",
      "Total number 'o' is::  25\n",
      "Total number 'u' is::  7\n"
     ]
    }
   ],
   "source": [
    "w=open(\"D:\\\\HOME FILE\\\\RUDRA\\\\12th\\\\File\\\\PP1.txt\",\"r\")\n",
    "a=w.read()\n",
    "print(a)\n",
    "c=0\n",
    "c1=0\n",
    "c2=0\n",
    "c3=0\n",
    "c4=0\n",
    "for i in a:\n",
    "    if i==\"a\" or i==\"A\":\n",
    "        c+=1\n",
    "    if i==\"e\" or i==\"E\":\n",
    "        c1+=1\n",
    "    if i==\"i\" or i==\"I\":\n",
    "        c2+=1\n",
    "    if i==\"o\" or i==\"O\":\n",
    "        c3+=1\n",
    "    if i==\"u\" or i==\"U\":\n",
    "        c4+=1\n",
    "print(\"Total number 'a' is:: \",c)\n",
    "print(\"Total number 'e' is:: \",c1)\n",
    "print(\"Total number 'i' is:: \",c2)\n",
    "print(\"Total number 'o' is:: \",c3)\n",
    "print(\"Total number 'u' is:: \",c4)\n",
    "w.close()"
   ]
  },
  {
   "cell_type": "code",
   "execution_count": 3,
   "id": "17dcb2b7",
   "metadata": {},
   "outputs": [
    {
     "name": "stdout",
     "output_type": "stream",
     "text": [
      "No one can imagine how sad and monotonous life can appear to such a vagabond, who plods along the road, left to his own meditations.But one day this man had fallen into a line of thought, which really seemed to him entertaining.\n",
      "\n",
      "Frequency of No \t: 1\n",
      "Frequency of one \t: 2\n",
      "Frequency of can \t: 2\n",
      "Frequency of imagine \t: 1\n",
      "Frequency of how \t: 1\n",
      "Frequency of sad \t: 1\n",
      "Frequency of and \t: 1\n",
      "Frequency of monotonous \t: 1\n",
      "Frequency of life \t: 1\n",
      "Frequency of appear \t: 1\n",
      "Frequency of to \t: 3\n",
      "Frequency of such \t: 1\n",
      "Frequency of a \t: 2\n",
      "Frequency of vagabond, \t: 1\n",
      "Frequency of who \t: 1\n",
      "Frequency of plods \t: 1\n",
      "Frequency of along \t: 1\n",
      "Frequency of the \t: 1\n",
      "Frequency of road, \t: 1\n",
      "Frequency of left \t: 1\n",
      "Frequency of his \t: 1\n",
      "Frequency of own \t: 1\n",
      "Frequency of meditations.But \t: 1\n",
      "Frequency of day \t: 1\n",
      "Frequency of this \t: 1\n",
      "Frequency of man \t: 1\n",
      "Frequency of had \t: 1\n",
      "Frequency of fallen \t: 1\n",
      "Frequency of into \t: 1\n",
      "Frequency of line \t: 1\n",
      "Frequency of of \t: 1\n",
      "Frequency of thought, \t: 1\n",
      "Frequency of which \t: 1\n",
      "Frequency of really \t: 1\n",
      "Frequency of seemed \t: 1\n",
      "Frequency of him \t: 1\n",
      "Frequency of entertaining. \t: 1\n"
     ]
    }
   ],
   "source": [
    "w=open(\"D:\\\\HOME FILE\\\\RUDRA\\\\12th\\\\File\\\\PP1.txt\",\"r\")\n",
    "p=w.read()\n",
    "print(p)\n",
    "lst=p.split()\n",
    "newl=[]\n",
    "for i in lst:\n",
    "    if i not in newl:\n",
    "        newl.append(i)\n",
    "for i in newl:\n",
    "    print(\"Frequency of\",i,\"/\"\":\",lst.count(i))\n",
    "w.close()"
   ]
  },
  {
   "cell_type": "code",
   "execution_count": 9,
   "id": "59755005",
   "metadata": {},
   "outputs": [
    {
     "name": "stdout",
     "output_type": "stream",
     "text": [
      "Enter how many paragraph you want in you file:: 1\n",
      "Enter how many lines you want in your paragraph:: 2\n",
      "Enter the sentence:: No one can imagine how sad and monotonous life can appear to such a vagabond, who plods along the road, left to his own meditations\n",
      "Enter the sentence:: But one day this man had fallen into a line of thought, which really seemed to him entertaining.\n"
     ]
    }
   ],
   "source": [
    "x=open(\"D:\\\\HOME FILE\\\\RUDRA\\\\12th\\\\File\\\\PP3.txt\",\"w\")\n",
    "h=int(input(\"Enter how many paragraph you want in you file:: \"))\n",
    "for i in range(h):\n",
    "    n=int(input(\"Enter how many lines you want in your paragraph:: \"))\n",
    "    for j in range(n):\n",
    "        S=input(\"Enter the sentence:: \")\n",
    "        x.write(S)\n",
    "    x.write(\"\\n\")    \n",
    "x.close()"
   ]
  },
  {
   "cell_type": "code",
   "execution_count": 2,
   "id": "c70f169d",
   "metadata": {},
   "outputs": [],
   "source": [
    "d=open(\"D:\\\\HOME FILE\\\\RUDRA\\\\12th\\\\File\\\\PP2.txt\",\"w\")\n",
    "e=open(\"D:\\\\HOME FILE\\\\RUDRA\\\\12th\\\\File\\\\PP3.txt\",\"r\")\n",
    "a=e.read()\n",
    "d.write(a)\n",
    "d.close()\n",
    "e.close()"
   ]
  },
  {
   "cell_type": "code",
   "execution_count": 7,
   "id": "c1a5e584",
   "metadata": {},
   "outputs": [
    {
     "name": "stdout",
     "output_type": "stream",
     "text": [
      "Enter how many paragraph you want in you file:: 1\n",
      "Enter how many lines you want in your paragraph:: 1\n",
      "Enter the sentence:: Hello guys good $ afternoon.\n"
     ]
    }
   ],
   "source": [
    "x=open(\"D:\\\\HOME FILE\\\\RUDRA\\\\12th\\\\File\\\\c1.txt\",\"w\")\n",
    "h=int(input(\"Enter how many paragraph you want in you file:: \"))\n",
    "for i in range(h):\n",
    "    n=int(input(\"Enter how many lines you want in your paragraph:: \"))\n",
    "    for j in range(n):\n",
    "        S=input(\"Enter the sentence:: \")\n",
    "        x.write(S)\n",
    "    x.write(\"\\n\")    \n",
    "x.close()"
   ]
  },
  {
   "cell_type": "code",
   "execution_count": 16,
   "id": "2a4f3166",
   "metadata": {},
   "outputs": [
    {
     "name": "stdout",
     "output_type": "stream",
     "text": [
      "Number of characters in text file before '$' : 16\n"
     ]
    }
   ],
   "source": [
    "f=open(\"D:\\\\HOME FILE\\\\RUDRA\\\\12th\\\\File\\\\c1.txt\",\"r\")\n",
    "a=f.read()\n",
    "c=0\n",
    "for i in a:\n",
    "    if i!=\"$\":\n",
    "        c+=1\n",
    "    elif i==\"$\":\n",
    "        break        \n",
    "print( \"Number of characters in text file before '$' :\",c )\n",
    "f.close()"
   ]
  },
  {
   "cell_type": "code",
   "execution_count": 1,
   "id": "c3a07f7c",
   "metadata": {},
   "outputs": [
    {
     "name": "stdout",
     "output_type": "stream",
     "text": [
      "Enter how many characters you want to store in the text file:: 4\n",
      "Enter a character:: A\n",
      "Enter a character:: a\n",
      "Enter a character:: @\n",
      "Enter a character:: 2\n"
     ]
    }
   ],
   "source": [
    "a=open(\"D:\\\\HOME FILE\\\\RUDRA\\\\12th\\\\File\\\\LOWER.txt\",\"w\")\n",
    "s=open(\"D:\\\\HOME FILE\\\\RUDRA\\\\12th\\\\File\\\\UPPER.txt\",\"w\")\n",
    "d=open(\"D:\\\\HOME FILE\\\\RUDRA\\\\12th\\\\File\\\\OTHER.txt\",\"w\")\n",
    "n=int(input(\"Enter how many characters you want to store in the text file:: \"))\n",
    "for i in range(n):\n",
    "    t= str(input(\"Enter a character:: \"))    \n",
    "    if t.islower():\n",
    "        a.write(t)\n",
    "        a.write(\"\\n\")\n",
    "    elif t.isupper():\n",
    "        s.write(t)\n",
    "        s.write(\"\\n\")\n",
    "    elif t.isdigit():\n",
    "        d.write(t)\n",
    "        d.write(\"\\n\")\n",
    "    else:\n",
    "        d.write(t)\n",
    "        d.write(\"\\n\")        \n",
    "a.close()\n",
    "s.close()\n",
    "d.close()"
   ]
  },
  {
   "cell_type": "code",
   "execution_count": 2,
   "id": "ec87a108",
   "metadata": {},
   "outputs": [
    {
     "name": "stdout",
     "output_type": "stream",
     "text": [
      "Enter the sentence:: My name is Rudra.\n"
     ]
    }
   ],
   "source": [
    "q=open(\"D:\\\\HOME FILE\\\\RUDRA\\\\12th\\\\File\\\\q77.txt\",\"w\")\n",
    "s=input(\"Enter the sentence:: \")\n",
    "q.write(s)\n",
    "q.close()"
   ]
  },
  {
   "cell_type": "code",
   "execution_count": 3,
   "id": "7c2b460b",
   "metadata": {},
   "outputs": [
    {
     "name": "stdout",
     "output_type": "stream",
     "text": [
      "Enter the sentence:: I am a CS student.\n"
     ]
    }
   ],
   "source": [
    "q=open(\"D:\\\\HOME FILE\\\\RUDRA\\\\12th\\\\File\\\\q7.txt\",\"w\")\n",
    "s=input(\"Enter the sentence:: \")\n",
    "q.write(s)\n",
    "q.close()"
   ]
  },
  {
   "cell_type": "code",
   "execution_count": 4,
   "id": "78f385aa",
   "metadata": {},
   "outputs": [
    {
     "name": "stdout",
     "output_type": "stream",
     "text": [
      "Enter the file name and path in which you want to copy:: q77.txt\n",
      "Enter the second file name and path from you want to copy:: q7.txt\n"
     ]
    }
   ],
   "source": [
    "f1=input(\"Enter the file name and path in which you want to copy:: \")\n",
    "f2=input(\"Enter the second file name and path from you want to copy:: \")\n",
    "d=open(\"D:\\\\HOME FILE\\\\RUDRA\\\\12th\\\\File\\\\\"+f1,\"a\")\n",
    "e=open(\"D:\\\\HOME FILE\\\\RUDRA\\\\12th\\\\File\\\\\"+f2,\"r\")\n",
    "a=e.read()\n",
    "d.write(a)\n",
    "d.write(\"\\n\")\n",
    "d.close()\n",
    "e.close()"
   ]
  },
  {
   "cell_type": "code",
   "execution_count": 9,
   "id": "dce7e2fc",
   "metadata": {},
   "outputs": [
    {
     "name": "stdout",
     "output_type": "stream",
     "text": [
      "Enter how many lines you want in your file:: 4\n",
      "Enter the sentence:: A boy is playing there.\n",
      "Enter the sentence:: There is a playground.\n",
      "Enter the sentence:: An aeroplane is in the sky.\n",
      "Enter the sentence:: Alphabets & numbers are allowed in password.\n"
     ]
    }
   ],
   "source": [
    "t=open(\"D:\\\\HOME FILE\\\\RUDRA\\\\12th\\\\File\\\\LINES.txt\",\"w\")\n",
    "n=int(input(\"Enter how many lines you want in your file:: \"))\n",
    "for i in range(n):\n",
    "    S=input(\"Enter the sentence:: \")\n",
    "    t.write(S)\n",
    "    t.write(\"\\n\")\n",
    "t.close()"
   ]
  },
  {
   "cell_type": "code",
   "execution_count": 12,
   "id": "e95dd2cf",
   "metadata": {},
   "outputs": [
    {
     "name": "stdout",
     "output_type": "stream",
     "text": [
      "Number of lines starting with 'A' is::  3\n"
     ]
    }
   ],
   "source": [
    "c=0\n",
    "o=open(\"D:\\\\HOME FILE\\\\RUDRA\\\\12th\\\\File\\\\LINES.txt\",\"r\")\n",
    "l=o.readlines()\n",
    "for i in l:\n",
    "    if i[0]==\"A\":\n",
    "        c+=1\n",
    "print(\"Number of lines starting with 'A' is:: \",c)\n",
    "o.close()"
   ]
  },
  {
   "cell_type": "code",
   "execution_count": 17,
   "id": "c7ddfce7",
   "metadata": {},
   "outputs": [
    {
     "name": "stdout",
     "output_type": "stream",
     "text": [
      "A or a::  12\n",
      "M or m::  1\n",
      "E or e::  11\n",
      "U or u::  2\n"
     ]
    }
   ],
   "source": [
    "q=open(\"D:\\\\HOME FILE\\\\RUDRA\\\\12th\\\\File\\\\LINES.txt\",\"r\")\n",
    "a=q.readlines()\n",
    "def AMcount():\n",
    "    c=0\n",
    "    c1=0\n",
    "    for i in a:\n",
    "        for j in i:\n",
    "            if j==\"A\" or j==\"a\":\n",
    "                c+=1\n",
    "            if j==\"M\" or j==\"m\":\n",
    "                c1+=1\n",
    "    print(\"A or a:: \",c)\n",
    "    print(\"M or m:: \",c1)\n",
    "def EUcount():\n",
    "    c2=0\n",
    "    c3=0\n",
    "    for i in a:\n",
    "        for j in i:\n",
    "            if j==\"E\" or j==\"e\":\n",
    "                c2+=1\n",
    "            if j==\"U\" or j==\"u\":\n",
    "                c3+=1\n",
    "    print(\"E or e:: \",c2)\n",
    "    print(\"U or u:: \",c3)\n",
    "AMcount()\n",
    "EUcount()"
   ]
  },
  {
   "cell_type": "code",
   "execution_count": 18,
   "id": "8e75682d",
   "metadata": {},
   "outputs": [
    {
     "name": "stdout",
     "output_type": "stream",
     "text": [
      "Enter the sentence:: Hello guys  welcome to my  notebook.\n"
     ]
    }
   ],
   "source": [
    "a=open(\"D:\\\\HOME FILE\\\\RUDRA\\\\12th\\\\File\\\\q1.txt\",\"w\")\n",
    "S=input(\"Enter the sentence:: \")\n",
    "a.write(S)\n",
    "a.close()"
   ]
  },
  {
   "cell_type": "code",
   "execution_count": 19,
   "id": "bddb5be0",
   "metadata": {},
   "outputs": [],
   "source": [
    "t=open(\"D:\\\\HOME FILE\\\\RUDRA\\\\12th\\\\File\\\\q1.txt\",\"r\")\n",
    "l=open(\"D:\\\\HOME FILE\\\\RUDRA\\\\12th\\\\File\\\\q11.txt\",\"w\")\n",
    "d=t.readlines()\n",
    "for i in d:\n",
    "    h=i.split()\n",
    "    for j in h:\n",
    "        l.write(j)\n",
    "        l.write(\" \")\n",
    "    l.write(\"\\n\")\n",
    "t.close()\n",
    "l.close()"
   ]
  },
  {
   "cell_type": "code",
   "execution_count": 21,
   "id": "474c335a",
   "metadata": {},
   "outputs": [
    {
     "name": "stdout",
     "output_type": "stream",
     "text": [
      "Enter how many number you want to save:: 3\n",
      "Enter the name:: Danny\n",
      "Enter the number:: 9329854728\n",
      "Enter the name:: Rudra\n",
      "Enter the number:: 9827186154\n",
      "Enter the name:: Atharv\n",
      "Enter the number:: 7024981817\n"
     ]
    }
   ],
   "source": [
    "f=open(\"D:\\\\HOME FILE\\\\RUDRA\\\\12th\\\\File\\\\contact.txt\",\"w\")\n",
    "n=int(input(\"Enter how many number you want to save:: \"))\n",
    "for i in range(n):\n",
    "    m=input(\"Enter the name:: \")\n",
    "    a=str(input(\"Enter the number:: \"))\n",
    "    f.write(m+\" \"+a)\n",
    "    f.write(\"\\n\")\n",
    "f.close()"
   ]
  },
  {
   "cell_type": "code",
   "execution_count": 10,
   "id": "c295fcad",
   "metadata": {},
   "outputs": [
    {
     "name": "stdout",
     "output_type": "stream",
     "text": [
      "['Danny 9329854728\\n', 'Rudra 9827186154\\n', 'Atharv 7024981817\\n']\n",
      "Danny \t 9329854728\n",
      "Rudra \t 9827186154\n",
      "Atharv \t 7024981817\n"
     ]
    }
   ],
   "source": [
    "y=open(\"D:\\\\HOME FILE\\\\RUDRA\\\\12th\\\\File\\\\contact.txt\",\"r\")\n",
    "lst=y.readlines()\n",
    "print(lst)\n",
    "for i in lst:\n",
    "    c=i.split()\n",
    "    print(c[0],\"\\t\",c[1]) \n",
    "y.close()"
   ]
  },
  {
   "cell_type": "code",
   "execution_count": 24,
   "id": "ea5617e1",
   "metadata": {},
   "outputs": [
    {
     "name": "stdout",
     "output_type": "stream",
     "text": [
      "Enter how mant times you want to enter the data :: 3\n",
      "Enter the name of event:: Atheletics\n",
      "Enter the name of participant:: Neeraj Chopra\n",
      "Enter the name of event:: Annual Function\n",
      "Enter the name of participant:: Yash Deep Singh Bais\n",
      "Enter the name of event:: Atheletics\n",
      "Enter the name of participant:: P V Sindhu\n"
     ]
    }
   ],
   "source": [
    "u=open(\"D:\\\\HOME FILE\\\\RUDRA\\\\12th\\\\File\\\\sports.txt\",\"w\")\n",
    "n=int(input(\"Enter how mant times you want to enter the data :: \"))\n",
    "for i in range(n):\n",
    "    j=input(\"Enter the name of event:: \")\n",
    "    k=input(\"Enter the name of participant:: \")\n",
    "    u.write(j+\" \"+k)\n",
    "    u.write(\"\\n\")\n",
    "u.close()"
   ]
  },
  {
   "cell_type": "code",
   "execution_count": 27,
   "id": "2ab07bb9",
   "metadata": {},
   "outputs": [],
   "source": [
    "f1=open(\"D:\\\\HOME FILE\\\\RUDRA\\\\12th\\\\File\\\\sports.txt\",\"r\")\n",
    "f2=open(\"D:\\\\HOME FILE\\\\RUDRA\\\\12th\\\\File\\\\Atheletics.txt\",\"w\")\n",
    "l1=f1.readlines()\n",
    "for i in l1:\n",
    "    if i [:9]==\"atheletics\" or i[:9]==\"Atheletics\" or i [:9]==\"atheletic\" or i[:9]==\"Atheletic\":\n",
    "        f2.write(i)\n",
    "f1.close()\n",
    "f2.close()"
   ]
  },
  {
   "cell_type": "code",
   "execution_count": 10,
   "id": "95d5adbb",
   "metadata": {},
   "outputs": [
    {
     "name": "stdout",
     "output_type": "stream",
     "text": [
      "MY NAME IS RUDRA KASHYAP.\n",
      "I AM A CS STUDENT.\n",
      "I AM IN CLASSROOM.\n",
      "\n"
     ]
    }
   ],
   "source": [
    "t=open(\"D:\\\\HOME FILE\\\\RUDRA\\\\12th\\\\File\\\\ss.txt\",\"r\")\n",
    "a=t.read()\n",
    "b=a.upper()\n",
    "print(b)  \n",
    "t.close()"
   ]
  },
  {
   "cell_type": "code",
   "execution_count": 13,
   "id": "fe3d6fe0",
   "metadata": {},
   "outputs": [
    {
     "name": "stdout",
     "output_type": "stream",
     "text": [
      "Enter how many lines you want in your file:: 3\n",
      "Enter the sentence:: My name is Rudra Kashyap.\n",
      "Enter the sentence:: I am a CS student.\n",
      "Enter the sentence:: I am in classroom.\n"
     ]
    }
   ],
   "source": [
    "w=open(\"D:\\\\HOME FILE\\\\RUDRA\\\\12th\\\\File\\\\ss.txt\",\"w\")\n",
    "n=int(input(\"Enter how many lines you want in your file:: \"))\n",
    "for i in range(n):\n",
    "    S=input(\"Enter the sentence:: \")\n",
    "    w.write(S)\n",
    "    w.write(\"\\n\")\n",
    "w.close()"
   ]
  },
  {
   "cell_type": "code",
   "execution_count": 39,
   "id": "95fefb28",
   "metadata": {},
   "outputs": [
    {
     "name": "stdout",
     "output_type": "stream",
     "text": [
      "Enter how many lines you want in your file:: 2\n",
      "Enter the sentence:: Good morning to all.\n",
      "Enter the sentence:: Have you all done the home work?\n",
      "gOOD MORNING TO ALL.\n",
      "hAVE YOU ALL DONE THE HOME WORK?\n"
     ]
    }
   ],
   "source": [
    "w=open(\"D:\\\\HOME FILE\\\\RUDRA\\\\12th\\\\File\\\\ss1.txt\",\"w\")\n",
    "n=int(input(\"Enter how many lines you want in your file:: \"))\n",
    "for i in range(n):\n",
    "    S=input(\"Enter the sentence:: \")\n",
    "    w.write(S)\n",
    "    w.write(\"\\n\")\n",
    "w.close()\n",
    "F=open(\"D:\\\\HOME FILE\\\\RUDRA\\\\12th\\\\File\\\\ss1.txt\",\"r\")\n",
    "B=F.read()\n",
    "for i in B:\n",
    "    if i.isupper():\n",
    "        i=i.lower()\n",
    "    elif i.islower():\n",
    "        i=i.upper()\n",
    "    print(i,end='')\n",
    "F.close()"
   ]
  },
  {
   "cell_type": "code",
   "execution_count": 1,
   "id": "8282a2a6",
   "metadata": {},
   "outputs": [
    {
     "name": "stdout",
     "output_type": "stream",
     "text": [
      "Enter how many lines you want in your file:: 2\n",
      "Enter the sentence:: Hello!!\n",
      "Enter the sentence:: Good Morning.\n"
     ]
    }
   ],
   "source": [
    "w=open(\"D:\\\\HOME FILE\\\\RUDRA\\\\12th\\\\File\\\\ss2.txt\",\"w\")\n",
    "n=int(input(\"Enter how many lines you want in your file:: \"))\n",
    "l1=[]\n",
    "for j in range(n):\n",
    "    S=input(\"Enter the sentence:: \")\n",
    "    for i in S:\n",
    "        if i.isupper():\n",
    "            i=i.lower()\n",
    "        elif i.islower():\n",
    "            i=i.upper()\n",
    "        w.write(i)\n",
    "    w.write(\"\\n\")\n",
    "w.close()"
   ]
  },
  {
   "cell_type": "code",
   "execution_count": 7,
   "id": "a641ffe3",
   "metadata": {},
   "outputs": [],
   "source": [
    "import pickle\n",
    "a=open(\"D:\\\\HOME FILE\\\\RUDRA\\\\12th\\\\File\\\\D1.dat\",\"wb\")\n",
    "t=(1,2,3,4,5)\n",
    "pickle.dump(t,a)\n",
    "a.close()"
   ]
  },
  {
   "cell_type": "code",
   "execution_count": 3,
   "id": "320a46d9",
   "metadata": {},
   "outputs": [
    {
     "name": "stdout",
     "output_type": "stream",
     "text": [
      "(1, 2, 3, 4, 5)\n"
     ]
    }
   ],
   "source": [
    "import pickle\n",
    "s=open(\"D:\\\\HOME FILE\\\\RUDRA\\\\12th\\\\File\\\\D1.dat\",\"rb\")\n",
    "print(pickle.load(s))\n",
    "s.close()"
   ]
  },
  {
   "cell_type": "code",
   "execution_count": 9,
   "id": "463349b9",
   "metadata": {},
   "outputs": [],
   "source": [
    "import pickle\n",
    "q=open(\"D:\\\\HOME FILE\\\\RUDRA\\\\12th\\\\File\\\\D2.dat\",\"wb\")\n",
    "l=[1,2,3,4,5]\n",
    "pickle.dump(l,q)\n",
    "q.close()"
   ]
  },
  {
   "cell_type": "code",
   "execution_count": 1,
   "id": "ab4af963",
   "metadata": {},
   "outputs": [
    {
     "name": "stdout",
     "output_type": "stream",
     "text": [
      "[1, 2, 3, 4, 5]\n"
     ]
    }
   ],
   "source": [
    "import pickle\n",
    "e=open(\"D:\\\\HOME FILE\\\\RUDRA\\\\12th\\\\File\\\\D2.dat\",\"rb\")\n",
    "print(pickle.load(e))\n",
    "e.close()"
   ]
  },
  {
   "cell_type": "code",
   "execution_count": 6,
   "id": "e145c63a",
   "metadata": {},
   "outputs": [],
   "source": [
    "import pickle\n",
    "q=open(\"D:\\\\HOME FILE\\\\RUDRA\\\\12th\\\\File\\\\D3.dat\",\"wb\")\n",
    "pickle.dump(\"Rudra Kashyap\",q)\n",
    "q.close()"
   ]
  },
  {
   "cell_type": "code",
   "execution_count": 7,
   "id": "ac555972",
   "metadata": {},
   "outputs": [
    {
     "name": "stdout",
     "output_type": "stream",
     "text": [
      "Rudra Kashyap\n"
     ]
    }
   ],
   "source": [
    "import pickle\n",
    "e=open(\"D:\\\\HOME FILE\\\\RUDRA\\\\12th\\\\File\\\\D3.dat\",\"rb\")\n",
    "print(pickle.load(e))\n",
    "e.close()"
   ]
  },
  {
   "cell_type": "code",
   "execution_count": 8,
   "id": "4162e107",
   "metadata": {},
   "outputs": [],
   "source": [
    "import pickle\n",
    "q=open(\"D:\\\\HOME FILE\\\\RUDRA\\\\12th\\\\File\\\\D4.dat\",\"wb\")\n",
    "pickle.dump({\"Rudra\":18,\"Shrinu\":26},q)\n",
    "q.close()"
   ]
  },
  {
   "cell_type": "code",
   "execution_count": 9,
   "id": "bb3d2df3",
   "metadata": {},
   "outputs": [
    {
     "name": "stdout",
     "output_type": "stream",
     "text": [
      "{'Rudra': 18, 'Shrinu': 26}\n"
     ]
    }
   ],
   "source": [
    "import pickle\n",
    "e=open(\"D:\\\\HOME FILE\\\\RUDRA\\\\12th\\\\File\\\\D4.dat\",\"rb\")\n",
    "print(pickle.load(e))\n",
    "e.close()"
   ]
  },
  {
   "cell_type": "code",
   "execution_count": 8,
   "id": "9d8bf526",
   "metadata": {},
   "outputs": [
    {
     "name": "stdout",
     "output_type": "stream",
     "text": [
      "Enter your name: Rudra \n",
      "Enter your class: 12\n",
      "Enter your name: Manish\n",
      "Enter your class: 12\n"
     ]
    }
   ],
   "source": [
    "import pickle\n",
    "d={}\n",
    "f=open(\"D:\\\\HOME FILE\\\\RUDRA\\\\12th\\\\File\\\\D5.dat\",\"wb\")\n",
    "for i in range(2):\n",
    "    name=input(\"Enter your name: \")\n",
    "    clas=input(\"Enter your class: \")\n",
    "    d[name]=clas\n",
    "pickle.dump(d,f)\n",
    "f.close()"
   ]
  },
  {
   "cell_type": "code",
   "execution_count": 7,
   "id": "dbc632da",
   "metadata": {},
   "outputs": [
    {
     "name": "stdout",
     "output_type": "stream",
     "text": [
      "{'Rudra ': '12'}\n",
      "{'Rudra ': '12', 'Manish': '12'}\n",
      "Completed\n"
     ]
    }
   ],
   "source": [
    "import pickle\n",
    "e=open(\"D:\\\\HOME FILE\\\\RUDRA\\\\12th\\\\File\\\\D5.dat\",\"rb\")\n",
    "try:\n",
    "    while True:\n",
    "        print(pickle.load(e))\n",
    "except EOFError:\n",
    "    print(\"Completed\")\n",
    "e.close()"
   ]
  },
  {
   "cell_type": "code",
   "execution_count": 4,
   "id": "168071d1",
   "metadata": {},
   "outputs": [
    {
     "name": "stdout",
     "output_type": "stream",
     "text": [
      "Enter the number of times you want to enter the details: 2\n",
      "Enter the member number: 26\n",
      "Enter the name of the member: Rudra\n",
      "Enter the member number: 01\n",
      "Enter the name of the member: Abdur\n",
      "{'Memberno.': 26, 'Name': 'Rudra'}\n"
     ]
    }
   ],
   "source": [
    "# Type C 14 \n",
    "def write():\n",
    "    import pickle\n",
    "    f=open(\"D:\\\\HOME FILE\\\\RUDRA\\\\12th\\\\File\\\\member.dat\",\"wb\")\n",
    "    g=int(input(\"Enter the number of times you want to enter the details: \"))\n",
    "    for i in range(g):\n",
    "        Member={}\n",
    "        n=int(input(\"Enter the member number: \"))\n",
    "        c=input(\"Enter the name of the member: \")\n",
    "        Member[\"Memberno.\"] = n\n",
    "        Member[\"Name\"] = c\n",
    "        f.flush()\n",
    "        pickle.dump(Member,f)\n",
    "    f.close()\n",
    "    a=open(\"D:\\\\HOME FILE\\\\RUDRA\\\\12th\\\\File\\\\member.dat\",\"rb\")\n",
    "    print(pickle.load(a))\n",
    "    a.close()\n",
    "write()"
   ]
  },
  {
   "cell_type": "code",
   "execution_count": 2,
   "id": "79bbd3a3",
   "metadata": {},
   "outputs": [
    {
     "name": "stdout",
     "output_type": "stream",
     "text": [
      "Member No. \t Member Name\n",
      "26 \t \t Rudra\n",
      "1 \t \t Abdur\n",
      "completed\n"
     ]
    }
   ],
   "source": [
    "def retrive():\n",
    "    import pickle\n",
    "    a=open(\"D:\\\\HOME FILE\\\\RUDRA\\\\12th\\\\File\\\\member.dat\",\"rb\")\n",
    "    print(\"Member No.\",\"\\t\",\"Member Name\")\n",
    "    try:\n",
    "        while True:\n",
    "            v=pickle.load(a)\n",
    "            print(v.get('Memberno.'),\"\\t\",\"\\t\",v.get('Name'))\n",
    "    except:\n",
    "        print(\"completed\")\n",
    "    a.close()\n",
    "retrive()"
   ]
  },
  {
   "cell_type": "code",
   "execution_count": 2,
   "id": "175671fd",
   "metadata": {},
   "outputs": [
    {
     "name": "stdout",
     "output_type": "stream",
     "text": [
      "Enter the number of times you want to enter:: 5\n",
      "Enter the staffcode: S0101\n",
      "Enter the name: Rudra\n",
      "Enter the staffcode: S0102\n",
      "Enter the name: Abdur\n",
      "Enter the staffcode: S0103\n",
      "Enter the name: Yash\n",
      "Enter the staffcode: S0104\n",
      "Enter the name: Pavan\n",
      "Enter the staffcode: S0105\n",
      "Enter the name: Murle\n"
     ]
    }
   ],
   "source": [
    "# TYPE-C 15\n",
    "def staf():\n",
    "    import pickle\n",
    "    a=open(\"D:\\\\HOME FILE\\\\RUDRA\\\\12th\\\\File\\\\D7.dat\",\"wb\")\n",
    "    h=int(input(\"Enter the number of times you want to enter:: \"))\n",
    "    for i in range(h):\n",
    "        Staff={}\n",
    "        n=input(\"Enter the staffcode: \")\n",
    "        N=input(\"Enter the name: \")\n",
    "        Staff[\"Staffcode\"]=n\n",
    "        Staff[\"Name\"]=N\n",
    "        pickle.dump(Staff,a)\n",
    "    a.close()\n",
    "staf()"
   ]
  },
  {
   "cell_type": "code",
   "execution_count": 4,
   "id": "b9485d54",
   "metadata": {},
   "outputs": [
    {
     "name": "stdout",
     "output_type": "stream",
     "text": [
      "S0101 \t Rudra\n",
      "completed\n"
     ]
    }
   ],
   "source": [
    "def staff():\n",
    "    import pickle\n",
    "    q=open(\"D:\\\\HOME FILE\\\\RUDRA\\\\12th\\\\File\\\\D7.dat\",\"rb\")\n",
    "    try:\n",
    "        while True:\n",
    "            x=pickle.load(q)\n",
    "            y=x.get(\"Name\")\n",
    "            p=x.get(\"Staffcode\")\n",
    "            for i in y:\n",
    "                if i[0]==\"R\":\n",
    "                    print(p,\"\\t\",y)\n",
    "    except:\n",
    "        print(\"completed\")\n",
    "staff()"
   ]
  },
  {
   "cell_type": "code",
   "execution_count": 5,
   "id": "e23f626e",
   "metadata": {},
   "outputs": [
    {
     "name": "stdout",
     "output_type": "stream",
     "text": [
      "S0105 \t Murle\n",
      "completed\n"
     ]
    }
   ],
   "source": [
    "def staf():\n",
    "    import pickle\n",
    "    q=open(\"D:\\\\HOME FILE\\\\RUDRA\\\\12th\\\\File\\\\D7.dat\",\"rb\")\n",
    "    try:\n",
    "        while True:\n",
    "            x=pickle.load(q)\n",
    "            c=x.get('Staffcode')\n",
    "            j=x.get('Name')\n",
    "            if c==\"S0105\":\n",
    "                print(c,\"\\t\",j)\n",
    "    except:\n",
    "        print(\"completed\")\n",
    "staf()"
   ]
  },
  {
   "cell_type": "code",
   "execution_count": 19,
   "id": "94061e69",
   "metadata": {},
   "outputs": [
    {
     "name": "stdout",
     "output_type": "stream",
     "text": [
      "Enter how many times you want to enter the details: 3\n",
      "Enter the Company ID: 1000\n",
      "Enter the name of the company: Safe Express\n",
      "Enter the turnover of the company in percentage: 17\n",
      "Enter the Company ID: 1001\n",
      "Enter the name of the company: Amazon\n",
      "Enter the turnover of the company in percentage: 27\n",
      "Enter the Company ID: 1005\n",
      "Enter the name of the company: Tesla\n",
      "Enter the turnover of the company in percentage: 25\n"
     ]
    }
   ],
   "source": [
    "#TYPE-C 16\n",
    "def comp():\n",
    "    import pickle\n",
    "    g=open(\"D:\\\\HOME FILE\\\\RUDRA\\\\12th\\\\File\\\\D8.dat\",\"wb\")\n",
    "    N=int(input(\"Enter how many times you want to enter the details: \"))\n",
    "    for i in range(N):\n",
    "        Company={}\n",
    "        i=int(input(\"Enter the Company ID: \"))\n",
    "        n=input(\"Enter the name of the company: \")\n",
    "        t=int(input(\"Enter the turnover of the company in percentage: \"))\n",
    "        Company[\"compID\"]=i\n",
    "        Company[\"CName\"]=n\n",
    "        Company[\"Turnover\"]=t\n",
    "        pickle.dump(Company,g)\n",
    "    g.close()\n",
    "comp()"
   ]
  },
  {
   "cell_type": "code",
   "execution_count": 22,
   "id": "0aef8201",
   "metadata": {},
   "outputs": [
    {
     "name": "stdout",
     "output_type": "stream",
     "text": [
      "1005 \t Tesla \t 25\n",
      "completed\n"
     ]
    }
   ],
   "source": [
    "def comret():\n",
    "    import pickle\n",
    "    q=open(\"D:\\\\HOME FILE\\\\RUDRA\\\\12th\\\\File\\\\D8.dat\",\"rb\")\n",
    "    try:\n",
    "        while True:\n",
    "            x=pickle.load(q)\n",
    "            c=x.get('compID')\n",
    "            j=x.get('CName')\n",
    "            v=x.get('Turnover')\n",
    "            if c==1005:\n",
    "                print(c,\"\\t\",j,\"\\t\",v)\n",
    "    except:\n",
    "        print(\"completed\")\n",
    "comret()"
   ]
  },
  {
   "cell_type": "code",
   "execution_count": 28,
   "id": "349a4c1d",
   "metadata": {},
   "outputs": [
    {
     "name": "stdout",
     "output_type": "stream",
     "text": [
      "Enter how many times you want to enter the details: 2\n",
      "Enter the train no.: 121578\n",
      "From: Raipur\n",
      "To: Korba\n",
      "Enter the train no.: 121521\n",
      "From: Mumbai\n",
      "To: Delhi\n"
     ]
    }
   ],
   "source": [
    "# TYPE-C 17\n",
    "def Train():\n",
    "    import pickle\n",
    "    q=open(\"D:\\\\HOME FILE\\\\RUDRA\\\\12th\\\\File\\\\D9.dat\",\"wb\")\n",
    "    N=int(input(\"Enter how many times you want to enter the details: \"))\n",
    "    for i in range(N):\n",
    "        Train={}\n",
    "        j=int(input(\"Enter the train no.: \"))\n",
    "        n=input(\"From: \")\n",
    "        t=input(\"To: \")\n",
    "        Train[\"Tno.\"]=j\n",
    "        Train[\"From\"]=n\n",
    "        Train[\"To\"]=t\n",
    "        pickle.dump(Train,q)\n",
    "    q.close()\n",
    "Train()    "
   ]
  },
  {
   "cell_type": "code",
   "execution_count": 30,
   "id": "af1ccd13",
   "metadata": {},
   "outputs": [
    {
     "name": "stdout",
     "output_type": "stream",
     "text": [
      "121521 \t Mumbai \t Delhi\n",
      "completed\n"
     ]
    }
   ],
   "source": [
    "def Trainr():\n",
    "    import pickle\n",
    "    e=open(\"D:\\\\HOME FILE\\\\RUDRA\\\\12th\\\\File\\\\D9.dat\",\"rb\")\n",
    "    try:\n",
    "        while True:\n",
    "            x=pickle.load(e)\n",
    "            c=x.get('Tno.')\n",
    "            j=x.get('From')\n",
    "            v=x.get('To')\n",
    "            if v==\"Delhi\":\n",
    "                print(c,\"\\t\",j,\"\\t\",v)\n",
    "    except:\n",
    "        print(\"completed\")\n",
    "Trainr()"
   ]
  },
  {
   "cell_type": "code",
   "execution_count": 31,
   "id": "4de44118",
   "metadata": {},
   "outputs": [
    {
     "name": "stdout",
     "output_type": "stream",
     "text": [
      "Enter how many times you want to enter the details: 2\n",
      "Enter the book number: 1\n",
      "Enter the name of the book: English\n",
      "Enter the name of the author: Shiv Das\n",
      "Enter the price of the book: 155\n",
      "Enter the book number: 2\n",
      "Enter the name of the book: English Core\n",
      "Enter the name of the author: Shiv Das\n",
      "Enter the price of the book: 175\n"
     ]
    }
   ],
   "source": [
    "def CreateFile():\n",
    "    import pickle\n",
    "    e=open(\"D:\\\\HOME FILE\\\\RUDRA\\\\12th\\\\File\\\\D10.dat\",\"wb\")\n",
    "    N=int(input(\"Enter how many times you want to enter the details: \"))\n",
    "    for i in range(N):\n",
    "        Book=[]\n",
    "        n=int(input(\"Enter the book number: \"))\n",
    "        f=input(\"Enter the name of the book: \")\n",
    "        t=input(\"Enter the name of the author: \")\n",
    "        p=int(input(\"Enter the price of the book: \"))\n",
    "        Book.append(n)\n",
    "        Book.append(f)\n",
    "        Book.append(t)\n",
    "        Book.append(p)\n",
    "        pickle.dump(Book,e)\n",
    "    e.close()\n",
    "CreateFile()"
   ]
  },
  {
   "cell_type": "code",
   "execution_count": 34,
   "id": "d9933b42",
   "metadata": {},
   "outputs": [
    {
     "name": "stdout",
     "output_type": "stream",
     "text": [
      "1 \t English \t Shiv Das\n",
      "2 \t English Core \t Shiv Das\n",
      "completed\n"
     ]
    }
   ],
   "source": [
    "def file():\n",
    "    import pickle\n",
    "    e=open(\"D:\\\\HOME FILE\\\\RUDRA\\\\12th\\\\File\\\\D10.dat\",\"rb\")\n",
    "    try:\n",
    "        while True:\n",
    "            x=pickle.load(e)\n",
    "            if x[2]==\"Shiv Das\":\n",
    "                print(x[0],\"\\t\",x[1],\"\\t\",x[2])\n",
    "            \n",
    "    except:\n",
    "        print(\"completed\")\n",
    "file()"
   ]
  },
  {
   "cell_type": "code",
   "execution_count": 2,
   "id": "b9e8c9b6",
   "metadata": {},
   "outputs": [
    {
     "name": "stdout",
     "output_type": "stream",
     "text": [
      "[12126, 'Rudra']\n",
      "[12101, 'Abdur']\n",
      "Completed\n"
     ]
    }
   ],
   "source": [
    "import pickle\n",
    "a=open(\"D:\\\\HOME FILE\\\\RUDRA\\\\12th\\\\File15\\\\Student.dat\",\"rb\")\n",
    "try:\n",
    "    while True:\n",
    "        s=(pickle.load(a))\n",
    "        print(s)\n",
    "except:\n",
    "    print(\"Completed\")\n",
    "    a.close() "
   ]
  },
  {
   "cell_type": "code",
   "execution_count": 2,
   "id": "349b5c60",
   "metadata": {},
   "outputs": [
    {
     "name": "stdout",
     "output_type": "stream",
     "text": [
      "{'Rudra ': '12', 'Manish': '12'}\n",
      "Completed\n"
     ]
    }
   ],
   "source": [
    "import pickle\n",
    "e=open(\"D:\\\\HOME FILE\\\\RUDRA\\\\12th\\\\File\\\\D5.dat\",\"rb\")\n",
    "try:\n",
    "    while True:\n",
    "        print(pickle.load(e))\n",
    "except:\n",
    "    print(\"Completed\")\n",
    "e.close()"
   ]
  },
  {
   "cell_type": "code",
   "execution_count": 1,
   "id": "aca98d72",
   "metadata": {},
   "outputs": [],
   "source": [
    "import csv\n",
    "q=open(\"D:\\\\HOME FILE\\\\RUDRA\\\\12th\\\\File\\\\f1.csv\",\"w\",newline=\"\")\n",
    "v=csv.writer(q)\n",
    "l1=[[\"Rudra Kashyap\",17],[\"Abdur Raquib khan\",17],[\"Pavan Kumar\",17],[\"Yash Deep\",18],[\"Murle Manohar\",18],[\"Aryan Singh\",17]]\n",
    "v.writerow(l1)\n",
    "q.close()"
   ]
  },
  {
   "cell_type": "code",
   "execution_count": 4,
   "id": "19df506e",
   "metadata": {},
   "outputs": [
    {
     "name": "stdout",
     "output_type": "stream",
     "text": [
      "['Rudra Kashyap', '17']\n",
      "['Abdur Raquib khan', '17']\n",
      "['Pavan Kumar', '17']\n",
      "['Yash Deep', '18']\n",
      "['Murle Manohar', '18']\n",
      "['Aryan Singh', '17']\n"
     ]
    }
   ],
   "source": [
    "import csv\n",
    "q=open(\"D:\\\\HOME FILE\\\\RUDRA\\\\12th\\\\File\\\\f1.csv\",\"r\")\n",
    "c=csv.reader(q)\n",
    "for i in c:\n",
    "    print(i)\n",
    "q.close()"
   ]
  },
  {
   "cell_type": "code",
   "execution_count": 3,
   "id": "04ef8e35",
   "metadata": {},
   "outputs": [
    {
     "name": "stdout",
     "output_type": "stream",
     "text": [
      "Enter the number of times you want to enter the data:: 4\n",
      "Enter the data:: 1\n",
      "Enter the data:: Panner masala\n",
      "Enter the data:: Full\n",
      "Enter the data:: 150\n"
     ]
    }
   ],
   "source": [
    "def hotel():\n",
    "    import csv \n",
    "    f=open(\"D:\\\\HOME FILE\\\\RUDRA\\\\12th\\\\File\\\\f3.csv\",\"w\",newline=\"\")\n",
    "    x=csv.writer(f)\n",
    "    l1=[[\"S.no\",\"Name\",\"Quantity\",\"Price\"]]\n",
    "    n=int(input(\"Enter the number of times you want to enter the data:: \"))\n",
    "    l2=[]\n",
    "    for i in range(4):\n",
    "        s=input(\"Enter the data:: \")\n",
    "        l2.append(s)\n",
    "    l1.append(l2)\n",
    "    x.writerows(l1)\n",
    "    f.close()\n",
    "hotel()"
   ]
  },
  {
   "cell_type": "code",
   "execution_count": 5,
   "id": "c9c39f5e",
   "metadata": {},
   "outputs": [
    {
     "name": "stdout",
     "output_type": "stream",
     "text": [
      "['S.no', 'Name', 'Quantity', 'Price']\n",
      "['1', 'Panner masala', 'Full', '150']\n"
     ]
    }
   ],
   "source": [
    "import csv \n",
    "w=open(\"D:\\\\HOME FILE\\\\RUDRA\\\\12th\\\\File\\\\f3.csv\",\"r\")\n",
    "s=csv.reader(w)\n",
    "for i in s:\n",
    "    print(i)\n",
    "w.close()"
   ]
  },
  {
   "cell_type": "code",
   "execution_count": 3,
   "id": "6a3137a4",
   "metadata": {},
   "outputs": [
    {
     "name": "stdout",
     "output_type": "stream",
     "text": [
      "Enter the number of times you want to enter the data:: 2\n",
      "Enter the data:: hii \n",
      "Enter the data:: Rudra\n"
     ]
    }
   ],
   "source": [
    "#write a function that writes multiple rows in csv file in one go and then read the file content.\n",
    "def multiple_rows():\n",
    "    import csv \n",
    "    f=open(\"D:\\\\HOME FILE\\\\RUDRA\\\\12th\\\\File\\\\c1.csv\",\"w\",newline=\"\")\n",
    "    x=csv.writer(f)\n",
    "    n=int(input(\"Enter the number of times you want to enter the data:: \"))\n",
    "    l2=[]\n",
    "    for i in range(n):\n",
    "        s=input(\"Enter the data:: \")\n",
    "        l1=[s]\n",
    "        l2.append(l1)\n",
    "    x.writerows(l2)\n",
    "    f.close()\n",
    "multiple_rows()"
   ]
  },
  {
   "cell_type": "code",
   "execution_count": 4,
   "id": "d103dee2",
   "metadata": {},
   "outputs": [
    {
     "name": "stdout",
     "output_type": "stream",
     "text": [
      "['hii ']\n",
      "['Rudra']\n"
     ]
    }
   ],
   "source": [
    "def read_rows():\n",
    "    import csv  \n",
    "    w=open(\"D:\\\\HOME FILE\\\\RUDRA\\\\12th\\\\File\\\\c1.csv\",\"r\")\n",
    "    s=csv.reader(w)\n",
    "    for i in s:\n",
    "        print(i)\n",
    "    w.close()\n",
    "read_rows()"
   ]
  },
  {
   "cell_type": "code",
   "execution_count": 16,
   "id": "cc57a542",
   "metadata": {},
   "outputs": [
    {
     "name": "stdout",
     "output_type": "stream",
     "text": [
      "Enter the name :Rudra \n",
      "Enter the age :17\n",
      "Enter the name :Yash\n",
      "Enter the age :18\n",
      "Enter the name :Abdur\n",
      "Enter the age :17\n",
      "After sorting\n",
      "Name : Abdur \t Age : 17\n",
      "Name : Rudra  \t Age : 17\n",
      "Name : Yash \t Age : 18\n"
     ]
    }
   ],
   "source": [
    "def sort():\n",
    "    l=[]\n",
    "    for i in range(3):\n",
    "        name=input(\"Enter the name :\")\n",
    "        age=int(input(\"Enter the age :\"))\n",
    "        l.append([age,name])\n",
    "    l.sort()\n",
    "    print(\"After sorting\")\n",
    "    for i in l:\n",
    "        print(\"Name :\",i[1],\"\\t Age :\",i[0])\n",
    "sort()"
   ]
  }
 ],
 "metadata": {
  "kernelspec": {
   "display_name": "Python 3",
   "language": "python",
   "name": "python3"
  },
  "language_info": {
   "codemirror_mode": {
    "name": "ipython",
    "version": 3
   },
   "file_extension": ".py",
   "mimetype": "text/x-python",
   "name": "python",
   "nbconvert_exporter": "python",
   "pygments_lexer": "ipython3",
   "version": "3.11.1 (tags/v3.11.1:a7a450f, Dec  6 2022, 19:58:39) [MSC v.1934 64 bit (AMD64)]"
  },
  "vscode": {
   "interpreter": {
    "hash": "7d705625a073828d9d6987a7dff4ead27d7dfee1dd954c9d3a1d6b085c12cf79"
   }
  }
 },
 "nbformat": 4,
 "nbformat_minor": 5
}
