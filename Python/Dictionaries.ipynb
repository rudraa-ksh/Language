{
 "cells": [
  {
   "cell_type": "code",
   "execution_count": null,
   "metadata": {},
   "outputs": [],
   "source": [
    "#Self practice\n"
   ]
  },
  {
   "cell_type": "code",
   "execution_count": null,
   "metadata": {},
   "outputs": [],
   "source": [
    "d1={\"Rudra\":18,\"Shrinu\":26}"
   ]
  },
  {
   "cell_type": "code",
   "execution_count": 2,
   "metadata": {},
   "outputs": [
    {
     "name": "stdout",
     "output_type": "stream",
     "text": [
      "18\n"
     ]
    }
   ],
   "source": [
    "d1={\"Rudra\":18,\"Shrinu\":26}\n",
    "print(d1[\"Rudra\"])"
   ]
  },
  {
   "cell_type": "code",
   "execution_count": 5,
   "metadata": {},
   "outputs": [
    {
     "name": "stdout",
     "output_type": "stream",
     "text": [
      "Rudra : 18\n",
      "Shrinu : 26\n"
     ]
    }
   ],
   "source": [
    "d1={\"Rudra\":18,\"Shrinu\":26}\n",
    "for i in d1:\n",
    "    print(i,\":\",d1[i])"
   ]
  },
  {
   "cell_type": "code",
   "execution_count": 1,
   "metadata": {},
   "outputs": [
    {
     "name": "stdout",
     "output_type": "stream",
     "text": [
      "Rudra\n",
      "Shrinu\n"
     ]
    }
   ],
   "source": [
    "d1={\"Rudra\":18,\"Shrinu\":26}\n",
    "for i in d1:\n",
    "    print(i)"
   ]
  },
  {
   "cell_type": "code",
   "execution_count": 2,
   "metadata": {},
   "outputs": [
    {
     "name": "stdout",
     "output_type": "stream",
     "text": [
      "18\n",
      "26\n"
     ]
    }
   ],
   "source": [
    "d1={\"Rudra\":18,\"Shrinu\":26}\n",
    "for i in d1:\n",
    "    print(d1[i])"
   ]
  },
  {
   "cell_type": "code",
   "execution_count": 2,
   "metadata": {},
   "outputs": [
    {
     "name": "stdout",
     "output_type": "stream",
     "text": [
      "dict_keys(['Rudra', 'Shrinu'])\n",
      "dict_values([18, 26])\n"
     ]
    }
   ],
   "source": [
    "d1={\"Rudra\":18,\"Shrinu\":26}\n",
    "print(d1.keys())\n",
    "print(d1.values())"
   ]
  },
  {
   "cell_type": "code",
   "execution_count": 6,
   "metadata": {},
   "outputs": [
    {
     "name": "stdout",
     "output_type": "stream",
     "text": [
      "{123: 26, 'Shrinu': 26}\n"
     ]
    }
   ],
   "source": [
    "d1={123:18,\"Shrinu\":26}\n",
    "d1[123]=26\n",
    "print(d1)"
   ]
  },
  {
   "cell_type": "code",
   "execution_count": 4,
   "metadata": {},
   "outputs": [
    {
     "name": "stdout",
     "output_type": "stream",
     "text": [
      "{'rudra': 18, 'shrinu': 26}\n"
     ]
    }
   ],
   "source": [
    "d1=dict(rudra=18,shrinu=26)\n",
    "print(d1)"
   ]
  },
  {
   "cell_type": "code",
   "execution_count": 15,
   "metadata": {},
   "outputs": [
    {
     "name": "stdout",
     "output_type": "stream",
     "text": [
      "{'name': 'john', 'salary': 1000, 'age': 24}\n"
     ]
    }
   ],
   "source": [
    "d1=dict(zip(('name','salary','age'),('john',1000,24)))\n",
    "print(d1)"
   ]
  },
  {
   "cell_type": "code",
   "execution_count": 2,
   "metadata": {},
   "outputs": [
    {
     "name": "stdout",
     "output_type": "stream",
     "text": [
      "{'Rudra': 'Shrinu', 18: 26}\n"
     ]
    }
   ],
   "source": [
    "d1=dict([['Rudra','Shrinu'],[18,26]])\n",
    "print(d1)"
   ]
  },
  {
   "cell_type": "code",
   "execution_count": 18,
   "metadata": {},
   "outputs": [
    {
     "name": "stdout",
     "output_type": "stream",
     "text": [
      "{'Rudra': 18, 'Shrinu': 26, 'Pragya': 24}\n"
     ]
    }
   ],
   "source": [
    "d1={\"Rudra\":18,\"Shrinu\":26}\n",
    "d1['Pragya']=24\n",
    "print(d1)"
   ]
  },
  {
   "cell_type": "code",
   "execution_count": 1,
   "metadata": {},
   "outputs": [
    {
     "name": "stdout",
     "output_type": "stream",
     "text": [
      "{'Rudra': 18, 'Shrinu': 'Pragya'}\n"
     ]
    }
   ],
   "source": [
    "d1={\"Rudra\":18,\"Shrinu\":26}\n",
    "d1[\"Shrinu\"]=\"Pragya\"\n",
    "print(d1)"
   ]
  },
  {
   "cell_type": "code",
   "execution_count": 20,
   "metadata": {},
   "outputs": [
    {
     "name": "stdout",
     "output_type": "stream",
     "text": [
      "{'Shrinu': 26}\n"
     ]
    }
   ],
   "source": [
    "d1={\"Rudra\":18,\"Shrinu\":26}\n",
    "del d1['Rudra']\n",
    "print(d1)"
   ]
  },
  {
   "cell_type": "code",
   "execution_count": 21,
   "metadata": {},
   "outputs": [
    {
     "ename": "NameError",
     "evalue": "name 'd1' is not defined",
     "output_type": "error",
     "traceback": [
      "\u001b[1;31m---------------------------------------------------------------------------\u001b[0m",
      "\u001b[1;31mNameError\u001b[0m                                 Traceback (most recent call last)",
      "\u001b[1;32m<ipython-input-21-901aca9c10c6>\u001b[0m in \u001b[0;36m<module>\u001b[1;34m\u001b[0m\n\u001b[0;32m      1\u001b[0m \u001b[0md1\u001b[0m\u001b[1;33m=\u001b[0m\u001b[1;33m{\u001b[0m\u001b[1;34m\"Rudra\"\u001b[0m\u001b[1;33m:\u001b[0m\u001b[1;36m18\u001b[0m\u001b[1;33m,\u001b[0m\u001b[1;34m\"Shrinu\"\u001b[0m\u001b[1;33m:\u001b[0m\u001b[1;36m26\u001b[0m\u001b[1;33m}\u001b[0m\u001b[1;33m\u001b[0m\u001b[1;33m\u001b[0m\u001b[0m\n\u001b[0;32m      2\u001b[0m \u001b[1;32mdel\u001b[0m \u001b[0md1\u001b[0m\u001b[1;33m\u001b[0m\u001b[1;33m\u001b[0m\u001b[0m\n\u001b[1;32m----> 3\u001b[1;33m \u001b[0mprint\u001b[0m\u001b[1;33m(\u001b[0m\u001b[0md1\u001b[0m\u001b[1;33m)\u001b[0m\u001b[1;33m\u001b[0m\u001b[1;33m\u001b[0m\u001b[0m\n\u001b[0m",
      "\u001b[1;31mNameError\u001b[0m: name 'd1' is not defined"
     ]
    }
   ],
   "source": [
    "d1={\"Rudra\":18,\"Shrinu\":26}\n",
    "del d1\n",
    "print(d1)"
   ]
  },
  {
   "cell_type": "code",
   "execution_count": 26,
   "metadata": {},
   "outputs": [
    {
     "data": {
      "text/plain": [
       "True"
      ]
     },
     "execution_count": 26,
     "metadata": {},
     "output_type": "execute_result"
    }
   ],
   "source": [
    "d1={\"Rudra\":18,\"Shrinu\":26}\n",
    "'Rudra' in d1\n"
   ]
  },
  {
   "cell_type": "code",
   "execution_count": 27,
   "metadata": {},
   "outputs": [
    {
     "data": {
      "text/plain": [
       "True"
      ]
     },
     "execution_count": 27,
     "metadata": {},
     "output_type": "execute_result"
    }
   ],
   "source": [
    "d1={\"Rudra\":18,\"Shrinu\":26}\n",
    "18 in d1.values()"
   ]
  },
  {
   "cell_type": "code",
   "execution_count": 31,
   "metadata": {},
   "outputs": [
    {
     "data": {
      "text/plain": [
       "2"
      ]
     },
     "execution_count": 31,
     "metadata": {},
     "output_type": "execute_result"
    }
   ],
   "source": [
    "d1={\"Rudra\":18,\"Shrinu\":26}\n",
    "len(d1)"
   ]
  },
  {
   "cell_type": "code",
   "execution_count": 1,
   "metadata": {},
   "outputs": [
    {
     "data": {
      "text/plain": [
       "18"
      ]
     },
     "execution_count": 1,
     "metadata": {},
     "output_type": "execute_result"
    }
   ],
   "source": [
    "d1={\"Rudra\":18,\"Shrinu\":26}\n",
    "d1.get('Rudra')"
   ]
  },
  {
   "cell_type": "code",
   "execution_count": 1,
   "metadata": {},
   "outputs": [
    {
     "name": "stdout",
     "output_type": "stream",
     "text": [
      "dict_items([('Rudra', 18), ('Shrinu', 26)])\n"
     ]
    }
   ],
   "source": [
    "d1={\"Rudra\":18,\"Shrinu\":26}\n",
    "d2=d1.items()\n",
    "print(d2)"
   ]
  },
  {
   "cell_type": "code",
   "execution_count": 35,
   "metadata": {},
   "outputs": [
    {
     "data": {
      "text/plain": [
       "dict_keys(['Rudra', 'Shrinu'])"
      ]
     },
     "execution_count": 35,
     "metadata": {},
     "output_type": "execute_result"
    }
   ],
   "source": [
    "d1={\"Rudra\":18,\"Shrinu\":26}\n",
    "d1.keys()"
   ]
  },
  {
   "cell_type": "code",
   "execution_count": 36,
   "metadata": {},
   "outputs": [
    {
     "data": {
      "text/plain": [
       "dict_values([18, 26])"
      ]
     },
     "execution_count": 36,
     "metadata": {},
     "output_type": "execute_result"
    }
   ],
   "source": [
    "d1={\"Rudra\":18,\"Shrinu\":26}\n",
    "d1.values()"
   ]
  },
  {
   "cell_type": "code",
   "execution_count": 37,
   "metadata": {},
   "outputs": [
    {
     "name": "stdout",
     "output_type": "stream",
     "text": [
      "{2: 100, 4: 100, 6: 100, 8: 100}\n"
     ]
    }
   ],
   "source": [
    "d1=dict.fromkeys([2,4,6,8],100)\n",
    "print(d1)\n"
   ]
  },
  {
   "cell_type": "code",
   "execution_count": 40,
   "metadata": {},
   "outputs": [
    {
     "name": "stdout",
     "output_type": "stream",
     "text": [
      "{'Rudra': 18, 'Shrinu': 26, 5: 320}\n"
     ]
    }
   ],
   "source": [
    "d1={\"Rudra\":18,\"Shrinu\":26}\n",
    "d1.setdefault(5,320)\n",
    "print(d1)"
   ]
  },
  {
   "cell_type": "code",
   "execution_count": 3,
   "metadata": {},
   "outputs": [
    {
     "name": "stdout",
     "output_type": "stream",
     "text": [
      "{'Rudra': 18, 'Shrinu': 26, 'Pragya': 62}\n"
     ]
    }
   ],
   "source": [
    "d1={\"Rudra\":18,\"Shrinu\":26}\n",
    "d2={\"Pragya\":62,\"Shrinu\":26}\n",
    "d1.update(d2)\n",
    "print(d1)"
   ]
  },
  {
   "cell_type": "code",
   "execution_count": 1,
   "metadata": {},
   "outputs": [
    {
     "name": "stdout",
     "output_type": "stream",
     "text": [
      "{'Rudra': 18, 'Shrinu': 26}\n"
     ]
    }
   ],
   "source": [
    "d1={\"Rudra\":18,\"Shrinu\":26}\n",
    "d2=d1.copy()\n",
    "print(d2)"
   ]
  },
  {
   "cell_type": "code",
   "execution_count": 2,
   "metadata": {},
   "outputs": [
    {
     "name": "stdout",
     "output_type": "stream",
     "text": [
      "{1: [1, 2, 3, 4], 2: [3, 4, 5]}\n"
     ]
    }
   ],
   "source": [
    "d1={1:[1,2,3],2:[3,4,5]}\n",
    "d2=d1.copy()\n",
    "d2[1].append(4)\n",
    "print(d1)"
   ]
  },
  {
   "cell_type": "code",
   "execution_count": 3,
   "metadata": {},
   "outputs": [
    {
     "name": "stdout",
     "output_type": "stream",
     "text": [
      "{'Shrinu': 26}\n"
     ]
    }
   ],
   "source": [
    "d1={\"Rudra\":18,\"Shrinu\":26}\n",
    "d1.pop(\"Rudra\",18)\n",
    "print(d1)"
   ]
  },
  {
   "cell_type": "code",
   "execution_count": 6,
   "metadata": {},
   "outputs": [
    {
     "name": "stdout",
     "output_type": "stream",
     "text": [
      "{'Rudra': 18}\n"
     ]
    }
   ],
   "source": [
    "d1={\"Rudra\":18,\"Shrinu\":26}\n",
    "d1.popitem()\n",
    "print(d1)\n"
   ]
  },
  {
   "cell_type": "code",
   "execution_count": 7,
   "metadata": {},
   "outputs": [
    {
     "name": "stdout",
     "output_type": "stream",
     "text": [
      "{}\n"
     ]
    }
   ],
   "source": [
    "d1={\"Rudra\":18,\"Shrinu\":26}\n",
    "d1.clear()\n",
    "print(d1)"
   ]
  },
  {
   "cell_type": "code",
   "execution_count": 8,
   "metadata": {},
   "outputs": [
    {
     "name": "stdout",
     "output_type": "stream",
     "text": [
      "['Rudra', 'Shrinu']\n"
     ]
    }
   ],
   "source": [
    "d1={\"Rudra\":18,\"Shrinu\":26}\n",
    "d2=sorted(d1)\n",
    "print(d2)\n"
   ]
  },
  {
   "cell_type": "code",
   "execution_count": 9,
   "metadata": {},
   "outputs": [
    {
     "name": "stdout",
     "output_type": "stream",
     "text": [
      "[18, 26]\n"
     ]
    }
   ],
   "source": [
    "d1={\"Rudra\":18,\"Shrinu\":26}\n",
    "d2=sorted(d1.values())\n",
    "print(d2)"
   ]
  },
  {
   "cell_type": "code",
   "execution_count": 12,
   "metadata": {},
   "outputs": [
    {
     "data": {
      "text/plain": [
       "'Shrinu'"
      ]
     },
     "execution_count": 12,
     "metadata": {},
     "output_type": "execute_result"
    }
   ],
   "source": [
    "d1={\"Rudra\":18,\"Shrinu\":26}\n",
    "max(d1)"
   ]
  },
  {
   "cell_type": "code",
   "execution_count": 13,
   "metadata": {},
   "outputs": [
    {
     "data": {
      "text/plain": [
       "'Rudra'"
      ]
     },
     "execution_count": 13,
     "metadata": {},
     "output_type": "execute_result"
    }
   ],
   "source": [
    "d1={\"Rudra\":18,\"Shrinu\":26}\n",
    "min(d1)"
   ]
  },
  {
   "cell_type": "code",
   "execution_count": 1,
   "metadata": {},
   "outputs": [
    {
     "data": {
      "text/plain": [
       "36"
      ]
     },
     "execution_count": 1,
     "metadata": {},
     "output_type": "execute_result"
    }
   ],
   "source": [
    "d1={12:'Rudra',24:'Shrinu'}\n",
    "sum(d1)"
   ]
  },
  {
   "cell_type": "code",
   "execution_count": null,
   "metadata": {},
   "outputs": [],
   "source": [
    "#Extra"
   ]
  },
  {
   "cell_type": "code",
   "execution_count": 1,
   "metadata": {},
   "outputs": [
    {
     "name": "stdout",
     "output_type": "stream",
     "text": [
      "The Dictionarie = {1: 'Rudra', 2: 'Abdur', 3: 'Yash', 4: 'Pavan'}\n",
      "dict_items([(1, 'Rudra'), (2, 'Abdur'), (3, 'Yash'), (4, 'Pavan')])\n",
      "The key is: 1 The value is: Rudra\n",
      "The key is: 2 The value is: Abdur\n",
      "The key is: 3 The value is: Yash\n",
      "The key is: 4 The value is: Pavan\n"
     ]
    }
   ],
   "source": [
    "D1={1:'Rudra',2:'Abdur',3:'Yash',4:'Pavan'}\n",
    "print(\"The Dictionarie =\",D1)\n",
    "x=D1.items()\n",
    "for i,j in x:\n",
    "    print(\"The key is:\",i,\"The value is:\",j)\n",
    "    "
   ]
  },
  {
   "cell_type": "code",
   "execution_count": 15,
   "metadata": {},
   "outputs": [
    {
     "name": "stdout",
     "output_type": "stream",
     "text": [
      "Enter the Dictionare{1:'Rudra',2:'Abdur',3:'Yash',4:'Pavan'}\n",
      "The Dictionarie = {1: 'Rudra', 2: 'Abdur', 3: 'Yash', 4: 'Pavan'}\n",
      "The key is: 1 The value is: Rudra\n",
      "The key is: 2 The value is: Abdur\n",
      "The key is: 3 The value is: Yash\n",
      "The key is: 4 The value is: Pavan\n"
     ]
    }
   ],
   "source": [
    "D1=eval(input(\"Enter the Dictionare\"))\n",
    "print(\"The Dictionarie =\",D1)\n",
    "x=D1.items()\n",
    "for i,j in x:\n",
    "    print(\"The key is:\",i,\"The value is:\",j)\n"
   ]
  },
  {
   "cell_type": "code",
   "execution_count": null,
   "metadata": {},
   "outputs": [
    {
     "name": "stdout",
     "output_type": "stream",
     "text": [
      "4\n",
      "{1: ('Rudra', 'Kashyap'), 2: ('Rudra', 'Kashyap'), 3: ('Rudra', 'Kashyap'), 4: ('Rudra', 'Kashyap')}\n"
     ]
    }
   ],
   "source": [
    "D1=dict.fromkeys((1,2,3,4),('Rudra','Kashyap'))\n",
    "print(D1)\n",
    "D1[1]=eval(input(\"Enter the new value::\"))\n",
    "D1[2]=eval(input(\"Enter the new value::\"))\n",
    "D1[3]=eval(input(\"Enter the new value::\"))\n",
    "D1[4]=eval(input(\"Enter the new value::\"))\n",
    "print(D1)\n"
   ]
  },
  {
   "cell_type": "code",
   "execution_count": 5,
   "metadata": {},
   "outputs": [
    {
     "name": "stdout",
     "output_type": "stream",
     "text": [
      "Enter the number of students1\n",
      "Please enter the informations of the student::\n",
      "Enter the name::Rudra kashyap\n",
      "Enter the roll number::11126\n",
      "Enter marks::79\n",
      "{'Name': 'Rudra kashyap', 'Rollno.': 11126, 'Marks': 79}\n",
      "{'Name': 'Rudra kashyap', 'Rollno.': 11126, 'Marks': 79}\n"
     ]
    }
   ],
   "source": [
    "n=int(input(\"Enter the number of students\"))\n",
    "for i in range(1,n+1):\n",
    "    print(\"Please enter the informations of the student::\")\n",
    "    n=(input(\"Enter the name::\"))\n",
    "    rn=int(input(\"Enter the roll number::\"))\n",
    "    m=int(input(\"Enter marks::\"))\n",
    "    a={\"Name\":n,\"Rollno.\":rn,\"Marks\":m}\n",
    "    print(a)\n",
    "    if m>75:\n",
    "        print(a)\n",
    "    "
   ]
  },
  {
   "cell_type": "code",
   "execution_count": 2,
   "metadata": {},
   "outputs": [
    {
     "name": "stdout",
     "output_type": "stream",
     "text": [
      "Enter the number of employees::2\n",
      "Enter the name of employee:: gahkx\n",
      "Enter the salary of employee::234566\n",
      "Enter the name of employee:: mjh\n",
      "Enter the salary of employee::89076\n"
     ]
    },
    {
     "ename": "AttributeError",
     "evalue": "'dict' object has no attribute 'append'",
     "output_type": "error",
     "traceback": [
      "\u001b[1;31m---------------------------------------------------------------------------\u001b[0m",
      "\u001b[1;31mAttributeError\u001b[0m                            Traceback (most recent call last)",
      "\u001b[1;32m<ipython-input-2-9e0b3994693e>\u001b[0m in \u001b[0;36m<module>\u001b[1;34m\u001b[0m\n\u001b[0;32m      5\u001b[0m     \u001b[0ms\u001b[0m\u001b[1;33m=\u001b[0m\u001b[0mint\u001b[0m\u001b[1;33m(\u001b[0m\u001b[0minput\u001b[0m\u001b[1;33m(\u001b[0m\u001b[1;34m\"Enter the salary of employee::\"\u001b[0m\u001b[1;33m)\u001b[0m\u001b[1;33m)\u001b[0m\u001b[1;33m\u001b[0m\u001b[1;33m\u001b[0m\u001b[0m\n\u001b[0;32m      6\u001b[0m     \u001b[0ma\u001b[0m\u001b[1;33m=\u001b[0m\u001b[1;33m{\u001b[0m\u001b[1;34m\"Name\"\u001b[0m\u001b[1;33m:\u001b[0m\u001b[0mm\u001b[0m\u001b[1;33m,\u001b[0m\u001b[1;34m\"Salary\"\u001b[0m\u001b[1;33m:\u001b[0m\u001b[0ms\u001b[0m\u001b[1;33m}\u001b[0m\u001b[1;33m\u001b[0m\u001b[1;33m\u001b[0m\u001b[0m\n\u001b[1;32m----> 7\u001b[1;33m \u001b[0md2\u001b[0m\u001b[1;33m.\u001b[0m\u001b[0mappend\u001b[0m\u001b[1;33m(\u001b[0m\u001b[0ma\u001b[0m\u001b[1;33m)\u001b[0m\u001b[1;33m\u001b[0m\u001b[1;33m\u001b[0m\u001b[0m\n\u001b[0m\u001b[0;32m      8\u001b[0m \u001b[0mprint\u001b[0m\u001b[1;33m(\u001b[0m\u001b[0md2\u001b[0m\u001b[1;33m)\u001b[0m\u001b[1;33m\u001b[0m\u001b[1;33m\u001b[0m\u001b[0m\n",
      "\u001b[1;31mAttributeError\u001b[0m: 'dict' object has no attribute 'append'"
     ]
    }
   ],
   "source": [
    "d2={}\n",
    "n=int(input(\"Enter the number of employees::\"))\n",
    "for i in range(1,n+1):\n",
    "    m=input(\"Enter the name of employee:: \")\n",
    "    s=int(input(\"Enter the salary of employee::\"))\n",
    "    a={\"Name\":m,\"Salary\":s}\n",
    ".append(a)\n",
    "print(d2)"
   ]
  },
  {
   "cell_type": "code",
   "execution_count": 1,
   "metadata": {},
   "outputs": [
    {
     "name": "stdout",
     "output_type": "stream",
     "text": [
      "Enter the number::3\n"
     ]
    }
   ],
   "source": [
    "d1={\"Rudra\":2,\"Shrinu\":3,\"Pragya\":4}\n",
    "v=int(input(\"Enter the number::\"))\n",
    "if v==d1.values():\n",
    "    print(d1.values)\n"
   ]
  },
  {
   "cell_type": "code",
   "execution_count": 17,
   "metadata": {},
   "outputs": [
    {
     "name": "stdout",
     "output_type": "stream",
     "text": [
      "{1: 10, 2: 20, 3: 30, 4: 40, 5: 5, 6: 60}\n",
      "{1: 11, 2: 22, 3: 33, 4: 44, 5: 5, 6: 60}\n"
     ]
    }
   ],
   "source": [
    "d1={1:1,2:2,3:3,4:4,5:5}\n",
    "d2={1:10,2:20,3:30,4:40,6:60}\n",
    "d3=dict(d1)\n",
    "d3.update(d2)\n",
    "print(d3)\n",
    "for i in d1:\n",
    "    for j in d2:\n",
    "        if i==j:\n",
    "            d3[i]=d1[i]+d2[i]\n",
    "print(d3)\n",
    "        "
   ]
  },
  {
   "cell_type": "code",
   "execution_count": 8,
   "metadata": {},
   "outputs": [
    {
     "name": "stdout",
     "output_type": "stream",
     "text": [
      "Candidate 'a' received 5 numbers of votes\n",
      "Candidate 'b' received 6 numbers of votes\n",
      "Candidate 'c' received 4 numbers of votes\n"
     ]
    }
   ],
   "source": [
    "votes={1:'a',2:'a',3:'c',4:'a',5:'c',6:'b',7:'b',8:'b',9:'a',10:'c',11:'a',12:'b',13:'b',14:'c',15:'b'}\n",
    "a=0\n",
    "b=0\n",
    "c=0\n",
    "for i in votes:\n",
    "    if votes[i]=='a':\n",
    "        a+=1\n",
    "    if votes[i]=='b':\n",
    "        b+=1\n",
    "    if votes[i]=='c':\n",
    "        c+=1\n",
    "d1={'a':a,'b':b,'c':c}\n",
    "print(\"Candidate 'a' received\",a,\"numbers of votes\")\n",
    "print(\"Candidate 'b' received\",b,\"numbers of votes\")\n",
    "print(\"Candidate 'c' received\",c,\"numbers of votes\")\n",
    "#print(\"The candidate who won the election with maximum votes is\",)"
   ]
  },
  {
   "cell_type": "code",
   "execution_count": 1,
   "metadata": {},
   "outputs": [
    {
     "name": "stdout",
     "output_type": "stream",
     "text": [
      "{'first': 1, 'Second': 2}\n"
     ]
    }
   ],
   "source": [
    "a=dict([('first',1),('Second',2)])\n",
    "print(a)"
   ]
  }
 ],
 "metadata": {
  "kernelspec": {
   "display_name": "Python 3",
   "language": "python",
   "name": "python3"
  },
  "language_info": {
   "codemirror_mode": {
    "name": "ipython",
    "version": 3
   },
   "file_extension": ".py",
   "mimetype": "text/x-python",
   "name": "python",
   "nbconvert_exporter": "python",
   "pygments_lexer": "ipython3",
   "version": "3.11.3"
  },
  "vscode": {
   "interpreter": {
    "hash": "7d705625a073828d9d6987a7dff4ead27d7dfee1dd954c9d3a1d6b085c12cf79"
   }
  }
 },
 "nbformat": 4,
 "nbformat_minor": 4
}
