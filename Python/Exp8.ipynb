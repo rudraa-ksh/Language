{
 "cells": [
  {
   "cell_type": "code",
   "execution_count": 1,
   "metadata": {},
   "outputs": [],
   "source": [
    "f1=open(\"D:\\\\New Folder\\\\Rhymes.txt\",\"w\")\n",
    "l1=[\"Jack & jill.\\n\",\"Went up the hill.\\n\"]\n",
    "f1.writelines(l1)\n",
    "f1.close()"
   ]
  },
  {
   "cell_type": "code",
   "execution_count": 5,
   "metadata": {},
   "outputs": [
    {
     "name": "stdout",
     "output_type": "stream",
     "text": [
      "19\n",
      "Jack & jill.\n",
      "Went up the hill.\n",
      "\n"
     ]
    }
   ],
   "source": [
    "f1=open(\"D:\\\\New Folder\\\\Rhymes.txt\",\"r\")\n",
    "a=f1.read()\n",
    "count=0\n",
    "for i in a:\n",
    "    if i.islower():\n",
    "        count+=1\n",
    "print(count)\n",
    "\n",
    "print(a)"
   ]
  },
  {
   "cell_type": "code",
   "execution_count": 1,
   "metadata": {},
   "outputs": [
    {
     "name": "stdout",
     "output_type": "stream",
     "text": [
      "3#4#"
     ]
    }
   ],
   "source": [
    "f1=open(\"D:\\\\New Folder\\\\Rhymes.txt\",\"r\")\n",
    "l=f1.readlines()\n",
    "for i in l:\n",
    "    S=i.split()\n",
    "    print(len(S),end=\"#\")\n",
    "f1.close()"
   ]
  },
  {
   "cell_type": "code",
   "execution_count": 3,
   "metadata": {},
   "outputs": [],
   "source": [
    "f=open(\"D:\\\\New Folder\\\\WRITER.txt\",\"w\")\n",
    "for i in range(3):\n",
    "    l=input()\n",
    "    f.write(l+\"\\n\")\n",
    "f.close()"
   ]
  },
  {
   "cell_type": "code",
   "execution_count": 7,
   "metadata": {},
   "outputs": [
    {
     "name": "stdout",
     "output_type": "stream",
     "text": [
      "A CLEAN ENVIRONMENT IS NECESSARY FOR OUR GOOD HEALTH.\n",
      "\n",
      "EDUCATIONAL INSTITUTIONS SHOULD TAKE THE LEAD.\n",
      "\n"
     ]
    }
   ],
   "source": [
    "f=open(\"D:\\\\New Folder\\\\WRITER.txt\",\"r\")\n",
    "a=f.readlines()\n",
    "for i in a:\n",
    "    if i[0]==\"A\" or i[0]==\"E\":\n",
    "        print(i)\n",
    "f.close()"
   ]
  },
  {
   "cell_type": "code",
   "execution_count": 18,
   "metadata": {},
   "outputs": [
    {
     "name": "stdout",
     "output_type": "stream",
     "text": [
      "0\n",
      "EAN E\n",
      "10\n",
      "VIRONMENT \n"
     ]
    }
   ],
   "source": [
    "f=open(\"D:\\\\New Folder\\\\WRITER.txt\",\"r\")\n",
    "print(f.tell())\n",
    "f.seek(4)\n",
    "print(f.read(5))\n",
    "f.seek(10)\n",
    "print(f.tell())\n",
    "print(f.read(10))\n",
    "f.close()"
   ]
  },
  {
   "cell_type": "code",
   "execution_count": 27,
   "metadata": {},
   "outputs": [],
   "source": [
    "import pickle\n",
    "f=open(\"D:\\\\New Folder\\\\STOCK.dat\",\"wb\")\n",
    "d={\n",
    "    \"Laptop\":62000,\n",
    "    \"Mouse\":800,\n",
    "    \"keyboard\":1200\n",
    "}\n",
    "pickle.dump(d,f)\n",
    "f.close()"
   ]
  },
  {
   "cell_type": "code",
   "execution_count": 31,
   "metadata": {},
   "outputs": [
    {
     "name": "stdout",
     "output_type": "stream",
     "text": [
      "Laptop 62000\n",
      "keyboard 1200\n"
     ]
    }
   ],
   "source": [
    "def Costly():\n",
    "    import pickle\n",
    "    f=open(\"D:\\\\New Folder\\\\STOCK.dat\",\"rb\")\n",
    "    a=pickle.load(f)\n",
    "    for i,j in a.items():\n",
    "        if j>1000:\n",
    "            print(i,j)\n",
    "    f.close()\n",
    "\n",
    "Costly()"
   ]
  },
  {
   "cell_type": "code",
   "execution_count": 32,
   "metadata": {},
   "outputs": [],
   "source": [
    "f=open(\"D:\\\\New Folder\\\\DOCS.dat\",\"wb\")\n",
    "import pickle\n",
    "d={\"Rudra\":\"Cardiology\",\"Om\":\"ENT\"}\n",
    "pickle.dump(d,f)\n",
    "f.close()"
   ]
  },
  {
   "cell_type": "code",
   "execution_count": 36,
   "metadata": {},
   "outputs": [
    {
     "name": "stdout",
     "output_type": "stream",
     "text": [
      "Rudra\n"
     ]
    }
   ],
   "source": [
    "class DOCTORS:\n",
    "\n",
    "    def __init__(self,N,S):\n",
    "        self.N=N\n",
    "        self.S=S\n",
    "\n",
    "    def Disp(self):\n",
    "        print(self.N)\n",
    "\n",
    "    def SDLDOCS(self):\n",
    "        import pickle\n",
    "        f=open(\"D:\\\\New Folder\\\\DOCS.dat\",\"rb\")\n",
    "        a=pickle.load(f)\n",
    "        for i,j in a.items():\n",
    "            if j==self.S:\n",
    "                self.N=i\n",
    "                self.Disp()\n",
    "obj=DOCTORS(\"Om\",\"Cardiology\")\n",
    "obj.SDLDOCS()\n",
    "        \n",
    "\n",
    "\n"
   ]
  },
  {
   "cell_type": "code",
   "execution_count": null,
   "metadata": {},
   "outputs": [],
   "source": []
  }
 ],
 "metadata": {
  "kernelspec": {
   "display_name": "Python 3",
   "language": "python",
   "name": "python3"
  },
  "language_info": {
   "codemirror_mode": {
    "name": "ipython",
    "version": 3
   },
   "file_extension": ".py",
   "mimetype": "text/x-python",
   "name": "python",
   "nbconvert_exporter": "python",
   "pygments_lexer": "ipython3",
   "version": "3.11.1"
  },
  "orig_nbformat": 4,
  "vscode": {
   "interpreter": {
    "hash": "7d705625a073828d9d6987a7dff4ead27d7dfee1dd954c9d3a1d6b085c12cf79"
   }
  }
 },
 "nbformat": 4,
 "nbformat_minor": 2
}
