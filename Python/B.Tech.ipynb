{
 "cells": [
  {
   "cell_type": "code",
   "execution_count": 4,
   "metadata": {},
   "outputs": [
    {
     "name": "stdout",
     "output_type": "stream",
     "text": [
      "(1, 2, 43, 55, 55)\n"
     ]
    }
   ],
   "source": [
    "#data types\n",
    "#integers 0-9\n",
    "#special characters */-+%$#&@^*()!\n",
    "#strings a-z\n",
    "\n",
    "#list [1,2,3,4,5,6,7,7,]\n",
    "#dict {Satish:18,Om:18,Rudra:18}\n",
    "#tuple(1,2,3,4,5,6,7,8,9,9,9)\n",
    "\n",
    "\n"
   ]
  },
  {
   "cell_type": "code",
   "execution_count": 2,
   "metadata": {},
   "outputs": [
    {
     "name": "stdout",
     "output_type": "stream",
     "text": [
      "1\n"
     ]
    }
   ],
   "source": [
    "a=153\n",
    "b=str(a)\n",
    "result=int(b[0])\n",
    "print(result)"
   ]
  },
  {
   "cell_type": "code",
   "execution_count": 1,
   "metadata": {},
   "outputs": [
    {
     "name": "stdout",
     "output_type": "stream",
     "text": [
      "5050\n"
     ]
    }
   ],
   "source": [
    "sum=0\n",
    "for i in range(0,101):\n",
    "    sum=sum+i\n",
    "print(sum)"
   ]
  },
  {
   "cell_type": "code",
   "execution_count": 11,
   "metadata": {},
   "outputs": [
    {
     "name": "stdout",
     "output_type": "stream",
     "text": [
      "2500\n"
     ]
    }
   ],
   "source": [
    "s=0\n",
    "for j in range(0,101):\n",
    "    if j%2!=0:\n",
    "        s=s+j\n",
    "print(s)"
   ]
  },
  {
   "cell_type": "code",
   "execution_count": 9,
   "metadata": {},
   "outputs": [
    {
     "data": {
      "text/plain": [
       "0"
      ]
     },
     "execution_count": 9,
     "metadata": {},
     "output_type": "execute_result"
    }
   ],
   "source": [
    "2%2"
   ]
  },
  {
   "cell_type": "code",
   "execution_count": 8,
   "metadata": {},
   "outputs": [
    {
     "name": "stdout",
     "output_type": "stream",
     "text": [
      "18\n"
     ]
    }
   ],
   "source": [
    "#variables\n",
    "age=int()\n",
    "print()\n"
   ]
  },
  {
   "cell_type": "code",
   "execution_count": 10,
   "metadata": {},
   "outputs": [
    {
     "name": "stdout",
     "output_type": "stream",
     "text": [
      "100\n",
      "100\n"
     ]
    }
   ],
   "source": [
    "#literal\n",
    "\"rudra\",\"True\" #string literal\n",
    "1254 #numeric/integer literal\n",
    "True/False   #boolean literal\n",
    "13.25 #floating Point literal\n",
    "\n"
   ]
  },
  {
   "cell_type": "code",
   "execution_count": 21,
   "metadata": {},
   "outputs": [
    {
     "name": "stdout",
     "output_type": "stream",
     "text": [
      "55\n"
     ]
    }
   ],
   "source": [
    "a=100\n",
    "A=100\n",
    "a=100\n",
    "a=55\n",
    "print(a)"
   ]
  },
  {
   "cell_type": "code",
   "execution_count": 5,
   "metadata": {},
   "outputs": [
    {
     "name": "stdout",
     "output_type": "stream",
     "text": [
      "True\n"
     ]
    }
   ],
   "source": [
    "x=True\n",
    "y=False\n",
    "z=False\n",
    "print(x or y and z)"
   ]
  },
  {
   "cell_type": "code",
   "execution_count": 6,
   "metadata": {},
   "outputs": [
    {
     "ename": "SyntaxError",
     "evalue": "unterminated string literal (detected at line 2) (1297692345.py, line 2)",
     "output_type": "error",
     "traceback": [
      "\u001b[1;36m  Cell \u001b[1;32mIn[6], line 2\u001b[1;36m\u001b[0m\n\u001b[1;33m    print(\"hell\u001b[0m\n\u001b[1;37m          ^\u001b[0m\n\u001b[1;31mSyntaxError\u001b[0m\u001b[1;31m:\u001b[0m unterminated string literal (detected at line 2)\n"
     ]
    }
   ],
   "source": [
    "print(\"hello world\")\n",
    "print(\"hell\n",
    "print(\"Hello\")"
   ]
  },
  {
   "cell_type": "code",
   "execution_count": null,
   "metadata": {},
   "outputs": [],
   "source": [
    "what is boolean?\n",
    "True, False"
   ]
  },
  {
   "cell_type": "code",
   "execution_count": 23,
   "metadata": {},
   "outputs": [
    {
     "ename": "SyntaxError",
     "evalue": "invalid syntax (3635790229.py, line 1)",
     "output_type": "error",
     "traceback": [
      "\u001b[1;36m  Cell \u001b[1;32mIn [23], line 1\u001b[1;36m\u001b[0m\n\u001b[1;33m    >120\u001b[0m\n\u001b[1;37m    ^\u001b[0m\n\u001b[1;31mSyntaxError\u001b[0m\u001b[1;31m:\u001b[0m invalid syntax\n"
     ]
    }
   ],
   "source": [
    ">120"
   ]
  },
  {
   "cell_type": "code",
   "execution_count": 2,
   "metadata": {},
   "outputs": [
    {
     "data": {
      "text/plain": [
       "array([1. , 1.1, 1.2, 1.3, 1.4, 1.5, 1.6, 1.7, 1.8, 1.9])"
      ]
     },
     "execution_count": 2,
     "metadata": {},
     "output_type": "execute_result"
    }
   ],
   "source": [
    "import numpy as np\n",
    "ari=np.arange(1,2,0.1,dtype=float)\n",
    "b=np.zeros_like(ari)\n",
    "\n"
   ]
  },
  {
   "cell_type": "code",
   "execution_count": null,
   "metadata": {},
   "outputs": [],
   "source": [
    "Arithmetic opr\n",
    "+-/*%//** \n",
    "#bitwise opr\n",
    "& and operator\n",
    "^ XOR\n",
    "|  or"
   ]
  },
  {
   "cell_type": "code",
   "execution_count": 4,
   "metadata": {},
   "outputs": [
    {
     "name": "stdout",
     "output_type": "stream",
     "text": [
      "[1 2 3 4 5]\n",
      "[1 3 5]\n",
      "[4 5 6 7 8]\n"
     ]
    }
   ],
   "source": [
    "import numpy as np\n",
    "arr=np.arange(10)\n",
    "print(arr[1:6])\n",
    "print(arr[1:6:2])\n",
    "print(arr[-6:-1])"
   ]
  },
  {
   "cell_type": "code",
   "execution_count": 4,
   "metadata": {},
   "outputs": [
    {
     "name": "stdout",
     "output_type": "stream",
     "text": [
      "None\n"
     ]
    }
   ],
   "source": [
    "import numpy as np\n",
    "arr=np.array([0,1,2,3,4,5,6,7,8,9])\n",
    "a=arr.resize(2,3)\n",
    "print(a)"
   ]
  },
  {
   "cell_type": "code",
   "execution_count": 26,
   "metadata": {},
   "outputs": [
    {
     "name": "stderr",
     "output_type": "stream",
     "text": [
      "<>:1: SyntaxWarning: \"is not\" with a literal. Did you mean \"!=\"?\n",
      "<>:1: SyntaxWarning: \"is not\" with a literal. Did you mean \"!=\"?\n",
      "C:\\Users\\Rudra\\AppData\\Local\\Temp\\ipykernel_19028\\2296977833.py:1: SyntaxWarning: \"is not\" with a literal. Did you mean \"!=\"?\n",
      "  \"Rudra\" is not \"RudRa\"\n"
     ]
    },
    {
     "data": {
      "text/plain": [
       "True"
      ]
     },
     "execution_count": 26,
     "metadata": {},
     "output_type": "execute_result"
    }
   ],
   "source": [
    "<\n",
    ">\n",
    "<=\n",
    ">=\n",
    "!=\n",
    "=="
   ]
  },
  {
   "cell_type": "code",
   "execution_count": 29,
   "metadata": {},
   "outputs": [
    {
     "name": "stdout",
     "output_type": "stream",
     "text": [
      "101\n"
     ]
    }
   ],
   "source": [
    "a=100\n",
    "a=a+1 a//=1\n",
    "\n",
    "print(a)"
   ]
  },
  {
   "cell_type": "code",
   "execution_count": 38,
   "metadata": {},
   "outputs": [
    {
     "data": {
      "text/plain": [
       "True"
      ]
     },
     "execution_count": 38,
     "metadata": {},
     "output_type": "execute_result"
    }
   ],
   "source": [
    "#membership opr\n",
    "\" \" not in \"RudraKashyap\""
   ]
  },
  {
   "cell_type": "code",
   "execution_count": 43,
   "metadata": {},
   "outputs": [
    {
     "data": {
      "text/plain": [
       "False"
      ]
     },
     "execution_count": 43,
     "metadata": {},
     "output_type": "execute_result"
    }
   ],
   "source": [
    "#logical operators\n",
    "(\"r\" and \"k\") in (\"Rudra Kashyap\")"
   ]
  },
  {
   "cell_type": "code",
   "execution_count": 1,
   "metadata": {},
   "outputs": [
    {
     "name": "stdout",
     "output_type": "stream",
     "text": [
      "100\n"
     ]
    }
   ],
   "source": [
    "a=100\n",
    "print(a)"
   ]
  },
  {
   "cell_type": "code",
   "execution_count": 11,
   "metadata": {},
   "outputs": [
    {
     "name": "stdout",
     "output_type": "stream",
     "text": [
      "Thesum of two number is 30\n"
     ]
    }
   ],
   "source": [
    "a=10\n",
    "b=20\n",
    "c=a+b\n",
    "print(\"Thesum of two number is\",c)"
   ]
  },
  {
   "cell_type": "code",
   "execution_count": 2,
   "metadata": {},
   "outputs": [
    {
     "data": {
      "text/plain": [
       "str"
      ]
     },
     "execution_count": 2,
     "metadata": {},
     "output_type": "execute_result"
    }
   ],
   "source": [
    "a=input()\n",
    "type(a)"
   ]
  },
  {
   "cell_type": "code",
   "execution_count": 5,
   "metadata": {},
   "outputs": [
    {
     "name": "stdout",
     "output_type": "stream",
     "text": [
      "The data type is:  <class 'list'>\n"
     ]
    }
   ],
   "source": [
    "a=[1,2,3,4]\n",
    "print(\"The data type is: \",type(a))"
   ]
  },
  {
   "cell_type": "code",
   "execution_count": 11,
   "metadata": {},
   "outputs": [
    {
     "name": "stdout",
     "output_type": "stream",
     "text": [
      "100\n"
     ]
    },
    {
     "data": {
      "text/plain": [
       "int"
      ]
     },
     "execution_count": 11,
     "metadata": {},
     "output_type": "execute_result"
    }
   ],
   "source": [
    "a=\"100\"\n",
    "print(a)\n",
    "a=int(a)\n",
    "type(a)"
   ]
  },
  {
   "cell_type": "code",
   "execution_count": 3,
   "metadata": {},
   "outputs": [
    {
     "data": {
      "text/plain": [
       "['Canvas',\n",
       " 'Pen',\n",
       " 'RawPen',\n",
       " 'RawTurtle',\n",
       " 'Screen',\n",
       " 'ScrolledCanvas',\n",
       " 'Shape',\n",
       " 'TK',\n",
       " 'TNavigator',\n",
       " 'TPen',\n",
       " 'Tbuffer',\n",
       " 'Terminator',\n",
       " 'Turtle',\n",
       " 'TurtleGraphicsError',\n",
       " 'TurtleScreen',\n",
       " 'TurtleScreenBase',\n",
       " 'Vec2D',\n",
       " '_CFG',\n",
       " '_LANGUAGE',\n",
       " '_Root',\n",
       " '_Screen',\n",
       " '_TurtleImage',\n",
       " '__all__',\n",
       " '__builtins__',\n",
       " '__cached__',\n",
       " '__doc__',\n",
       " '__file__',\n",
       " '__forwardmethods',\n",
       " '__func_body',\n",
       " '__loader__',\n",
       " '__methodDict',\n",
       " '__methods',\n",
       " '__name__',\n",
       " '__package__',\n",
       " '__spec__',\n",
       " '__stringBody',\n",
       " '_alias_list',\n",
       " '_make_global_funcs',\n",
       " '_screen_docrevise',\n",
       " '_tg_classes',\n",
       " '_tg_screen_functions',\n",
       " '_tg_turtle_functions',\n",
       " '_tg_utilities',\n",
       " '_turtle_docrevise',\n",
       " '_ver',\n",
       " 'addshape',\n",
       " 'back',\n",
       " 'backward',\n",
       " 'begin_fill',\n",
       " 'begin_poly',\n",
       " 'bgcolor',\n",
       " 'bgpic',\n",
       " 'bk',\n",
       " 'bye',\n",
       " 'circle',\n",
       " 'clear',\n",
       " 'clearscreen',\n",
       " 'clearstamp',\n",
       " 'clearstamps',\n",
       " 'clone',\n",
       " 'color',\n",
       " 'colormode',\n",
       " 'config_dict',\n",
       " 'deepcopy',\n",
       " 'degrees',\n",
       " 'delay',\n",
       " 'distance',\n",
       " 'done',\n",
       " 'dot',\n",
       " 'down',\n",
       " 'end_fill',\n",
       " 'end_poly',\n",
       " 'exitonclick',\n",
       " 'fd',\n",
       " 'fillcolor',\n",
       " 'filling',\n",
       " 'forward',\n",
       " 'get_poly',\n",
       " 'get_shapepoly',\n",
       " 'getcanvas',\n",
       " 'getmethparlist',\n",
       " 'getpen',\n",
       " 'getscreen',\n",
       " 'getshapes',\n",
       " 'getturtle',\n",
       " 'goto',\n",
       " 'heading',\n",
       " 'hideturtle',\n",
       " 'home',\n",
       " 'ht',\n",
       " 'inspect',\n",
       " 'isdown',\n",
       " 'isfile',\n",
       " 'isvisible',\n",
       " 'join',\n",
       " 'left',\n",
       " 'listen',\n",
       " 'lt',\n",
       " 'mainloop',\n",
       " 'math',\n",
       " 'mode',\n",
       " 'numinput',\n",
       " 'onclick',\n",
       " 'ondrag',\n",
       " 'onkey',\n",
       " 'onkeypress',\n",
       " 'onkeyrelease',\n",
       " 'onrelease',\n",
       " 'onscreenclick',\n",
       " 'ontimer',\n",
       " 'pd',\n",
       " 'pen',\n",
       " 'pencolor',\n",
       " 'pendown',\n",
       " 'pensize',\n",
       " 'penup',\n",
       " 'pos',\n",
       " 'position',\n",
       " 'pu',\n",
       " 'radians',\n",
       " 'read_docstrings',\n",
       " 'readconfig',\n",
       " 'register_shape',\n",
       " 'reset',\n",
       " 'resetscreen',\n",
       " 'resizemode',\n",
       " 'right',\n",
       " 'rt',\n",
       " 'screensize',\n",
       " 'seth',\n",
       " 'setheading',\n",
       " 'setpos',\n",
       " 'setposition',\n",
       " 'settiltangle',\n",
       " 'setundobuffer',\n",
       " 'setup',\n",
       " 'setworldcoordinates',\n",
       " 'setx',\n",
       " 'sety',\n",
       " 'shape',\n",
       " 'shapesize',\n",
       " 'shapetransform',\n",
       " 'shearfactor',\n",
       " 'showturtle',\n",
       " 'simpledialog',\n",
       " 'speed',\n",
       " 'split',\n",
       " 'st',\n",
       " 'stamp',\n",
       " 'sys',\n",
       " 'textinput',\n",
       " 'tilt',\n",
       " 'tiltangle',\n",
       " 'time',\n",
       " 'title',\n",
       " 'towards',\n",
       " 'tracer',\n",
       " 'turtles',\n",
       " 'turtlesize',\n",
       " 'types',\n",
       " 'undo',\n",
       " 'undobufferentries',\n",
       " 'up',\n",
       " 'update',\n",
       " 'warnings',\n",
       " 'width',\n",
       " 'window_height',\n",
       " 'window_width',\n",
       " 'write',\n",
       " 'write_docstringdict',\n",
       " 'xcor',\n",
       " 'ycor']"
      ]
     },
     "execution_count": 3,
     "metadata": {},
     "output_type": "execute_result"
    }
   ],
   "source": [
    "import turtle\n",
    "dir(turtle)"
   ]
  },
  {
   "cell_type": "code",
   "execution_count": 14,
   "metadata": {},
   "outputs": [
    {
     "data": {
      "text/plain": [
       "int"
      ]
     },
     "execution_count": 14,
     "metadata": {},
     "output_type": "execute_result"
    }
   ],
   "source": [
    "a=int(input(\"Enter a number: \"))\n",
    "type(a)"
   ]
  },
  {
   "cell_type": "code",
   "execution_count": null,
   "metadata": {},
   "outputs": [],
   "source": [
    "int()#it is used to convert string numbers to integer"
   ]
  },
  {
   "cell_type": "code",
   "execution_count": 15,
   "metadata": {},
   "outputs": [
    {
     "data": {
      "text/plain": [
       "str"
      ]
     },
     "execution_count": 15,
     "metadata": {},
     "output_type": "execute_result"
    }
   ],
   "source": [
    "a=100\n",
    "a=str(a)\n",
    "type(a)"
   ]
  },
  {
   "cell_type": "code",
   "execution_count": null,
   "metadata": {},
   "outputs": [],
   "source": [
    "def adding():\n",
    "    a=int(input())\n",
    "    b=int(input())\n",
    "    c=a+b\n",
    "    print(c)\n",
    "adding()"
   ]
  },
  {
   "cell_type": "code",
   "execution_count": 1,
   "metadata": {},
   "outputs": [
    {
     "data": {
      "text/plain": [
       "True"
      ]
     },
     "execution_count": 1,
     "metadata": {},
     "output_type": "execute_result"
    }
   ],
   "source": [
    "\"R\".isupper()"
   ]
  },
  {
   "cell_type": "code",
   "execution_count": 3,
   "metadata": {},
   "outputs": [
    {
     "name": "stdout",
     "output_type": "stream",
     "text": [
      "\n",
      "    \n",
      "    1) Account Details\n",
      "    \n",
      "    2) Transaction\n",
      "    \n",
      "    3) Transaction Details\n",
      "    \n",
      "    4) Balance\n",
      "    \n",
      "    5) Delete Account\n",
      "    \n",
      "    6) Feedback\n",
      "    \n",
      "    7) Logout\n",
      "    \n",
      "    8) Back\n",
      "    \n",
      "    \n"
     ]
    }
   ],
   "source": [
    "import bank\n",
    "bank.menu()"
   ]
  },
  {
   "cell_type": "code",
   "execution_count": 3,
   "metadata": {},
   "outputs": [
    {
     "name": "stdout",
     "output_type": "stream",
     "text": [
      "1\n",
      "2\n",
      "3\n",
      "4\n",
      "5\n",
      "6\n",
      "7\n"
     ]
    }
   ],
   "source": [
    "l1=[1,2,3,4,5,6,7]\n",
    "i=0\n",
    "while True:\n",
    "    print(l1[i])\n",
    "    i+=1\n",
    "    if len(l1)==i:\n",
    "        False\n",
    "        break\n"
   ]
  },
  {
   "cell_type": "code",
   "execution_count": 1,
   "metadata": {},
   "outputs": [
    {
     "name": "stdout",
     "output_type": "stream",
     "text": [
      "5\n"
     ]
    }
   ],
   "source": [
    "num=len(input(\"Enter your name: \"))\n",
    "print(num)"
   ]
  },
  {
   "cell_type": "code",
   "execution_count": 1,
   "metadata": {},
   "outputs": [
    {
     "name": "stdout",
     "output_type": "stream",
     "text": [
      "Your list is:  [45, 25]\n"
     ]
    }
   ],
   "source": [
    "l1=[]\n",
    "n=int(input(\"Enter how many elemts you want in your list:  \"))\n",
    "for i in range(n):\n",
    "    e=int(input(\"Enter the elemnt\"))\n",
    "    l1.append(e)\n",
    "print(\"Your list is: \",l1)"
   ]
  },
  {
   "cell_type": "code",
   "execution_count": 1,
   "metadata": {},
   "outputs": [
    {
     "name": "stdout",
     "output_type": "stream",
     "text": [
      "11\n"
     ]
    }
   ],
   "source": [
    "m=\"I LOVE PYTHON\"\n",
    "count=0\n",
    "for i in m:\n",
    "    if i==\"O\":\n",
    "        continue\n",
    "    else:\n",
    "        count+=1\n",
    "print(count)"
   ]
  },
  {
   "cell_type": "code",
   "execution_count": 6,
   "metadata": {},
   "outputs": [
    {
     "name": "stdout",
     "output_type": "stream",
     "text": [
      "2\n",
      "4\n",
      "8\n",
      "16\n",
      "32\n",
      "64\n",
      "64\n"
     ]
    }
   ],
   "source": [
    "i=1\n",
    "for x in range(1,4):\n",
    "    for y in range(1,3):\n",
    "        i=i+(i*1)\n",
    "print(i)"
   ]
  },
  {
   "cell_type": "code",
   "execution_count": 2,
   "metadata": {},
   "outputs": [
    {
     "name": "stdout",
     "output_type": "stream",
     "text": [
      "7.0\n"
     ]
    }
   ],
   "source": [
    "print(3*3+3/3-3)"
   ]
  },
  {
   "cell_type": "code",
   "execution_count": 11,
   "metadata": {},
   "outputs": [
    {
     "name": "stdout",
     "output_type": "stream",
     "text": [
      "10\n",
      "56\n"
     ]
    }
   ],
   "source": [
    "n=int(input())\n",
    "for i in range(n):\n",
    "    l1=[]\n",
    "    x, y, z = input().split()\n",
    "    l1.append(int(x))\n",
    "    l1.append(int(y))\n",
    "    l1.append(int(z))\n",
    "    l1.remove(max(l1))\n",
    "    print(max(l1))"
   ]
  },
  {
   "cell_type": "code",
   "execution_count": null,
   "metadata": {},
   "outputs": [],
   "source": [
    "n=int(input())\n",
    "for i in range(n):\n",
    "    N, M = input().split()\n",
    "    friends_sho=N*2\n",
    "    no_s=friends_sho-M\n",
    "    print(no_s)"
   ]
  },
  {
   "cell_type": "code",
   "execution_count": null,
   "metadata": {},
   "outputs": [],
   "source": [
    "n=int(input())\n",
    "for i in range(n):\n",
    "    N, M = input().split()\n",
    "    r_s=int(N)\n",
    "    if int(M)>int(N) or int(M)<int(N):\n",
    "        M=int(N)\n",
    "        print(M)\n",
    "    else:\n",
    "        print(M)"
   ]
  },
  {
   "cell_type": "code",
   "execution_count": null,
   "metadata": {},
   "outputs": [],
   "source": [
    "T=int(input())\n",
    "for i in range(T):\n",
    "    N, X = input().split()\n",
    "    if int(X)%int(N)==0:\n",
    "        print(\"YES\")\n",
    "    else:\n",
    "        print(\"NO\")\n",
    "        "
   ]
  },
  {
   "cell_type": "code",
   "execution_count": 11,
   "metadata": {},
   "outputs": [
    {
     "name": "stdout",
     "output_type": "stream",
     "text": [
      "['1', '2', '3']\n"
     ]
    }
   ],
   "source": [
    "A=input().split()\n",
    "print(A)"
   ]
  },
  {
   "cell_type": "code",
   "execution_count": 20,
   "metadata": {},
   "outputs": [
    {
     "name": "stdout",
     "output_type": "stream",
     "text": [
      "CONFUSED\n"
     ]
    }
   ],
   "source": [
    "T=int(input())\n",
    "for i in range(T):\n",
    "    N=int(input())\n",
    "    A=input().split()\n",
    "    if len(A)==N:\n",
    "        d={}\n",
    "        for x in A:\n",
    "            d[x]=d.get(x,0)+1\n",
    "        a=max(d.values())\n",
    "        l=[]\n",
    "        for i, j in d.items():\n",
    "            if j==a:\n",
    "                l.append(i)\n",
    "        if len(l)>1:\n",
    "            print(\"CONFUSED\")\n",
    "        else:\n",
    "            print(i)\n"
   ]
  },
  {
   "cell_type": "code",
   "execution_count": 26,
   "metadata": {},
   "outputs": [
    {
     "name": "stdout",
     "output_type": "stream",
     "text": [
      "4\n",
      "4\n"
     ]
    }
   ],
   "source": [
    "T=int(input())\n",
    "for i in range(T):\n",
    "    N=int(input())\n",
    "    A=input().split()\n",
    "    if len(A)==N:\n",
    "        d={}\n",
    "        for x in A:\n",
    "            d[x]=d.get(x,0)+1\n",
    "        a=max(d.values())\n",
    "        l=[]\n",
    "        for i, j in d.items():\n",
    "            if j==a:\n",
    "                l.append(i)\n",
    "                print(i)\n",
    "        if len(l)>1:\n",
    "            print(\"CONFUSED\")\n",
    "        else:\n",
    "            print(l[0])"
   ]
  },
  {
   "cell_type": "code",
   "execution_count": 6,
   "metadata": {},
   "outputs": [
    {
     "data": {
      "text/plain": [
       "5"
      ]
     },
     "execution_count": 6,
     "metadata": {},
     "output_type": "execute_result"
    }
   ],
   "source": [
    "100//20"
   ]
  },
  {
   "cell_type": "code",
   "execution_count": null,
   "metadata": {},
   "outputs": [],
   "source": [
    "T=int(input())\n",
    "for i in range(T):\n",
    "    X, Y= input().split()\n",
    "    print(int(X)//(int(Y)*2))"
   ]
  },
  {
   "cell_type": "code",
   "execution_count": 9,
   "metadata": {},
   "outputs": [
    {
     "ename": "ZeroDivisionError",
     "evalue": "integer modulo by zero",
     "output_type": "error",
     "traceback": [
      "\u001b[1;31m---------------------------------------------------------------------------\u001b[0m",
      "\u001b[1;31mZeroDivisionError\u001b[0m                         Traceback (most recent call last)",
      "Cell \u001b[1;32mIn[9], line 1\u001b[0m\n\u001b[1;32m----> 1\u001b[0m \u001b[39m5\u001b[39;49m\u001b[39m%\u001b[39;49m\u001b[39m0\u001b[39;49m\n",
      "\u001b[1;31mZeroDivisionError\u001b[0m: integer modulo by zero"
     ]
    }
   ],
   "source": [
    "5%0"
   ]
  },
  {
   "cell_type": "code",
   "execution_count": 13,
   "metadata": {},
   "outputs": [
    {
     "data": {
      "text/plain": [
       "0"
      ]
     },
     "execution_count": 13,
     "metadata": {},
     "output_type": "execute_result"
    }
   ],
   "source": [
    "0%5"
   ]
  },
  {
   "cell_type": "code",
   "execution_count": 17,
   "metadata": {},
   "outputs": [
    {
     "data": {
      "text/plain": [
       "2"
      ]
     },
     "execution_count": 17,
     "metadata": {},
     "output_type": "execute_result"
    }
   ],
   "source": [
    "21//10"
   ]
  },
  {
   "cell_type": "code",
   "execution_count": 20,
   "metadata": {},
   "outputs": [
    {
     "data": {
      "text/plain": [
       "2"
      ]
     },
     "execution_count": 20,
     "metadata": {},
     "output_type": "execute_result"
    }
   ],
   "source": [
    "10//4"
   ]
  },
  {
   "cell_type": "code",
   "execution_count": 17,
   "metadata": {},
   "outputs": [
    {
     "data": {
      "text/plain": [
       "2"
      ]
     },
     "execution_count": 17,
     "metadata": {},
     "output_type": "execute_result"
    }
   ],
   "source": [
    "9//4"
   ]
  },
  {
   "cell_type": "code",
   "execution_count": 20,
   "metadata": {},
   "outputs": [
    {
     "data": {
      "text/plain": [
       "0"
      ]
     },
     "execution_count": 20,
     "metadata": {},
     "output_type": "execute_result"
    }
   ],
   "source": [
    "8%4"
   ]
  },
  {
   "cell_type": "code",
   "execution_count": 54,
   "metadata": {},
   "outputs": [
    {
     "name": "stdout",
     "output_type": "stream",
     "text": [
      "[10, 4, 15, 23, 0]\n",
      "[10, 4, 15, 0, 23]\n",
      "[4, 10, 15, 0, 23]\n",
      "[4, 10, 0, 15, 23]\n",
      "[4, 0, 10, 15, 23]\n",
      "[0, 4, 10, 15, 23]\n"
     ]
    }
   ],
   "source": [
    "#bubble sort\n",
    "l1=[10,15,4,23,0]\n",
    "for j in range(len(l1)-1):\n",
    "    for i in range(len(l1)-1-j):\n",
    "        if l1[i]>l1[i+1]:\n",
    "            l1[i],l1[i+1]=l1[i+1],l1[i]\n",
    "            print(l1)"
   ]
  },
  {
   "cell_type": "code",
   "execution_count": 15,
   "metadata": {},
   "outputs": [
    {
     "name": "stdout",
     "output_type": "stream",
     "text": [
      "[10, 4, 15, 23, 0]\n",
      "[10, 4, 15, 0, 23]\n",
      "[4, 10, 15, 0, 23]\n",
      "[4, 10, 0, 15, 23]\n",
      "[4, 0, 10, 15, 23]\n",
      "[0, 4, 10, 15, 23]\n"
     ]
    }
   ],
   "source": [
    "l=[10,15,4,23,0]\n",
    "for i in range(len(l)-1,0,-1):\n",
    "    for j in range(i):\n",
    "        if l[j]>l[j+1]:\n",
    "            l[j+1],l[j]=l[j],l[j+1]\n",
    "            print(l)"
   ]
  },
  {
   "cell_type": "code",
   "execution_count": 13,
   "metadata": {},
   "outputs": [
    {
     "name": "stdout",
     "output_type": "stream",
     "text": [
      "[10, 4, 25, 1, 5]\n",
      "[4, 10, 25, 1, 5]\n",
      "[4, 25, 10, 1, 5]\n",
      "[4, 10, 25, 1, 5]\n",
      "[1, 10, 25, 4, 5]\n",
      "[1, 4, 25, 10, 5]\n",
      "[1, 4, 10, 25, 5]\n",
      "[1, 4, 5, 25, 10]\n",
      "[1, 4, 5, 10, 25]\n"
     ]
    }
   ],
   "source": [
    "#insertion soring\n",
    "l1=[10,4,25,1,5]\n",
    "print(l1)\n",
    "for i in range(1,len(l1)):\n",
    "    for j in range(len(l1)-1):\n",
    "        if l1[i]<l1[j]:\n",
    "            temp=l1[i]\n",
    "            l1[i]=l1[j]\n",
    "            l1[j]=temp\n",
    "            print(l1)"
   ]
  },
  {
   "cell_type": "code",
   "execution_count": 2,
   "metadata": {},
   "outputs": [
    {
     "name": "stdout",
     "output_type": "stream",
     "text": [
      "0\n",
      "1\n",
      "2\n",
      "3\n",
      "4\n",
      "5\n",
      "0\n",
      "1\n",
      "2\n",
      "3\n",
      "4\n",
      "0\n",
      "1\n",
      "2\n",
      "3\n",
      "0\n",
      "1\n",
      "2\n",
      "0\n",
      "1\n",
      "0\n"
     ]
    }
   ],
   "source": [
    "l=[15,6,13,22,3,52,2]\n",
    "n=len(l)\n",
    "for i in range(n):\n",
    "    for j in range(0,n-i-1):\n",
    "        print(j)"
   ]
  },
  {
   "cell_type": "code",
   "execution_count": 4,
   "metadata": {},
   "outputs": [
    {
     "name": "stdout",
     "output_type": "stream",
     "text": [
      "2D ndarray:\n",
      "[[1 2 3]\n",
      " [4 5 6]]\n",
      "3D ndarray:\n",
      "[[[ 1  2  3]\n",
      "  [ 4  5  6]]\n",
      "\n",
      " [[ 7  8  9]\n",
      "  [10 11 12]]]\n"
     ]
    }
   ],
   "source": [
    "import numpy as np\n",
    "\n",
    "# 2D ndarray\n",
    "a = np.array([[1, 2, 3], [4, 5, 6]])\n",
    "print(\"2D ndarray:\")\n",
    "print(a)\n",
    "\n",
    "# 3D ndarray\n",
    "b = np.array([[[1, 2, 3], [4, 5, 6]], [[7, 8, 9], [10, 11, 12]]])\n",
    "print(\"3D ndarray:\")\n",
    "print(b)"
   ]
  },
  {
   "cell_type": "code",
   "execution_count": 15,
   "metadata": {},
   "outputs": [
    {
     "name": "stdout",
     "output_type": "stream",
     "text": [
      "[[1 4]\n",
      " [2 5]\n",
      " [3 6]]\n"
     ]
    }
   ],
   "source": [
    "t=np.transpose(a)\n",
    "print(t)"
   ]
  },
  {
   "cell_type": "code",
   "execution_count": 16,
   "metadata": {},
   "outputs": [
    {
     "name": "stdout",
     "output_type": "stream",
     "text": [
      "[[[ 1  7]\n",
      "  [ 4 10]]\n",
      "\n",
      " [[ 2  8]\n",
      "  [ 5 11]]\n",
      "\n",
      " [[ 3  9]\n",
      "  [ 6 12]]]\n"
     ]
    }
   ],
   "source": [
    "t1=np.transpose(b)\n",
    "print(t1)"
   ]
  },
  {
   "cell_type": "code",
   "execution_count": 18,
   "metadata": {},
   "outputs": [
    {
     "data": {
      "text/plain": [
       "(2, 3)"
      ]
     },
     "execution_count": 18,
     "metadata": {},
     "output_type": "execute_result"
    }
   ],
   "source": [
    "a.shape"
   ]
  },
  {
   "cell_type": "code",
   "execution_count": 19,
   "metadata": {},
   "outputs": [
    {
     "data": {
      "text/plain": [
       "(2, 2, 3)"
      ]
     },
     "execution_count": 19,
     "metadata": {},
     "output_type": "execute_result"
    }
   ],
   "source": [
    "b.shape"
   ]
  },
  {
   "cell_type": "code",
   "execution_count": 20,
   "metadata": {},
   "outputs": [
    {
     "data": {
      "text/plain": [
       "4"
      ]
     },
     "execution_count": 20,
     "metadata": {},
     "output_type": "execute_result"
    }
   ],
   "source": [
    "a.itemsize"
   ]
  },
  {
   "cell_type": "code",
   "execution_count": 21,
   "metadata": {},
   "outputs": [
    {
     "data": {
      "text/plain": [
       "4"
      ]
     },
     "execution_count": 21,
     "metadata": {},
     "output_type": "execute_result"
    }
   ],
   "source": [
    "b.itemsize"
   ]
  },
  {
   "cell_type": "code",
   "execution_count": 1,
   "metadata": {},
   "outputs": [
    {
     "name": "stdout",
     "output_type": "stream",
     "text": [
      "0\n",
      "1\n",
      "2\n",
      "3\n",
      "4\n"
     ]
    }
   ],
   "source": [
    "for i in range(10):\n",
    "    if i<=4:\n",
    "        print(i)\n",
    "        continue\n",
    "    else:\n",
    "        break"
   ]
  },
  {
   "cell_type": "code",
   "execution_count": 2,
   "metadata": {},
   "outputs": [
    {
     "name": "stdout",
     "output_type": "stream",
     "text": [
      "{1: {2: 'pjain'}}\n"
     ]
    }
   ],
   "source": [
    "def updict(mydict):\n",
    "    list(mydict.items())[0][1].update({list(list(mydict.items())[0][1].keys())[0]:\"pjain\"})\n",
    "    print(mydict)\n",
    "mydict={1:{2:\"pj\"}}\n",
    "updict(mydict)"
   ]
  },
  {
   "attachments": {},
   "cell_type": "markdown",
   "metadata": {},
   "source": []
  },
  {
   "cell_type": "code",
   "execution_count": 3,
   "metadata": {},
   "outputs": [
    {
     "data": {
      "text/plain": [
       "1.5"
      ]
     },
     "execution_count": 3,
     "metadata": {},
     "output_type": "execute_result"
    }
   ],
   "source": [
    "3/2"
   ]
  },
  {
   "cell_type": "code",
   "execution_count": 2,
   "metadata": {},
   "outputs": [
    {
     "data": {
      "text/plain": [
       "1"
      ]
     },
     "execution_count": 2,
     "metadata": {},
     "output_type": "execute_result"
    }
   ],
   "source": [
    "3%2"
   ]
  },
  {
   "cell_type": "code",
   "execution_count": 11,
   "metadata": {},
   "outputs": [
    {
     "data": {
      "text/plain": [
       "3"
      ]
     },
     "execution_count": 11,
     "metadata": {},
     "output_type": "execute_result"
    }
   ],
   "source": [
    "63%6\n"
   ]
  },
  {
   "cell_type": "code",
   "execution_count": 1,
   "metadata": {},
   "outputs": [
    {
     "name": "stdout",
     "output_type": "stream",
     "text": [
      "Rudra\n"
     ]
    }
   ],
   "source": [
    "print(\"Rudra\")"
   ]
  },
  {
   "cell_type": "code",
   "execution_count": 5,
   "metadata": {},
   "outputs": [
    {
     "data": {
      "text/plain": [
       "tuple"
      ]
     },
     "execution_count": 5,
     "metadata": {},
     "output_type": "execute_result"
    }
   ],
   "source": [
    "\n",
    "type(a)"
   ]
  },
  {
   "cell_type": "code",
   "execution_count": 1,
   "metadata": {},
   "outputs": [
    {
     "name": "stdout",
     "output_type": "stream",
     "text": [
      "udra\n"
     ]
    }
   ],
   "source": [
    "a=\"Rudra\"\n",
    "print(a[1:])"
   ]
  },
  {
   "cell_type": "code",
   "execution_count": 3,
   "metadata": {},
   "outputs": [
    {
     "name": "stdout",
     "output_type": "stream",
     "text": [
      "[1, 2, 3, 4, 5, 6]\n"
     ]
    }
   ],
   "source": [
    "l1=[1,2,3,4,5,6,6,5,3,2]\n",
    "l2=[]\n",
    "for i in l1:\n",
    "    if i not in l2:\n",
    "        l2.append(i)\n",
    "print(l2)"
   ]
  },
  {
   "cell_type": "code",
   "execution_count": 6,
   "metadata": {},
   "outputs": [
    {
     "name": "stdout",
     "output_type": "stream",
     "text": [
      "2 3 5 7 11 13 17 19 23 29 "
     ]
    }
   ],
   "source": [
    "# WAP to print 1st N prime num\n",
    "def firt_prinme(N):\n",
    "    count=0\n",
    "    i=2\n",
    "    while count<N:\n",
    "        if is_prime(i):\n",
    "            print(i,end=\" \")\n",
    "            count+=1\n",
    "        i+=1\n",
    "def is_prime(i):\n",
    "    for j in range(2,i):\n",
    "        if (i%j)==0:\n",
    "            break\n",
    "    else:\n",
    "        return True\n",
    "N=int(input())\n",
    "firt_prinme(N)"
   ]
  },
  {
   "cell_type": "code",
   "execution_count": 1,
   "metadata": {},
   "outputs": [
    {
     "name": "stdout",
     "output_type": "stream",
     "text": [
      "2, 3, 5, 7, 11, 13, 17, 19, 23, 29, "
     ]
    }
   ],
   "source": [
    "def is_prime(n):\n",
    "    if n <= 1:\n",
    "        return False\n",
    "    for i in range(2, int(n**0.5) + 1):\n",
    "        if n % i == 0:\n",
    "            return False\n",
    "    return True\n",
    "\n",
    "def print_first_n_primes(n):\n",
    "    count = 0\n",
    "    i = 2\n",
    "    while count < n:\n",
    "        if is_prime(i):\n",
    "            print(i, end=\", \")\n",
    "            count += 1\n",
    "        i += 1\n",
    "\n",
    "# Example usage:\n",
    "print_first_n_primes(10)"
   ]
  },
  {
   "cell_type": "code",
   "execution_count": 12,
   "metadata": {},
   "outputs": [
    {
     "data": {
      "text/plain": [
       "3"
      ]
     },
     "execution_count": 12,
     "metadata": {},
     "output_type": "execute_result"
    }
   ],
   "source": [
    "def n_p():\n",
    "    c=1+2\n",
    "    return c\n",
    "n_p()"
   ]
  },
  {
   "cell_type": "code",
   "execution_count": 13,
   "metadata": {},
   "outputs": [
    {
     "name": "stdout",
     "output_type": "stream",
     "text": [
      "3\n"
     ]
    }
   ],
   "source": [
    "def n_p():\n",
    "    c=1+2\n",
    "    print(c)\n",
    "n_p()"
   ]
  },
  {
   "cell_type": "code",
   "execution_count": 1,
   "metadata": {},
   "outputs": [
    {
     "name": "stdout",
     "output_type": "stream",
     "text": [
      "4\n"
     ]
    }
   ],
   "source": [
    "X,Y,Z=map(int,input().split())\n",
    "print((X-Y)+Z)"
   ]
  },
  {
   "cell_type": "code",
   "execution_count": 1,
   "metadata": {},
   "outputs": [
    {
     "name": "stdout",
     "output_type": "stream",
     "text": [
      "[5, 4, 3, 2, 1]\n"
     ]
    }
   ],
   "source": [
    "l1=[1,2,3,4,5]\n",
    "print(l1[::-1])"
   ]
  },
  {
   "cell_type": "code",
   "execution_count": 2,
   "metadata": {},
   "outputs": [
    {
     "name": "stdout",
     "output_type": "stream",
     "text": [
      "R\n"
     ]
    }
   ],
   "source": [
    "a=\"Rudra\"\n"
   ]
  },
  {
   "cell_type": "code",
   "execution_count": 1,
   "metadata": {},
   "outputs": [
    {
     "name": "stdout",
     "output_type": "stream",
     "text": [
      "1\n",
      "2\n"
     ]
    }
   ],
   "source": [
    "i=1\n",
    "while True:\n",
    "    if i%3==0:\n",
    "        break\n",
    "    print(i)\n",
    "    i+=1"
   ]
  },
  {
   "cell_type": "code",
   "execution_count": 2,
   "metadata": {},
   "outputs": [
    {
     "name": "stdout",
     "output_type": "stream",
     "text": [
      "120\n"
     ]
    }
   ],
   "source": [
    "def fact(n):\n",
    "    if n==0:\n",
    "        return 1\n",
    "    return n * fact(n-1) \n",
    "print(fact(5))"
   ]
  },
  {
   "cell_type": "code",
   "execution_count": 3,
   "metadata": {},
   "outputs": [
    {
     "data": {
      "text/plain": [
       "1"
      ]
     },
     "execution_count": 3,
     "metadata": {},
     "output_type": "execute_result"
    }
   ],
   "source": [
    "5%2"
   ]
  },
  {
   "cell_type": "code",
   "execution_count": 2,
   "metadata": {},
   "outputs": [
    {
     "data": {
      "text/plain": [
       "5"
      ]
     },
     "execution_count": 2,
     "metadata": {},
     "output_type": "execute_result"
    }
   ],
   "source": [
    "10//2"
   ]
  },
  {
   "cell_type": "code",
   "execution_count": 2,
   "metadata": {},
   "outputs": [
    {
     "name": "stdout",
     "output_type": "stream",
     "text": [
      "3\n"
     ]
    }
   ],
   "source": [
    "a=\"23\"\n",
    "print(a[1])"
   ]
  },
  {
   "cell_type": "code",
   "execution_count": 1,
   "metadata": {},
   "outputs": [
    {
     "name": "stdout",
     "output_type": "stream",
     "text": [
      "2\n"
     ]
    }
   ],
   "source": [
    "n=int(input(\"ENter a number: \"))\n",
    "count=0\n",
    "for i in range(n):\n",
    "    if i%2==0:\n",
    "        count+=i\n",
    "print(count)"
   ]
  },
  {
   "cell_type": "code",
   "execution_count": 9,
   "metadata": {},
   "outputs": [
    {
     "name": "stdout",
     "output_type": "stream",
     "text": [
      "6\n"
     ]
    }
   ],
   "source": [
    "n=int(input(\"ENter a number: \"))\n",
    "sum=0\n",
    "num=1\n",
    "while num<=n:\n",
    "    if num%2==0:\n",
    "        sum+=num\n",
    "    num+=1\n",
    "print(sum)"
   ]
  },
  {
   "cell_type": "code",
   "execution_count": 7,
   "metadata": {},
   "outputs": [
    {
     "name": "stdout",
     "output_type": "stream",
     "text": [
      "['Rudra']\n",
      "['Rudra']\n"
     ]
    }
   ],
   "source": [
    "word=input(\"Enter the word to be reversed: \")\n",
    "l1=[]\n",
    "l1=word.split()\n",
    "print(l1)\n",
    "l1[0],l1[-1]=l1[-1],l1[0]\n",
    "print(l1)"
   ]
  },
  {
   "cell_type": "code",
   "execution_count": null,
   "metadata": {},
   "outputs": [],
   "source": [
    "for i in range(0,6):\n",
    "    for j in range(0,j):\n",
    "        if i"
   ]
  },
  {
   "cell_type": "code",
   "execution_count": null,
   "metadata": {},
   "outputs": [],
   "source": []
  }
 ],
 "metadata": {
  "kernelspec": {
   "display_name": "Python 3",
   "language": "python",
   "name": "python3"
  },
  "language_info": {
   "codemirror_mode": {
    "name": "ipython",
    "version": 3
   },
   "file_extension": ".py",
   "mimetype": "text/x-python",
   "name": "python",
   "nbconvert_exporter": "python",
   "pygments_lexer": "ipython3",
   "version": "3.11.3"
  },
  "orig_nbformat": 4,
  "vscode": {
   "interpreter": {
    "hash": "7d705625a073828d9d6987a7dff4ead27d7dfee1dd954c9d3a1d6b085c12cf79"
   }
  }
 },
 "nbformat": 4,
 "nbformat_minor": 2
}
