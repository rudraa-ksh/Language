{
 "cells": [
  {
   "cell_type": "code",
   "execution_count": 4,
   "metadata": {},
   "outputs": [
    {
     "name": "stdout",
     "output_type": "stream",
     "text": [
      "your Dictionary is created:  {63: 50, 48: 20, 71: 27, 64: 22}\n"
     ]
    }
   ],
   "source": [
    "#1\n",
    "#creating dict\n",
    "rno=[]\n",
    "mks=[]\n",
    "for i in range(4):\n",
    "    r, m=eval(input(\"Enter rollno., Enter marks: \"))\n",
    "    rno.append(r)\n",
    "    mks.append(m)\n",
    "d1={rno[0]:mks[0],rno[1]:mks[1],rno[2]:mks[2],rno[3]:mks[3],}\n",
    "print(\"your Dictionary is created: \",d1)"
   ]
  },
  {
   "cell_type": "code",
   "execution_count": null,
   "metadata": {},
   "outputs": [],
   "source": [
    "#creating dict\n",
    "n=int(input(\"Enter how many elements you ant in your list: \"))\n",
    "d1={}\n",
    "for i in range(n):\n",
    "    name=input(\"Enter your name: \")\n",
    "    no=int(input(\"Enter your number: \"))\n",
    "    d2={name:no}\n",
    "    d1.update(d2)\n",
    "print(d1)"
   ]
  },
  {
   "cell_type": "code",
   "execution_count": 1,
   "metadata": {},
   "outputs": [
    {
     "name": "stdout",
     "output_type": "stream",
     "text": [
      "<class 'dict'>\n",
      "{63: 50, 48: 20, 71: 27, 64: 22}\n"
     ]
    }
   ],
   "source": [
    "#creating a dict\n",
    "d1=eval(input(\"Enter a dictionary\"))\n",
    "print(type(d1))\n",
    "print(d1)"
   ]
  },
  {
   "cell_type": "code",
   "execution_count": 10,
   "metadata": {},
   "outputs": [
    {
     "data": {
      "text/plain": [
       "50"
      ]
     },
     "execution_count": 10,
     "metadata": {},
     "output_type": "execute_result"
    }
   ],
   "source": [
    "#accesing elemnts of dict\n",
    "d1[63]"
   ]
  },
  {
   "cell_type": "code",
   "execution_count": 12,
   "metadata": {},
   "outputs": [
    {
     "name": "stdout",
     "output_type": "stream",
     "text": [
      "yes it scored more than 40\n"
     ]
    }
   ],
   "source": [
    "#2\n",
    "d1={63: 50, 48: 20, 71: 27, 64: 22}\n",
    "if d1[63]>40:\n",
    "    print(\"yes it scored more than 40\")\n",
    "else:\n",
    "    print(\"No it didn't scored more than 40\")"
   ]
  },
  {
   "cell_type": "code",
   "execution_count": 21,
   "metadata": {},
   "outputs": [
    {
     "name": "stdout",
     "output_type": "stream",
     "text": [
      "63 : 50\n",
      "48 : 20\n",
      "71 : 27\n",
      "64 : 22\n"
     ]
    }
   ],
   "source": [
    "#traversing a dict\n",
    "for i in d1:\n",
    "    print(i,\":\",d1[i])\n",
    "  \n"
   ]
  },
  {
   "cell_type": "code",
   "execution_count": 23,
   "metadata": {},
   "outputs": [
    {
     "name": "stdout",
     "output_type": "stream",
     "text": [
      "Rudra : 7415678322\n",
      "Anshu : 7024981817\n"
     ]
    }
   ],
   "source": [
    "#3\n",
    "d={'Rudra': 7415678322, 'Anshu': 7024981817}\n",
    "for i in d:\n",
    "    print(i,\":\",d[i])\n"
   ]
  },
  {
   "cell_type": "code",
   "execution_count": 28,
   "metadata": {},
   "outputs": [
    {
     "data": {
      "text/plain": [
       "dict_values([7415678322, 7024981817])"
      ]
     },
     "execution_count": 28,
     "metadata": {},
     "output_type": "execute_result"
    }
   ],
   "source": [
    "d.values()"
   ]
  },
  {
   "cell_type": "code",
   "execution_count": 29,
   "metadata": {},
   "outputs": [
    {
     "data": {
      "text/plain": [
       "dict_keys(['Rudra', 'Anshu'])"
      ]
     },
     "execution_count": 29,
     "metadata": {},
     "output_type": "execute_result"
    }
   ],
   "source": [
    "d.keys()"
   ]
  },
  {
   "cell_type": "code",
   "execution_count": 1,
   "metadata": {},
   "outputs": [
    {
     "name": "stdout",
     "output_type": "stream",
     "text": [
      "Yes, someone scored 50 out of 50\n"
     ]
    }
   ],
   "source": [
    "d1={63: 50, 48: 20, 71: 27, 64: 22}\n",
    "if 50 in d1.values():\n",
    "    print(\"Yes, someone scored 50 out of 50\")\n",
    "else:\n",
    "    print(\"No,no one scored 50 out of 50\")"
   ]
  },
  {
   "cell_type": "code",
   "execution_count": 8,
   "metadata": {},
   "outputs": [
    {
     "name": "stdout",
     "output_type": "stream",
     "text": [
      "{63: 50, 48: 20, 71: 30, 64: 22, 78: 50}\n"
     ]
    }
   ],
   "source": [
    "#mutablity and adding new element\n",
    "d1={63: 50, 48: 20, 71: 27, 64: 22}\n",
    "d1[71]=30\n",
    "d1[78]=50\n",
    "print(d1)"
   ]
  },
  {
   "cell_type": "code",
   "execution_count": 15,
   "metadata": {},
   "outputs": [
    {
     "name": "stdout",
     "output_type": "stream",
     "text": [
      "{63: 49.0, 48: 20, 71: 30, 64: 22, 78: 50}\n"
     ]
    }
   ],
   "source": [
    "d={63: 50, 48: 20, 71: 30, 64: 22, 78: 50}\n",
    "n=int(input(\"ENter the rollno you want to change the marks: \"))\n",
    "if n in d:\n",
    "    d[n]=float(input(\"ENter the marks: \"))\n",
    "else:\n",
    "    print(\"Roll no. not found!\")\n",
    "print(d)"
   ]
  },
  {
   "cell_type": "code",
   "execution_count": 17,
   "metadata": {},
   "outputs": [
    {
     "name": "stdout",
     "output_type": "stream",
     "text": [
      "{'Name': 'Rudra Kashyap', 'Age': '18'}\n"
     ]
    }
   ],
   "source": [
    "d=dict(Name=\"Rudra Kashyap\",Age=\"18\")\n",
    "print(d)"
   ]
  },
  {
   "cell_type": "code",
   "execution_count": 21,
   "metadata": {},
   "outputs": [
    {
     "name": "stdout",
     "output_type": "stream",
     "text": [
      "{'Name': 'Rudra kashyap', 'Age': 18}\n"
     ]
    }
   ],
   "source": [
    "d=dict(zip((\"Name\",\"Age\"),(\"Rudra kashyap\",18)))\n",
    "print(d)"
   ]
  },
  {
   "cell_type": "code",
   "execution_count": 24,
   "metadata": {},
   "outputs": [
    {
     "name": "stdout",
     "output_type": "stream",
     "text": [
      "{'Name': 'Rudra Kashyap', 'Age': 18}\n"
     ]
    }
   ],
   "source": [
    "d=dict([[\"Name\",\"Rudra Kashyap\"],[\"Age\",18]])\n",
    "print(d)"
   ]
  },
  {
   "cell_type": "code",
   "execution_count": 26,
   "metadata": {},
   "outputs": [
    {
     "name": "stdout",
     "output_type": "stream",
     "text": [
      "{'one': 1, 'two': 2, 'three': 3}\n"
     ]
    }
   ],
   "source": [
    "keys=[\"one\",\"two\",\"three\"]\n",
    "values=[1,2,3]\n",
    "d=dict(zip(keys,values))\n",
    "print(d)"
   ]
  },
  {
   "cell_type": "code",
   "execution_count": 28,
   "metadata": {},
   "outputs": [
    {
     "name": "stdout",
     "output_type": "stream",
     "text": [
      "{63: 48}\n"
     ]
    }
   ],
   "source": [
    "M={}\n",
    "n=int(input(\"How many students: \"))\n",
    "for i in range(n):\n",
    "    r, m=eval(input(\"Enter the rolll no., marks: \"))\n",
    "    M[r]=m\n",
    "print(M)"
   ]
  },
  {
   "cell_type": "code",
   "execution_count": 31,
   "metadata": {},
   "outputs": [
    {
     "name": "stdout",
     "output_type": "stream",
     "text": [
      "Student:  Rudra\n",
      "Age:  18\n",
      "Roll no:  63\n"
     ]
    }
   ],
   "source": [
    "#nested dict\n",
    "d={\"Rudra\":{\"age\":18,\"Rollno\":63}}\n",
    "for i in d:\n",
    "    print(\"Student: \",i)\n",
    "    print(\"Age: \",d[i][\"age\"])\n",
    "    print(\"Roll no: \",d[i][\"Rollno\"])"
   ]
  },
  {
   "cell_type": "code",
   "execution_count": 34,
   "metadata": {},
   "outputs": [
    {
     "name": "stdout",
     "output_type": "stream",
     "text": [
      "Your Dictionary:  {'Rudra Kashyap': 5}\n"
     ]
    }
   ],
   "source": [
    "n=int((input(\"Enter how many students: \")))\n",
    "play={}\n",
    "for i in range(n):\n",
    "    name=input(\"Enter player name: \")\n",
    "    wins=int(input(\"Number of wins: \"))\n",
    "    play[name]=wins\n",
    "print(\"Your Dictionary: \",play)\n"
   ]
  },
  {
   "cell_type": "code",
   "execution_count": 38,
   "metadata": {},
   "outputs": [
    {
     "name": "stdout",
     "output_type": "stream",
     "text": [
      "{48: 20, 71: 30, 64: 22, 78: 50}\n"
     ]
    }
   ],
   "source": [
    "#deleting elements\n",
    "d={63: 50, 48: 20, 71: 30, 64: 22, 78: 50}\n",
    "del d[63]\n",
    "print(d)"
   ]
  },
  {
   "cell_type": "code",
   "execution_count": 39,
   "metadata": {},
   "outputs": [
    {
     "data": {
      "text/plain": [
       "True"
      ]
     },
     "execution_count": 39,
     "metadata": {},
     "output_type": "execute_result"
    }
   ],
   "source": [
    "#checking existence\n",
    "48 in d"
   ]
  },
  {
   "cell_type": "code",
   "execution_count": 42,
   "metadata": {},
   "outputs": [
    {
     "name": "stdout",
     "output_type": "stream",
     "text": [
      "{48: 20, 71: 30, 64: 22, 78: 50}\n"
     ]
    }
   ],
   "source": [
    "d={63: 50, 48: 20, 71: 30, 64: 22, 78: 50}\n",
    "n=int(input(\"Enter the roll no: \"))\n",
    "if n in d:\n",
    "    del d[n]\n",
    "    print(d)\n",
    "else:\n",
    "    print(\"Roll no not found\")"
   ]
  },
  {
   "cell_type": "code",
   "execution_count": null,
   "metadata": {},
   "outputs": [],
   "source": []
  }
 ],
 "metadata": {
  "kernelspec": {
   "display_name": "Python 3",
   "language": "python",
   "name": "python3"
  },
  "language_info": {
   "codemirror_mode": {
    "name": "ipython",
    "version": 3
   },
   "file_extension": ".py",
   "mimetype": "text/x-python",
   "name": "python",
   "nbconvert_exporter": "python",
   "pygments_lexer": "ipython3",
   "version": "3.11.1 (tags/v3.11.1:a7a450f, Dec  6 2022, 19:58:39) [MSC v.1934 64 bit (AMD64)]"
  },
  "orig_nbformat": 4,
  "vscode": {
   "interpreter": {
    "hash": "7d705625a073828d9d6987a7dff4ead27d7dfee1dd954c9d3a1d6b085c12cf79"
   }
  }
 },
 "nbformat": 4,
 "nbformat_minor": 2
}
