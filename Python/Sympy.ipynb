{
 "cells": [
  {
   "cell_type": "markdown",
   "id": "01ba7f7e",
   "metadata": {},
   "source": [
    "Introduction"
   ]
  },
  {
   "cell_type": "code",
   "execution_count": 1,
   "id": "e3ebcd64",
   "metadata": {},
   "outputs": [],
   "source": [
    "import sympy as sp\n",
    "from sympy import *"
   ]
  },
  {
   "cell_type": "code",
   "execution_count": 7,
   "id": "a6ac67b0",
   "metadata": {},
   "outputs": [
    {
     "data": {
      "text/plain": [
       "'1.11.1'"
      ]
     },
     "execution_count": 7,
     "metadata": {},
     "output_type": "execute_result"
    }
   ],
   "source": [
    "sp.__version__"
   ]
  },
  {
   "cell_type": "markdown",
   "id": "73d4ac21",
   "metadata": {},
   "source": [
    "Experiment 1"
   ]
  },
  {
   "cell_type": "code",
   "execution_count": 15,
   "id": "75fdaf99",
   "metadata": {},
   "outputs": [
    {
     "data": {
      "text/latex": [
       "$\\displaystyle \\pi$"
      ],
      "text/plain": [
       "pi"
      ]
     },
     "execution_count": 15,
     "metadata": {},
     "output_type": "execute_result"
    }
   ],
   "source": [
    "sp.pi"
   ]
  },
  {
   "cell_type": "code",
   "execution_count": 14,
   "id": "4200ade4",
   "metadata": {},
   "outputs": [
    {
     "data": {
      "text/latex": [
       "$\\displaystyle \\infty$"
      ],
      "text/plain": [
       "oo"
      ]
     },
     "execution_count": 14,
     "metadata": {},
     "output_type": "execute_result"
    }
   ],
   "source": [
    "sp.oo"
   ]
  },
  {
   "cell_type": "code",
   "execution_count": 49,
   "id": "a1b1856e",
   "metadata": {},
   "outputs": [
    {
     "data": {
      "text/latex": [
       "$\\displaystyle e$"
      ],
      "text/plain": [
       "E"
      ]
     },
     "execution_count": 49,
     "metadata": {},
     "output_type": "execute_result"
    }
   ],
   "source": [
    "sp.E"
   ]
  },
  {
   "cell_type": "code",
   "execution_count": 11,
   "id": "cadf2943",
   "metadata": {},
   "outputs": [
    {
     "data": {
      "text/latex": [
       "$\\displaystyle i$"
      ],
      "text/plain": [
       "I"
      ]
     },
     "execution_count": 11,
     "metadata": {},
     "output_type": "execute_result"
    }
   ],
   "source": [
    "sp.I"
   ]
  },
  {
   "cell_type": "code",
   "execution_count": 16,
   "id": "077ad35f",
   "metadata": {},
   "outputs": [
    {
     "data": {
      "text/latex": [
       "$\\displaystyle \\frac{2}{3}$"
      ],
      "text/plain": [
       "2/3"
      ]
     },
     "execution_count": 16,
     "metadata": {},
     "output_type": "execute_result"
    }
   ],
   "source": [
    "sp.Rational(2,3)"
   ]
  },
  {
   "cell_type": "code",
   "execution_count": 14,
   "id": "cc18d177",
   "metadata": {},
   "outputs": [
    {
     "data": {
      "text/plain": [
       "541"
      ]
     },
     "execution_count": 14,
     "metadata": {},
     "output_type": "execute_result"
    }
   ],
   "source": [
    "sp.prime(100)"
   ]
  },
  {
   "cell_type": "code",
   "execution_count": 13,
   "id": "74541e01",
   "metadata": {},
   "outputs": [
    {
     "data": {
      "text/latex": [
       "$\\displaystyle \\sqrt{2}$"
      ],
      "text/plain": [
       "sqrt(2)"
      ]
     },
     "execution_count": 13,
     "metadata": {},
     "output_type": "execute_result"
    }
   ],
   "source": [
    "sp.sqrt(2)"
   ]
  },
  {
   "cell_type": "code",
   "execution_count": 16,
   "id": "4403e209",
   "metadata": {},
   "outputs": [
    {
     "data": {
      "text/latex": [
       "$\\displaystyle \\sqrt{x}$"
      ],
      "text/plain": [
       "sqrt(x)"
      ]
     },
     "execution_count": 16,
     "metadata": {},
     "output_type": "execute_result"
    }
   ],
   "source": [
    "x**sp.Rational(1,2)"
   ]
  },
  {
   "cell_type": "code",
   "execution_count": 38,
   "id": "7cf45bbd",
   "metadata": {},
   "outputs": [
    {
     "name": "stdout",
     "output_type": "stream",
     "text": [
      "<class 'sympy.core.symbol.Symbol'>\n"
     ]
    },
    {
     "data": {
      "text/latex": [
       "$\\displaystyle \\sqrt[3]{x}$"
      ],
      "text/plain": [
       "x**(1/3)"
      ]
     },
     "execution_count": 38,
     "metadata": {},
     "output_type": "execute_result"
    }
   ],
   "source": [
    "x=sp.Symbol(\"x\")\n",
    "print(type(x))\n",
    "x**sp.Rational(1,3)"
   ]
  },
  {
   "cell_type": "code",
   "execution_count": 52,
   "id": "a4642a5a",
   "metadata": {},
   "outputs": [
    {
     "data": {
      "text/latex": [
       "$\\displaystyle \\sqrt[3]{5}$"
      ],
      "text/plain": [
       "5**(1/3)"
      ]
     },
     "execution_count": 52,
     "metadata": {},
     "output_type": "execute_result"
    }
   ],
   "source": [
    "sp.cbrt(5)"
   ]
  },
  {
   "cell_type": "code",
   "execution_count": 19,
   "id": "655ad3ce",
   "metadata": {},
   "outputs": [
    {
     "data": {
      "text/latex": [
       "$\\displaystyle 3 x^{2} + x$"
      ],
      "text/plain": [
       "3*x**2 + x"
      ]
     },
     "execution_count": 19,
     "metadata": {},
     "output_type": "execute_result"
    }
   ],
   "source": [
    "exp=3*x**2+x\n",
    "exp"
   ]
  },
  {
   "cell_type": "code",
   "execution_count": 32,
   "id": "22636b07",
   "metadata": {},
   "outputs": [
    {
     "data": {
      "text/latex": [
       "$\\displaystyle \\sqrt{3} x^{2} + 2 y + z$"
      ],
      "text/plain": [
       "sqrt(3)*x**2 + 2*y + z"
      ]
     },
     "execution_count": 32,
     "metadata": {},
     "output_type": "execute_result"
    }
   ],
   "source": [
    "x,y,z=sp.symbols(\"x,y,z\")\n",
    "x**2*sp.sqrt(3)+2*y+z"
   ]
  },
  {
   "cell_type": "code",
   "execution_count": 4,
   "id": "3ba80666",
   "metadata": {},
   "outputs": [
    {
     "data": {
      "text/latex": [
       "$\\displaystyle \\sqrt{3} x^{2} + 2 y + z$"
      ],
      "text/plain": [
       "sqrt(3)*x**2 + 2*y + z"
      ]
     },
     "execution_count": 4,
     "metadata": {},
     "output_type": "execute_result"
    }
   ],
   "source": [
    "x,y,z=sp.symbols(\"x y z\")\n",
    "x**2*sp.sqrt(3)+2*y+z\n"
   ]
  },
  {
   "cell_type": "code",
   "execution_count": 33,
   "id": "88b962ac",
   "metadata": {},
   "outputs": [
    {
     "data": {
      "text/latex": [
       "$\\displaystyle \\sin^{2}{\\left(x_{0} \\right)} + \\cos^{2}{\\left(x_{1} \\right)} + 15$"
      ],
      "text/plain": [
       "sin(x0)**2 + cos(x1)**2 + 15"
      ]
     },
     "execution_count": 33,
     "metadata": {},
     "output_type": "execute_result"
    }
   ],
   "source": [
    "x=sp.symbols(\"x0:2\")\n",
    "exp=sp.sin(x[0])**2+sp.cos(x[1])**2+15\n",
    "exp"
   ]
  },
  {
   "cell_type": "code",
   "execution_count": 13,
   "id": "de4776df",
   "metadata": {},
   "outputs": [
    {
     "data": {
      "text/latex": [
       "$\\displaystyle \\frac{3}{2}$"
      ],
      "text/plain": [
       "3/2"
      ]
     },
     "execution_count": 13,
     "metadata": {},
     "output_type": "execute_result"
    }
   ],
   "source": [
    "sp.Rational(3/4)+sp.Rational(3/4)"
   ]
  },
  {
   "cell_type": "code",
   "execution_count": 33,
   "id": "4a1853fe",
   "metadata": {},
   "outputs": [
    {
     "data": {
      "text/latex": [
       "$\\displaystyle \\frac{9}{16}$"
      ],
      "text/plain": [
       "9/16"
      ]
     },
     "execution_count": 33,
     "metadata": {},
     "output_type": "execute_result"
    }
   ],
   "source": [
    "sp.Rational(3/4)*sp.Rational(3/4)"
   ]
  },
  {
   "cell_type": "code",
   "execution_count": 34,
   "id": "4e24d640",
   "metadata": {},
   "outputs": [
    {
     "data": {
      "text/latex": [
       "$\\displaystyle 0$"
      ],
      "text/plain": [
       "0"
      ]
     },
     "execution_count": 34,
     "metadata": {},
     "output_type": "execute_result"
    }
   ],
   "source": [
    "sp.Rational(3/4)-sp.Rational(3/4)"
   ]
  },
  {
   "cell_type": "code",
   "execution_count": 23,
   "id": "12c1a64c",
   "metadata": {},
   "outputs": [
    {
     "data": {
      "text/latex": [
       "$\\displaystyle 3 \\sqrt{x} + 45 x$"
      ],
      "text/plain": [
       "3*sqrt(x) + 45*x"
      ]
     },
     "execution_count": 23,
     "metadata": {},
     "output_type": "execute_result"
    }
   ],
   "source": [
    "ex=3*sp.sqrt(x)+45*x\n",
    "ex"
   ]
  },
  {
   "cell_type": "code",
   "execution_count": 42,
   "id": "5a302e8c",
   "metadata": {},
   "outputs": [
    {
     "data": {
      "text/latex": [
       "$\\displaystyle \\frac{3 \\sqrt{7}}{4}$"
      ],
      "text/plain": [
       "3*sqrt(7)/4"
      ]
     },
     "execution_count": 42,
     "metadata": {},
     "output_type": "execute_result"
    }
   ],
   "source": [
    "sp.Rational(3,4)*sp.sqrt(7)"
   ]
  },
  {
   "cell_type": "code",
   "execution_count": 24,
   "id": "e8c0a0b3",
   "metadata": {},
   "outputs": [
    {
     "data": {
      "text/latex": [
       "$\\displaystyle i x + 2$"
      ],
      "text/plain": [
       "I*x + 2"
      ]
     },
     "execution_count": 24,
     "metadata": {},
     "output_type": "execute_result"
    }
   ],
   "source": [
    "2+x*sp.I"
   ]
  },
  {
   "cell_type": "code",
   "execution_count": 48,
   "id": "fcb7d4ec",
   "metadata": {},
   "outputs": [
    {
     "data": {
      "text/latex": [
       "$\\displaystyle 3 e + 45$"
      ],
      "text/plain": [
       "3*E + 45"
      ]
     },
     "execution_count": 48,
     "metadata": {},
     "output_type": "execute_result"
    }
   ],
   "source": [
    "3*sp.E+45"
   ]
  },
  {
   "cell_type": "markdown",
   "id": "de6ce1f0",
   "metadata": {},
   "source": [
    "Experiment 2"
   ]
  },
  {
   "cell_type": "code",
   "execution_count": 14,
   "id": "24dd0892",
   "metadata": {},
   "outputs": [
    {
     "data": {
      "text/latex": [
       "$\\displaystyle 2 x^{2} - 4 x - 2$"
      ],
      "text/plain": [
       "2*x**2 - 4*x - 2"
      ]
     },
     "execution_count": 14,
     "metadata": {},
     "output_type": "execute_result"
    }
   ],
   "source": [
    "exp=2*x**2-4*x-2\n",
    "exp"
   ]
  },
  {
   "cell_type": "code",
   "execution_count": 15,
   "id": "f209a358",
   "metadata": {},
   "outputs": [
    {
     "data": {
      "text/latex": [
       "$\\displaystyle 2 \\left(x^{2} - 2 x - 1\\right)$"
      ],
      "text/plain": [
       "2*(x**2 - 2*x - 1)"
      ]
     },
     "execution_count": 15,
     "metadata": {},
     "output_type": "execute_result"
    }
   ],
   "source": [
    "exp.factor()"
   ]
  },
  {
   "cell_type": "code",
   "execution_count": 16,
   "id": "6cb37bac",
   "metadata": {},
   "outputs": [
    {
     "data": {
      "text/latex": [
       "$\\displaystyle 2 x^{2} - 4 x - 2$"
      ],
      "text/plain": [
       "2*x**2 - 4*x - 2"
      ]
     },
     "execution_count": 16,
     "metadata": {},
     "output_type": "execute_result"
    }
   ],
   "source": [
    "exp.expand()"
   ]
  },
  {
   "cell_type": "code",
   "execution_count": 61,
   "id": "6e9193dd",
   "metadata": {},
   "outputs": [
    {
     "data": {
      "text/latex": [
       "$\\displaystyle 64 t_{0} t_{1} t_{2} + 3 t_{0} + t_{2}^{2} t_{3}$"
      ],
      "text/plain": [
       "64*t0*t1*t2 + 3*t0 + t2**2*t3"
      ]
     },
     "execution_count": 61,
     "metadata": {},
     "output_type": "execute_result"
    }
   ],
   "source": [
    "t=sp.symbols(\"t0:4\")                                \n",
    "r=3*t[0]+64*t[0]*t[1]*t[2]+(t[2]**2)*t[3]\n",
    "r"
   ]
  },
  {
   "cell_type": "code",
   "execution_count": 13,
   "id": "f27bfa7e",
   "metadata": {},
   "outputs": [
    {
     "data": {
      "text/latex": [
       "$\\displaystyle c \\left(s - 1\\right) + c \\left(s + 2\\right) + c \\left(s + 3\\right)$"
      ],
      "text/plain": [
       "c*(s - 1) + c*(s + 2) + c*(s + 3)"
      ]
     },
     "execution_count": 13,
     "metadata": {},
     "output_type": "execute_result"
    }
   ],
   "source": [
    "c,s=sp.symbols(\"c s\")\n",
    "poly=c*(s-1)+c*(s+2)+c*(s+3)\n",
    "poly"
   ]
  },
  {
   "cell_type": "code",
   "execution_count": 14,
   "id": "5e906405",
   "metadata": {},
   "outputs": [
    {
     "data": {
      "text/latex": [
       "$\\displaystyle 3 c s + 4 c$"
      ],
      "text/plain": [
       "3*c*s + 4*c"
      ]
     },
     "execution_count": 14,
     "metadata": {},
     "output_type": "execute_result"
    }
   ],
   "source": [
    "poly.expand()"
   ]
  },
  {
   "cell_type": "code",
   "execution_count": 15,
   "id": "e40bfed5",
   "metadata": {},
   "outputs": [
    {
     "data": {
      "text/latex": [
       "$\\displaystyle c \\left(s - 1\\right) + c \\left(s + 2\\right) + c \\left(s + 3\\right)$"
      ],
      "text/plain": [
       "c*(s - 1) + c*(s + 2) + c*(s + 3)"
      ]
     },
     "execution_count": 15,
     "metadata": {},
     "output_type": "execute_result"
    }
   ],
   "source": [
    "poly"
   ]
  },
  {
   "cell_type": "code",
   "execution_count": 28,
   "id": "a70c378f",
   "metadata": {},
   "outputs": [
    {
     "data": {
      "text/latex": [
       "$\\displaystyle 6 x^{2} - 24 x$"
      ],
      "text/plain": [
       "6*x**2 - 24*x"
      ]
     },
     "execution_count": 28,
     "metadata": {},
     "output_type": "execute_result"
    }
   ],
   "source": [
    "ex=6*x**2+11*x-35*x\n",
    "ex"
   ]
  },
  {
   "cell_type": "code",
   "execution_count": 29,
   "id": "114353f6",
   "metadata": {},
   "outputs": [
    {
     "data": {
      "text/latex": [
       "$\\displaystyle 6 x \\left(x - 4\\right)$"
      ],
      "text/plain": [
       "6*x*(x - 4)"
      ]
     },
     "execution_count": 29,
     "metadata": {},
     "output_type": "execute_result"
    }
   ],
   "source": [
    "ex.factor()"
   ]
  },
  {
   "cell_type": "code",
   "execution_count": 30,
   "id": "ea374388",
   "metadata": {},
   "outputs": [
    {
     "data": {
      "text/latex": [
       "$\\displaystyle 5 x^{2} + 6 x + 1$"
      ],
      "text/plain": [
       "5*x**2 + 6*x + 1"
      ]
     },
     "execution_count": 30,
     "metadata": {},
     "output_type": "execute_result"
    }
   ],
   "source": [
    "ex=5*x**2+6*x+1\n",
    "ex"
   ]
  },
  {
   "cell_type": "code",
   "execution_count": 31,
   "id": "5b9eedee",
   "metadata": {},
   "outputs": [
    {
     "data": {
      "text/latex": [
       "$\\displaystyle \\left(x + 1\\right) \\left(5 x + 1\\right)$"
      ],
      "text/plain": [
       "(x + 1)*(5*x + 1)"
      ]
     },
     "execution_count": 31,
     "metadata": {},
     "output_type": "execute_result"
    }
   ],
   "source": [
    "ex.factor()"
   ]
  },
  {
   "cell_type": "code",
   "execution_count": 4,
   "id": "6208b7c7",
   "metadata": {},
   "outputs": [
    {
     "data": {
      "text/latex": [
       "$\\displaystyle 2 m^{2} + 8 m$"
      ],
      "text/plain": [
       "2*m**2 + 8*m"
      ]
     },
     "execution_count": 4,
     "metadata": {},
     "output_type": "execute_result"
    }
   ],
   "source": [
    "m=sp.Symbol(\"m\")\n",
    "b=2*m**2+8*m\n",
    "b"
   ]
  },
  {
   "cell_type": "code",
   "execution_count": 43,
   "id": "18c2055b",
   "metadata": {},
   "outputs": [
    {
     "data": {
      "text/latex": [
       "$\\displaystyle 2 m \\left(m + 4\\right)$"
      ],
      "text/plain": [
       "2*m*(m + 4)"
      ]
     },
     "execution_count": 43,
     "metadata": {},
     "output_type": "execute_result"
    }
   ],
   "source": [
    "b.factor()"
   ]
  },
  {
   "cell_type": "code",
   "execution_count": 56,
   "id": "0acf1f2f",
   "metadata": {},
   "outputs": [
    {
     "data": {
      "text/latex": [
       "$\\displaystyle 5 m^{2} + m + 3$"
      ],
      "text/plain": [
       "5*m**2 + m + 3"
      ]
     },
     "execution_count": 56,
     "metadata": {},
     "output_type": "execute_result"
    }
   ],
   "source": [
    "v=5*m**2+m+3\n",
    "v"
   ]
  },
  {
   "cell_type": "code",
   "execution_count": 57,
   "id": "6db5519a",
   "metadata": {},
   "outputs": [
    {
     "data": {
      "text/latex": [
       "$\\displaystyle 5 m^{2} + m + 3$"
      ],
      "text/plain": [
       "5*m**2 + m + 3"
      ]
     },
     "execution_count": 57,
     "metadata": {},
     "output_type": "execute_result"
    }
   ],
   "source": [
    "v.factor()"
   ]
  },
  {
   "cell_type": "code",
   "execution_count": 54,
   "id": "aec27989",
   "metadata": {},
   "outputs": [],
   "source": [
    "from sympy import *\n",
    "a=factor(5*m**2+2*m+3,x)"
   ]
  },
  {
   "cell_type": "code",
   "execution_count": 55,
   "id": "59c0057a",
   "metadata": {},
   "outputs": [
    {
     "data": {
      "text/plain": [
       "[-1/5 - sqrt(14)*I/5, -1/5 + sqrt(14)*I/5]"
      ]
     },
     "execution_count": 55,
     "metadata": {},
     "output_type": "execute_result"
    }
   ],
   "source": [
    "solve(a)"
   ]
  },
  {
   "cell_type": "markdown",
   "id": "a47d14c8",
   "metadata": {},
   "source": [
    "Experiment 3"
   ]
  },
  {
   "cell_type": "code",
   "execution_count": null,
   "id": "3b0abbb1",
   "metadata": {},
   "outputs": [],
   "source": [
    "#x2-5x+14\n",
    "#x2=11x-28\n",
    "#6x2-x-5\n",
    "#12x2-25x"
   ]
  },
  {
   "cell_type": "code",
   "execution_count": 65,
   "id": "2f1c95a0",
   "metadata": {},
   "outputs": [
    {
     "data": {
      "text/latex": [
       "$\\displaystyle m^{2} - 11 m + 28$"
      ],
      "text/plain": [
       "m**2 - 11*m + 28"
      ]
     },
     "execution_count": 65,
     "metadata": {},
     "output_type": "execute_result"
    }
   ],
   "source": [
    "o=m**2-11*m+28\n",
    "o"
   ]
  },
  {
   "cell_type": "code",
   "execution_count": 66,
   "id": "2c958a58",
   "metadata": {},
   "outputs": [
    {
     "data": {
      "text/latex": [
       "$\\displaystyle \\left(m - 7\\right) \\left(m - 4\\right)$"
      ],
      "text/plain": [
       "(m - 7)*(m - 4)"
      ]
     },
     "execution_count": 66,
     "metadata": {},
     "output_type": "execute_result"
    }
   ],
   "source": [
    "o.factor()"
   ]
  },
  {
   "cell_type": "code",
   "execution_count": 8,
   "id": "d58c0adb",
   "metadata": {},
   "outputs": [
    {
     "data": {
      "text/latex": [
       "$\\displaystyle 6 m^{2} - m - 5$"
      ],
      "text/plain": [
       "6*m**2 - m - 5"
      ]
     },
     "execution_count": 8,
     "metadata": {},
     "output_type": "execute_result"
    }
   ],
   "source": [
    "o=6*m**2-m-5\n",
    "o"
   ]
  },
  {
   "cell_type": "code",
   "execution_count": 11,
   "id": "620671ba",
   "metadata": {},
   "outputs": [
    {
     "data": {
      "text/latex": [
       "$\\displaystyle \\left(m - 1\\right) \\left(6 m + 5\\right)$"
      ],
      "text/plain": [
       "(m - 1)*(6*m + 5)"
      ]
     },
     "execution_count": 11,
     "metadata": {},
     "output_type": "execute_result"
    }
   ],
   "source": [
    "o.factor()"
   ]
  },
  {
   "cell_type": "code",
   "execution_count": 9,
   "id": "236c9fed",
   "metadata": {},
   "outputs": [
    {
     "data": {
      "text/latex": [
       "$\\displaystyle 6 m^{2} - m - 5$"
      ],
      "text/plain": [
       "6*m**2 - m - 5"
      ]
     },
     "execution_count": 9,
     "metadata": {},
     "output_type": "execute_result"
    }
   ],
   "source": [
    "o.expand()"
   ]
  },
  {
   "cell_type": "code",
   "execution_count": 12,
   "id": "8f28a3a2",
   "metadata": {},
   "outputs": [
    {
     "data": {
      "text/latex": [
       "$\\displaystyle 6 m^{2} - m - 5$"
      ],
      "text/plain": [
       "6*m**2 - m - 5"
      ]
     },
     "execution_count": 12,
     "metadata": {},
     "output_type": "execute_result"
    }
   ],
   "source": [
    "o"
   ]
  },
  {
   "cell_type": "code",
   "execution_count": 76,
   "id": "5bc32e1e",
   "metadata": {},
   "outputs": [
    {
     "data": {
      "text/latex": [
       "$\\displaystyle 12 m^{2} - 25 m$"
      ],
      "text/plain": [
       "12*m**2 - 25*m"
      ]
     },
     "execution_count": 76,
     "metadata": {},
     "output_type": "execute_result"
    }
   ],
   "source": [
    "o=12*m**2-25*m\n",
    "o"
   ]
  },
  {
   "cell_type": "code",
   "execution_count": 78,
   "id": "f14a36e8",
   "metadata": {},
   "outputs": [
    {
     "data": {
      "text/latex": [
       "$\\displaystyle m \\left(12 m - 25\\right)$"
      ],
      "text/plain": [
       "m*(12*m - 25)"
      ]
     },
     "execution_count": 78,
     "metadata": {},
     "output_type": "execute_result"
    }
   ],
   "source": [
    "o.factor()"
   ]
  },
  {
   "cell_type": "code",
   "execution_count": 62,
   "id": "86fddcb7",
   "metadata": {},
   "outputs": [],
   "source": [
    "x=sp.Symbol(\"x\")"
   ]
  },
  {
   "cell_type": "code",
   "execution_count": 63,
   "id": "221d7003",
   "metadata": {},
   "outputs": [
    {
     "data": {
      "text/latex": [
       "$\\displaystyle x^{2} - 3 x + 1$"
      ],
      "text/plain": [
       "x**2 - 3*x + 1"
      ]
     },
     "execution_count": 63,
     "metadata": {},
     "output_type": "execute_result"
    }
   ],
   "source": [
    "ex=x**2-3*x+1\n",
    "ex"
   ]
  },
  {
   "cell_type": "code",
   "execution_count": 64,
   "id": "18bacc0b",
   "metadata": {},
   "outputs": [
    {
     "data": {
      "text/latex": [
       "$\\displaystyle x^{2} - 3 x + 1$"
      ],
      "text/plain": [
       "x**2 - 3*x + 1"
      ]
     },
     "execution_count": 64,
     "metadata": {},
     "output_type": "execute_result"
    }
   ],
   "source": [
    "e=ex.factor()\n",
    "e"
   ]
  },
  {
   "cell_type": "code",
   "execution_count": 65,
   "id": "16607696",
   "metadata": {},
   "outputs": [
    {
     "data": {
      "text/latex": [
       "$\\displaystyle x^{2} - 3 x + 1$"
      ],
      "text/plain": [
       "x**2 - 3*x + 1"
      ]
     },
     "execution_count": 65,
     "metadata": {},
     "output_type": "execute_result"
    }
   ],
   "source": [
    "e.expand()"
   ]
  },
  {
   "cell_type": "code",
   "execution_count": 66,
   "id": "c4255048",
   "metadata": {},
   "outputs": [
    {
     "data": {
      "text/latex": [
       "$\\displaystyle 2 w^{2} - 4 w - 5$"
      ],
      "text/plain": [
       "2*w**2 - 4*w - 5"
      ]
     },
     "execution_count": 66,
     "metadata": {},
     "output_type": "execute_result"
    }
   ],
   "source": [
    "w=sp.Symbol(\"w\")\n",
    "ex=2*(w**2-2*w)-5\n",
    "ex"
   ]
  },
  {
   "cell_type": "code",
   "execution_count": 67,
   "id": "80065f9e",
   "metadata": {},
   "outputs": [
    {
     "data": {
      "text/latex": [
       "$\\displaystyle 2 w^{2} - 4 w - 5$"
      ],
      "text/plain": [
       "2*w**2 - 4*w - 5"
      ]
     },
     "execution_count": 67,
     "metadata": {},
     "output_type": "execute_result"
    }
   ],
   "source": [
    "e=ex.factor()\n",
    "e"
   ]
  },
  {
   "cell_type": "code",
   "execution_count": 68,
   "id": "9564e128",
   "metadata": {},
   "outputs": [
    {
     "data": {
      "text/latex": [
       "$\\displaystyle 2 w^{2} - 4 w - 5$"
      ],
      "text/plain": [
       "2*w**2 - 4*w - 5"
      ]
     },
     "execution_count": 68,
     "metadata": {},
     "output_type": "execute_result"
    }
   ],
   "source": [
    "e.expand()"
   ]
  },
  {
   "cell_type": "code",
   "execution_count": 69,
   "id": "4ec662fb",
   "metadata": {},
   "outputs": [
    {
     "data": {
      "text/latex": [
       "$\\displaystyle 5 x^{2} + 6 x + 1$"
      ],
      "text/plain": [
       "5*x**2 + 6*x + 1"
      ]
     },
     "execution_count": 69,
     "metadata": {},
     "output_type": "execute_result"
    }
   ],
   "source": [
    "ex=5*x**2+6*x+1\n",
    "ex"
   ]
  },
  {
   "cell_type": "code",
   "execution_count": 70,
   "id": "0ae716ea",
   "metadata": {},
   "outputs": [
    {
     "data": {
      "text/latex": [
       "$\\displaystyle \\left(x + 1\\right) \\left(5 x + 1\\right)$"
      ],
      "text/plain": [
       "(x + 1)*(5*x + 1)"
      ]
     },
     "execution_count": 70,
     "metadata": {},
     "output_type": "execute_result"
    }
   ],
   "source": [
    "e=ex.factor()\n",
    "e"
   ]
  },
  {
   "cell_type": "code",
   "execution_count": 71,
   "id": "afabed0a",
   "metadata": {},
   "outputs": [
    {
     "data": {
      "text/latex": [
       "$\\displaystyle 5 x^{2} + 6 x + 1$"
      ],
      "text/plain": [
       "5*x**2 + 6*x + 1"
      ]
     },
     "execution_count": 71,
     "metadata": {},
     "output_type": "execute_result"
    }
   ],
   "source": [
    "e.expand()"
   ]
  },
  {
   "cell_type": "code",
   "execution_count": 97,
   "id": "8aed6ae0",
   "metadata": {},
   "outputs": [
    {
     "data": {
      "text/latex": [
       "$\\displaystyle x^{2} - 4 x + 625$"
      ],
      "text/plain": [
       "x**2 - 4*x + 625"
      ]
     },
     "execution_count": 97,
     "metadata": {},
     "output_type": "execute_result"
    }
   ],
   "source": [
    "ex=x**2-4*x+625\n",
    "ex"
   ]
  },
  {
   "cell_type": "code",
   "execution_count": 98,
   "id": "343df444",
   "metadata": {},
   "outputs": [
    {
     "data": {
      "text/latex": [
       "$\\displaystyle x^{2} - 4 x + 625$"
      ],
      "text/plain": [
       "x**2 - 4*x + 625"
      ]
     },
     "execution_count": 98,
     "metadata": {},
     "output_type": "execute_result"
    }
   ],
   "source": [
    "e=ex.factor()\n",
    "e"
   ]
  },
  {
   "cell_type": "code",
   "execution_count": 99,
   "id": "3b621b0f",
   "metadata": {},
   "outputs": [
    {
     "data": {
      "text/latex": [
       "$\\displaystyle x^{2} - 4 x + 625$"
      ],
      "text/plain": [
       "x**2 - 4*x + 625"
      ]
     },
     "execution_count": 99,
     "metadata": {},
     "output_type": "execute_result"
    }
   ],
   "source": [
    "e.expand()"
   ]
  },
  {
   "cell_type": "code",
   "execution_count": 96,
   "id": "69589a8d",
   "metadata": {},
   "outputs": [
    {
     "data": {
      "text/latex": [
       "$\\displaystyle 12 x^{2} - 25 x$"
      ],
      "text/plain": [
       "12*x**2 - 25*x"
      ]
     },
     "execution_count": 96,
     "metadata": {},
     "output_type": "execute_result"
    }
   ],
   "source": [
    "ex=12*x**2-25*x\n",
    "ex"
   ]
  },
  {
   "cell_type": "code",
   "execution_count": 76,
   "id": "1c057e9d",
   "metadata": {},
   "outputs": [
    {
     "data": {
      "text/latex": [
       "$\\displaystyle x \\left(12 x - 25\\right)$"
      ],
      "text/plain": [
       "x*(12*x - 25)"
      ]
     },
     "execution_count": 76,
     "metadata": {},
     "output_type": "execute_result"
    }
   ],
   "source": [
    "e=ex.factor()\n",
    "e"
   ]
  },
  {
   "cell_type": "code",
   "execution_count": 77,
   "id": "9af3d997",
   "metadata": {},
   "outputs": [
    {
     "data": {
      "text/latex": [
       "$\\displaystyle 12 x^{2} - 25 x$"
      ],
      "text/plain": [
       "12*x**2 - 25*x"
      ]
     },
     "execution_count": 77,
     "metadata": {},
     "output_type": "execute_result"
    }
   ],
   "source": [
    "e.expand()"
   ]
  },
  {
   "cell_type": "code",
   "execution_count": 78,
   "id": "bee03c61",
   "metadata": {},
   "outputs": [
    {
     "data": {
      "text/latex": [
       "$\\displaystyle x^{2} - 11 x + 28$"
      ],
      "text/plain": [
       "x**2 - 11*x + 28"
      ]
     },
     "execution_count": 78,
     "metadata": {},
     "output_type": "execute_result"
    }
   ],
   "source": [
    "ex=x**2-11*x+28\n",
    "ex"
   ]
  },
  {
   "cell_type": "code",
   "execution_count": 79,
   "id": "5e2b8a74",
   "metadata": {},
   "outputs": [
    {
     "data": {
      "text/latex": [
       "$\\displaystyle \\left(x - 7\\right) \\left(x - 4\\right)$"
      ],
      "text/plain": [
       "(x - 7)*(x - 4)"
      ]
     },
     "execution_count": 79,
     "metadata": {},
     "output_type": "execute_result"
    }
   ],
   "source": [
    "e=ex.factor()\n",
    "e"
   ]
  },
  {
   "cell_type": "code",
   "execution_count": 80,
   "id": "8967c651",
   "metadata": {},
   "outputs": [
    {
     "data": {
      "text/latex": [
       "$\\displaystyle x^{2} - 11 x + 28$"
      ],
      "text/plain": [
       "x**2 - 11*x + 28"
      ]
     },
     "execution_count": 80,
     "metadata": {},
     "output_type": "execute_result"
    }
   ],
   "source": [
    "e.expand()"
   ]
  },
  {
   "cell_type": "code",
   "execution_count": 81,
   "id": "a93b5051",
   "metadata": {},
   "outputs": [
    {
     "data": {
      "text/latex": [
       "$\\displaystyle x^{2} + 5 x + 6$"
      ],
      "text/plain": [
       "x**2 + 5*x + 6"
      ]
     },
     "execution_count": 81,
     "metadata": {},
     "output_type": "execute_result"
    }
   ],
   "source": [
    "ex=x**2+5*x+6\n",
    "ex"
   ]
  },
  {
   "cell_type": "code",
   "execution_count": 82,
   "id": "d7b67d03",
   "metadata": {},
   "outputs": [
    {
     "data": {
      "text/latex": [
       "$\\displaystyle \\left(x + 2\\right) \\left(x + 3\\right)$"
      ],
      "text/plain": [
       "(x + 2)*(x + 3)"
      ]
     },
     "execution_count": 82,
     "metadata": {},
     "output_type": "execute_result"
    }
   ],
   "source": [
    "e=ex.factor()\n",
    "e"
   ]
  },
  {
   "cell_type": "code",
   "execution_count": 83,
   "id": "edd91dd6",
   "metadata": {},
   "outputs": [
    {
     "data": {
      "text/latex": [
       "$\\displaystyle x^{2} + 5 x + 6$"
      ],
      "text/plain": [
       "x**2 + 5*x + 6"
      ]
     },
     "execution_count": 83,
     "metadata": {},
     "output_type": "execute_result"
    }
   ],
   "source": [
    "e.expand()"
   ]
  },
  {
   "cell_type": "code",
   "execution_count": 84,
   "id": "be3533ac",
   "metadata": {},
   "outputs": [
    {
     "data": {
      "text/latex": [
       "$\\displaystyle 3 x^{2} + 2 x - 1$"
      ],
      "text/plain": [
       "3*x**2 + 2*x - 1"
      ]
     },
     "execution_count": 84,
     "metadata": {},
     "output_type": "execute_result"
    }
   ],
   "source": [
    "ex=3*x**2+2*x-1\n",
    "ex"
   ]
  },
  {
   "cell_type": "code",
   "execution_count": 85,
   "id": "f120cd83",
   "metadata": {},
   "outputs": [
    {
     "data": {
      "text/latex": [
       "$\\displaystyle \\left(x + 1\\right) \\left(3 x - 1\\right)$"
      ],
      "text/plain": [
       "(x + 1)*(3*x - 1)"
      ]
     },
     "execution_count": 85,
     "metadata": {},
     "output_type": "execute_result"
    }
   ],
   "source": [
    "e=ex.factor()\n",
    "e"
   ]
  },
  {
   "cell_type": "code",
   "execution_count": 86,
   "id": "5db93ce3",
   "metadata": {},
   "outputs": [
    {
     "data": {
      "text/latex": [
       "$\\displaystyle 3 x^{2} + 2 x - 1$"
      ],
      "text/plain": [
       "3*x**2 + 2*x - 1"
      ]
     },
     "execution_count": 86,
     "metadata": {},
     "output_type": "execute_result"
    }
   ],
   "source": [
    "e.expand()"
   ]
  },
  {
   "cell_type": "code",
   "execution_count": 87,
   "id": "08c92021",
   "metadata": {},
   "outputs": [
    {
     "data": {
      "text/latex": [
       "$\\displaystyle 9 x^{2} - 4$"
      ],
      "text/plain": [
       "9*x**2 - 4"
      ]
     },
     "execution_count": 87,
     "metadata": {},
     "output_type": "execute_result"
    }
   ],
   "source": [
    "ex=9*x**2-4\n",
    "ex"
   ]
  },
  {
   "cell_type": "code",
   "execution_count": 89,
   "id": "fc89bcad",
   "metadata": {},
   "outputs": [
    {
     "data": {
      "text/latex": [
       "$\\displaystyle \\left(3 x - 2\\right) \\left(3 x + 2\\right)$"
      ],
      "text/plain": [
       "(3*x - 2)*(3*x + 2)"
      ]
     },
     "execution_count": 89,
     "metadata": {},
     "output_type": "execute_result"
    }
   ],
   "source": [
    "e=ex.factor()\n",
    "e"
   ]
  },
  {
   "cell_type": "code",
   "execution_count": 90,
   "id": "559a6a86",
   "metadata": {},
   "outputs": [
    {
     "data": {
      "text/latex": [
       "$\\displaystyle 9 x^{2} - 4$"
      ],
      "text/plain": [
       "9*x**2 - 4"
      ]
     },
     "execution_count": 90,
     "metadata": {},
     "output_type": "execute_result"
    }
   ],
   "source": [
    "e.expand()"
   ]
  },
  {
   "cell_type": "code",
   "execution_count": 91,
   "id": "3e853596",
   "metadata": {},
   "outputs": [
    {
     "data": {
      "text/latex": [
       "$\\displaystyle x^{2} - 3 x - 10$"
      ],
      "text/plain": [
       "x**2 - 3*x - 10"
      ]
     },
     "execution_count": 91,
     "metadata": {},
     "output_type": "execute_result"
    }
   ],
   "source": [
    "ex=x**2-3*x-10\n",
    "ex"
   ]
  },
  {
   "cell_type": "code",
   "execution_count": 92,
   "id": "774c63bb",
   "metadata": {},
   "outputs": [
    {
     "data": {
      "text/latex": [
       "$\\displaystyle \\left(x - 5\\right) \\left(x + 2\\right)$"
      ],
      "text/plain": [
       "(x - 5)*(x + 2)"
      ]
     },
     "execution_count": 92,
     "metadata": {},
     "output_type": "execute_result"
    }
   ],
   "source": [
    "e=ex.factor()\n",
    "e"
   ]
  },
  {
   "cell_type": "code",
   "execution_count": 93,
   "id": "bc59bd6f",
   "metadata": {},
   "outputs": [
    {
     "data": {
      "text/latex": [
       "$\\displaystyle x^{2} - 3 x - 10$"
      ],
      "text/plain": [
       "x**2 - 3*x - 10"
      ]
     },
     "execution_count": 93,
     "metadata": {},
     "output_type": "execute_result"
    }
   ],
   "source": [
    "e.expand()"
   ]
  },
  {
   "cell_type": "markdown",
   "id": "3d2ae0d6",
   "metadata": {},
   "source": [
    "Experiment 4\n"
   ]
  },
  {
   "cell_type": "code",
   "execution_count": 20,
   "id": "638a3b71",
   "metadata": {},
   "outputs": [
    {
     "name": "stdout",
     "output_type": "stream",
     "text": [
      "[y/2 + 1/2]\n"
     ]
    }
   ],
   "source": [
    "#2x-y-1\n",
    "ex1=2*x-y-1\n",
    "exp=sp.solve(ex1,x)\n",
    "print(exp)"
   ]
  },
  {
   "cell_type": "code",
   "execution_count": 11,
   "id": "7a9c53a8",
   "metadata": {},
   "outputs": [
    {
     "data": {
      "text/latex": [
       "$\\displaystyle x^{2} + 3 = 5$"
      ],
      "text/plain": [
       "Eq(x**2 + 3, 5)"
      ]
     },
     "execution_count": 11,
     "metadata": {},
     "output_type": "execute_result"
    }
   ],
   "source": [
    "from sympy import Eq\n",
    "eq1=Eq(x**2+3,5)\n",
    "eq1"
   ]
  },
  {
   "cell_type": "code",
   "execution_count": 8,
   "id": "800aa1bf",
   "metadata": {},
   "outputs": [
    {
     "data": {
      "text/latex": [
       "$\\displaystyle \\left\\{\\left( 2, \\  3\\right)\\right\\}$"
      ],
      "text/plain": [
       "{(2, 3)}"
      ]
     },
     "execution_count": 8,
     "metadata": {},
     "output_type": "execute_result"
    }
   ],
   "source": [
    "#2x-y-1\n",
    "#x+y-5\n",
    "x,y=sp.symbols(\"x y\")\n",
    "ex1=2*x-y-1\n",
    "ex2=x+y-5\n",
    "exp=sp.linsolve((ex1,ex2),(x,y))\n",
    "exp"
   ]
  },
  {
   "cell_type": "markdown",
   "id": "b40a385e",
   "metadata": {},
   "source": [
    "Experiment 5 collect() and cancle() and apart() and simplify()"
   ]
  },
  {
   "cell_type": "code",
   "execution_count": 4,
   "id": "f93b977b",
   "metadata": {},
   "outputs": [
    {
     "data": {
      "text/latex": [
       "$\\displaystyle 2 p^{5} + 9 p^{4} + 4 p^{2} + p \\left(12 q + 11\\right)$"
      ],
      "text/plain": [
       "2*p**5 + 9*p**4 + 4*p**2 + p*(12*q + 11)"
      ]
     },
     "execution_count": 4,
     "metadata": {},
     "output_type": "execute_result"
    }
   ],
   "source": [
    "p,q=sp.symbols(\"p q\")\n",
    "exp=(2*p**5)+(9*p**4)+(4*p**2)+(12*p*q)+(11*p)\n",
    "sp.collect(exp,p)"
   ]
  },
  {
   "cell_type": "code",
   "execution_count": 12,
   "id": "54bcdc2b",
   "metadata": {},
   "outputs": [
    {
     "data": {
      "text/latex": [
       "$\\displaystyle x^{3} - x^{2} y + x^{2} + x + 2 z^{2} - 3$"
      ],
      "text/plain": [
       "x**3 - x**2*y + x**2 + x + 2*z**2 - 3"
      ]
     },
     "execution_count": 12,
     "metadata": {},
     "output_type": "execute_result"
    }
   ],
   "source": [
    "exp=x*x+x-3+2*z**2-y*x**2+x**3\n",
    "exp"
   ]
  },
  {
   "cell_type": "code",
   "execution_count": 5,
   "id": "621c870e",
   "metadata": {},
   "outputs": [
    {
     "data": {
      "text/latex": [
       "$\\displaystyle x^{3} + x^{2} \\cdot \\left(2 - z\\right) + x \\left(y + 1\\right) - 3$"
      ],
      "text/plain": [
       "x**3 + x**2*(2 - z) + x*(y + 1) - 3"
      ]
     },
     "execution_count": 5,
     "metadata": {},
     "output_type": "execute_result"
    }
   ],
   "source": [
    "x,y,z=sp.symbols(\"x y z\")\n",
    "exp=(x**3)-(x**2*z)+(2*x**2)+(x*y+x-3)\n",
    "sp.collect(exp,x)"
   ]
  },
  {
   "cell_type": "code",
   "execution_count": 11,
   "id": "0206e478",
   "metadata": {},
   "outputs": [
    {
     "data": {
      "text/latex": [
       "$\\displaystyle x^{3} + x^{2} \\cdot \\left(1 - y\\right) + x + 2 z^{2} - 3$"
      ],
      "text/plain": [
       "x**3 + x**2*(1 - y) + x + 2*z**2 - 3"
      ]
     },
     "execution_count": 11,
     "metadata": {},
     "output_type": "execute_result"
    }
   ],
   "source": [
    "exp=x*x+x-3+2*z**2-y*x**2+x**3\n",
    "sp.collect(exp,x)"
   ]
  },
  {
   "cell_type": "code",
   "execution_count": 47,
   "id": "1026cfd1",
   "metadata": {},
   "outputs": [
    {
     "data": {
      "text/latex": [
       "$\\displaystyle p + 2$"
      ],
      "text/plain": [
       "p + 2"
      ]
     },
     "execution_count": 47,
     "metadata": {},
     "output_type": "execute_result"
    }
   ],
   "source": [
    "exp1=p**2-4\n",
    "exp1\n",
    "exp2=p-2\n",
    "exp2\n",
    "sp.cancel(exp1/exp2)"
   ]
  },
  {
   "cell_type": "code",
   "execution_count": 13,
   "id": "d16c36e9",
   "metadata": {},
   "outputs": [
    {
     "data": {
      "text/latex": [
       "$\\displaystyle \\frac{\\frac{3 x}{2} - 2}{x - 4} + \\frac{1}{x}$"
      ],
      "text/plain": [
       "(3*x/2 - 2)/(x - 4) + 1/x"
      ]
     },
     "execution_count": 13,
     "metadata": {},
     "output_type": "execute_result"
    }
   ],
   "source": [
    "exp=1/x+(3*x/2-2)/(x-4)\n",
    "exp"
   ]
  },
  {
   "cell_type": "code",
   "execution_count": 14,
   "id": "66da0b41",
   "metadata": {},
   "outputs": [
    {
     "data": {
      "text/latex": [
       "$\\displaystyle \\frac{3 x^{2} - 2 x - 8}{2 x^{2} - 8 x}$"
      ],
      "text/plain": [
       "(3*x**2 - 2*x - 8)/(2*x**2 - 8*x)"
      ]
     },
     "execution_count": 14,
     "metadata": {},
     "output_type": "execute_result"
    }
   ],
   "source": [
    "sp.cancel(exp)"
   ]
  },
  {
   "cell_type": "code",
   "execution_count": 65,
   "id": "2382f722",
   "metadata": {},
   "outputs": [
    {
     "data": {
      "text/latex": [
       "$\\displaystyle \\frac{3}{2} + \\frac{4}{x - 4} + \\frac{1}{x}$"
      ],
      "text/plain": [
       "3/2 + 4/(x - 4) + 1/x"
      ]
     },
     "execution_count": 65,
     "metadata": {},
     "output_type": "execute_result"
    }
   ],
   "source": [
    "sp.apart(exp)"
   ]
  },
  {
   "cell_type": "code",
   "execution_count": 16,
   "id": "0d2c2109",
   "metadata": {},
   "outputs": [
    {
     "data": {
      "text/latex": [
       "$\\displaystyle \\frac{x + 1}{x}$"
      ],
      "text/plain": [
       "(x + 1)/x"
      ]
     },
     "execution_count": 16,
     "metadata": {},
     "output_type": "execute_result"
    }
   ],
   "source": [
    "exp=(x**2+2*x+1)/(x**2+x)\n",
    "sp.cancel(exp)"
   ]
  },
  {
   "cell_type": "code",
   "execution_count": 8,
   "id": "ca7ecd7f",
   "metadata": {},
   "outputs": [
    {
     "data": {
      "text/latex": [
       "$\\displaystyle 1$"
      ],
      "text/plain": [
       "1"
      ]
     },
     "execution_count": 8,
     "metadata": {},
     "output_type": "execute_result"
    }
   ],
   "source": [
    "exp=(sp.sin(x)**2+sp.cos(x)**2)\n",
    "sp.simplify(exp)\n"
   ]
  },
  {
   "cell_type": "code",
   "execution_count": 22,
   "id": "b488f9cf",
   "metadata": {},
   "outputs": [
    {
     "data": {
      "text/latex": [
       "$\\displaystyle \\frac{x^{3} + x^{2} - x - 1}{x^{2} + 2 x + 1}$"
      ],
      "text/plain": [
       "(x**3 + x**2 - x - 1)/(x**2 + 2*x + 1)"
      ]
     },
     "execution_count": 22,
     "metadata": {},
     "output_type": "execute_result"
    }
   ],
   "source": [
    "exp=(x**3+x**2-x-1)/(x**2+2*x+1)\n",
    "exp\n"
   ]
  },
  {
   "cell_type": "code",
   "execution_count": 23,
   "id": "0cf2e4b7",
   "metadata": {},
   "outputs": [
    {
     "data": {
      "text/latex": [
       "$\\displaystyle x - 1$"
      ],
      "text/plain": [
       "x - 1"
      ]
     },
     "execution_count": 23,
     "metadata": {},
     "output_type": "execute_result"
    }
   ],
   "source": [
    "sp.simplify(exp)"
   ]
  },
  {
   "attachments": {},
   "cell_type": "markdown",
   "id": "69bf1bbf",
   "metadata": {},
   "source": [
    "Experiment6"
   ]
  },
  {
   "cell_type": "code",
   "execution_count": 19,
   "id": "e4f890d5",
   "metadata": {},
   "outputs": [
    {
     "name": "stdout",
     "output_type": "stream",
     "text": [
      "Expression: log(x)\n",
      "Limit of the expression tends to: -oo\n"
     ]
    }
   ],
   "source": [
    "exp=log(x)\n",
    "print(\"Expression: {}\".format(exp))\n",
    "limit_expr=limit(exp,x,0)\n",
    "print(\"Limit of the expression tends to: {}\".format(limit_expr))"
   ]
  },
  {
   "cell_type": "code",
   "execution_count": 23,
   "id": "ca0a08ac",
   "metadata": {},
   "outputs": [
    {
     "name": "stdout",
     "output_type": "stream",
     "text": [
      "Expression: (4*x**3 - 2*x - 6)/(-x**3 + x**2 + 1)\n",
      "Limit of the expression tends to: -6\n"
     ]
    }
   ],
   "source": [
    "exp=(4*x**3-2*x-6)/(-x**3+x**2+1)\n",
    "print(\"Expression: {}\".format(exp))\n",
    "limit_expr=limit(exp,x,0)\n",
    "print(\"Limit of the expression tends to: {}\".format(limit_expr))"
   ]
  },
  {
   "cell_type": "code",
   "execution_count": 22,
   "id": "dd8640e5",
   "metadata": {},
   "outputs": [
    {
     "name": "stdout",
     "output_type": "stream",
     "text": [
      "Expression: x**2 + 5\n",
      "Limit of the expression tends to: 9\n"
     ]
    }
   ],
   "source": [
    "exp=x**2+5\n",
    "print(\"Expression: {}\".format(exp))\n",
    "limit_expr=limit(exp,x,2)\n",
    "print(\"Limit of the expression tends to: {}\".format(limit_expr))"
   ]
  },
  {
   "cell_type": "code",
   "execution_count": 10,
   "id": "17098107",
   "metadata": {},
   "outputs": [
    {
     "name": "stdout",
     "output_type": "stream",
     "text": [
      "Expression: 3*x**2 + 4*x + 5\n",
      "Limit of the expression tends to: 5\n"
     ]
    }
   ],
   "source": [
    "exp=3*x**2+4*x+5\n",
    "print(\"Expression: {}\".format(exp))\n",
    "limit_expr=limit(exp,x,0)\n",
    "print(\"Limit of the expression tends to: {}\".format(limit_expr))"
   ]
  },
  {
   "cell_type": "code",
   "execution_count": 11,
   "id": "b606333c",
   "metadata": {},
   "outputs": [
    {
     "name": "stdout",
     "output_type": "stream",
     "text": [
      "Expression: 6*x**2 + 10*x + 15\n",
      "Limit of the expression tends to: 99\n"
     ]
    }
   ],
   "source": [
    "exp=6*x**2+10*x+15\n",
    "print(\"Expression: {}\".format(exp))\n",
    "limit_expr=limit(exp,x,3)\n",
    "print(\"Limit of the expression tends to: {}\".format(limit_expr))"
   ]
  },
  {
   "cell_type": "code",
   "execution_count": 12,
   "id": "6d401ef5",
   "metadata": {},
   "outputs": [
    {
     "name": "stdout",
     "output_type": "stream",
     "text": [
      "Expression: 5*x**2 + 8*x - 3\n",
      "Limit of the expression tends to: 45\n"
     ]
    }
   ],
   "source": [
    "exp=5*x**2+8*x-3\n",
    "print(\"Expression: {}\".format(exp))\n",
    "limit_expr=limit(exp,x,-4)\n",
    "print(\"Limit of the expression tends to: {}\".format(limit_expr))"
   ]
  },
  {
   "cell_type": "code",
   "execution_count": 13,
   "id": "8100760a",
   "metadata": {},
   "outputs": [
    {
     "name": "stdout",
     "output_type": "stream",
     "text": [
      "Expression: (x - 3)*(x - 2)/(x - 4)\n",
      "Limit of the expression tends to: 6\n"
     ]
    }
   ],
   "source": [
    "exp=(x-3)*(x-2)/(x-4)\n",
    "print(\"Expression: {}\".format(exp))\n",
    "limit_expr=limit(exp,x,6)\n",
    "print(\"Limit of the expression tends to: {}\".format(limit_expr))"
   ]
  },
  {
   "cell_type": "code",
   "execution_count": 14,
   "id": "17ca7861",
   "metadata": {},
   "outputs": [
    {
     "name": "stdout",
     "output_type": "stream",
     "text": [
      "Expression: (x**2 - 9)/(x - 3)\n",
      "Limit of the expression tends to: 6\n"
     ]
    }
   ],
   "source": [
    "exp=(x**2-9)/(x-3)\n",
    "print(\"Expression: {}\".format(exp))\n",
    "limit_expr=limit(exp,x,3)\n",
    "print(\"Limit of the expression tends to: {}\".format(limit_expr))"
   ]
  },
  {
   "cell_type": "code",
   "execution_count": 24,
   "id": "58dce03f",
   "metadata": {},
   "outputs": [
    {
     "name": "stdout",
     "output_type": "stream",
     "text": [
      "Expression: (8*n**2 - 72*sin(n))/(1 - n**2)\n",
      "Limit of the expression tends to: -8\n"
     ]
    }
   ],
   "source": [
    "n=Symbol(\"n\")\n",
    "exp=((5-77)*sp.sin(n)+8*n**2)/(1-n**2)\n",
    "print(\"Expression: {}\".format(exp))\n",
    "limit_expr=limit(exp,n,oo)\n",
    "print(\"Limit of the expression tends to: {}\".format(limit_expr))"
   ]
  },
  {
   "cell_type": "code",
   "execution_count": 16,
   "id": "cd8c172a",
   "metadata": {},
   "outputs": [
    {
     "name": "stdout",
     "output_type": "stream",
     "text": [
      "Expression: sqrt(x)\n",
      "Limit of the expression tends to: 0\n"
     ]
    }
   ],
   "source": [
    "exp=sqrt(x)\n",
    "print(\"Expression: {}\".format(exp))\n",
    "limit_expr=limit(exp,x,0)\n",
    "print(\"Limit of the expression tends to: {}\".format(limit_expr))"
   ]
  },
  {
   "cell_type": "code",
   "execution_count": 17,
   "id": "2f4ae014",
   "metadata": {},
   "outputs": [
    {
     "name": "stdout",
     "output_type": "stream",
     "text": [
      "Expression: -x\n",
      "Limit of the expression tends to: 0\n"
     ]
    }
   ],
   "source": [
    "exp=-x\n",
    "print(\"Expression: {}\".format(exp))\n",
    "limit_expr=limit(exp,x,0)\n",
    "print(\"Limit of the expression tends to: {}\".format(limit_expr))"
   ]
  },
  {
   "cell_type": "code",
   "execution_count": 7,
   "id": "b812f5fd",
   "metadata": {},
   "outputs": [
    {
     "name": "stdout",
     "output_type": "stream",
     "text": [
      "Expression: x - 1\n",
      "Limit of the expression tends to: -2\n"
     ]
    }
   ],
   "source": [
    "exp=x-1\n",
    "print(\"Expression: {}\".format(exp))\n",
    "limit_expr=limit(exp,x,-1)\n",
    "print(\"Limit of the expression tends to: {}\".format(limit_expr))"
   ]
  },
  {
   "attachments": {},
   "cell_type": "markdown",
   "id": "a3232864",
   "metadata": {},
   "source": [
    "Experiment 7"
   ]
  },
  {
   "cell_type": "code",
   "execution_count": 3,
   "id": "73eeaace",
   "metadata": {},
   "outputs": [],
   "source": [
    "x,y=symbols(\"x y\")"
   ]
  },
  {
   "cell_type": "code",
   "execution_count": 3,
   "id": "a415ad3a",
   "metadata": {},
   "outputs": [
    {
     "data": {
      "text/latex": [
       "$\\displaystyle \\left(9 x^{2} + 30 x + 30\\right) \\left(x^{3} + 5 x^{2} + 10 x\\right)^{2}$"
      ],
      "text/plain": [
       "(9*x**2 + 30*x + 30)*(x**3 + 5*x**2 + 10*x)**2"
      ]
     },
     "execution_count": 3,
     "metadata": {},
     "output_type": "execute_result"
    }
   ],
   "source": [
    "exp=(x**3+5*x**2+10*x)**3\n",
    "diff(exp)"
   ]
  },
  {
   "cell_type": "code",
   "execution_count": 9,
   "id": "69902264",
   "metadata": {},
   "outputs": [
    {
     "data": {
      "text/latex": [
       "$\\displaystyle 2 x^{2} \\cos{\\left(x^{2} \\right)} + \\sin{\\left(x^{2} \\right)}$"
      ],
      "text/plain": [
       "2*x**2*cos(x**2) + sin(x**2)"
      ]
     },
     "execution_count": 9,
     "metadata": {},
     "output_type": "execute_result"
    }
   ],
   "source": [
    "exp=x*sin(x**2)+1\n",
    "diff(exp)"
   ]
  },
  {
   "cell_type": "code",
   "execution_count": 10,
   "id": "7c445e02",
   "metadata": {},
   "outputs": [
    {
     "data": {
      "text/latex": [
       "$\\displaystyle 4 x$"
      ],
      "text/plain": [
       "4*x"
      ]
     },
     "execution_count": 10,
     "metadata": {},
     "output_type": "execute_result"
    }
   ],
   "source": [
    "exp=2*x**2\n",
    "diff(exp)"
   ]
  },
  {
   "cell_type": "code",
   "execution_count": 13,
   "id": "1eb18deb",
   "metadata": {},
   "outputs": [
    {
     "data": {
      "text/latex": [
       "$\\displaystyle 6 x + \\cos{\\left(x \\right)}$"
      ],
      "text/plain": [
       "6*x + cos(x)"
      ]
     },
     "execution_count": 13,
     "metadata": {},
     "output_type": "execute_result"
    }
   ],
   "source": [
    "exp=3*x**2+sin(x)\n",
    "diff(exp)"
   ]
  },
  {
   "cell_type": "code",
   "execution_count": 43,
   "id": "eae3e2ff",
   "metadata": {},
   "outputs": [
    {
     "data": {
      "text/latex": [
       "$\\displaystyle x^{2} \\left(\\tan^{2}{\\left(x \\right)} + 1\\right) + 2.25 x^{2} + 2 x \\tan{\\left(x \\right)}$"
      ],
      "text/plain": [
       "x**2*(tan(x)**2 + 1) + 2.25*x**2 + 2*x*tan(x)"
      ]
     },
     "execution_count": 43,
     "metadata": {},
     "output_type": "execute_result"
    }
   ],
   "source": [
    "exp=3/4*x**3+x**2*tan(x)\n",
    "diff(exp)"
   ]
  },
  {
   "cell_type": "code",
   "execution_count": 45,
   "id": "643d355b",
   "metadata": {},
   "outputs": [
    {
     "data": {
      "text/latex": [
       "$\\displaystyle 6 x y^{3} - 2 y$"
      ],
      "text/plain": [
       "6*x*y**3 - 2*y"
      ]
     },
     "execution_count": 45,
     "metadata": {},
     "output_type": "execute_result"
    }
   ],
   "source": [
    "exp=3*x**2*y**3-2*x*y\n",
    "f=Derivative(exp,x)\n",
    "f.doit()"
   ]
  },
  {
   "cell_type": "code",
   "execution_count": 46,
   "id": "bb0526a2",
   "metadata": {},
   "outputs": [
    {
     "data": {
      "text/latex": [
       "$\\displaystyle 9 x^{2} y^{2} - 2 x$"
      ],
      "text/plain": [
       "9*x**2*y**2 - 2*x"
      ]
     },
     "execution_count": 46,
     "metadata": {},
     "output_type": "execute_result"
    }
   ],
   "source": [
    "exp=3*x**2*y**3-2*x*y\n",
    "f=Derivative(exp,y)\n",
    "f.doit()"
   ]
  },
  {
   "cell_type": "code",
   "execution_count": 47,
   "id": "e293a2b2",
   "metadata": {},
   "outputs": [
    {
     "data": {
      "text/latex": [
       "$\\displaystyle 2 \\cdot \\left(9 x y^{2} - 1\\right)$"
      ],
      "text/plain": [
       "2*(9*x*y**2 - 1)"
      ]
     },
     "execution_count": 47,
     "metadata": {},
     "output_type": "execute_result"
    }
   ],
   "source": [
    "exp=3*x**2*y**3-2*x*y\n",
    "f=Derivative(exp,x,y)\n",
    "f.doit()"
   ]
  },
  {
   "cell_type": "code",
   "execution_count": 49,
   "id": "8ce2ceee",
   "metadata": {},
   "outputs": [
    {
     "data": {
      "text/latex": [
       "$\\displaystyle 4 x^{3}$"
      ],
      "text/plain": [
       "4*x**3"
      ]
     },
     "execution_count": 49,
     "metadata": {},
     "output_type": "execute_result"
    }
   ],
   "source": [
    "exp=x**4\n",
    "diff(exp)"
   ]
  },
  {
   "cell_type": "code",
   "execution_count": 51,
   "id": "40bce096",
   "metadata": {},
   "outputs": [
    {
     "data": {
      "text/latex": [
       "$\\displaystyle 2 x$"
      ],
      "text/plain": [
       "2*x"
      ]
     },
     "execution_count": 51,
     "metadata": {},
     "output_type": "execute_result"
    }
   ],
   "source": [
    "exp=x**2+2*y+y**3\n",
    "f=Derivative(exp,x)\n",
    "f.doit()"
   ]
  },
  {
   "cell_type": "code",
   "execution_count": 52,
   "id": "4f486fe8",
   "metadata": {},
   "outputs": [
    {
     "data": {
      "text/latex": [
       "$\\displaystyle 3 y^{2} + 2$"
      ],
      "text/plain": [
       "3*y**2 + 2"
      ]
     },
     "execution_count": 52,
     "metadata": {},
     "output_type": "execute_result"
    }
   ],
   "source": [
    "exp=x**2+2*y+y**3\n",
    "f=Derivative(exp,y)\n",
    "f.doit()"
   ]
  },
  {
   "cell_type": "code",
   "execution_count": 53,
   "id": "aad64d9c",
   "metadata": {},
   "outputs": [
    {
     "data": {
      "text/latex": [
       "$\\displaystyle 0$"
      ],
      "text/plain": [
       "0"
      ]
     },
     "execution_count": 53,
     "metadata": {},
     "output_type": "execute_result"
    }
   ],
   "source": [
    "exp=x**2+2*y+y**3\n",
    "f=Derivative(exp,x,y)\n",
    "f.doit()"
   ]
  },
  {
   "cell_type": "code",
   "execution_count": 55,
   "id": "09e65072",
   "metadata": {},
   "outputs": [
    {
     "data": {
      "text/latex": [
       "$\\displaystyle 3 x^{2} y^{3} + 2 x y^{2} + 2 y$"
      ],
      "text/plain": [
       "3*x**2*y**3 + 2*x*y**2 + 2*y"
      ]
     },
     "execution_count": 55,
     "metadata": {},
     "output_type": "execute_result"
    }
   ],
   "source": [
    "exp=y**2*x**2+2*x*y+x**3*y**3\n",
    "f=Derivative(exp,x)\n",
    "f.doit()"
   ]
  },
  {
   "cell_type": "code",
   "execution_count": 56,
   "id": "a052c97e",
   "metadata": {},
   "outputs": [
    {
     "data": {
      "text/latex": [
       "$\\displaystyle 3 x^{3} y^{2} + 2 x^{2} y + 2 x$"
      ],
      "text/plain": [
       "3*x**3*y**2 + 2*x**2*y + 2*x"
      ]
     },
     "execution_count": 56,
     "metadata": {},
     "output_type": "execute_result"
    }
   ],
   "source": [
    "exp=y**2*x**2+2*x*y+x**3*y**3\n",
    "f=Derivative(exp,y)\n",
    "f.doit()"
   ]
  },
  {
   "cell_type": "code",
   "execution_count": 57,
   "id": "3d43b7d8",
   "metadata": {},
   "outputs": [
    {
     "data": {
      "text/latex": [
       "$\\displaystyle 9 x^{2} y^{2} + 4 x y + 2$"
      ],
      "text/plain": [
       "9*x**2*y**2 + 4*x*y + 2"
      ]
     },
     "execution_count": 57,
     "metadata": {},
     "output_type": "execute_result"
    }
   ],
   "source": [
    "exp=y**2*x**2+2*x*y+x**3*y**3\n",
    "f=Derivative(exp,x,y)\n",
    "f.doit()"
   ]
  },
  {
   "cell_type": "code",
   "execution_count": 58,
   "id": "c08331d8",
   "metadata": {},
   "outputs": [
    {
     "data": {
      "text/latex": [
       "$\\displaystyle 2 x + 2 y$"
      ],
      "text/plain": [
       "2*x + 2*y"
      ]
     },
     "execution_count": 58,
     "metadata": {},
     "output_type": "execute_result"
    }
   ],
   "source": [
    "exp=(x+y)**2\n",
    "f=Derivative(exp,x)\n",
    "f.doit()"
   ]
  },
  {
   "cell_type": "code",
   "execution_count": 59,
   "id": "84a8b664",
   "metadata": {},
   "outputs": [
    {
     "data": {
      "text/latex": [
       "$\\displaystyle 2 x + 2 y$"
      ],
      "text/plain": [
       "2*x + 2*y"
      ]
     },
     "execution_count": 59,
     "metadata": {},
     "output_type": "execute_result"
    }
   ],
   "source": [
    "exp=(x+y)**2\n",
    "f=Derivative(exp,y)\n",
    "f.doit()"
   ]
  },
  {
   "cell_type": "code",
   "execution_count": 60,
   "id": "6689e113",
   "metadata": {},
   "outputs": [
    {
     "data": {
      "text/latex": [
       "$\\displaystyle 2$"
      ],
      "text/plain": [
       "2"
      ]
     },
     "execution_count": 60,
     "metadata": {},
     "output_type": "execute_result"
    }
   ],
   "source": [
    "exp=(x+y)**2\n",
    "f=Derivative(exp,x,y)\n",
    "f.doit()"
   ]
  },
  {
   "cell_type": "code",
   "execution_count": 61,
   "id": "cd1b7aec",
   "metadata": {},
   "outputs": [
    {
     "data": {
      "text/latex": [
       "$\\displaystyle - \\sin^{2}{\\left(x \\right)} + \\cos^{2}{\\left(x \\right)}$"
      ],
      "text/plain": [
       "-sin(x)**2 + cos(x)**2"
      ]
     },
     "execution_count": 61,
     "metadata": {},
     "output_type": "execute_result"
    }
   ],
   "source": [
    "exp=sin(x)*cos(x)\n",
    "diff(exp)"
   ]
  },
  {
   "cell_type": "code",
   "execution_count": 62,
   "id": "039a7e04",
   "metadata": {},
   "outputs": [
    {
     "data": {
      "text/latex": [
       "$\\displaystyle 3 \\cos{\\left(3 x + 5 \\right)}$"
      ],
      "text/plain": [
       "3*cos(3*x + 5)"
      ]
     },
     "execution_count": 62,
     "metadata": {},
     "output_type": "execute_result"
    }
   ],
   "source": [
    "exp=sin(3*x+5)\n",
    "diff(exp)"
   ]
  },
  {
   "cell_type": "code",
   "execution_count": 73,
   "id": "7d67789c",
   "metadata": {},
   "outputs": [
    {
     "data": {
      "text/latex": [
       "$\\displaystyle \\left(\\tan^{2}{\\left(x \\right)} + 1\\right) e^{\\tan{\\left(x \\right)}}$"
      ],
      "text/plain": [
       "(tan(x)**2 + 1)*exp(tan(x))"
      ]
     },
     "execution_count": 73,
     "metadata": {},
     "output_type": "execute_result"
    }
   ],
   "source": [
    "exp=E**tan(x)\n",
    "diff(exp)\n"
   ]
  },
  {
   "cell_type": "code",
   "execution_count": 81,
   "id": "de7ab356",
   "metadata": {},
   "outputs": [
    {
     "data": {
      "text/latex": [
       "$\\displaystyle 4 \\sin{\\left(2 x + 1 \\right)} \\cos{\\left(2 x + 1 \\right)}$"
      ],
      "text/plain": [
       "4*sin(2*x + 1)*cos(2*x + 1)"
      ]
     },
     "execution_count": 81,
     "metadata": {},
     "output_type": "execute_result"
    }
   ],
   "source": [
    "exp=sin(2*x+1)**2\n",
    "diff(exp)"
   ]
  },
  {
   "cell_type": "code",
   "execution_count": 79,
   "id": "34827b9e",
   "metadata": {},
   "outputs": [
    {
     "data": {
      "text/latex": [
       "$\\displaystyle - 3 \\sin{\\left(x \\right)} - 5 \\cot{\\left(x \\right)} \\csc{\\left(x \\right)}$"
      ],
      "text/plain": [
       "-3*sin(x) - 5*cot(x)*csc(x)"
      ]
     },
     "execution_count": 79,
     "metadata": {},
     "output_type": "execute_result"
    }
   ],
   "source": [
    "exp=3*cos(x)+5*csc(x)\n",
    "diff(exp)"
   ]
  },
  {
   "attachments": {},
   "cell_type": "markdown",
   "id": "9d0bcc2a",
   "metadata": {},
   "source": [
    "Experiment 8"
   ]
  },
  {
   "cell_type": "code",
   "execution_count": 4,
   "id": "a78fb84d",
   "metadata": {},
   "outputs": [
    {
     "data": {
      "text/latex": [
       "$\\displaystyle x^{2} + 2 x y$"
      ],
      "text/plain": [
       "x**2 + 2*x*y"
      ]
     },
     "execution_count": 4,
     "metadata": {},
     "output_type": "execute_result"
    }
   ],
   "source": [
    "exp=2*x+2*y\n",
    "integrate(exp,x)\n"
   ]
  },
  {
   "cell_type": "code",
   "execution_count": 5,
   "id": "47dda6f3",
   "metadata": {},
   "outputs": [
    {
     "data": {
      "text/latex": [
       "$\\displaystyle 2 x^{2}$"
      ],
      "text/plain": [
       "2*x**2"
      ]
     },
     "execution_count": 5,
     "metadata": {},
     "output_type": "execute_result"
    }
   ],
   "source": [
    "exp=4*x\n",
    "integrate(exp,x)"
   ]
  },
  {
   "cell_type": "code",
   "execution_count": 17,
   "id": "2f168c54",
   "metadata": {},
   "outputs": [
    {
     "data": {
      "text/latex": [
       "$\\displaystyle \\int \\left(6 x + \\cos{\\left(x \\right)}\\right)\\, dx$"
      ],
      "text/plain": [
       "Integral(6*x + cos(x), x)"
      ]
     },
     "execution_count": 17,
     "metadata": {},
     "output_type": "execute_result"
    }
   ],
   "source": [
    "exp=6*x+cos(x)\n",
    "Integral(exp,x)"
   ]
  },
  {
   "cell_type": "code",
   "execution_count": 20,
   "id": "f1e410b5",
   "metadata": {},
   "outputs": [
    {
     "data": {
      "text/latex": [
       "$\\displaystyle \\int\\limits_{0}^{\\infty} x^{8}\\, dx$"
      ],
      "text/plain": [
       "Integral(x**8, (x, 0, oo))"
      ]
     },
     "execution_count": 20,
     "metadata": {},
     "output_type": "execute_result"
    }
   ],
   "source": [
    "exp=x**8\n",
    "Integral(exp,(x,0,oo))"
   ]
  },
  {
   "cell_type": "code",
   "execution_count": 7,
   "id": "94c7f494",
   "metadata": {},
   "outputs": [
    {
     "data": {
      "text/latex": [
       "$\\displaystyle x^{2} + 2 x y$"
      ],
      "text/plain": [
       "x**2 + 2*x*y"
      ]
     },
     "execution_count": 7,
     "metadata": {},
     "output_type": "execute_result"
    }
   ],
   "source": [
    "exp=2*x+2*y\n",
    "integrate(exp,(x,1,2))"
   ]
  },
  {
   "cell_type": "code",
   "execution_count": 16,
   "id": "5021040b",
   "metadata": {},
   "outputs": [
    {
     "data": {
      "text/latex": [
       "$\\displaystyle 3 y^{2} - 1$"
      ],
      "text/plain": [
       "3*y**2 - 1"
      ]
     },
     "execution_count": 16,
     "metadata": {},
     "output_type": "execute_result"
    }
   ],
   "source": [
    "exp=9*x**2*y**2-2*x\n",
    "integrate(exp,(x,0,1))"
   ]
  },
  {
   "cell_type": "code",
   "execution_count": 14,
   "id": "334846bb",
   "metadata": {},
   "outputs": [
    {
     "data": {
      "text/latex": [
       "$\\displaystyle x^{2} + 2 x y$"
      ],
      "text/plain": [
       "x**2 + 2*x*y"
      ]
     },
     "execution_count": 14,
     "metadata": {},
     "output_type": "execute_result"
    }
   ],
   "source": [
    "exp=2*x+2*y\n",
    "f=Integral(exp,x)\n",
    "f.doit()"
   ]
  },
  {
   "cell_type": "code",
   "execution_count": 19,
   "id": "f1b8d258",
   "metadata": {},
   "outputs": [
    {
     "data": {
      "text/latex": [
       "$\\displaystyle x \\log{\\left(x \\right)}^{2} - 2 x \\log{\\left(x \\right)} + 2 x$"
      ],
      "text/plain": [
       "x*log(x)**2 - 2*x*log(x) + 2*x"
      ]
     },
     "execution_count": 19,
     "metadata": {},
     "output_type": "execute_result"
    }
   ],
   "source": [
    "exp=log(x)**2\n",
    "f=Integral(exp,x)\n",
    "f.doit()"
   ]
  },
  {
   "cell_type": "code",
   "execution_count": 21,
   "id": "f3269ebd",
   "metadata": {},
   "outputs": [
    {
     "data": {
      "text/latex": [
       "$\\displaystyle 40$"
      ],
      "text/plain": [
       "40"
      ]
     },
     "execution_count": 21,
     "metadata": {},
     "output_type": "execute_result"
    }
   ],
   "source": [
    "exp=4*x+2*y\n",
    "f=Integral(exp,(x,0,2),(y,2,4))\n",
    "f.doit()"
   ]
  },
  {
   "cell_type": "code",
   "execution_count": 26,
   "id": "d10d74dc",
   "metadata": {},
   "outputs": [
    {
     "data": {
      "text/latex": [
       "$\\displaystyle \\sin{\\left(1 \\right)} + 5$"
      ],
      "text/plain": [
       "sin(1) + 5"
      ]
     },
     "execution_count": 26,
     "metadata": {},
     "output_type": "execute_result"
    }
   ],
   "source": [
    "exp=6*x**2+2*y+cos(x)\n",
    "f=Integral(exp,(x,0,1),(y,1,2))\n",
    "f.doit()"
   ]
  },
  {
   "attachments": {},
   "cell_type": "markdown",
   "id": "f5bbac61",
   "metadata": {},
   "source": [
    "Experiment 9"
   ]
  },
  {
   "cell_type": "code",
   "execution_count": 89,
   "id": "a629502f",
   "metadata": {},
   "outputs": [
    {
     "data": {
      "text/latex": [
       "$\\displaystyle \\left[\\begin{matrix}1 & 2 & 3\\\\4 & 5 & 6\\\\7 & 8 & 9\\end{matrix}\\right]$"
      ],
      "text/plain": [
       "Matrix([\n",
       "[1, 2, 3],\n",
       "[4, 5, 6],\n",
       "[7, 8, 9]])"
      ]
     },
     "execution_count": 89,
     "metadata": {},
     "output_type": "execute_result"
    }
   ],
   "source": [
    "Matrix([[1,2,3],[4,5,6],[7,8,9]])"
   ]
  },
  {
   "cell_type": "code",
   "execution_count": 90,
   "id": "6bb7f02d",
   "metadata": {},
   "outputs": [
    {
     "data": {
      "text/latex": [
       "$\\displaystyle \\left[\\begin{matrix}1\\\\2\\\\3\\end{matrix}\\right]$"
      ],
      "text/plain": [
       "Matrix([\n",
       "[1],\n",
       "[2],\n",
       "[3]])"
      ]
     },
     "execution_count": 90,
     "metadata": {},
     "output_type": "execute_result"
    }
   ],
   "source": [
    "Matrix([1,2,3])"
   ]
  },
  {
   "cell_type": "code",
   "execution_count": 115,
   "id": "75a0d4c7",
   "metadata": {},
   "outputs": [
    {
     "data": {
      "text/latex": [
       "$\\displaystyle \\left[\\begin{matrix}14\\\\32\\\\50\\end{matrix}\\right]$"
      ],
      "text/plain": [
       "Matrix([\n",
       "[14],\n",
       "[32],\n",
       "[50]])"
      ]
     },
     "execution_count": 115,
     "metadata": {},
     "output_type": "execute_result"
    }
   ],
   "source": [
    "M=Matrix([[1,2,3],[4,5,6],[7,8,9]])\n",
    "N=Matrix([1,2,3])\n",
    "M*N"
   ]
  },
  {
   "cell_type": "code",
   "execution_count": 92,
   "id": "18e8ab34",
   "metadata": {},
   "outputs": [
    {
     "data": {
      "text/plain": [
       "(3, 3)"
      ]
     },
     "execution_count": 92,
     "metadata": {},
     "output_type": "execute_result"
    }
   ],
   "source": [
    "shape(M)"
   ]
  },
  {
   "cell_type": "code",
   "execution_count": 116,
   "id": "3770e207",
   "metadata": {},
   "outputs": [
    {
     "data": {
      "text/latex": [
       "$\\displaystyle \\left[\\begin{matrix}1 & 2 & 3\\end{matrix}\\right]$"
      ],
      "text/plain": [
       "Matrix([[1, 2, 3]])"
      ]
     },
     "execution_count": 116,
     "metadata": {},
     "output_type": "execute_result"
    }
   ],
   "source": [
    "M.row(0)"
   ]
  },
  {
   "cell_type": "code",
   "execution_count": 118,
   "id": "ff7294c1",
   "metadata": {},
   "outputs": [
    {
     "data": {
      "text/latex": [
       "$\\displaystyle \\left[\\begin{matrix}1\\\\4\\\\7\\end{matrix}\\right]$"
      ],
      "text/plain": [
       "Matrix([\n",
       "[1],\n",
       "[4],\n",
       "[7]])"
      ]
     },
     "execution_count": 118,
     "metadata": {},
     "output_type": "execute_result"
    }
   ],
   "source": [
    "M.col(0)"
   ]
  },
  {
   "cell_type": "code",
   "execution_count": 119,
   "id": "02577878",
   "metadata": {},
   "outputs": [],
   "source": [
    "M.col_del(0)"
   ]
  },
  {
   "cell_type": "code",
   "execution_count": 120,
   "id": "736b54b3",
   "metadata": {},
   "outputs": [
    {
     "data": {
      "text/latex": [
       "$\\displaystyle \\left[\\begin{matrix}2 & 3\\\\5 & 6\\\\8 & 9\\end{matrix}\\right]$"
      ],
      "text/plain": [
       "Matrix([\n",
       "[2, 3],\n",
       "[5, 6],\n",
       "[8, 9]])"
      ]
     },
     "execution_count": 120,
     "metadata": {},
     "output_type": "execute_result"
    }
   ],
   "source": [
    "M"
   ]
  },
  {
   "cell_type": "code",
   "execution_count": 121,
   "id": "f4a36ed5",
   "metadata": {},
   "outputs": [],
   "source": [
    "M.row_del(0)"
   ]
  },
  {
   "cell_type": "code",
   "execution_count": 122,
   "id": "52f0827d",
   "metadata": {},
   "outputs": [
    {
     "data": {
      "text/latex": [
       "$\\displaystyle \\left[\\begin{matrix}5 & 6\\\\8 & 9\\end{matrix}\\right]$"
      ],
      "text/plain": [
       "Matrix([\n",
       "[5, 6],\n",
       "[8, 9]])"
      ]
     },
     "execution_count": 122,
     "metadata": {},
     "output_type": "execute_result"
    }
   ],
   "source": [
    "M"
   ]
  },
  {
   "cell_type": "code",
   "execution_count": 123,
   "id": "e6bf1bc8",
   "metadata": {},
   "outputs": [
    {
     "data": {
      "text/latex": [
       "$\\displaystyle \\left[\\begin{matrix}5 & 6\\\\1 & 1\\\\8 & 9\\end{matrix}\\right]$"
      ],
      "text/plain": [
       "Matrix([\n",
       "[5, 6],\n",
       "[1, 1],\n",
       "[8, 9]])"
      ]
     },
     "execution_count": 123,
     "metadata": {},
     "output_type": "execute_result"
    }
   ],
   "source": [
    "M=M.row_insert(1,Matrix([[1,1]]))\n",
    "M"
   ]
  },
  {
   "cell_type": "code",
   "execution_count": 124,
   "id": "5b837058",
   "metadata": {},
   "outputs": [
    {
     "data": {
      "text/latex": [
       "$\\displaystyle \\left[\\begin{matrix}1 & 5 & 6\\\\2 & 1 & 1\\\\1 & 8 & 9\\end{matrix}\\right]$"
      ],
      "text/plain": [
       "Matrix([\n",
       "[1, 5, 6],\n",
       "[2, 1, 1],\n",
       "[1, 8, 9]])"
      ]
     },
     "execution_count": 124,
     "metadata": {},
     "output_type": "execute_result"
    }
   ],
   "source": [
    "M=M.col_insert(0,Matrix([1,2,1]))\n",
    "M"
   ]
  },
  {
   "cell_type": "code",
   "execution_count": 125,
   "id": "f5acdd77",
   "metadata": {},
   "outputs": [
    {
     "data": {
      "text/latex": [
       "$\\displaystyle \\left[\\begin{matrix}1 & 2 & 1\\\\5 & 1 & 8\\\\6 & 1 & 9\\end{matrix}\\right]$"
      ],
      "text/plain": [
       "Matrix([\n",
       "[1, 2, 1],\n",
       "[5, 1, 8],\n",
       "[6, 1, 9]])"
      ]
     },
     "execution_count": 125,
     "metadata": {},
     "output_type": "execute_result"
    }
   ],
   "source": [
    "M.T"
   ]
  },
  {
   "cell_type": "code",
   "execution_count": 106,
   "id": "4b7eaf30",
   "metadata": {},
   "outputs": [
    {
     "data": {
      "text/latex": [
       "$\\displaystyle \\left[\\begin{matrix}1 & 0 & 0 & 0 & 0\\\\0 & 1 & 0 & 0 & 0\\\\0 & 0 & 1 & 0 & 0\\\\0 & 0 & 0 & 1 & 0\\\\0 & 0 & 0 & 0 & 1\\end{matrix}\\right]$"
      ],
      "text/plain": [
       "Matrix([\n",
       "[1, 0, 0, 0, 0],\n",
       "[0, 1, 0, 0, 0],\n",
       "[0, 0, 1, 0, 0],\n",
       "[0, 0, 0, 1, 0],\n",
       "[0, 0, 0, 0, 1]])"
      ]
     },
     "execution_count": 106,
     "metadata": {},
     "output_type": "execute_result"
    }
   ],
   "source": [
    "eye(5)"
   ]
  },
  {
   "cell_type": "code",
   "execution_count": 108,
   "id": "9a6db4d6",
   "metadata": {},
   "outputs": [
    {
     "data": {
      "text/latex": [
       "$\\displaystyle \\left[\\begin{matrix}0 & 0 & 0 & 0\\\\0 & 0 & 0 & 0\\\\0 & 0 & 0 & 0\\\\0 & 0 & 0 & 0\\end{matrix}\\right]$"
      ],
      "text/plain": [
       "Matrix([\n",
       "[0, 0, 0, 0],\n",
       "[0, 0, 0, 0],\n",
       "[0, 0, 0, 0],\n",
       "[0, 0, 0, 0]])"
      ]
     },
     "execution_count": 108,
     "metadata": {},
     "output_type": "execute_result"
    }
   ],
   "source": [
    "zeros(4,4)"
   ]
  },
  {
   "cell_type": "code",
   "execution_count": 109,
   "id": "684eb17d",
   "metadata": {},
   "outputs": [
    {
     "data": {
      "text/latex": [
       "$\\displaystyle \\left[\\begin{matrix}1 & 1\\\\1 & 1\\end{matrix}\\right]$"
      ],
      "text/plain": [
       "Matrix([\n",
       "[1, 1],\n",
       "[1, 1]])"
      ]
     },
     "execution_count": 109,
     "metadata": {},
     "output_type": "execute_result"
    }
   ],
   "source": [
    "ones(2,2)"
   ]
  },
  {
   "cell_type": "code",
   "execution_count": 110,
   "id": "1cf2d57c",
   "metadata": {},
   "outputs": [
    {
     "data": {
      "text/latex": [
       "$\\displaystyle \\left[\\begin{matrix}1 & 0 & 0\\\\0 & 2 & 0\\\\0 & 0 & 3\\end{matrix}\\right]$"
      ],
      "text/plain": [
       "Matrix([\n",
       "[1, 0, 0],\n",
       "[0, 2, 0],\n",
       "[0, 0, 3]])"
      ]
     },
     "execution_count": 110,
     "metadata": {},
     "output_type": "execute_result"
    }
   ],
   "source": [
    "diag(1,2,3)"
   ]
  },
  {
   "cell_type": "code",
   "execution_count": 112,
   "id": "7dc804c8",
   "metadata": {},
   "outputs": [
    {
     "data": {
      "text/latex": [
       "$\\displaystyle \\left[\\begin{matrix}-1 & 0 & 0 & 0\\\\0 & 1 & 1 & 0\\\\0 & 1 & 1 & 0\\\\0 & 0 & 0 & 5\\\\0 & 0 & 0 & 7\\\\0 & 0 & 0 & 5\\end{matrix}\\right]$"
      ],
      "text/plain": [
       "Matrix([\n",
       "[-1, 0, 0, 0],\n",
       "[ 0, 1, 1, 0],\n",
       "[ 0, 1, 1, 0],\n",
       "[ 0, 0, 0, 5],\n",
       "[ 0, 0, 0, 7],\n",
       "[ 0, 0, 0, 5]])"
      ]
     },
     "execution_count": 112,
     "metadata": {},
     "output_type": "execute_result"
    }
   ],
   "source": [
    "diag(-1,ones(2,2),Matrix([5,7,5]))"
   ]
  },
  {
   "cell_type": "code",
   "execution_count": 126,
   "id": "e5bbdf66",
   "metadata": {},
   "outputs": [
    {
     "data": {
      "text/latex": [
       "$\\displaystyle \\left[\\begin{matrix}1 & 5 & 6\\\\2 & 1 & 1\\\\1 & 8 & 9\\end{matrix}\\right]$"
      ],
      "text/plain": [
       "Matrix([\n",
       "[1, 5, 6],\n",
       "[2, 1, 1],\n",
       "[1, 8, 9]])"
      ]
     },
     "execution_count": 126,
     "metadata": {},
     "output_type": "execute_result"
    }
   ],
   "source": [
    "M"
   ]
  },
  {
   "cell_type": "code",
   "execution_count": 127,
   "id": "c7661caf",
   "metadata": {},
   "outputs": [
    {
     "data": {
      "text/latex": [
       "$\\displaystyle 6$"
      ],
      "text/plain": [
       "6"
      ]
     },
     "execution_count": 127,
     "metadata": {},
     "output_type": "execute_result"
    }
   ],
   "source": [
    "M.det()"
   ]
  },
  {
   "cell_type": "code",
   "execution_count": null,
   "id": "5c86cdfc",
   "metadata": {},
   "outputs": [],
   "source": []
  }
 ],
 "metadata": {
  "kernelspec": {
   "display_name": "Python 3",
   "language": "python",
   "name": "python3"
  },
  "language_info": {
   "codemirror_mode": {
    "name": "ipython",
    "version": 3
   },
   "file_extension": ".py",
   "mimetype": "text/x-python",
   "name": "python",
   "nbconvert_exporter": "python",
   "pygments_lexer": "ipython3",
   "version": "3.11.1 (tags/v3.11.1:a7a450f, Dec  6 2022, 19:58:39) [MSC v.1934 64 bit (AMD64)]"
  },
  "vscode": {
   "interpreter": {
    "hash": "7d705625a073828d9d6987a7dff4ead27d7dfee1dd954c9d3a1d6b085c12cf79"
   }
  }
 },
 "nbformat": 4,
 "nbformat_minor": 5
}
