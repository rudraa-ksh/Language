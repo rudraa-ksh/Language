{
 "cells": [
  {
   "cell_type": "code",
   "execution_count": 4,
   "metadata": {},
   "outputs": [
    {
     "name": "stdout",
     "output_type": "stream",
     "text": [
      "Enter the number or type \"done\": 12\n",
      "Enter the number or type \"done\": 45\n",
      "Enter the number or type \"done\": 89\n",
      "Enter the number or type \"done\": done\n",
      "The sum of all numbers is 146\n"
     ]
    }
   ],
   "source": [
    "def sumnum():\n",
    "    n=input('Enter the number or type \"done\": ')\n",
    "    s=0\n",
    "    while n != 'done':\n",
    "        num=int(n)\n",
    "        s=s+num\n",
    "        n=input('Enter the number or type \"done\": ')\n",
    "    print(\"The sum of all numbers is\",s)\n",
    "sumnum()    "
   ]
  },
  {
   "cell_type": "code",
   "execution_count": 2,
   "metadata": {},
   "outputs": [
    {
     "name": "stdout",
     "output_type": "stream",
     "text": [
      " 1  2  3  4  5  6  7  8  9 10 \n",
      " 2  4  6  8 10 12 14 16 18 20 \n",
      " 3  6  9 12 15 18 21 24 27 30 \n",
      " 4  8 12 16 20 24 28 32 36 40 \n",
      " 5 10 15 20 25 30 35 40 45 50 \n",
      " 6 12 18 24 30 36 42 48 54 60 \n",
      " 7 14 21 28 35 42 49 56 63 70 \n",
      " 8 16 24 32 40 48 56 64 72 80 \n",
      " 9 18 27 36 45 54 63 72 81 90 \n",
      "10 20 30 40 50 60 70 80 90 100 \n"
     ]
    }
   ],
   "source": [
    "def tabnum():\n",
    "    for row in range(1,11):\n",
    "        for col in range(1,11):\n",
    "            n=row*col\n",
    "            if n<10:\n",
    "                print('',n,'',end='')\n",
    "            else:\n",
    "                print(n,'',end='')\n",
    "        print()\n",
    "tabnum()"
   ]
  },
  {
   "cell_type": "code",
   "execution_count": 1,
   "metadata": {},
   "outputs": [
    {
     "name": "stdout",
     "output_type": "stream",
     "text": [
      " 1  2  3  4  5  6  7  8  9 10 \n",
      " 2  4  6  8 10 12 14 16 18 20 \n",
      " 3  6  9 12 15 18 21 24 27 30 \n",
      " 4  8 12 16 20 24 28 32 36 40 \n",
      " 5 10 15 20 25 30 35 40 45 50 \n",
      " 6 12 18 24 30 36 42 48 54 60 \n",
      " 7 14 21 28 35 42 49 56 63 70 \n",
      " 8 16 24 32 40 48 56 64 72 80 \n",
      " 9 18 27 36 45 54 63 72 81 90 \n",
      "10 20 30 40 50 60 70 80 90 100 \n"
     ]
    }
   ],
   "source": [
    "def tab():\n",
    "    for row in range(1,11):\n",
    "        for col in range(1,11):\n",
    "            n=row*col\n",
    "            if n<10:\n",
    "                print('',n,'',end='')\n",
    "            else:\n",
    "                print(n,'',end='')\n",
    "        print()\n",
    "tab()"
   ]
  },
  {
   "cell_type": "code",
   "execution_count": 9,
   "metadata": {},
   "outputs": [
    {
     "name": "stdout",
     "output_type": "stream",
     "text": [
      "Enter a number to check wheather it is negative,zero or positive:: -1\n",
      "Negative\n"
     ]
    }
   ],
   "source": [
    "def numcheck():\n",
    "    x=int(input(\"Enter a number to check wheather it is negative,zero or positive:: \"))\n",
    "    if x==0:\n",
    "        print(\"Zero\")\n",
    "    elif x<0:\n",
    "        print(\"Negative\")\n",
    "    elif x>0:\n",
    "        print(\"Positive\")\n",
    "numcheck()"
   ]
  },
  {
   "cell_type": "code",
   "execution_count": 12,
   "metadata": {},
   "outputs": [
    {
     "name": "stdout",
     "output_type": "stream",
     "text": [
      "Enter the length in feet: 5.4\n",
      "5.4 feet is equal to 64.80000000000001 inches\n"
     ]
    }
   ],
   "source": [
    "def fein():\n",
    "    f=float(input(\"Enter the length in feet: \"))\n",
    "    i=f*12\n",
    "    print(f,\"feet is equal to\",i,\"inches\")\n",
    "fein()"
   ]
  },
  {
   "cell_type": "code",
   "execution_count": 13,
   "metadata": {},
   "outputs": [
    {
     "name": "stdout",
     "output_type": "stream",
     "text": [
      "Miles        Km\n",
      "1          1.609\n",
      "2          3.218\n",
      "3          4.827\n",
      "4          6.436\n",
      "5          8.045\n",
      "6          9.654\n",
      "7          11.263\n",
      "8          12.872\n",
      "9          14.481\n"
     ]
    }
   ],
   "source": [
    "def kile():\n",
    "    print(\"Miles        Km\")\n",
    "    for i in range(1,10,1):\n",
    "        print(i,\"        \",i*1.609)\n",
    "kile()"
   ]
  },
  {
   "cell_type": "code",
   "execution_count": 1,
   "metadata": {},
   "outputs": [
    {
     "name": "stdout",
     "output_type": "stream",
     "text": [
      "Enter a string::121\n",
      "121 is a palindrome\n"
     ]
    }
   ],
   "source": [
    "def palinnum():\n",
    "    string=input(\"Enter a string::\")\n",
    "    n=len(string)\n",
    "    a=''\n",
    "    for i in range (n-1,-1,-1):\n",
    "        a=a+string[i]\n",
    "    if a==string:\n",
    "        print(string,\"is a palindrome\")\n",
    "    else:\n",
    "        print(string,\"is not a palindrome\")\n",
    "palinnum()"
   ]
  },
  {
   "cell_type": "code",
   "execution_count": 15,
   "metadata": {},
   "outputs": [
    {
     "name": "stdout",
     "output_type": "stream",
     "text": [
      "Enter a phone number: 982-718-6154\n",
      "It is a Valid phone number: 982-718-6154\n"
     ]
    }
   ],
   "source": [
    "def mono():\n",
    "    N=input(\"Enter a phone number: \")\n",
    "    if N[3]=='-'and N[7]=='-':\n",
    "        if len(N)==12:\n",
    "            if (N[:3]+N[4:7]+N[8:]).isdigit():\n",
    "                print(\"It is a Valid phone number:\",N)\n",
    "    else:\n",
    "        print(\"It is a invalid phone number\")\n",
    "mono()"
   ]
  },
  {
   "cell_type": "code",
   "execution_count": 16,
   "metadata": {},
   "outputs": [
    {
     "name": "stdout",
     "output_type": "stream",
     "text": [
      "Enter a list of numbers:: [1,2,3]\n",
      "Enter a list of numbers:: [4,5,6]\n",
      "[5, 7, 9]\n"
     ]
    }
   ],
   "source": [
    "def listsum():\n",
    "    l3=[]\n",
    "    l1=eval(input(\"Enter a list of numbers:: \"))\n",
    "    l2=eval(input(\"Enter a list of numbers:: \"))\n",
    "    for i in range(0,len(l1)):\n",
    "        l3.append(l1[i]+l2[i])\n",
    "    print(l3)\n",
    "listsum()"
   ]
  },
  {
   "cell_type": "code",
   "execution_count": 17,
   "metadata": {},
   "outputs": [
    {
     "name": "stdout",
     "output_type": "stream",
     "text": [
      "The first 10 fibonacci numbers are:: (0, 1, 1, 2, 3, 5, 8, 13, 21)\n"
     ]
    }
   ],
   "source": [
    "def fibonum():\n",
    "    a=0\n",
    "    b=1\n",
    "    l1=[a,b]\n",
    "    for i in range(1,8):\n",
    "        c=a+b\n",
    "        a,b=b,c\n",
    "        l1.append(c)\n",
    "    print(\"The first 10 fibonacci numbers are::\",tuple(l1))\n",
    "fibonum()"
   ]
  },
  {
   "cell_type": "code",
   "execution_count": 18,
   "metadata": {},
   "outputs": [
    {
     "name": "stdout",
     "output_type": "stream",
     "text": [
      "Enter a dictionary: {12:'a',34:'h',67:'j',2:'r'}\n",
      "Your list is:  [12, 34, 67, 2]\n",
      "Your sorted list is:  [2, 12, 34, 67]\n"
     ]
    }
   ],
   "source": [
    "def sorting():\n",
    "    d1=eval(input(\"Enter a dictionary: \"))\n",
    "    l1=list(d1.keys())\n",
    "    print(\"Your list is: \",l1)\n",
    "    for i in range(len(l1)-1,0,-1):\n",
    "        for j in range(i):\n",
    "            if l1[j]>l1[j+1]:\n",
    "                l1[j+1],l1[j]=l1[j],l1[j+1]\n",
    "    print(\"Your sorted list is: \",l1)\n",
    "sorting()"
   ]
  },
  {
   "cell_type": "code",
   "execution_count": 19,
   "metadata": {},
   "outputs": [
    {
     "name": "stdout",
     "output_type": "stream",
     "text": [
      "Enter a sentenc: My self Rudra\n",
      "Number of words in the sentence is:  3\n"
     ]
    }
   ],
   "source": [
    "def numword():\n",
    "    l1=input(\"Enter a sentenc: \")\n",
    "    l2=l1.split()\n",
    "    print(\"Number of words in the sentence is: \",len(l2))\n",
    "numword()"
   ]
  },
  {
   "cell_type": "code",
   "execution_count": 20,
   "metadata": {},
   "outputs": [
    {
     "name": "stdout",
     "output_type": "stream",
     "text": [
      "Enter the a list of numbers: [89,12,56,47,1,23,0]\n",
      "[0, 1, 12, 23, 47, 56, 89]\n"
     ]
    }
   ],
   "source": [
    "def numsort():\n",
    "    l=eval(input(\"Enter the a list of numbers: \"))\n",
    "    for i in range(len(l)-1,0,-1):\n",
    "        for j in range(i):\n",
    "            if l[j]>l[j+1]:\n",
    "                l[j+1],l[j]=l[j],l[j+1]\n",
    "    print(l)\n",
    "numsort()"
   ]
  },
  {
   "cell_type": "code",
   "execution_count": 2,
   "metadata": {},
   "outputs": [
    {
     "name": "stdout",
     "output_type": "stream",
     "text": [
      "the sum of 2 number is: 16\n"
     ]
    }
   ],
   "source": [
    "def add(x,y):\n",
    "    print(\"the sum of 2 number is:\",x+y)\n",
    "add(12,4)"
   ]
  },
  {
   "cell_type": "code",
   "execution_count": 4,
   "metadata": {},
   "outputs": [
    {
     "name": "stdout",
     "output_type": "stream",
     "text": [
      "enter the first number :12\n",
      "enter the second number :2\n",
      "The sum of 2 numbers is : 14\n",
      "The sub of 2 numbers is : 10\n",
      "The pro of 2 numbers is : 24\n",
      "The div of 2 numbers is : 6.0\n"
     ]
    }
   ],
   "source": [
    "def add(x,y):\n",
    "    print(\"The sum of 2 numbers is :\",x+y)\n",
    "def sub(x,y):\n",
    "    print(\"The sub of 2 numbers is :\",x-y)\n",
    "def pro(x,y):\n",
    "    print(\"The pro of 2 numbers is :\",x*y)\n",
    "def div(x,y):\n",
    "    print(\"The div of 2 numbers is :\",x/y)\n",
    "x=int(input(\"enter the first number :\"))\n",
    "y=int(input(\"enter the second number :\"))\n",
    "add(x,y)\n",
    "sub(x,y)\n",
    "pro(x,y)\n",
    "div(x,y)"
   ]
  },
  {
   "cell_type": "code",
   "execution_count": 29,
   "metadata": {},
   "outputs": [
    {
     "name": "stdout",
     "output_type": "stream",
     "text": [
      "Enter the temperature in degree celcius: 100\n",
      "The temperature in fahrenheit is:  212.0\n"
     ]
    }
   ],
   "source": [
    "def temp():\n",
    "    T=t*9/5+32\n",
    "    print(\"The temperature in fahrenheit is: \",T)\n",
    "t=int(input(\"Enter the temperature in degree celcius: \"))\n",
    "temp()"
   ]
  },
  {
   "cell_type": "code",
   "execution_count": 33,
   "metadata": {},
   "outputs": [
    {
     "name": "stdout",
     "output_type": "stream",
     "text": [
      "Enter the temperature in degree celcius: 100\n"
     ]
    },
    {
     "data": {
      "text/plain": [
       "212.0"
      ]
     },
     "execution_count": 33,
     "metadata": {},
     "output_type": "execute_result"
    }
   ],
   "source": [
    "def temp():\n",
    "    T=t*9/5+32\n",
    "    return T\n",
    "t=int(input(\"Enter the temperature in degree celcius: \"))\n",
    "temp()"
   ]
  },
  {
   "cell_type": "code",
   "execution_count": 36,
   "metadata": {},
   "outputs": [
    {
     "name": "stdout",
     "output_type": "stream",
     "text": [
      "Enter lent money: 7000\n",
      "Enter rate of interest: 9\n",
      "Enter time in years: 10\n",
      "The amount payable is:  13300.0\n"
     ]
    }
   ],
   "source": [
    "def mon(P,R,T):\n",
    "    SI=(P*R*T)/100\n",
    "    AP=P+SI\n",
    "    print(\"The amount payable is: \",AP)\n",
    "x=int(input(\"Enter lent money: \"))\n",
    "y=int(input(\"Enter rate of interest: \"))\n",
    "z=int(input(\"Enter time in years: \"))\n",
    "mon(x,y,z)"
   ]
  },
  {
   "cell_type": "code",
   "execution_count": 3,
   "metadata": {},
   "outputs": [
    {
     "name": "stdout",
     "output_type": "stream",
     "text": [
      "Enter time in seconds:-60\n",
      "60 seconds contains 1 minutes 0 seconds\n"
     ]
    }
   ],
   "source": [
    "def Timezone():\n",
    "    S=int(input(\"Enter time in seconds:-\"))\n",
    "    mi=S//60\n",
    "    sec=S%60\n",
    "    print(S,\"seconds contains\",mi,\"minutes\",sec,\"seconds\")\n",
    "Timezone()"
   ]
  },
  {
   "cell_type": "code",
   "execution_count": 38,
   "metadata": {},
   "outputs": [
    {
     "name": "stdout",
     "output_type": "stream",
     "text": [
      "Enter lent money: 7000\n",
      "Enter rate of interest: 9\n",
      "Enter time in years: 10\n"
     ]
    },
    {
     "data": {
      "text/plain": [
       "13300.0"
      ]
     },
     "execution_count": 38,
     "metadata": {},
     "output_type": "execute_result"
    }
   ],
   "source": [
    "def mon(P,R,T):\n",
    "    SI=(P*R*T)/100\n",
    "    AP=P+SI\n",
    "    return AP\n",
    "x=int(input(\"Enter lent money: \"))\n",
    "y=int(input(\"Enter rate of interest: \"))\n",
    "z=int(input(\"Enter time in years: \"))\n",
    "mon(x,y,z)"
   ]
  },
  {
   "cell_type": "code",
   "execution_count": 40,
   "metadata": {},
   "outputs": [
    {
     "name": "stdout",
     "output_type": "stream",
     "text": [
      "Enter the number of times you want to print 'Good morning': 10\n"
     ]
    },
    {
     "data": {
      "text/plain": [
       "'Good Morning Good Morning Good Morning Good Morning Good Morning Good Morning Good Morning Good Morning Good Morning Good Morning '"
      ]
     },
     "execution_count": 40,
     "metadata": {},
     "output_type": "execute_result"
    }
   ],
   "source": [
    "def gmn(n):\n",
    "    return \"Good Morning \"*n\n",
    "q=int(input(\"Enter the number of times you want to print 'Good morning': \"))\n",
    "gmn(q)"
   ]
  },
  {
   "cell_type": "code",
   "execution_count": 1,
   "metadata": {},
   "outputs": [
    {
     "name": "stdout",
     "output_type": "stream",
     "text": [
      "Enter the mass: 65\n",
      "Equivalent energy is :  5.85e+18 joule\n"
     ]
    }
   ],
   "source": [
    "import math\n",
    "def eng():\n",
    "    c=3*pow(10,8)\n",
    "    E=m*c*c\n",
    "    print(\"Equivalent energy is : \",E,\"joule\")\n",
    "m=float(input(\"Enter the mass: \"))\n",
    "eng()"
   ]
  },
  {
   "cell_type": "code",
   "execution_count": 2,
   "metadata": {},
   "outputs": [
    {
     "name": "stdout",
     "output_type": "stream",
     "text": [
      "Enter the mass: 65\n"
     ]
    },
    {
     "data": {
      "text/plain": [
       "5.85e+18"
      ]
     },
     "execution_count": 2,
     "metadata": {},
     "output_type": "execute_result"
    }
   ],
   "source": [
    "def eng():\n",
    "    c=3*pow(10,8)\n",
    "    E=m*c*c\n",
    "    return E\n",
    "m=float(input(\"Enter the mass: \"))\n",
    "eng()"
   ]
  },
  {
   "cell_type": "code",
   "execution_count": 4,
   "metadata": {},
   "outputs": [
    {
     "name": "stdout",
     "output_type": "stream",
     "text": [
      "Enter the amount in dollors:: 1\n",
      "the amount in rupee::  74.25\n"
     ]
    }
   ],
   "source": [
    "#TYPE-C\n",
    "#1 i\n",
    "def dtor():\n",
    "    a=74.25*x \n",
    "    print(\"the amount in rupee:: \",a)\n",
    "x=int(input(\"Enter the amount in dollors:: \"))\n",
    "dtor()"
   ]
  },
  {
   "cell_type": "code",
   "execution_count": 1,
   "metadata": {},
   "outputs": [
    {
     "name": "stdout",
     "output_type": "stream",
     "text": [
      "Enter the amount in dollors:: 5\n"
     ]
    },
    {
     "data": {
      "text/plain": [
       "371.25"
      ]
     },
     "execution_count": 1,
     "metadata": {},
     "output_type": "execute_result"
    }
   ],
   "source": [
    "#1 ii\n",
    "def dtor():\n",
    "    a=74.25*x \n",
    "    return a\n",
    "x=int(input(\"Enter the amount in dollors:: \"))\n",
    "dtor()"
   ]
  },
  {
   "cell_type": "code",
   "execution_count": 39,
   "metadata": {},
   "outputs": [
    {
     "name": "stdout",
     "output_type": "stream",
     "text": [
      "Enter the number of times you want to print 'Good morning': 10\n",
      "Good Morning Good Morning Good Morning Good Morning Good Morning Good Morning Good Morning Good Morning Good Morning Good Morning \n"
     ]
    }
   ],
   "source": [
    "def gmn(n):\n",
    "    print(\"Good Morning \"*n)\n",
    "q=int(input(\"Enter the number of times you want to print 'Good morning': \"))\n",
    "gmn(q)"
   ]
  },
  {
   "cell_type": "code",
   "execution_count": 1,
   "metadata": {},
   "outputs": [
    {
     "name": "stdout",
     "output_type": "stream",
     "text": [
      "Enter the length:: 12\n",
      "Enter the width:: 4\n",
      "Enter the height:: 6\n",
      "volume of box =  288\n"
     ]
    }
   ],
   "source": [
    "#2\n",
    "def vol(l,w,h):\n",
    "    return(l*w*h)\n",
    "length = int(input(\"Enter the length:: \"))\n",
    "width = int(input(\"Enter the width:: \"))\n",
    "height = int(input(\"Enter the height:: \"))\n",
    "print(\"volume of box = \", vol( length , width , height ))"
   ]
  },
  {
   "cell_type": "code",
   "execution_count": 11,
   "metadata": {},
   "outputs": [
    {
     "name": "stdout",
     "output_type": "stream",
     "text": [
      "Enter a Char 1:: a\n",
      "Enter a Char 2:: a\n"
     ]
    },
    {
     "data": {
      "text/plain": [
       "True"
      ]
     },
     "execution_count": 11,
     "metadata": {},
     "output_type": "execute_result"
    }
   ],
   "source": [
    "#3\n",
    "#ii\n",
    "def chr():\n",
    "    return char1==char2\n",
    "char1=input(\"Enter a Char 1:: \")\n",
    "char2=input(\"Enter a Char 2:: \")        \n",
    "chr()"
   ]
  },
  {
   "cell_type": "code",
   "execution_count": 9,
   "metadata": {},
   "outputs": [
    {
     "name": "stdout",
     "output_type": "stream",
     "text": [
      "Enter first number:: 1\n",
      "Enter second number:: 10\n"
     ]
    },
    {
     "data": {
      "text/plain": [
       "2"
      ]
     },
     "execution_count": 9,
     "metadata": {},
     "output_type": "execute_result"
    }
   ],
   "source": [
    "#4 \n",
    "import random\n",
    "def ran(x,y):\n",
    "    return random.randint(x,y)\n",
    "x=int(input(\"Enter first number:: \"))\n",
    "y=int(input(\"Enter second number:: \"))\n",
    "ran(x,y)"
   ]
  },
  {
   "cell_type": "code",
   "execution_count": 10,
   "metadata": {},
   "outputs": [
    {
     "name": "stdout",
     "output_type": "stream",
     "text": [
      "Enter a string:: Rudra\n",
      "Enter another string:: Anshu\n"
     ]
    },
    {
     "data": {
      "text/plain": [
       "True"
      ]
     },
     "execution_count": 10,
     "metadata": {},
     "output_type": "execute_result"
    }
   ],
   "source": [
    "#5\n",
    "def equ(x,y):\n",
    "    return len(x)==len(y)\n",
    "x=input(\"Enter a string:: \")\n",
    "y=input(\"Enter another string:: \")\n",
    "equ(x,y)  "
   ]
  },
  {
   "cell_type": "code",
   "execution_count": 17,
   "metadata": {},
   "outputs": [
    {
     "name": "stdout",
     "output_type": "stream",
     "text": [
      "Enter the a list of numbers: [21,67,1,89,43,23]\n"
     ]
    },
    {
     "data": {
      "text/plain": [
       "[1, 21, 23, 43, 67, 89]"
      ]
     },
     "execution_count": 17,
     "metadata": {},
     "output_type": "execute_result"
    }
   ],
   "source": [
    "def sort(l):\n",
    "    for i in range(len(l)-1,0,-1):\n",
    "        for j in range(i):\n",
    "            if l[j]>l[j+1]:\n",
    "                l[j+1],l[j]=l[j],l[j+1]\n",
    "    return l\n",
    "l=eval(input(\"Enter the a list of numbers: \"))\n",
    "sort(l)"
   ]
  },
  {
   "cell_type": "code",
   "execution_count": 1,
   "metadata": {},
   "outputs": [
    {
     "name": "stdout",
     "output_type": "stream",
     "text": [
      "Enter the a list of numbers: [21,67,1,89,43,23]\n",
      "[1, 21, 23, 43, 67, 89]\n"
     ]
    }
   ],
   "source": [
    "def sort(l):\n",
    "    for i in range(len(l)-1,0,-1):\n",
    "        for j in range(i):\n",
    "            if l[j]>l[j+1]:\n",
    "                l[j+1],l[j]=l[j],l[j+1]\n",
    "    print(l)\n",
    "l=eval(input(\"Enter the a list of numbers: \"))\n",
    "sort(l)"
   ]
  },
  {
   "cell_type": "code",
   "execution_count": 2,
   "metadata": {},
   "outputs": [
    {
     "name": "stdout",
     "output_type": "stream",
     "text": [
      "Enter the list ::[21,67,1,89,43,23]\n",
      "[1, 21, 23, 43, 67, 89]\n"
     ]
    }
   ],
   "source": [
    "def sort1(a):\n",
    "    for i in a:\n",
    "        j=a.index(i)\n",
    "        while j>0:\n",
    "            if a[j-1]>a[j]:\n",
    "                a[j-1],a[j]=a[j],a[j-1]\n",
    "            else:\n",
    "                break\n",
    "            j=j-1\n",
    "    print(a)\n",
    "a=eval(input(\"Enter the list ::\"))\n",
    "sort1(a)"
   ]
  },
  {
   "cell_type": "code",
   "execution_count": 5,
   "metadata": {},
   "outputs": [
    {
     "name": "stdout",
     "output_type": "stream",
     "text": [
      "Enter the list ::[21,67,1,89,43,23]\n"
     ]
    },
    {
     "data": {
      "text/plain": [
       "[1, 21, 23, 43, 67, 89]"
      ]
     },
     "execution_count": 5,
     "metadata": {},
     "output_type": "execute_result"
    }
   ],
   "source": [
    "def sort1(a):\n",
    "    for i in a:\n",
    "        j=a.index(i)\n",
    "        while j>0:\n",
    "            if a[j-1]>a[j]:\n",
    "                a[j-1],a[j]=a[j],a[j-1]\n",
    "            else:\n",
    "                break\n",
    "            j=j-1\n",
    "    return a\n",
    "a=eval(input(\"Enter the list ::\"))\n",
    "sort1(a)"
   ]
  },
  {
   "cell_type": "code",
   "execution_count": 1,
   "metadata": {},
   "outputs": [
    {
     "name": "stdout",
     "output_type": "stream",
     "text": [
      "From where to start the fibonacci series? : 4\n",
      "Second element for the series : 5\n",
      "Terminating value for the series : 30\n",
      "Fibonacci series in given range is :  [4, 5, 9, 14, 23]\n"
     ]
    }
   ],
   "source": [
    "def fibonac(start, second, stop):                                                          # void\n",
    "    L=[start,second]\n",
    "    for i in range(1000):\n",
    "        Next=start+second\n",
    "        if Next>stop:\n",
    "            break\n",
    "        L.append(Next)\n",
    "        start,second=second,Next    \n",
    "    print(\"Fibonacci series in given range is : \",L)\n",
    "start=int(input(\"From where to start the fibonacci series? : \"))\n",
    "second=int(input(\"Second element for the series : \"))\n",
    "stop=int(input(\"Terminating value for the series : \"))\n",
    "fibonac(start, second, stop)"
   ]
  },
  {
   "cell_type": "code",
   "execution_count": 2,
   "metadata": {},
   "outputs": [
    {
     "name": "stdout",
     "output_type": "stream",
     "text": [
      "From where to start the fibonacci series? : 4\n",
      "Second element for the series : 5\n",
      "Terminating value for the series : 30\n"
     ]
    },
    {
     "data": {
      "text/plain": [
       "[4, 5, 9, 14, 23]"
      ]
     },
     "execution_count": 2,
     "metadata": {},
     "output_type": "execute_result"
    }
   ],
   "source": [
    "def fibonac(start, second, stop):                                                          # void\n",
    "    L=[start,second]\n",
    "    for i in range(1000):\n",
    "        Next=start+second\n",
    "        if Next>stop:\n",
    "            break\n",
    "        L.append(Next)\n",
    "        start,second=second,Next    \n",
    "    return L\n",
    "start=int(input(\"From where to start the fibonacci series? : \"))\n",
    "second=int(input(\"Second element for the series : \"))\n",
    "stop=int(input(\"Terminating value for the series : \"))\n",
    "fibonac(start, second, stop)"
   ]
  },
  {
   "cell_type": "code",
   "execution_count": 9,
   "metadata": {},
   "outputs": [
    {
     "name": "stdout",
     "output_type": "stream",
     "text": [
      "Enter the starting value:: 2\n",
      "Enter the ending value:: 4\n",
      "[[2, 4, 6, 8, 10, 12, 14, 16, 18, 20], [3, 6, 9, 12, 15, 18, 21, 24, 27, 30], [4, 8, 12, 16, 20, 24, 28, 32, 36, 40]]\n"
     ]
    }
   ],
   "source": [
    "def tab(a,b):\n",
    "    l2=[]\n",
    "    for i in range(a,b+1):\n",
    "        l1=[]\n",
    "        for j in range(1,11):\n",
    "            l1.append(i*j)\n",
    "        l2.append(l1)\n",
    "    print(l2)   \n",
    "x=int(input(\"Enter the starting value:: \"))\n",
    "y=int(input(\"Enter the ending value:: \"))\n",
    "tab(x,y)"
   ]
  },
  {
   "cell_type": "code",
   "execution_count": 10,
   "metadata": {},
   "outputs": [
    {
     "name": "stdout",
     "output_type": "stream",
     "text": [
      "Enter the starting value:: 2\n",
      "Enter the ending value:: 4\n"
     ]
    },
    {
     "data": {
      "text/plain": [
       "[[2, 4, 6, 8, 10, 12, 14, 16, 18, 20],\n",
       " [3, 6, 9, 12, 15, 18, 21, 24, 27, 30],\n",
       " [4, 8, 12, 16, 20, 24, 28, 32, 36, 40]]"
      ]
     },
     "execution_count": 10,
     "metadata": {},
     "output_type": "execute_result"
    }
   ],
   "source": [
    "def tab(a,b):\n",
    "    l2=[]\n",
    "    for i in range(a,b+1):\n",
    "        l1=[]\n",
    "        for j in range(1,11):\n",
    "            l1.append(i*j)\n",
    "        l2.append(l1)\n",
    "    return l2   \n",
    "x=int(input(\"Enter the starting value:: \"))\n",
    "y=int(input(\"Enter the ending value:: \"))\n",
    "tab(x,y)"
   ]
  },
  {
   "cell_type": "code",
   "execution_count": 6,
   "metadata": {},
   "outputs": [
    {
     "ename": "SyntaxError",
     "evalue": "non-default argument follows default argument (<ipython-input-6-5dfb8ac0433c>, line 1)",
     "output_type": "error",
     "traceback": [
      "\u001b[1;36m  File \u001b[1;32m\"<ipython-input-6-5dfb8ac0433c>\"\u001b[1;36m, line \u001b[1;32m1\u001b[0m\n\u001b[1;33m    def interest(p=1500,t,r):\u001b[0m\n\u001b[1;37m                 ^\u001b[0m\n\u001b[1;31mSyntaxError\u001b[0m\u001b[1;31m:\u001b[0m non-default argument follows default argument\n"
     ]
    }
   ],
   "source": [
    "def interest(p=1500,t,r):\n",
    "    print(p*r*t/100)\n",
    "x=int(input(\"Enter the principle amount:: \"))\n",
    "y=int(input(\"Enter the time period:: \"))\n",
    "z=int(input(\"Enter the rate:: \"))\n",
    "interest(x,y,z)"
   ]
  },
  {
   "cell_type": "code",
   "execution_count": 7,
   "metadata": {},
   "outputs": [
    {
     "name": "stdout",
     "output_type": "stream",
     "text": [
      "Enter the principle amount:: 1500\n",
      "Enter the time period:: 2\n",
      "Enter the rate:: 10\n",
      "300.0\n"
     ]
    }
   ],
   "source": [
    "def interest(p,t,r=11):\n",
    "    print(p*r*t/100)\n",
    "x=int(input(\"Enter the principle amount:: \"))\n",
    "y=int(input(\"Enter the time period:: \"))\n",
    "z=int(input(\"Enter the rate:: \"))\n",
    "interest(x,y,z)"
   ]
  },
  {
   "cell_type": "code",
   "execution_count": 5,
   "metadata": {},
   "outputs": [
    {
     "name": "stdout",
     "output_type": "stream",
     "text": [
      "Enter the number:: 10\n",
      "Enter the number:: 2\n",
      "nth root:: 3.1622776601683795\n"
     ]
    }
   ],
   "source": [
    "def root(x,n=2):\n",
    "    print(\"nth root::\",x**(1/n))\n",
    "x=int(input(\"Enter the number:: \"))\n",
    "n=int(input(\"Enter the number:: \"))\n",
    "root(x,n)"
   ]
  },
  {
   "cell_type": "code",
   "execution_count": 1,
   "metadata": {},
   "outputs": [
    {
     "name": "stdout",
     "output_type": "stream",
     "text": [
      "Enter a list of numbers:: [1,3,4,5]\n",
      "The converted list is::  [5, 1, 3, 4]\n"
     ]
    }
   ],
   "source": [
    "l1=eval(input(\"Enter a list of numbers:: \"))\n",
    "l=[l1[-1]]\n",
    "for i in l1:\n",
    "    l.append(i)\n",
    "l.pop(-1)\n",
    "print(\"The converted list is:: \",l)"
   ]
  },
  {
   "cell_type": "code",
   "execution_count": 6,
   "metadata": {},
   "outputs": [
    {
     "name": "stdout",
     "output_type": "stream",
     "text": [
      "Enter a list of numbers:: [1,2,3,4]\n",
      "[4, 2, 3, 1]\n"
     ]
    }
   ],
   "source": [
    "l1=eval(input(\"Enter a list of numbers:: \"))\n",
    "tem=l1[-1]\n",
    "l1[-1]=l1[0]\n",
    "l1[0]=tem\n",
    "print(l1)"
   ]
  },
  {
   "cell_type": "code",
   "execution_count": 6,
   "metadata": {},
   "outputs": [
    {
     "name": "stdout",
     "output_type": "stream",
     "text": [
      "Enter base number::10\n",
      "Enter exp number::2\n"
     ]
    },
    {
     "data": {
      "text/plain": [
       "100.0"
      ]
     },
     "execution_count": 6,
     "metadata": {},
     "output_type": "execute_result"
    }
   ],
   "source": [
    "import math\n",
    "def root(a,b):\n",
    "    n=math.pow(a,b)\n",
    "    return n\n",
    "x=int(input(\"Enter base number::\"))\n",
    "y=int(input(\"Enter exp number::\"))\n",
    "root(x,y)\n",
    "    "
   ]
  },
  {
   "cell_type": "code",
   "execution_count": 3,
   "metadata": {},
   "outputs": [
    {
     "name": "stdout",
     "output_type": "stream",
     "text": [
      "Enter the number of digit in random number: 3\n",
      "Random number between 100 and 999 is:  829\n"
     ]
    }
   ],
   "source": [
    "import random\n",
    "def rnum(n):\n",
    "    a=10**(n-1)\n",
    "    b=10**n-1\n",
    "    x=random.randint(a,b)\n",
    "    print(\"Random number between\",a,\"and\",b,\"is: \",x)\n",
    "n=int(input(\"Enter the number of digit in random number: \"))\n",
    "rnum(n)"
   ]
  },
  {
   "cell_type": "code",
   "execution_count": 25,
   "metadata": {},
   "outputs": [
    {
     "name": "stdout",
     "output_type": "stream",
     "text": [
      "Enter first number: 256\n",
      "Enter second number: 456\n",
      "Both numbers have same number in one's digit\n",
      "None\n"
     ]
    }
   ],
   "source": [
    "def num(x,y):\n",
    "    if x%10<y%10:\n",
    "        return x\n",
    "    elif x%10>y%10:\n",
    "        return y\n",
    "    else:\n",
    "        print(\"Both numbers have same number in one's digit\")\n",
    "x=int(input(\"Enter first number: \"))\n",
    "y=int(input(\"Enter second number: \"))\n",
    "n=num(x,y)\n",
    "print(n)"
   ]
  },
  {
   "cell_type": "code",
   "execution_count": 11,
   "metadata": {},
   "outputs": [
    {
     "name": "stdout",
     "output_type": "stream",
     "text": [
      "Enter the first number:1\n",
      "Enter the second number:7\n",
      "The series is: 1 3 5 7\n"
     ]
    }
   ],
   "source": [
    "def ap(a,b):\n",
    "    d=(b-a)//3\n",
    "    z=a+d\n",
    "    v=a+d+d\n",
    "    #print(\"The series is:\",a,z,v,b)\n",
    "    return a,z,v,b\n",
    "x=int(input(\"Enter the first number:\"))\n",
    "y=int(input(\"Enter the second number:\"))\n",
    "e,r,t,y=ap(x,y)\n",
    "print(\"The series is:\",e,r,t,y)"
   ]
  },
  {
   "cell_type": "code",
   "execution_count": 22,
   "metadata": {},
   "outputs": [
    {
     "name": "stdout",
     "output_type": "stream",
     "text": [
      "Enter the first number:4\n",
      "Enter the second number:9\n"
     ]
    },
    {
     "ename": "NameError",
     "evalue": "name 'c' is not defined",
     "output_type": "error",
     "traceback": [
      "\u001b[1;31m---------------------------------------------------------------------------\u001b[0m",
      "\u001b[1;31mNameError\u001b[0m                                 Traceback (most recent call last)",
      "\u001b[1;32m<ipython-input-22-76a694b69e22>\u001b[0m in \u001b[0;36m<module>\u001b[1;34m\u001b[0m\n\u001b[0;32m      6\u001b[0m \u001b[0mx\u001b[0m\u001b[1;33m=\u001b[0m\u001b[0mint\u001b[0m\u001b[1;33m(\u001b[0m\u001b[0minput\u001b[0m\u001b[1;33m(\u001b[0m\u001b[1;34m\"Enter the first number:\"\u001b[0m\u001b[1;33m)\u001b[0m\u001b[1;33m)\u001b[0m\u001b[1;33m\u001b[0m\u001b[1;33m\u001b[0m\u001b[0m\n\u001b[0;32m      7\u001b[0m \u001b[0my\u001b[0m\u001b[1;33m=\u001b[0m\u001b[0mint\u001b[0m\u001b[1;33m(\u001b[0m\u001b[0minput\u001b[0m\u001b[1;33m(\u001b[0m\u001b[1;34m\"Enter the second number:\"\u001b[0m\u001b[1;33m)\u001b[0m\u001b[1;33m)\u001b[0m\u001b[1;33m\u001b[0m\u001b[1;33m\u001b[0m\u001b[0m\n\u001b[1;32m----> 8\u001b[1;33m \u001b[0mprint\u001b[0m\u001b[1;33m(\u001b[0m\u001b[0mc\u001b[0m\u001b[1;33m)\u001b[0m\u001b[1;33m\u001b[0m\u001b[1;33m\u001b[0m\u001b[0m\n\u001b[0m\u001b[0;32m      9\u001b[0m \u001b[0madnum\u001b[0m\u001b[1;33m(\u001b[0m\u001b[0mx\u001b[0m\u001b[1;33m,\u001b[0m\u001b[0my\u001b[0m\u001b[1;33m)\u001b[0m\u001b[1;33m\u001b[0m\u001b[1;33m\u001b[0m\u001b[0m\n\u001b[0;32m     10\u001b[0m \u001b[1;31m#w,q=adnum(x,y)\u001b[0m\u001b[1;33m\u001b[0m\u001b[1;33m\u001b[0m\u001b[1;33m\u001b[0m\u001b[0m\n",
      "\u001b[1;31mNameError\u001b[0m: name 'c' is not defined"
     ]
    }
   ],
   "source": [
    "def adnum(a,b):\n",
    "    #print(a,b)\n",
    "    #print(x,y)\n",
    "    c=a+b\n",
    "    print(c)\n",
    "x=int(input(\"Enter the first number:\"))\n",
    "y=int(input(\"Enter the second number:\"))\n",
    "print(c)\n",
    "adnum(x,y)\n",
    "#w,q=adnum(x,y)\n",
    "#print(\"the sum of two number is: \",w)\n",
    "#print(\"the diffrence of two number is: \",q)\n"
   ]
  },
  {
   "cell_type": "code",
   "execution_count": 24,
   "metadata": {},
   "outputs": [
    {
     "name": "stdout",
     "output_type": "stream",
     "text": [
      "3.141592653589793\n"
     ]
    }
   ],
   "source": [
    "import math \n",
    "print(math.pi)"
   ]
  },
  {
   "cell_type": "code",
   "execution_count": 5,
   "metadata": {},
   "outputs": [
    {
     "name": "stdout",
     "output_type": "stream",
     "text": [
      "Enter the first number:54\n",
      "Enter the second number:4\n",
      "Difference 50\n",
      "Sum 58\n"
     ]
    }
   ],
   "source": [
    "def adnum(x,y):\n",
    "    print(\"Sum\",x+y)\n",
    "x=int(input(\"Enter the first number:\"))\n",
    "y=int(input(\"Enter the second number:\"))\n",
    "print(\"Difference\",x-y)\n",
    "adnum(x,y)"
   ]
  },
  {
   "cell_type": "code",
   "execution_count": 17,
   "metadata": {},
   "outputs": [
    {
     "name": "stdout",
     "output_type": "stream",
     "text": [
      "[1, 4, 9, 16, 25, 36, 49, 64, 81, 100, 121, 144, 169, 196, 225, 256, 289, 324, 361, 400, 441, 484, 529, 576, 625, 676, 729, 784, 841, 900]\n"
     ]
    }
   ],
   "source": [
    "def sqli():\n",
    "    l1=[]\n",
    "    for i in range(1,31):\n",
    "        l1.append(i*i)\n",
    "    return l1\n",
    "a=sqli()\n",
    "print(a)"
   ]
  },
  {
   "cell_type": "code",
   "execution_count": 18,
   "metadata": {},
   "outputs": [
    {
     "name": "stdout",
     "output_type": "stream",
     "text": [
      "[1, 4, 9, 16, 25, 36, 49, 64, 81, 100, 121, 144, 169, 196, 225, 256, 289, 324, 361, 400, 441, 484, 529, 576, 625, 676, 729, 784, 841, 900]\n"
     ]
    }
   ],
   "source": [
    "def sqle():\n",
    "    l1=[]\n",
    "    for i in range(1,31):\n",
    "        l1.append(i*i)\n",
    "    print(l1)\n",
    "sqle()"
   ]
  },
  {
   "cell_type": "code",
   "execution_count": 17,
   "metadata": {},
   "outputs": [
    {
     "name": "stdout",
     "output_type": "stream",
     "text": [
      "How many numbers you want in the list of square numbers:: 5\n",
      "The list is::  [70, 38, 50, 43, 34]\n",
      "The new list is::  [4900, 1444, 2500, 1849, 1156]\n"
     ]
    }
   ],
   "source": [
    "def num(n):\n",
    "    import random\n",
    "    l1=[]\n",
    "    l2=[]\n",
    "    for i in range(n):\n",
    "        a=random.randint(1,100)\n",
    "        l2.append(a)\n",
    "        l1.append(a*a)\n",
    "    print(\"The list is:: \",l2)\n",
    "    print(\"The new list is:: \",l1)\n",
    "n=int(input(\"How many numbers you want in the list of square numbers:: \"))\n",
    "num(n)    "
   ]
  },
  {
   "cell_type": "code",
   "execution_count": 11,
   "metadata": {},
   "outputs": [
    {
     "data": {
      "text/plain": [
       "'abcdefghijklmnopqrstuvwxyzABCDEFGHIJKLMNOPQRSTUVWXYZ'"
      ]
     },
     "execution_count": 11,
     "metadata": {},
     "output_type": "execute_result"
    }
   ],
   "source": [
    "import string\n",
    "string.ascii_letters"
   ]
  },
  {
   "cell_type": "code",
   "execution_count": 12,
   "metadata": {},
   "outputs": [
    {
     "data": {
      "text/plain": [
       "'abcdefghijklmnopqrstuvwxyz'"
      ]
     },
     "execution_count": 12,
     "metadata": {},
     "output_type": "execute_result"
    }
   ],
   "source": [
    "string.ascii_lowercase"
   ]
  },
  {
   "cell_type": "code",
   "execution_count": 14,
   "metadata": {},
   "outputs": [
    {
     "data": {
      "text/plain": [
       "'ABCDEFGHIJKLMNOPQRSTUVWXYZ'"
      ]
     },
     "execution_count": 14,
     "metadata": {},
     "output_type": "execute_result"
    }
   ],
   "source": [
    "string.ascii_uppercase"
   ]
  },
  {
   "cell_type": "code",
   "execution_count": 16,
   "metadata": {},
   "outputs": [
    {
     "data": {
      "text/plain": [
       "'0123456789'"
      ]
     },
     "execution_count": 16,
     "metadata": {},
     "output_type": "execute_result"
    }
   ],
   "source": [
    "string.digits"
   ]
  },
  {
   "cell_type": "code",
   "execution_count": 19,
   "metadata": {},
   "outputs": [
    {
     "data": {
      "text/plain": [
       "'0123456789abcdefABCDEF'"
      ]
     },
     "execution_count": 19,
     "metadata": {},
     "output_type": "execute_result"
    }
   ],
   "source": [
    "string.hexdigits"
   ]
  },
  {
   "cell_type": "code",
   "execution_count": 20,
   "metadata": {},
   "outputs": [
    {
     "data": {
      "text/plain": [
       "'01234567'"
      ]
     },
     "execution_count": 20,
     "metadata": {},
     "output_type": "execute_result"
    }
   ],
   "source": [
    "string.octdigits"
   ]
  },
  {
   "cell_type": "code",
   "execution_count": 21,
   "metadata": {},
   "outputs": [
    {
     "data": {
      "text/plain": [
       "'!\"#$%&\\'()*+,-./:;<=>?@[\\\\]^_`{|}~'"
      ]
     },
     "execution_count": 21,
     "metadata": {},
     "output_type": "execute_result"
    }
   ],
   "source": [
    "string.punctuation"
   ]
  },
  {
   "cell_type": "code",
   "execution_count": 1,
   "metadata": {},
   "outputs": [
    {
     "ename": "SyntaxError",
     "evalue": "invalid syntax (<ipython-input-1-58c4f9cbd874>, line 1)",
     "output_type": "error",
     "traceback": [
      "\u001b[1;36m  File \u001b[1;32m\"<ipython-input-1-58c4f9cbd874>\"\u001b[1;36m, line \u001b[1;32m1\u001b[0m\n\u001b[1;33m    capwords(\"Rudra kashyap\",[sep=None])\u001b[0m\n\u001b[1;37m                                 ^\u001b[0m\n\u001b[1;31mSyntaxError\u001b[0m\u001b[1;31m:\u001b[0m invalid syntax\n"
     ]
    }
   ],
   "source": [
    "capwords(\"Rudra kashyap\",[sep=None])"
   ]
  },
  {
   "cell_type": "code",
   "execution_count": 13,
   "metadata": {},
   "outputs": [
    {
     "ename": "TypeError",
     "evalue": "addEM() missing 3 required positional arguments: 'x', 'y', and 'z'",
     "output_type": "error",
     "traceback": [
      "\u001b[1;31m---------------------------------------------------------------------------\u001b[0m",
      "\u001b[1;31mTypeError\u001b[0m                                 Traceback (most recent call last)",
      "\u001b[1;32m<ipython-input-13-8e793eaf3168>\u001b[0m in \u001b[0;36m<module>\u001b[1;34m\u001b[0m\n\u001b[0;32m      1\u001b[0m \u001b[1;32mdef\u001b[0m \u001b[0maddEM\u001b[0m\u001b[1;33m(\u001b[0m\u001b[0mx\u001b[0m\u001b[1;33m,\u001b[0m\u001b[0my\u001b[0m\u001b[1;33m,\u001b[0m\u001b[0mz\u001b[0m\u001b[1;33m)\u001b[0m\u001b[1;33m:\u001b[0m\u001b[1;33m\u001b[0m\u001b[1;33m\u001b[0m\u001b[0m\n\u001b[0;32m      2\u001b[0m     \u001b[0mprint\u001b[0m\u001b[1;33m(\u001b[0m\u001b[0mx\u001b[0m\u001b[1;33m+\u001b[0m\u001b[0my\u001b[0m\u001b[1;33m+\u001b[0m\u001b[0mz\u001b[0m\u001b[1;33m)\u001b[0m\u001b[1;33m\u001b[0m\u001b[1;33m\u001b[0m\u001b[0m\n\u001b[1;32m----> 3\u001b[1;33m \u001b[0maddEM\u001b[0m\u001b[1;33m(\u001b[0m\u001b[1;33m)\u001b[0m\u001b[1;33m\u001b[0m\u001b[1;33m\u001b[0m\u001b[0m\n\u001b[0m",
      "\u001b[1;31mTypeError\u001b[0m: addEM() missing 3 required positional arguments: 'x', 'y', and 'z'"
     ]
    }
   ],
   "source": [
    "def addEM(x,y,z):\n",
    "    print(x+y+z)\n",
    "addEM()"
   ]
  },
  {
   "cell_type": "code",
   "execution_count": 16,
   "metadata": {},
   "outputs": [
    {
     "name": "stdout",
     "output_type": "stream",
     "text": [
      "1\n",
      "10\n",
      "10\n"
     ]
    }
   ],
   "source": [
    "num=1\n",
    "def myfun():\n",
    "    global num\n",
    "    num=10\n",
    "    return num\n",
    "print(num)\n",
    "print(myfun())\n",
    "print(num)"
   ]
  },
  {
   "cell_type": "code",
   "execution_count": 19,
   "metadata": {},
   "outputs": [
    {
     "name": "stdout",
     "output_type": "stream",
     "text": [
      "Hellothere!\n"
     ]
    }
   ],
   "source": [
    "def display():\n",
    "    print(\"Hello\",end='')\n",
    "display()\n",
    "print(\"there!\")"
   ]
  },
  {
   "cell_type": "code",
   "execution_count": 21,
   "metadata": {},
   "outputs": [
    {
     "name": "stdout",
     "output_type": "stream",
     "text": [
      "y= 5 a= 10\n"
     ]
    },
    {
     "ename": "UnboundLocalError",
     "evalue": "local variable 'a' referenced before assignment",
     "output_type": "error",
     "traceback": [
      "\u001b[1;31m---------------------------------------------------------------------------\u001b[0m",
      "\u001b[1;31mUnboundLocalError\u001b[0m                         Traceback (most recent call last)",
      "\u001b[1;32m<ipython-input-21-a2e94481e3d8>\u001b[0m in \u001b[0;36m<module>\u001b[1;34m\u001b[0m\n\u001b[0;32m      8\u001b[0m     \u001b[1;32mreturn\u001b[0m \u001b[0ma\u001b[0m\u001b[1;33m+\u001b[0m\u001b[0my\u001b[0m\u001b[1;33m\u001b[0m\u001b[1;33m\u001b[0m\u001b[0m\n\u001b[0;32m      9\u001b[0m \u001b[0mprint\u001b[0m\u001b[1;33m(\u001b[0m\u001b[1;34m\"y=\"\u001b[0m\u001b[1;33m,\u001b[0m\u001b[0my\u001b[0m\u001b[1;33m,\u001b[0m\u001b[1;34m\"a=\"\u001b[0m\u001b[1;33m,\u001b[0m\u001b[0ma\u001b[0m\u001b[1;33m)\u001b[0m\u001b[1;33m\u001b[0m\u001b[1;33m\u001b[0m\u001b[0m\n\u001b[1;32m---> 10\u001b[1;33m \u001b[0mprint\u001b[0m\u001b[1;33m(\u001b[0m\u001b[0mmyfunc\u001b[0m\u001b[1;33m(\u001b[0m\u001b[1;33m)\u001b[0m\u001b[1;33m)\u001b[0m\u001b[1;33m\u001b[0m\u001b[1;33m\u001b[0m\u001b[0m\n\u001b[0m\u001b[0;32m     11\u001b[0m \u001b[0mprint\u001b[0m\u001b[1;33m(\u001b[0m\u001b[1;34m\"y=\"\u001b[0m\u001b[1;33m,\u001b[0m\u001b[0my\u001b[0m\u001b[1;33m,\u001b[0m\u001b[1;34m\"a=\"\u001b[0m\u001b[1;33m,\u001b[0m\u001b[0ma\u001b[0m\u001b[1;33m)\u001b[0m\u001b[1;33m\u001b[0m\u001b[1;33m\u001b[0m\u001b[0m\n",
      "\u001b[1;32m<ipython-input-21-a2e94481e3d8>\u001b[0m in \u001b[0;36mmyfunc\u001b[1;34m()\u001b[0m\n\u001b[0;32m      2\u001b[0m \u001b[0my\u001b[0m\u001b[1;33m=\u001b[0m\u001b[1;36m5\u001b[0m\u001b[1;33m\u001b[0m\u001b[1;33m\u001b[0m\u001b[0m\n\u001b[0;32m      3\u001b[0m \u001b[1;32mdef\u001b[0m \u001b[0mmyfunc\u001b[0m\u001b[1;33m(\u001b[0m\u001b[1;33m)\u001b[0m\u001b[1;33m:\u001b[0m\u001b[1;33m\u001b[0m\u001b[1;33m\u001b[0m\u001b[0m\n\u001b[1;32m----> 4\u001b[1;33m     \u001b[0my\u001b[0m\u001b[1;33m=\u001b[0m\u001b[0ma\u001b[0m\u001b[1;33m\u001b[0m\u001b[1;33m\u001b[0m\u001b[0m\n\u001b[0m\u001b[0;32m      5\u001b[0m     \u001b[0ma\u001b[0m\u001b[1;33m=\u001b[0m\u001b[1;36m2\u001b[0m\u001b[1;33m\u001b[0m\u001b[1;33m\u001b[0m\u001b[0m\n\u001b[0;32m      6\u001b[0m     \u001b[0mprint\u001b[0m\u001b[1;33m(\u001b[0m\u001b[1;34m\"y=\"\u001b[0m\u001b[1;33m,\u001b[0m\u001b[0my\u001b[0m\u001b[1;33m,\u001b[0m\u001b[1;34m\"a=\"\u001b[0m\u001b[1;33m,\u001b[0m\u001b[0ma\u001b[0m\u001b[1;33m)\u001b[0m\u001b[1;33m\u001b[0m\u001b[1;33m\u001b[0m\u001b[0m\n",
      "\u001b[1;31mUnboundLocalError\u001b[0m: local variable 'a' referenced before assignment"
     ]
    }
   ],
   "source": [
    "a=10\n",
    "y=5\n",
    "def myfunc():\n",
    "    y=a\n",
    "    a=2\n",
    "    print(\"y=\",y,\"a=\",a)\n",
    "    print(\"a+y=\",a+y)\n",
    "    return a+y\n",
    "print(\"y=\",y,\"a=\",a)\n",
    "print(myfunc())\n",
    "print(\"y=\",y,\"a=\",a)"
   ]
  },
  {
   "cell_type": "code",
   "execution_count": 7,
   "metadata": {},
   "outputs": [
    {
     "name": "stdout",
     "output_type": "stream",
     "text": [
      "5 times 5 = 25\n"
     ]
    }
   ],
   "source": [
    "def mutliply(n1,n2):\n",
    "    a=n1*n2\n",
    "    print(n1,\"times\",n2,\"=\",a)\n",
    "    return (a)\n",
    "output=mutliply(5,5)"
   ]
  },
  {
   "cell_type": "code",
   "execution_count": 3,
   "metadata": {},
   "outputs": [],
   "source": [
    "def fun():\n",
    "    return None\n",
    "fun()"
   ]
  },
  {
   "cell_type": "code",
   "execution_count": 5,
   "metadata": {},
   "outputs": [
    {
     "ename": "SyntaxError",
     "evalue": "positional argument follows keyword argument (<ipython-input-5-e0b6e098bd65>, line 8)",
     "output_type": "error",
     "traceback": [
      "\u001b[1;36m  File \u001b[1;32m\"<ipython-input-5-e0b6e098bd65>\"\u001b[1;36m, line \u001b[1;32m8\u001b[0m\n\u001b[1;33m    print(alpha(n=5,\"Good-bye\"))\u001b[0m\n\u001b[1;37m                    ^\u001b[0m\n\u001b[1;31mSyntaxError\u001b[0m\u001b[1;31m:\u001b[0m positional argument follows keyword argument\n"
     ]
    }
   ],
   "source": [
    "def alpha (n,string='xyz',k=10):\n",
    "    return beta(string)\n",
    "    return n\n",
    "def beta (string):\n",
    "    return string==str(n)\n",
    "print(alpha(\"Valentine's Day\"))\n",
    "print(beta(string='true'))\n",
    "print(alpha(n=5,\"Good-bye\"))"
   ]
  },
  {
   "cell_type": "code",
   "execution_count": 9,
   "metadata": {},
   "outputs": [
    {
     "name": "stdout",
     "output_type": "stream",
     "text": [
      "[23, 35, 47, [49]]\n",
      "23 35 47 [49]\n",
      "True\n"
     ]
    }
   ],
   "source": [
    "def increment(n):\n",
    "    n.append([49])\n",
    "    return n[0],n[1],n[2],n[3]\n",
    "L=[23,35,47]\n",
    "m1,m2,m3,m4=increment(L)\n",
    "print(L)\n",
    "print(m1,m2,m3,m4)\n",
    "print(L[3]==m4)"
   ]
  },
  {
   "cell_type": "code",
   "execution_count": 11,
   "metadata": {},
   "outputs": [
    {
     "name": "stdout",
     "output_type": "stream",
     "text": [
      "[1, 2, 3, [4]] [1, 2, 3, [4]]\n"
     ]
    }
   ],
   "source": [
    "def increm(n):\n",
    "    n.append([4])\n",
    "    return n\n",
    "L=[1,2,3]\n",
    "M=increm(L)\n",
    "print(L,M)"
   ]
  }
 ],
 "metadata": {
  "kernelspec": {
   "display_name": "Python 3 (ipykernel)",
   "language": "python",
   "name": "python3"
  },
  "language_info": {
   "codemirror_mode": {
    "name": "ipython",
    "version": 3
   },
   "file_extension": ".py",
   "mimetype": "text/x-python",
   "name": "python",
   "nbconvert_exporter": "python",
   "pygments_lexer": "ipython3",
   "version": "3.9.12"
  }
 },
 "nbformat": 4,
 "nbformat_minor": 4
}
