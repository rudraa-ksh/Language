{
 "cells": [
  {
   "cell_type": "code",
   "execution_count": null,
   "metadata": {},
   "outputs": [],
   "source": [
    "#self practise\n"
   ]
  },
  {
   "cell_type": "code",
   "execution_count": 1,
   "metadata": {},
   "outputs": [
    {
     "name": "stdout",
     "output_type": "stream",
     "text": [
      "<class 'list'>\n"
     ]
    }
   ],
   "source": [
    "age=[1,3,4,5]\n",
    "print(type(age))"
   ]
  },
  {
   "cell_type": "code",
   "execution_count": null,
   "metadata": {},
   "outputs": [],
   "source": [
    "#nested list\n",
    "l1=[2,3,4,[5,6],7]"
   ]
  },
  {
   "cell_type": "code",
   "execution_count": 46,
   "metadata": {},
   "outputs": [
    {
     "data": {
      "text/plain": [
       "'d'"
      ]
     },
     "execution_count": 46,
     "metadata": {},
     "output_type": "execute_result"
    }
   ],
   "source": [
    "l1=['R','u','d']\n",
    "l1[2]"
   ]
  },
  {
   "cell_type": "code",
   "execution_count": 47,
   "metadata": {},
   "outputs": [
    {
     "data": {
      "text/plain": [
       "True"
      ]
     },
     "execution_count": 47,
     "metadata": {},
     "output_type": "execute_result"
    }
   ],
   "source": [
    "l1=['Rudra','Kashyap']\n",
    "l2=['Rudra','Kashyap']\n",
    "l1==l2"
   ]
  },
  {
   "cell_type": "code",
   "execution_count": 1,
   "metadata": {},
   "outputs": [
    {
     "data": {
      "text/plain": [
       "2"
      ]
     },
     "execution_count": 1,
     "metadata": {},
     "output_type": "execute_result"
    }
   ],
   "source": [
    "l1=['Rudra','Kashyap']\n",
    "len(l1)"
   ]
  },
  {
   "cell_type": "code",
   "execution_count": 48,
   "metadata": {},
   "outputs": [
    {
     "data": {
      "text/plain": [
       "True"
      ]
     },
     "execution_count": 48,
     "metadata": {},
     "output_type": "execute_result"
    }
   ],
   "source": [
    "l1=[1,2,3,4]\n",
    "l2=[1,2,4,3]\n",
    "l1<l2"
   ]
  },
  {
   "cell_type": "code",
   "execution_count": 51,
   "metadata": {},
   "outputs": [
    {
     "data": {
      "text/plain": [
       "['Rudra', 'Pragya', 'Pitamber', 'Tara']"
      ]
     },
     "execution_count": 51,
     "metadata": {},
     "output_type": "execute_result"
    }
   ],
   "source": [
    "l1=[\"Rudra\",\"Pragya\"]\n",
    "l2=[\"Pitamber\",\"Tara\"]\n",
    "l1+l2"
   ]
  },
  {
   "cell_type": "code",
   "execution_count": 52,
   "metadata": {},
   "outputs": [
    {
     "data": {
      "text/plain": [
       "[1, 2, 3, 4, 1, 2, 3, 4, 1, 2, 3, 4]"
      ]
     },
     "execution_count": 52,
     "metadata": {},
     "output_type": "execute_result"
    }
   ],
   "source": [
    "l1=[1,2,3,4]\n",
    "l1*3"
   ]
  },
  {
   "cell_type": "code",
   "execution_count": 8,
   "metadata": {},
   "outputs": [
    {
     "data": {
      "text/plain": [
       "['Rudra', 'Yash', 'Pawan']"
      ]
     },
     "execution_count": 8,
     "metadata": {},
     "output_type": "execute_result"
    }
   ],
   "source": [
    "l1=[\"Rudra\",\"Abdur\"]\n",
    "l1[1:2]=\"Yash\",\"Pawan\"\n",
    "l1"
   ]
  },
  {
   "cell_type": "code",
   "execution_count": 10,
   "metadata": {},
   "outputs": [
    {
     "name": "stdout",
     "output_type": "stream",
     "text": [
      "[1, 2, 3, 7]\n",
      "[1, 2, 3, 7]\n"
     ]
    }
   ],
   "source": [
    "a=[1,2,3,4]\n",
    "b=a\n",
    "a[3]=7\n",
    "print(b)\n",
    "print(a)"
   ]
  },
  {
   "cell_type": "code",
   "execution_count": 2,
   "metadata": {},
   "outputs": [
    {
     "data": {
      "text/plain": [
       "[1, 2, 3, 45, 5]"
      ]
     },
     "execution_count": 2,
     "metadata": {},
     "output_type": "execute_result"
    }
   ],
   "source": [
    "a=list((1,2,3,45,5))\n",
    "a"
   ]
  },
  {
   "cell_type": "code",
   "execution_count": 85,
   "metadata": {},
   "outputs": [
    {
     "data": {
      "text/plain": [
       "6"
      ]
     },
     "execution_count": 85,
     "metadata": {},
     "output_type": "execute_result"
    }
   ],
   "source": [
    "a=[1,2,3,4,5,[6,7,8]]\n",
    "len(a)"
   ]
  },
  {
   "cell_type": "code",
   "execution_count": 86,
   "metadata": {},
   "outputs": [
    {
     "data": {
      "text/plain": [
       "7"
      ]
     },
     "execution_count": 86,
     "metadata": {},
     "output_type": "execute_result"
    }
   ],
   "source": [
    "a=[1,2,3,4,43,5,46,45]\n",
    "a.index(45)"
   ]
  },
  {
   "cell_type": "code",
   "execution_count": 87,
   "metadata": {},
   "outputs": [
    {
     "data": {
      "text/plain": [
       "1"
      ]
     },
     "execution_count": 87,
     "metadata": {},
     "output_type": "execute_result"
    }
   ],
   "source": [
    "a=[1,2,3,4,43,5,46,45]\n",
    "a.count(45)"
   ]
  },
  {
   "cell_type": "code",
   "execution_count": 93,
   "metadata": {},
   "outputs": [
    {
     "data": {
      "text/plain": [
       "[1, 2, 3, 4, 43, 5, 46, 45, 55]"
      ]
     },
     "execution_count": 93,
     "metadata": {},
     "output_type": "execute_result"
    }
   ],
   "source": [
    "a=[1,2,3,4,43,5,46,45]\n",
    "a.append(55)\n",
    "a"
   ]
  },
  {
   "cell_type": "code",
   "execution_count": 11,
   "metadata": {},
   "outputs": [
    {
     "data": {
      "text/plain": [
       "[1, 2, 3, 4, 43, 5, 46, 45, 9, 7, 6, 8, 4]"
      ]
     },
     "execution_count": 11,
     "metadata": {},
     "output_type": "execute_result"
    }
   ],
   "source": [
    "a=[1,2,3,4,43,5,46,45]\n",
    "b=[9,7,6,8,4]\n",
    "a.extend(b)\n",
    "a"
   ]
  },
  {
   "cell_type": "code",
   "execution_count": 95,
   "metadata": {},
   "outputs": [
    {
     "data": {
      "text/plain": [
       "[1, 2, 3, 4, 43, 'Rudra', 5, 46, 45]"
      ]
     },
     "execution_count": 95,
     "metadata": {},
     "output_type": "execute_result"
    }
   ],
   "source": [
    "a=[1,2,3,4,43,5,46,45]\n",
    "a.insert(5,\"Rudra\")\n",
    "a"
   ]
  },
  {
   "cell_type": "code",
   "execution_count": 1,
   "metadata": {},
   "outputs": [
    {
     "data": {
      "text/plain": [
       "[1, 2, 3, 4, 43, 5, 46, 45]"
      ]
     },
     "execution_count": 1,
     "metadata": {},
     "output_type": "execute_result"
    }
   ],
   "source": [
    "a=[1,2,3,4,43,5,46,45,45]\n",
    "a.remove(45)\n",
    "a"
   ]
  },
  {
   "cell_type": "code",
   "execution_count": 99,
   "metadata": {},
   "outputs": [
    {
     "data": {
      "text/plain": [
       "[]"
      ]
     },
     "execution_count": 99,
     "metadata": {},
     "output_type": "execute_result"
    }
   ],
   "source": [
    "a=[1,2,3,4,43,5,46,45]\n",
    "a.clear()\n",
    "a"
   ]
  },
  {
   "cell_type": "code",
   "execution_count": 100,
   "metadata": {},
   "outputs": [
    {
     "data": {
      "text/plain": [
       "[45, 46, 5, 43, 4, 3, 2, 1]"
      ]
     },
     "execution_count": 100,
     "metadata": {},
     "output_type": "execute_result"
    }
   ],
   "source": [
    "a=[1,2,3,4,43,5,46,45]\n",
    "a.reverse()\n",
    "a"
   ]
  },
  {
   "cell_type": "code",
   "execution_count": 3,
   "metadata": {},
   "outputs": [
    {
     "name": "stdout",
     "output_type": "stream",
     "text": [
      "[2, 3, 4]\n"
     ]
    }
   ],
   "source": [
    "a=[1,2,3,4,43,5,46,45]\n",
    "print(a[1:4])"
   ]
  },
  {
   "cell_type": "code",
   "execution_count": 4,
   "metadata": {},
   "outputs": [
    {
     "name": "stdout",
     "output_type": "stream",
     "text": [
      "[]\n"
     ]
    }
   ],
   "source": [
    "a=[1,2,3,4,43,5,46,45]\n",
    "print(a[4:1])"
   ]
  },
  {
   "cell_type": "code",
   "execution_count": 16,
   "metadata": {},
   "outputs": [
    {
     "name": "stdout",
     "output_type": "stream",
     "text": [
      "[2, 5]\n"
     ]
    }
   ],
   "source": [
    "a=[1,2,3,4,43,5,46,45]\n",
    "print(a[1::4])"
   ]
  },
  {
   "cell_type": "code",
   "execution_count": 10,
   "metadata": {},
   "outputs": [
    {
     "name": "stdout",
     "output_type": "stream",
     "text": [
      "[43, 5, 46, 45]\n"
     ]
    }
   ],
   "source": [
    "a=[1,2,3,4,43,5,46,45]\n",
    "print(a[4::])"
   ]
  },
  {
   "cell_type": "code",
   "execution_count": 14,
   "metadata": {},
   "outputs": [
    {
     "name": "stdout",
     "output_type": "stream",
     "text": [
      "[1, 43]\n"
     ]
    }
   ],
   "source": [
    "a=[1,2,3,4,43,5,46,45]\n",
    "print(a[::4])"
   ]
  },
  {
   "cell_type": "code",
   "execution_count": 12,
   "metadata": {},
   "outputs": [
    {
     "name": "stdout",
     "output_type": "stream",
     "text": [
      "[45, 46, 5, 43, 4, 3, 2, 1]\n"
     ]
    }
   ],
   "source": [
    "a=[1,2,3,4,43,5,46,45]\n",
    "print(a[::-1])"
   ]
  },
  {
   "cell_type": "code",
   "execution_count": 13,
   "metadata": {},
   "outputs": [
    {
     "name": "stdout",
     "output_type": "stream",
     "text": [
      "[45]\n"
     ]
    }
   ],
   "source": [
    "a=[1,2,3,4,43,5,46,45]\n",
    "print(a[-1::])"
   ]
  },
  {
   "cell_type": "code",
   "execution_count": 101,
   "metadata": {},
   "outputs": [
    {
     "data": {
      "text/plain": [
       "[1, 2, 3, 4, 5, 43, 45, 46]"
      ]
     },
     "execution_count": 101,
     "metadata": {},
     "output_type": "execute_result"
    }
   ],
   "source": [
    "a=[1,2,3,4,43,5,46,45]\n",
    "a.sort()\n",
    "a"
   ]
  },
  {
   "cell_type": "code",
   "execution_count": null,
   "metadata": {},
   "outputs": [],
   "source": [
    "# Extra question "
   ]
  },
  {
   "cell_type": "code",
   "execution_count": 10,
   "metadata": {},
   "outputs": [
    {
     "name": "stdout",
     "output_type": "stream",
     "text": [
      "Enter the number of elements you want in the list::5\n",
      "Enter the value::1\n",
      "Enter the value::2\n",
      "Enter the value::3\n",
      "Enter the value::4\n",
      "Enter the value::5\n",
      "[1, 2, 3, 4, 5]\n",
      "Enter the value in which you want to add a number::5\n",
      "Enter the number which you want to add::56\n",
      "[1, 2, 3, 4, 56, 5]\n"
     ]
    }
   ],
   "source": [
    "a=int(input(\"Enter the number of elements you want in the list::\"))\n",
    "l1=[]\n",
    "for i in range(a):\n",
    "    x=int(input(\"Enter the value::\"))\n",
    "    l1.append(x)\n",
    "print(l1)\n",
    "b=int(input(\"Enter the value in which you want to add a number::\"))\n",
    "c=int(input(\"Enter the number which you want to add::\"))\n",
    "l1.insert(b-1,c)\n",
    "print(l1)"
   ]
  },
  {
   "cell_type": "code",
   "execution_count": 11,
   "metadata": {},
   "outputs": [
    {
     "name": "stdout",
     "output_type": "stream",
     "text": [
      "Enter the number of elements you want in the list::5\n",
      "Enter the value::1\n",
      "Enter the value::2\n",
      "Enter the value::3\n",
      "Enter the value::4\n",
      "Enter the value::5\n",
      "The list is:: [1, 2, 3, 4, 5]\n",
      "1)Please enter 'Insert' to insert any element in the list::\n",
      "2)Please enter 'Delete' to delete any element from the list::Insert\n",
      "Enter the value in which you want to insert a number::3\n",
      "Enter the number which you want to insert in the list::45\n",
      "The new list is:: [1, 2, 45, 3, 4, 5]\n"
     ]
    }
   ],
   "source": [
    "a=int(input(\"Enter the number of elements you want in the list::\"))\n",
    "l1=[]\n",
    "for i in range(a):\n",
    "    x=int(input(\"Enter the value::\"))\n",
    "    l1.append(x)\n",
    "print(\"The list is::\",l1)\n",
    "d=input('''1)Please enter 'Insert' to insert any element in the list::\n",
    "2)Please enter 'Delete' to delete any element from the list::''')\n",
    "if d==\"Insert\":\n",
    "    b=int(input(\"Enter the value in which you want to insert a number::\"))\n",
    "    c=int(input(\"Enter the number which you want to insert in the list::\"))\n",
    "    l1.insert(b-1,c)\n",
    "    print(\"The new list is::\",l1)\n",
    "if d==\"Delete\":\n",
    "    e=int(input(\"Enter the place from which you want to delete a number::\"))\n",
    "    l1.pop(e-1)\n",
    "    print(\"The new list is::\",l1)\n",
    "    "
   ]
  },
  {
   "cell_type": "code",
   "execution_count": 1,
   "metadata": {},
   "outputs": [
    {
     "name": "stdout",
     "output_type": "stream",
     "text": [
      "Enter the value::1\n",
      "Enter the value::2\n",
      "Enter the value::3\n",
      "Enter the value::4\n",
      "Enter the value::5\n",
      "Enter the value::6\n",
      "Enter the value::7\n",
      "Enter the value::8\n",
      "Enter the value::9\n",
      "Enter the value::10\n",
      "[1, 2, 3, 4, 5, 6, 7, 8, 9, 10]\n",
      "The sum of list is:: 55\n",
      "The average of the list is:: 5.5\n",
      "The minimum value is:: 1\n",
      "The maximum value is :: 10\n"
     ]
    }
   ],
   "source": [
    "#10 elementd accept numeric\n",
    "#sum average min max value\n",
    "l1=[]\n",
    "for i in range(10):\n",
    "    x=int(input(\"Enter the value::\"))\n",
    "    l1.append(x)\n",
    "print(l1)\n",
    "print(\"The sum of list is::\",(sum(l1)))\n",
    "print(\"The average of the list is::\",(sum(l1))/10)\n",
    "print(\"The minimum value is::\",min(l1))\n",
    "print(\"The maximum value is ::\",max(l1))"
   ]
  },
  {
   "cell_type": "code",
   "execution_count": 1,
   "metadata": {},
   "outputs": [
    {
     "name": "stdout",
     "output_type": "stream",
     "text": [
      "Enter the number of elements you want in the list::4\n",
      "Enter the value::1\n",
      "Enter the value::2\n",
      "Enter the value::3\n",
      "Enter the value::4\n",
      "The list is:: [1, 2, 3, 4]\n",
      "[4, 3, 2, 1]\n"
     ]
    }
   ],
   "source": [
    "a=int(input(\"Enter the number of elements you want in the list::\"))\n",
    "l1=[]\n",
    "for i in range(a):\n",
    "    x=int(input(\"Enter the value::\"))\n",
    "    l1.append(x)\n",
    "print(\"The list is::\",l1)\n",
    "l1.reverse()\n",
    "print(\"The new list is::\",l1)"
   ]
  },
  {
   "cell_type": "code",
   "execution_count": 2,
   "metadata": {},
   "outputs": [
    {
     "name": "stdout",
     "output_type": "stream",
     "text": [
      "Enter the number of elements you want in the list::4\n",
      "Enter the value::1\n",
      "Enter the value::2\n",
      "Enter the value::3\n",
      "Enter the value::4\n",
      "The list is:: [1, 2, 3, 4]\n",
      "[4, 3, 2, 1]\n"
     ]
    }
   ],
   "source": [
    "a=int(input(\"Enter the number of elements you want in the list::\"))\n",
    "l1=[]\n",
    "for i in range(a):\n",
    "    x=int(input(\"Enter the value::\"))\n",
    "    l1.append(x)\n",
    "print(\"The list is::\",l1)\n",
    "l1=l1[::-1]\n",
    "print(l1)\n"
   ]
  },
  {
   "cell_type": "code",
   "execution_count": 12,
   "metadata": {},
   "outputs": [
    {
     "name": "stdout",
     "output_type": "stream",
     "text": [
      "Enter the number from 1 to 12::1\n",
      "Enter the number from 1 to 12::2\n",
      "Enter the number from 1 to 12::3\n",
      "Enter the number from 1 to 12::4\n",
      "Enter the number from 1 to 12::5\n",
      "Enter the number from 1 to 12::6\n",
      "Enter the number from 1 to 12::7\n",
      "Enter the number from 1 to 12::8\n",
      "Enter the number from 1 to 12::9\n",
      "Enter the number from 1 to 12::10\n",
      "Enter the number from 1 to 12::11\n",
      "Enter the number from 1 to 12::12\n",
      "The list is:: [1, 2, 3, 4, 5, 6, 7, 8, 9, 10, 11, 12]\n",
      "The removed list is:: [1, 2, 3, 4, 5, 6, 7, 8, 9, 10]\n",
      "The replaced list is:: [1, 2, 3, 4, 5, 6, 7, 8, 9, 10, 10, 10]\n"
     ]
    }
   ],
   "source": [
    "l1=[]\n",
    "for i in range(12):\n",
    "    x=int(input(\"Enter the number from 1 to 12::\"))\n",
    "    l1.append(x)\n",
    "print(\"The list is::\",l1)\n",
    "l1.remove(11)\n",
    "l1.remove(12)\n",
    "print(\"The removed list is::\",l1)\n",
    "l1.insert(10,10)\n",
    "l1.insert(11,10)\n",
    "print(\"The replaced list is::\",l1)\n",
    "     \n",
    "    \n",
    "\n",
    "    "
   ]
  },
  {
   "cell_type": "code",
   "execution_count": null,
   "metadata": {},
   "outputs": [],
   "source": [
    "#unsolved question"
   ]
  },
  {
   "cell_type": "code",
   "execution_count": 1,
   "metadata": {},
   "outputs": [
    {
     "name": "stdout",
     "output_type": "stream",
     "text": [
      "Enter the number of elements you want in the list::4\n",
      "Enter the value::12\n",
      "Enter the value::23\n",
      "Enter the value::45\n",
      "Enter the value::76\n",
      "The first list is:: [12, 23, 45, 76]\n",
      "Enter the number of elements you want in the list::2\n",
      "Enter the value::1\n",
      "Enter the value::12\n",
      "The second list is:: [1, 12]\n",
      "The new list is:: [12, 23, 45, 76, 1, 12]\n"
     ]
    }
   ],
   "source": [
    "#3\n",
    "l1=[]\n",
    "a=int(input(\"Enter the number of elements you want in the list::\"))\n",
    "l1=[]\n",
    "for i in range(a):\n",
    "    x=int(input(\"Enter the value::\"))\n",
    "    l1.append(x)\n",
    "print(\"The first list is::\",l1)\n",
    "b=int(input(\"Enter the number of elements you want in the list::\"))\n",
    "l2=[]\n",
    "for i in range(b):\n",
    "    y=int(input(\"Enter the value::\"))\n",
    "    l2.append(y)\n",
    "print(\"The second list is::\",l2)\n",
    "l1.extend(l2)\n",
    "print(\"The new list is::\",l1)"
   ]
  },
  {
   "cell_type": "code",
   "execution_count": 2,
   "metadata": {},
   "outputs": [
    {
     "name": "stdout",
     "output_type": "stream",
     "text": [
      "Enter the value::1\n",
      "Enter the value::6\n",
      "Enter the value::4\n",
      "Enter the value::5\n",
      "Enter the value::3\n",
      "Enter the value::2\n",
      "Enter the value::7\n",
      "Enter the value::8\n",
      "Enter the value::10\n",
      "Enter the value::9\n",
      "Enter the value::11\n",
      "Enter the value::12\n",
      "Your list is:: [1, 6, 4, 5, 3, 2, 7, 8, 10, 9, 11, 12]\n",
      "The new list is:: [1, 6, 4, 5, 3, 2, 7, 8, 10, 9, 10, 10]\n"
     ]
    }
   ],
   "source": [
    "#4\n",
    "y=[]\n",
    "k=[]\n",
    "for i in range(12):\n",
    "    x=int(input(\"Enter the value::\"))\n",
    "    y.append(x)\n",
    "    if x>10:\n",
    "        x=10\n",
    "    k.append(x)\n",
    "print(\"Your list is::\",y)\n",
    "print(\"The new list is::\",k)\n",
    "        \n",
    "\n",
    "    "
   ]
  },
  {
   "cell_type": "code",
   "execution_count": 6,
   "metadata": {},
   "outputs": [
    {
     "name": "stdout",
     "output_type": "stream",
     "text": [
      "Enter the number of elements you want in the list::2\n",
      "Enter the value::Rudra\n",
      "Enter the value::kashyap\n",
      "Your list is:: ['Rudra', 'kashyap']\n",
      "The new list is:: ['udra', 'ashyap']\n"
     ]
    }
   ],
   "source": [
    "#5\n",
    "a=int(input(\"Enter the number of elements you want in the list::\"))\n",
    "l1=[]\n",
    "l2=[]\n",
    "for i in range(a):\n",
    "    x=(input(\"Enter the value::\"))\n",
    "    l1.append(x)\n",
    "    l2.append(x[1:])\n",
    "print(\"Your list is::\",l1)\n",
    "print(\"The new list is::\",l2)"
   ]
  },
  {
   "cell_type": "code",
   "execution_count": 1,
   "metadata": {},
   "outputs": [
    {
     "name": "stdout",
     "output_type": "stream",
     "text": [
      "Enter values for your list😄Rudra \n",
      "Your list is 😀 ['R', 'u', 'd', 'r', 'a', ' ']\n",
      "Please enter the value of which you want to check the position in your list😊  ::u\n",
      "Yes this value is in your list🤩\n",
      "And the position is:: 2\n"
     ]
    }
   ],
   "source": [
    "#6\n",
    "x=list(input(\"Enter values for your list😄\"))\n",
    "print(\"Your list is 😀\",x)\n",
    "a=input(\"Please enter the value of which you want to check the position in your list😊  ::\")\n",
    "d=x.index(a)\n",
    "if d>-1:\n",
    "    print(\"Yes this value is in your list🤩\")\n",
    "    print(\"And the position is::\",d+1)\n",
    "else:\n",
    "    print(\"This valu is not in your list😶😶\")\n",
    "\n"
   ]
  },
  {
   "cell_type": "code",
   "execution_count": 14,
   "metadata": {},
   "outputs": [
    {
     "name": "stdout",
     "output_type": "stream",
     "text": [
      "[0, 1, 2, 3, 4, 5, 6, 7, 8, 9, 10, 11, 12, 13, 14, 15, 16, 17, 18, 19, 20, 21, 22, 23, 24, 25, 26, 27, 28, 29, 30, 31, 32, 33, 34, 35, 36, 37, 38, 39, 40, 41, 42, 43, 44, 45, 46, 47, 48, 49]\n"
     ]
    }
   ],
   "source": [
    "#7a\n",
    "l1=[]\n",
    "for i in range(50):\n",
    "    l1+=[i]\n",
    "print(l1)\n"
   ]
  },
  {
   "cell_type": "code",
   "execution_count": 13,
   "metadata": {},
   "outputs": [
    {
     "name": "stdout",
     "output_type": "stream",
     "text": [
      "[0, 1, 4, 9, 16, 25, 36, 49, 64, 81, 100, 121, 144, 169, 196, 225, 256, 289, 324, 361, 400, 441, 484, 529, 576, 625, 676, 729, 784, 841, 900, 961, 1024, 1089, 1156, 1225, 1296, 1369, 1444, 1521, 1600, 1681, 1764, 1849, 1936, 2025, 2116, 2209, 2304, 2401]\n"
     ]
    }
   ],
   "source": [
    "#7b\n",
    "l1=[]\n",
    "for i in range (50):\n",
    "    l1+=[i**2]\n",
    "print(l1)"
   ]
  },
  {
   "cell_type": "code",
   "execution_count": null,
   "metadata": {},
   "outputs": [],
   "source": [
    "#solved question"
   ]
  },
  {
   "cell_type": "code",
   "execution_count": 2,
   "metadata": {},
   "outputs": [
    {
     "name": "stdout",
     "output_type": "stream",
     "text": [
      "Enter the list of umber: [1,2,3,4,5,6,7,8]\n",
      "The maximum number in the list:  8\n",
      "The minimum number in the list:  1\n"
     ]
    }
   ],
   "source": [
    "#16\n",
    "l1=eval(input(\"Enter the list of umber: \"))\n",
    "M=max(l1)\n",
    "m=min(l1)\n",
    "print(\"The maximum number in the list: \",M)\n",
    "print(\"The minimum number in the list: \",m)"
   ]
  },
  {
   "cell_type": "code",
   "execution_count": 1,
   "metadata": {},
   "outputs": [
    {
     "name": "stdout",
     "output_type": "stream",
     "text": [
      "The sum of the integers in list is :: 45\n"
     ]
    }
   ],
   "source": [
    "#19\n",
    "l1=[1,2,3,4,5,6,7,8,9]\n",
    "for i in range(len(l1)):\n",
    "print(\"The sum of the integers in list is ::\",sum(l1))"
   ]
  },
  {
   "cell_type": "code",
   "execution_count": 1,
   "metadata": {},
   "outputs": [
    {
     "name": "stdout",
     "output_type": "stream",
     "text": [
      "[21, 31, 41, 51]\n"
     ]
    }
   ],
   "source": [
    "l1=[12,13,14,15]\n",
    "l2=[]\n",
    "for i in l1:\n",
    "    a=i%10\n",
    "    b=i//10\n",
    "    l2.append(a*10+b)\n",
    "print(l2)\n",
    "    \n",
    "    "
   ]
  }
 ],
 "metadata": {
  "kernelspec": {
   "display_name": "Python 3",
   "language": "python",
   "name": "python3"
  },
  "language_info": {
   "codemirror_mode": {
    "name": "ipython",
    "version": 3
   },
   "file_extension": ".py",
   "mimetype": "text/x-python",
   "name": "python",
   "nbconvert_exporter": "python",
   "pygments_lexer": "ipython3",
   "version": "3.11.1 (tags/v3.11.1:a7a450f, Dec  6 2022, 19:58:39) [MSC v.1934 64 bit (AMD64)]"
  },
  "vscode": {
   "interpreter": {
    "hash": "7d705625a073828d9d6987a7dff4ead27d7dfee1dd954c9d3a1d6b085c12cf79"
   }
  }
 },
 "nbformat": 4,
 "nbformat_minor": 4
}
