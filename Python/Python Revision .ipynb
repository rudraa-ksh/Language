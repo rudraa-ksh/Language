{
 "cells": [
  {
   "cell_type": "code",
   "execution_count": 3,
   "metadata": {},
   "outputs": [
    {
     "name": "stdout",
     "output_type": "stream",
     "text": [
      "RUDRA RUDRA RUDRA "
     ]
    }
   ],
   "source": [
    "for i in range(3):\n",
    "    print(\"RUDRA\",end=\" \")"
   ]
  },
  {
   "cell_type": "code",
   "execution_count": 4,
   "metadata": {},
   "outputs": [
    {
     "name": "stdout",
     "output_type": "stream",
     "text": [
      "Enter time in seconds:-70\n",
      "70 seconds contains 1 minutes 10 seconds\n"
     ]
    }
   ],
   "source": [
    "#18\n",
    "S=int(input(\"Enter time in seconds:-\"))\n",
    "mi=S//60\n",
    "sec=S%60\n",
    "print(S,\"seconds contains\",mi,\"minutes\",sec,\"seconds\")"
   ]
  },
  {
   "cell_type": "code",
   "execution_count": 5,
   "metadata": {},
   "outputs": [
    {
     "name": "stdout",
     "output_type": "stream",
     "text": [
      "Enter the number or type \"done\": 12\n",
      "Enter the number or type \"done\": 56\n",
      "Enter the number or type \"done\": 89\n",
      "Enter the number or type \"done\": done\n",
      "The sum of all numbers is 157\n"
     ]
    }
   ],
   "source": [
    "#19\n",
    "n=input('Enter the number or type \"done\": ')\n",
    "s=0\n",
    "while n != 'done':\n",
    "    num=int(n)\n",
    "    s=s+num\n",
    "    n=input('Enter the number or type \"done\": ')\n",
    "print(\"The sum of all numbers is\",s)\n",
    "    "
   ]
  },
  {
   "cell_type": "code",
   "execution_count": 3,
   "metadata": {},
   "outputs": [
    {
     "name": "stdout",
     "output_type": "stream",
     "text": [
      " 1  2  3  4  5  6  7  8  9 10 11 \n",
      " 2  4  6  8 10 12 14 16 18 20 22 \n",
      " 3  6  9 12 15 18 21 24 27 30 33 \n",
      " 4  8 12 16 20 24 28 32 36 40 44 \n",
      " 5 10 15 20 25 30 35 40 45 50 55 \n",
      " 6 12 18 24 30 36 42 48 54 60 66 \n",
      " 7 14 21 28 35 42 49 56 63 70 77 \n",
      " 8 16 24 32 40 48 56 64 72 80 88 \n",
      " 9 18 27 36 45 54 63 72 81 90 99 \n",
      "10 20 30 40 50 60 70 80 90 100 110 \n"
     ]
    }
   ],
   "source": [
    "#20\n",
    "for row in range(1,11):\n",
    "    for col in range(1,12):\n",
    "        n=row*col\n",
    "        if n<10:\n",
    "            print('',n,'',end='')\n",
    "        else:\n",
    "            print(n,'',end='')\n",
    "    print()"
   ]
  },
  {
   "cell_type": "code",
   "execution_count": 4,
   "metadata": {},
   "outputs": [
    {
     "name": "stdout",
     "output_type": "stream",
     "text": [
      "Enter a number to check wheather it is negative,zero or positive:: -1\n",
      "Negative\n"
     ]
    }
   ],
   "source": [
    "#TYPE C \n",
    "#1\n",
    "x=int(input(\"Enter a number to check wheather it is negative,zero or positive:: \"))\n",
    "if x==0:\n",
    "    print(\"Zero\")\n",
    "elif x<0:\n",
    "    print(\"Negative\")\n",
    "elif x>0:\n",
    "    print(\"Positive\")"
   ]
  },
  {
   "cell_type": "code",
   "execution_count": 4,
   "metadata": {},
   "outputs": [
    {
     "name": "stdout",
     "output_type": "stream",
     "text": [
      "Enter a number to check it is even or not:: 23\n",
      "False\n"
     ]
    }
   ],
   "source": [
    "#2\n",
    "x=int(input(\"Enter a number to check it is even or not:: \"))\n",
    "if x%2==0:\n",
    "    print(\"True\")\n",
    "else:\n",
    "    print(\"False\")"
   ]
  },
  {
   "cell_type": "code",
   "execution_count": 14,
   "metadata": {},
   "outputs": [
    {
     "name": "stdout",
     "output_type": "stream",
     "text": [
      "A year contains 31536000 seconds\n"
     ]
    }
   ],
   "source": [
    "#3\n",
    "y=60*60*24*365\n",
    "print(\"A year contains\",y,\"seconds\")"
   ]
  },
  {
   "cell_type": "code",
   "execution_count": 7,
   "metadata": {},
   "outputs": [
    {
     "name": "stdout",
     "output_type": "stream",
     "text": [
      "Enter first number:: 23\n",
      "Enter second number:: 2\n",
      "First number is not diviible by second number \n"
     ]
    }
   ],
   "source": [
    "#4\n",
    "x=int(input(\"Enter first number:: \"))\n",
    "y=int(input(\"Enter second number:: \"))\n",
    "if x%y==0:\n",
    "    print(\"First number is divisible by second number \")\n",
    "else:\n",
    "    print(\"First number is not diviible by second number \")"
   ]
  },
  {
   "cell_type": "code",
   "execution_count": 3,
   "metadata": {},
   "outputs": [
    {
     "name": "stdout",
     "output_type": "stream",
     "text": [
      "Enter the number between 2 to 365: 6\n",
      "Enter the first day of year: Friday\n",
      "Wednesday\n"
     ]
    }
   ],
   "source": [
    "#5\n",
    "d={'sunday':1,'Monday':2,'Tuesday':3,'Wednesday':4,'Thrusday':5,'Friday':6,'Saturday':7}\n",
    "days={1:'Sunday',2:'Monday',3:'Tuesday',4:'Wednesday',5:'Thrusday',6:'Friday',7:'Saturday'}\n",
    "dic={}\n",
    "user=int(input(\"Enter the number between 2 to 365: \"))\n",
    "day=input(\"Enter the first day of year: \")\n",
    "first=d[day]\n",
    "for j in range(1,366):\n",
    "    dic[j]=first\n",
    "    if first==7:\n",
    "        first=0\n",
    "    first+=1\n",
    "a=dic[user]\n",
    "print(days[a])"
   ]
  },
  {
   "cell_type": "code",
   "execution_count": 1,
   "metadata": {},
   "outputs": [
    {
     "name": "stdout",
     "output_type": "stream",
     "text": [
      "Enter the length in feet: 12\n",
      "12 feet is equal to 144 inches\n"
     ]
    }
   ],
   "source": [
    "#6\n",
    "f=int(input(\"Enter the length in feet: \"))\n",
    "i=f*12\n",
    "print(f,\"feet is equal to\",i,\"inches\")"
   ]
  },
  {
   "cell_type": "code",
   "execution_count": 7,
   "metadata": {},
   "outputs": [
    {
     "name": "stdout",
     "output_type": "stream",
     "text": [
      "Enter the number:- 4\n",
      "The sum of numbers is  30\n"
     ]
    }
   ],
   "source": [
    "#7\n",
    "N=int(input(\"Enter the number:- \"))\n",
    "x=0\n",
    "if N>0:\n",
    "    for i in range(N, 2*N+1):\n",
    "        x+=i\n",
    "else:\n",
    "    for i in range(2*N, N+1):\n",
    "        x+=i\n",
    "print(\"The sum of numbers is \",x)"
   ]
  },
  {
   "cell_type": "code",
   "execution_count": 3,
   "metadata": {},
   "outputs": [
    {
     "name": "stdout",
     "output_type": "stream",
     "text": [
      "Enter the date in the format  MMDDYYYY: 04222021\n",
      "April 22 2021\n"
     ]
    }
   ],
   "source": [
    "#8\n",
    "D=(input(\"Enter the date in the format  MMDDYYYY: \"))\n",
    "M=[\"January\",\"February\",\"March\",\"April\",\"May\",\"June\",\"July\",\"August\",\"September\",\"October\",\"November\",\"December\"]\n",
    "a=D[:2]\n",
    "a=int(a)\n",
    "print(M[a-1],D[2:4],D[4:8])"
   ]
  },
  {
   "cell_type": "code",
   "execution_count": 1,
   "metadata": {},
   "outputs": [
    {
     "name": "stdout",
     "output_type": "stream",
     "text": [
      "Miles        Km\n",
      "1          1.609\n",
      "2          3.218\n",
      "3          4.827\n",
      "4          6.436\n",
      "5          8.045\n",
      "6          9.654\n",
      "7          11.263\n",
      "8          12.872\n",
      "9          14.481\n"
     ]
    }
   ],
   "source": [
    "#9\n",
    "print(\"Miles        Km\")\n",
    "for i in range(1,10,1):\n",
    "    print(i,\"        \",i*1.609)"
   ]
  },
  {
   "cell_type": "code",
   "execution_count": 2,
   "metadata": {},
   "outputs": [
    {
     "name": "stdout",
     "output_type": "stream",
     "text": [
      "Pound        kg\n",
      "1          0.453592\n",
      "2          0.907184\n",
      "3          1.360776\n",
      "4          1.814368\n",
      "5          2.26796\n",
      "6          2.721552\n",
      "7          3.175144\n",
      "8          3.628736\n",
      "9          4.082328\n"
     ]
    }
   ],
   "source": [
    "#10\n",
    "print(\"Pound        kg\")\n",
    "for i in range(1,10,1):\n",
    "    print(i,\"        \",i*0.453592)"
   ]
  },
  {
   "cell_type": "code",
   "execution_count": 4,
   "metadata": {},
   "outputs": [
    {
     "name": "stdout",
     "output_type": "stream",
     "text": [
      "Please enter the first time: 0945\n",
      "Please enter the second number: 1730\n",
      "8 Hours 15 Minutes\n"
     ]
    }
   ],
   "source": [
    "#11\n",
    "t=input(\"Please enter the first time: \")\n",
    "T=input(\"Please enter the second number: \")\n",
    "r=int(t[:2])\n",
    "R=int(T[:2])\n",
    "e=int(t[2:])\n",
    "E=int(T[2:])\n",
    "if r>R:\n",
    "    W=r-R\n",
    "else:\n",
    "    W=R-r\n",
    "if E>e:\n",
    "    Q=E-e\n",
    "else:\n",
    "    Q=e-E\n",
    "print(W,\"Hours\",Q,\"Minutes\")\n",
    "    \n",
    "\n"
   ]
  },
  {
   "cell_type": "code",
   "execution_count": 1,
   "metadata": {},
   "outputs": [
    {
     "name": "stdout",
     "output_type": "stream",
     "text": [
      "Please enter the first time: 2255\n",
      "Please enter the second number: 0900\n",
      "10:05:00\n"
     ]
    }
   ],
   "source": [
    "# DATE TIME MODULE\n",
    "import datetime as dt\n",
    "t=input(\"Please enter the first time: \")\n",
    "T=input(\"Please enter the second number: \")\n",
    "r=int(t[:2])\n",
    "R=int(T[:2])\n",
    "e=int(t[2:])\n",
    "E=int(T[2:])\n",
    "a=1\n",
    "if r>R:\n",
    "    a=2\n",
    "else:\n",
    "    a=1\n",
    "time1=dt.datetime(2022,1,1,r,e)\n",
    "time2=dt.datetime(2022,1,a,R,E)\n",
    "print(time2-time1)"
   ]
  },
  {
   "cell_type": "code",
   "execution_count": null,
   "metadata": {},
   "outputs": [],
   "source": [
    "#CHAPTER-2"
   ]
  },
  {
   "cell_type": "code",
   "execution_count": 1,
   "metadata": {},
   "outputs": [
    {
     "name": "stdout",
     "output_type": "stream",
     "text": [
      "Enter the a list of numbers: [12, 56, 34, 23, 89]\n",
      "[12, 23, 34, 56, 89]\n"
     ]
    }
   ],
   "source": [
    "#Bubble sorting\n",
    "l=eval(input(\"Enter the a list of numbers: \"))\n",
    "for i in range(len(l)-1,0,-1):\n",
    "    for j in range(i):\n",
    "        if l[j]>l[j+1]:\n",
    "            l[j+1],l[j]=l[j],l[j+1]\n",
    "print(l)"
   ]
  },
  {
   "cell_type": "code",
   "execution_count": 2,
   "metadata": {},
   "outputs": [
    {
     "ename": "SyntaxError",
     "evalue": "invalid syntax (<string>, line 0)",
     "output_type": "error",
     "traceback": [
      "Traceback \u001b[1;36m(most recent call last)\u001b[0m:\n",
      "\u001b[0m  File \u001b[0;32m~\\AppData\\Roaming\\Python\\Python311\\site-packages\\IPython\\core\\interactiveshell.py:3433\u001b[0m in \u001b[0;35mrun_code\u001b[0m\n    exec(code_obj, self.user_global_ns, self.user_ns)\u001b[0m\n",
      "\u001b[1;36m  Cell \u001b[1;32mIn[2], line 2\u001b[1;36m\n\u001b[1;33m    a=eval(input(\"Enter the list ::\"))\u001b[1;36m\n",
      "\u001b[1;36m  File \u001b[1;32m<string>\u001b[1;36m\u001b[0m\n\u001b[1;33m    \u001b[0m\n\u001b[1;37m    ^\u001b[0m\n\u001b[1;31mSyntaxError\u001b[0m\u001b[1;31m:\u001b[0m invalid syntax\n"
     ]
    }
   ],
   "source": [
    "#insertion sorting\n",
    "a=eval(input(\"Enter the list ::\"))\n",
    "for i in a:\n",
    "    j=a.index(i)\n",
    "    while j>0:\n",
    "        if a[j-1]>a[j]:\n",
    "            a[j-1],a[j]=a[j],a[j-1]\n",
    "        else:\n",
    "            break\n",
    "        j=j-1\n",
    "print(a)"
   ]
  },
  {
   "cell_type": "code",
   "execution_count": 18,
   "metadata": {},
   "outputs": [
    {
     "name": "stdout",
     "output_type": "stream",
     "text": [
      "Enter a string::Rudur\n",
      "Rudur is not a palindrome\n"
     ]
    }
   ],
   "source": [
    "#8\n",
    "string=input(\"Enter a string::\")\n",
    "n=len(string)\n",
    "a=''\n",
    "for i in range (n-1,-1,-1):\n",
    "    a=a+string[i]\n",
    "if a==string:\n",
    "    print(string,\"is a palindrome\")\n",
    "else:\n",
    "    print(string,\"is not a palindrome\")"
   ]
  },
  {
   "cell_type": "code",
   "execution_count": 3,
   "metadata": {},
   "outputs": [
    {
     "name": "stdout",
     "output_type": "stream",
     "text": [
      "Enter the a list of numbers: ['45','89','23','56','r']\n",
      "454545\n",
      "898989\n",
      "232323\n",
      "565656\n",
      "r #\n"
     ]
    }
   ],
   "source": [
    "#11\n",
    "l1=eval(input(\"Enter the a list of numbers: \"))\n",
    "for i in l1:\n",
    "    if i.isdigit():\n",
    "        print(i*3)\n",
    "    else:\n",
    "        print(i,\"#\")"
   ]
  },
  {
   "cell_type": "code",
   "execution_count": 1,
   "metadata": {},
   "outputs": [
    {
     "name": "stdout",
     "output_type": "stream",
     "text": [
      "Enter a phone number: 932-985-4728\n",
      "It is a Valid phone number: 932-985-4728\n"
     ]
    }
   ],
   "source": [
    "#TYPE-C\n",
    "#1\n",
    "N=input(\"Enter a phone number: \")\n",
    "if N[3]=='-'and N[7]=='-':\n",
    "    if len(N)==12:\n",
    "        if (N[:3]+N[4:7]+N[8:]).isdigit():\n",
    "            print(\"It is a Valid phone number:\",N)\n",
    "else:\n",
    "    print(\"It is a invalid phone number\")"
   ]
  },
  {
   "cell_type": "code",
   "execution_count": 1,
   "metadata": {},
   "outputs": [
    {
     "name": "stdout",
     "output_type": "stream",
     "text": [
      "Enter a sentence::My self Rudra kashyap\n",
      "Total number of words are:: 4\n",
      "Total number of Characters are:: 18\n",
      "The percentage of alphanumeric characters is:: 85.71428571428571 %\n"
     ]
    }
   ],
   "source": [
    "#2\n",
    "A=input(\"Enter a sentence::\")\n",
    "print(\"Total number of words are::\",A.count(\" \")+1)\n",
    "C=A.count(\" \")\n",
    "print(\"Total number of Characters are::\",len(A)-C)\n",
    "B=0\n",
    "for i in A:\n",
    "    if i.isalnum():\n",
    "        B+=1\n",
    "P=B*100/len(A)\n",
    "print(\"The percentage of alphanumeric characters is::\",P,\"%\")"
   ]
  },
  {
   "cell_type": "code",
   "execution_count": 8,
   "metadata": {},
   "outputs": [
    {
     "name": "stdout",
     "output_type": "stream",
     "text": [
      "Enter a list of numbers:: [1,2,3]\n",
      "Enter a list of numbers:: [4,5,6]\n",
      "[5, 7, 9]\n"
     ]
    }
   ],
   "source": [
    "#3\n",
    "l3=[]\n",
    "l1=eval(input(\"Enter a list of numbers:: \"))\n",
    "l2=eval(input(\"Enter a list of numbers:: \"))\n",
    "for i in range(0,len(l1)):\n",
    "    l3.append(l1[i]+l2[i])\n",
    "print(l3)    "
   ]
  },
  {
   "cell_type": "code",
   "execution_count": null,
   "metadata": {},
   "outputs": [],
   "source": [
    "#4\n"
   ]
  },
  {
   "cell_type": "code",
   "execution_count": 1,
   "metadata": {},
   "outputs": [
    {
     "name": "stdout",
     "output_type": "stream",
     "text": [
      "Enter the number of elements you want in the list::2\n",
      "Enter the value::Rudra\n",
      "Enter the value::Kashyap\n",
      "['Rudra', 'Kashyap']\n",
      "The longest word in the list is:  Kashyap\n"
     ]
    }
   ],
   "source": [
    "#5\n",
    "a=int(input(\"Enter the number of elements you want in the list::\"))\n",
    "l1=[]\n",
    "for i in range(a):\n",
    "    x=(input(\"Enter the value::\"))\n",
    "    l1.append(x)\n",
    "print(l1)\n",
    "N=0\n",
    "for i in range(len(l1)):\n",
    "    if len(l1[i])>N:\n",
    "        W=(l1[i])\n",
    "        N=len(W)\n",
    "print(\"The longest word in the list is: \",W)"
   ]
  },
  {
   "cell_type": "code",
   "execution_count": 7,
   "metadata": {},
   "outputs": [
    {
     "name": "stdout",
     "output_type": "stream",
     "text": [
      "The list is: [15, 30, 45, 60, 75, 90]\n"
     ]
    }
   ],
   "source": [
    "#6\n",
    "l1=[]\n",
    "for i in range(1,100):\n",
    "    if i%3==0 and i%5==0:\n",
    "        l1.append(i)\n",
    "print(\"The list is:\",l1)"
   ]
  },
  {
   "cell_type": "code",
   "execution_count": 10,
   "metadata": {},
   "outputs": [
    {
     "name": "stdout",
     "output_type": "stream",
     "text": [
      "jonny jimmi\n"
     ]
    }
   ],
   "source": [
    "#7\n",
    "first=\"jimmi\"\n",
    "second=\"jonny\"\n",
    "first,second=second,first\n",
    "print(first,second)"
   ]
  },
  {
   "cell_type": "code",
   "execution_count": 3,
   "metadata": {},
   "outputs": [
    {
     "name": "stdout",
     "output_type": "stream",
     "text": [
      "The first 10 fibonacci numbers are:: (0, 1, 1, 2, 3, 5, 8, 13, 21)\n"
     ]
    }
   ],
   "source": [
    "#8\n",
    "a=0\n",
    "b=1\n",
    "l1=[a,b]\n",
    "for i in range(1,8):\n",
    "    c=a+b\n",
    "    a,b=b,c\n",
    "    l1.append(c)\n",
    "print(\"The first 10 fibonacci numbers are::\",tuple(l1))"
   ]
  },
  {
   "cell_type": "code",
   "execution_count": 17,
   "metadata": {},
   "outputs": [
    {
     "name": "stdout",
     "output_type": "stream",
     "text": [
      "Enter the name of month you want to see the days:: January\n",
      "The number of days in January is 31\n",
      "['April', 'August', 'December', 'February', 'January', 'July', 'June', 'March', 'May', 'November', 'October', 'September']\n",
      "Months with 31 days are::  January\n",
      "Months with 31 days are::  March\n",
      "Months with 31 days are::  May\n",
      "Months with 31 days are::  July\n",
      "Months with 31 days are::  August\n",
      "Months with 31 days are::  October\n"
     ]
    }
   ],
   "source": [
    "#9\n",
    "d1={'January':31,'February':28,'March':31,'April':30,'May':31,'June':30,'July':31,'August':31,'September':30,'October':31,'November':30,'December':30}\n",
    "m=input(\"Enter the name of month you want to see the days:: \")\n",
    "print(\"The number of days in\",m,\"is\",d1.get(m))\n",
    "print(sorted(d1))\n",
    "for i in d1:\n",
    "    if d1[i]==31:\n",
    "        print(\"Months with 31 days are:: \",i)        "
   ]
  },
  {
   "cell_type": "code",
   "execution_count": null,
   "metadata": {},
   "outputs": [],
   "source": [
    "#10\n"
   ]
  },
  {
   "cell_type": "code",
   "execution_count": 4,
   "metadata": {},
   "outputs": [
    {
     "name": "stdout",
     "output_type": "stream",
     "text": [
      "Enter a dictionary: {12:'a',34:'h',67:'j',2:'r'}\n",
      "Your list is:  [12, 34, 67, 2]\n",
      "Your sorted list is:  [2, 12, 34, 67]\n"
     ]
    }
   ],
   "source": [
    "#11\n",
    "d1=eval(input(\"Enter a dictionary: \"))\n",
    "l1=list(d1.keys())\n",
    "print(\"Your list is: \",l1)\n",
    "for i in range(len(l1)-1,0,-1):\n",
    "    for j in range(i):\n",
    "        if l1[j]>l1[j+1]:\n",
    "            l1[j+1],l1[j]=l1[j],l1[j+1]\n",
    "print(\"Your sorted list is: \",l1)  "
   ]
  },
  {
   "cell_type": "code",
   "execution_count": 5,
   "metadata": {},
   "outputs": [
    {
     "name": "stdout",
     "output_type": "stream",
     "text": [
      "Enter a dictionary: {'a':45,'h':23,'j':2}\n",
      "Your list is:  [45, 23, 2]\n",
      "[2, 23, 45]\n"
     ]
    }
   ],
   "source": [
    "#12\n",
    "d1=eval(input(\"Enter a dictionary: \"))\n",
    "a=list(d1.values())\n",
    "print(\"Your list is: \",a)\n",
    "for i in a:\n",
    "    j=a.index(i)\n",
    "    while j>0:\n",
    "        if a[j-1]>a[j]:\n",
    "            a[j-1],a[j]=a[j],a[j-1]\n",
    "        else:\n",
    "            break\n",
    "        j=j-1\n",
    "print(a)"
   ]
  },
  {
   "cell_type": "code",
   "execution_count": 2,
   "metadata": {},
   "outputs": [
    {
     "name": "stdout",
     "output_type": "stream",
     "text": [
      "Enter a sentenc: My name is Rudra\n",
      "Number of words in the sentence is:  4\n"
     ]
    }
   ],
   "source": [
    "l1=input(\"Enter a sentenc: \")\n",
    "l2=l1.split()\n",
    "print(\"Number of words in the sentence is: \",len(l2))"
   ]
  },
  {
   "cell_type": "code",
   "execution_count": 2,
   "metadata": {},
   "outputs": [
    {
     "name": "stdout",
     "output_type": "stream",
     "text": [
      "[2, 2, 5, 3, 7, 7]\n"
     ]
    }
   ],
   "source": [
    "l1=[2,5,3,7,9]\n",
    "l2=[]\n",
    "min=l1[0]\n",
    "l2.append(min)\n",
    "for i in range(5):\n",
    "    for j in range(i+1,5):\n",
    "        if l1[j]<l1[i]:\n",
    "            min=l1[j]\n",
    "            #l2.append(min)\n",
    "        else:\n",
    "            min=l1[i]\n",
    "            #l2.append(l1[i])\n",
    "    l2.append(min)\n",
    "print(l2)"
   ]
  },
  {
   "cell_type": "code",
   "execution_count": 2,
   "metadata": {},
   "outputs": [
    {
     "name": "stdout",
     "output_type": "stream",
     "text": [
      "[12, 23, 34, 56, 89]\n"
     ]
    }
   ],
   "source": [
    "l1=[12,56,34,89,23]\n",
    "for i in range(5):\n",
    "    min=i\n",
    "    for j in range(i+1,5):\n",
    "        if l1[j]<l1[min]:\n",
    "            min=j\n",
    "    tem=l1[i]\n",
    "    l1[i]=l1[min]\n",
    "    l1[min]=tem\n",
    "print(l1)\n",
    "            "
   ]
  },
  {
   "cell_type": "code",
   "execution_count": 32,
   "metadata": {},
   "outputs": [
    {
     "name": "stdout",
     "output_type": "stream",
     "text": [
      "Enter the number of elements you want in the list::0\n",
      "Your list is empty,try again!!(it require at least 1 integer to perform sorting)\n",
      "[]\n"
     ]
    }
   ],
   "source": [
    "a=int(input(\"Enter the number of elements you want in the list::\"))\n",
    "l1=[]\n",
    "for h in range(a):\n",
    "    x=(input(\"Enter the value::\"))\n",
    "    l1.append(x)\n",
    "if len(l1)==0:\n",
    "    print(\"Your list is empty,try again!!(it require at least 1 integer to perform sorting)\")\n",
    "else:\n",
    "    print(\"Your list is: \",l1)\n",
    "    for i in range(a):\n",
    "        min=i\n",
    "        for j in range(i+1,a):\n",
    "            if l1[j]>l1[min]:\n",
    "                min=j\n",
    "        tem=l1[i]\n",
    "        l1[i]=l1[min]\n",
    "        l1[min]=tem\n",
    "print(l1)"
   ]
  },
  {
   "cell_type": "code",
   "execution_count": 1,
   "metadata": {},
   "outputs": [
    {
     "name": "stdout",
     "output_type": "stream",
     "text": [
      "Enter the number of elements you want in the list::5\n",
      "Enter the value::456\n",
      "Enter the value::1236\n",
      "Enter the value::12\n",
      "Enter the value::9\n",
      "Enter the value::0\n",
      "Your list is:  ['456', '1236', '12', '9', '0']\n",
      "Your ordered list is:  ['0', '12', '1236', '456', '9']\n"
     ]
    }
   ],
   "source": [
    "a=int(input(\"Enter the number of elements you want in the list::\"))\n",
    "l1=[]\n",
    "for h in range(a):\n",
    "    x=(input(\"Enter the value::\"))\n",
    "    l1.append(x)\n",
    "print(\"Your list is: \",l1)\n",
    "for i in range(a):\n",
    "    min=i\n",
    "    for j in range(i+1,a):\n",
    "        if l1[j]<l1[min]:\n",
    "            min=j\n",
    "    tem=l1[i]\n",
    "    l1[i]=l1[min]\n",
    "    l1[min]=tem\n",
    "print(\"Your ordered list is: \",l1)"
   ]
  },
  {
   "cell_type": "code",
   "execution_count": null,
   "metadata": {},
   "outputs": [],
   "source": [
    "a=int(input(\"Enter the number of elements you want in the list::\"))\n",
    "l1=[]\n",
    "for h in range(a):\n",
    "    x=(input(\"Enter the value::\"))\n",
    "    l1.append(x)\n",
    "print(\"Your list is: \",l1)\n",
    "for i in range(a):\n",
    "    min=i\n",
    "    for j in range(i+1,a):\n",
    "        if l1[j]<l1[min]:\n",
    "            min=j\n",
    "    tem=l1[i]\n",
    "    l1[i]=l1[min]\n",
    "    l1[min]=tem\n",
    "print(\"Your ordered list is: \",l1)"
   ]
  },
  {
   "cell_type": "code",
   "execution_count": 5,
   "metadata": {},
   "outputs": [
    {
     "name": "stdout",
     "output_type": "stream",
     "text": [
      "Your list is:  [456, 1236, 12, 9, 0]\n",
      "Your ordered list is:  [0, 9, 12, 456, 1236]\n"
     ]
    }
   ],
   "source": [
    "l1=[456,1236,12,9,0]\n",
    "print(\"Your list is: \",l1)\n",
    "for i in range(5):\n",
    "    min=i\n",
    "    for j in range(i+1,5):\n",
    "        if l1[j]<l1[min]:\n",
    "            min=j\n",
    "    tem=l1[i]\n",
    "    l1[i]=l1[min]\n",
    "    l1[min]=tem\n",
    "print(\"Your ordered list is: \",l1)"
   ]
  },
  {
   "cell_type": "code",
   "execution_count": 7,
   "metadata": {},
   "outputs": [
    {
     "name": "stdout",
     "output_type": "stream",
     "text": [
      "Your list is:  [456, 1236, 12, 9, 0, 45, 789, 753, 53, 65, 89, 41]\n",
      "Your ordered list is:  [0, 9, 12, 41, 45, 53, 65, 89, 456, 753, 789, 1236]\n"
     ]
    }
   ],
   "source": [
    "l1=[456,1236,12,9,0,45,789,753,53,65,89,41]\n",
    "print(\"Your list is: \",l1)\n",
    "for i in range(12):\n",
    "    min=i\n",
    "    for j in range(i+1,12):\n",
    "        if l1[j]<l1[min]:\n",
    "            min=j\n",
    "    tem=l1[i]\n",
    "    l1[i]=l1[min]\n",
    "    l1[min]=tem\n",
    "print(\"Your ordered list is: \",l1)"
   ]
  },
  {
   "cell_type": "code",
   "execution_count": 6,
   "metadata": {},
   "outputs": [
    {
     "name": "stdout",
     "output_type": "stream",
     "text": [
      "Enter a list of tuples: [(),(\"\",),(5,6)]\n",
      "New list is:  [('',), (5, 6)]\n"
     ]
    }
   ],
   "source": [
    "t1=eval(input(\"Enter a list of tuples: \"))\n",
    "for i in t1:\n",
    "    if i==():\n",
    "        t1.remove(())\n",
    "print(\"New list is: \",t1)       "
   ]
  },
  {
   "cell_type": "code",
   "execution_count": 5,
   "metadata": {},
   "outputs": [
    {
     "name": "stdout",
     "output_type": "stream",
     "text": [
      "Your sorted list is:  [12, 23, 34, 56, 89]\n",
      "Enter the number to be searched:  12\n",
      "12 is found at position 1\n"
     ]
    }
   ],
   "source": [
    "l=[12, 23, 34, 56, 89]\n",
    "print(\"Your sorted list is: \",l)\n",
    "n=int(input(\"Enter the number to be searched:  \"))\n",
    "ll=0\n",
    "ul=len(l)\n",
    "while ul>ll:\n",
    "    mid=(ll+ul)//2\n",
    "    if n>l[mid]:\n",
    "        ll=mid\n",
    "    elif n<l[mid]:\n",
    "        ul=mid\n",
    "    elif n==l[mid]:\n",
    "        print(n,\"is found at position\",mid+1)\n",
    "        break\n",
    "    else:\n",
    "        print(n,\"not found !!!\")\n",
    "        break"
   ]
  },
  {
   "cell_type": "code",
   "execution_count": 17,
   "metadata": {},
   "outputs": [
    {
     "name": "stdout",
     "output_type": "stream",
     "text": [
      "List of numbers::  [1, 23, 45, 89, 9]\n",
      "4\n",
      "Sorted list is::  [23, 45, 89, 9, 1]\n",
      "3\n",
      "Sorted list is::  [45, 89, 23, 9, 1]\n",
      "2\n",
      "Sorted list is::  [89, 45, 23, 9, 1]\n",
      "1\n",
      "Sorted list is::  [89, 45, 23, 9, 1]\n"
     ]
    }
   ],
   "source": [
    "l1=[1,23,45,89,9]\n",
    "print(\"List of numbers:: \",l1)\n",
    "for i in range(len(l1)-1,0,-1):\n",
    "    print(i)\n",
    "    for j in range(i):\n",
    "        if l1[j]<l1[j+1]:\n",
    "            l1[j+1],l1[j]=l1[j],l1[j+1]\n",
    "    print(\"Sorted list is:: \",l1)"
   ]
  },
  {
   "cell_type": "code",
   "execution_count": 3,
   "metadata": {},
   "outputs": [
    {
     "name": "stdout",
     "output_type": "stream",
     "text": [
      "List of numbers::  [1, 23, 45, 89, 9]\n",
      "Sorted list is::  [1, 23, 45, 9, 89]\n",
      "Sorted list is::  [1, 23, 9, 45, 89]\n",
      "Sorted list is::  [1, 9, 23, 45, 89]\n",
      "Sorted list is::  [1, 9, 23, 45, 89]\n"
     ]
    }
   ],
   "source": [
    "l1=[1,23,45,89,9]\n",
    "print(\"List of numbers:: \",l1)\n",
    "for i in range(len(l1)-1,0,-1):\n",
    "    for j in range(i):\n",
    "        if l1[j]>l1[j+1]:\n",
    "            l1[j+1],l1[j]=l1[j],l1[j+1]\n",
    "    print(\"Sorted list is:: \",l1)"
   ]
  },
  {
   "cell_type": "code",
   "execution_count": 2,
   "metadata": {},
   "outputs": [
    {
     "name": "stdout",
     "output_type": "stream",
     "text": [
      "Enter the list ::[1, 23, 45, 89, 9]\n",
      "Sorted list is::  [1, 23, 45, 89, 9]\n",
      "Sorted list is::  [1, 23, 45, 89, 9]\n",
      "Sorted list is::  [1, 23, 45, 89, 9]\n",
      "Sorted list is::  [1, 23, 45, 89, 9]\n",
      "Sorted list is::  [1, 9, 23, 45, 89]\n"
     ]
    }
   ],
   "source": [
    "a=eval(input(\"Enter the list ::\"))\n",
    "for i in a:\n",
    "    j=a.index(i)\n",
    "    while j>0:\n",
    "        if a[j-1]>a[j]:\n",
    "            a[j-1],a[j]=a[j],a[j-1]\n",
    "        else:\n",
    "            break\n",
    "        j=j-1\n",
    "    print(\"Sorted list is:: \",a)"
   ]
  },
  {
   "cell_type": "code",
   "execution_count": 8,
   "metadata": {},
   "outputs": [
    {
     "name": "stdout",
     "output_type": "stream",
     "text": [
      "Enter a list of letters:: ['l','m','d','h','e','a']\n",
      "Sorted list is::  ['l', 'd', 'h', 'e', 'a', 'm']\n",
      "Sorted list is::  ['d', 'h', 'e', 'a', 'l', 'm']\n",
      "Sorted list is::  ['d', 'e', 'a', 'h', 'l', 'm']\n",
      "Sorted list is::  ['d', 'a', 'e', 'h', 'l', 'm']\n",
      "Sorted list is::  ['a', 'd', 'e', 'h', 'l', 'm']\n"
     ]
    }
   ],
   "source": [
    "l1=eval(input(\"Enter a list of letters:: \"))\n",
    "for i in range(len(l1)-1,0,-1):\n",
    "    for j in range(i):\n",
    "        if l1[j]>l1[j+1]:\n",
    "            l1[j+1],l1[j]=l1[j],l1[j+1]\n",
    "    print(\"Sorted list is:: \",l1)"
   ]
  },
  {
   "cell_type": "code",
   "execution_count": 5,
   "metadata": {},
   "outputs": [
    {
     "name": "stdout",
     "output_type": "stream",
     "text": [
      "Enter a list of letters:: ['l','m','d','h','e','a']\n",
      "Sorted list is::  ['l', 'm', 'd', 'h', 'e', 'a']\n",
      "Sorted list is::  ['l', 'm', 'd', 'h', 'e', 'a']\n",
      "Sorted list is::  ['d', 'l', 'm', 'h', 'e', 'a']\n",
      "Sorted list is::  ['d', 'h', 'l', 'm', 'e', 'a']\n",
      "Sorted list is::  ['d', 'e', 'h', 'l', 'm', 'a']\n",
      "Sorted list is::  ['a', 'd', 'e', 'h', 'l', 'm']\n"
     ]
    }
   ],
   "source": [
    "a=eval(input(\"Enter a list of letters:: \"))\n",
    "for i in a:\n",
    "    j=a.index(i)\n",
    "    while j>0:\n",
    "        if a[j-1]>a[j]:\n",
    "            a[j-1],a[j]=a[j],a[j-1]\n",
    "        else:\n",
    "            break\n",
    "        j=j-1\n",
    "    print(\"Sorted list is:: \",a)"
   ]
  },
  {
   "cell_type": "code",
   "execution_count": 4,
   "metadata": {},
   "outputs": [
    {
     "name": "stdout",
     "output_type": "stream",
     "text": [
      "Enter a list of letters:: ['i','a','g','d','z']\n",
      "Sorted list is::  ['a', 'd', 'g', 'i', 'z']\n",
      "Enter the letter to be searched:: 'a'\n",
      "a is found at position 1\n"
     ]
    }
   ],
   "source": [
    "l=eval(input(\"Enter a list of letters:: \"))\n",
    "for i in l:\n",
    "    j=l.index(i)\n",
    "    while j>0:\n",
    "        if l[j-1]>l[j]:\n",
    "            l[j-1],l[j]=l[j],l[j-1]\n",
    "        else:\n",
    "            break\n",
    "        j=j-1\n",
    "print(\"Sorted list is:: \",l)\n",
    "n=eval(input(\"Enter the letter to be searched:: \"))\n",
    "ll=0\n",
    "ul=len(l)\n",
    "while ul>ll:\n",
    "    mid=(ll+ul)//2\n",
    "    if n>l[mid]:\n",
    "        ll=mid\n",
    "    elif n<l[mid]:\n",
    "        ul=mid\n",
    "    elif n==l[mid]:\n",
    "        print(n,\"is found at position\",mid+1)\n",
    "        break\n",
    "    else:\n",
    "        print(n,\"not found !!!\")\n",
    "        break"
   ]
  },
  {
   "cell_type": "code",
   "execution_count": 11,
   "metadata": {},
   "outputs": [
    {
     "name": "stdout",
     "output_type": "stream",
     "text": [
      "Enter a list of letters:: ['l','m','d','h','e','a']\n",
      "Sorted list is::  ['a', 'd', 'e', 'h', 'l', 'm']\n",
      "Enter the letter to be searched:: 'a'\n",
      "Letter is found at 1 position\n"
     ]
    }
   ],
   "source": [
    "a=eval(input(\"Enter a list of letters:: \"))\n",
    "for i in a:\n",
    "    j=a.index(i)\n",
    "    while j>0:\n",
    "        if a[j-1]>a[j]:\n",
    "            a[j-1],a[j]=a[j],a[j-1]\n",
    "        else:\n",
    "            break\n",
    "        j=j-1\n",
    "print(\"Sorted list is:: \",a)\n",
    "x=eval(input(\"Enter the letter to be searched:: \"))\n",
    "c=0\n",
    "for i in range(len(a)):\n",
    "    if a[i]==x:\n",
    "        c+=1\n",
    "        print(\"Letter is found at\",i+1,\"position\")\n",
    "if c==0:\n",
    "    print(\"Number not found!\")"
   ]
  },
  {
   "cell_type": "code",
   "execution_count": 3,
   "metadata": {},
   "outputs": [],
   "source": [
    "x=10\n",
    "y=5\n",
    "for i in range(x-y*2):\n",
    "    print(\"%\",i)"
   ]
  },
  {
   "cell_type": "code",
   "execution_count": 2,
   "metadata": {},
   "outputs": [
    {
     "name": "stdout",
     "output_type": "stream",
     "text": [
      "50\n"
     ]
    }
   ],
   "source": [
    "c=0\n",
    "for x in range(10):\n",
    "    for y in range(5):\n",
    "        c+=1\n",
    "print(c)"
   ]
  },
  {
   "cell_type": "code",
   "execution_count": 6,
   "metadata": {},
   "outputs": [
    {
     "name": "stdout",
     "output_type": "stream",
     "text": [
      "%\n",
      "* \n",
      "* * \n",
      "* * * \n",
      "%%\n",
      "* \n",
      "* * \n",
      "* * * \n",
      "%%%\n",
      "* \n",
      "* * \n",
      "* * * \n"
     ]
    }
   ],
   "source": [
    "x=[1,2,3]\n",
    "counter=0\n",
    "while counter<len(x):\n",
    "    print(x[counter]*'%')\n",
    "    for y in x:\n",
    "        print(y*'* ')\n",
    "    counter+=1"
   ]
  },
  {
   "cell_type": "code",
   "execution_count": 8,
   "metadata": {},
   "outputs": [
    {
     "name": "stdout",
     "output_type": "stream",
     "text": [
      "L\n",
      "A\n",
      "M\n",
      "P\n"
     ]
    }
   ],
   "source": [
    "for x in 'lamp':\n",
    "    print(str.upper(x))"
   ]
  }
 ],
 "metadata": {
  "kernelspec": {
   "display_name": "Python 3",
   "language": "python",
   "name": "python3"
  },
  "language_info": {
   "codemirror_mode": {
    "name": "ipython",
    "version": 3
   },
   "file_extension": ".py",
   "mimetype": "text/x-python",
   "name": "python",
   "nbconvert_exporter": "python",
   "pygments_lexer": "ipython3",
   "version": "3.11.1 (tags/v3.11.1:a7a450f, Dec  6 2022, 19:58:39) [MSC v.1934 64 bit (AMD64)]"
  },
  "vscode": {
   "interpreter": {
    "hash": "7d705625a073828d9d6987a7dff4ead27d7dfee1dd954c9d3a1d6b085c12cf79"
   }
  }
 },
 "nbformat": 4,
 "nbformat_minor": 4
}
